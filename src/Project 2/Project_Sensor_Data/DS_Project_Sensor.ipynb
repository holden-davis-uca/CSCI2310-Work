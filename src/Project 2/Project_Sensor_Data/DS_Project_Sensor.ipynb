{
 "cells": [
  {
   "attachments": {},
   "cell_type": "markdown",
   "id": "f0909892",
   "metadata": {},
   "source": [
    "# Holden Davis - CSCI 2310 - CRN 33692 - Spring 2023 - Prof. Talley - Project 2"
   ]
  },
  {
   "cell_type": "code",
   "execution_count": 21,
   "id": "7b719c93",
   "metadata": {},
   "outputs": [],
   "source": [
    "# Global imports\n",
    "import statistics\n",
    "import matplotlib.pyplot as plt\n",
    "import seaborn as sns\n",
    "import numpy as np\n",
    "import sklearn.linear_model as lm\n",
    "import math"
   ]
  },
  {
   "cell_type": "markdown",
   "id": "rising-while",
   "metadata": {},
   "source": [
    "# Introduction to Data Science - Project - Sensor Data Preparation"
   ]
  },
  {
   "cell_type": "markdown",
   "id": "international-syndicate",
   "metadata": {},
   "source": [
    "### File Input/Output Functions\n",
    "\n",
    "You may find the following function useful to read the data files into lists.  Feel free to write your own routine instead if you choose. This function accepts a full path to a file and returns the file as a list of integers or floats. **Make sure you use the appropriate parameters for each data file.**"
   ]
  },
  {
   "cell_type": "code",
   "execution_count": 22,
   "id": "suburban-windows",
   "metadata": {},
   "outputs": [],
   "source": [
    "def read_list_from_file(filespec, conversion=float):\n",
    "    \"\"\"Return a list with each line of the input file as an element.\"\"\"\n",
    "    with open(filespec) as f:\n",
    "        # \"read\" does not provide conversion to types; it returns strings, so we need to convert the data\n",
    "        lines = list(map(conversion, f.read().splitlines()))\n",
    "    return(lines)"
   ]
  },
  {
   "cell_type": "markdown",
   "id": "polar-spelling",
   "metadata": {},
   "source": [
    "## Problem Statement\n",
    "\n",
    "Vibranium is a very valuable element (at least in the Marvel universe).  A leading Vibranium producing country has recently discovered that it can effectively \"mine\" Vibrainium atoms from air.  One of the most skilled mining engineers has built prototype sensors for detecting Vibranium concentrations.\n",
    "\n",
    "The engineer has asked you to produce a predictor of Vibranium concentration (number of Vibranium atoms per billion air atoms) based upon air temperature in Celsius using preliminary data she has collected.\n",
    "\n",
    "Unfortunately, the sensors are prototypes.  As a result, the sensors are sometimes faulty.  You will have to adapt to the faulty data.  The sensor engineer, who clearly has significant domain expertise, will provide some guidance on dealing with sensor challenges."
   ]
  },
  {
   "cell_type": "markdown",
   "id": "respected-sister",
   "metadata": {},
   "source": [
    "## Acquiring Data\n",
    "\n",
    "The engineer has two files containing the sensor data.  One file, \"sensor.txt\" contains the sensor readings with a single reading per line in the file.\n",
    "\n",
    "The other file \"temperature.txt\" contains the Cesius temperature associated with the sensor reading.  \n",
    "Each line of the temperature file aligns with the corresponding line in the sensor file."
   ]
  },
  {
   "cell_type": "markdown",
   "id": "secondary-sociology",
   "metadata": {},
   "source": [
    "### <span style=\"color:red\">Task 1</span>\n",
    "\n",
    "* Read the sensor data into a list.  \n",
    "* Read the temperature values into another list. \n",
    "\n",
    "Insert cells into this notebook here to show your work (do this for all the tasks in this notebook).  \n",
    "\n",
    "If needed, use your friend, The Internet, to look for ways to read data into a list in Python."
   ]
  },
  {
   "cell_type": "code",
   "execution_count": 23,
   "id": "8d8d2e30",
   "metadata": {},
   "outputs": [],
   "source": [
    "# Read the sensor data into a list.  \n",
    "sensor_vals: list = read_list_from_file(\"sensor.txt\", float)\n",
    "# Read the temperature values into another list.\n",
    "temp_vals: list = read_list_from_file(\"temperature.txt\", int)"
   ]
  },
  {
   "cell_type": "markdown",
   "id": "senior-brisbane",
   "metadata": {},
   "source": [
    "### <span style=\"color:red\">Task 2</span>\n",
    "\n",
    "* Write a Python function to compute and print the following descriptive statistics for an input list.\n",
    "    - count\n",
    "    - min \n",
    "    - max\n",
    "    - mean\n",
    "    - sum\n",
    "    - mode\n",
    "    - median\n",
    "    - population standard deviation\n",
    "* Call your descriptive statistics function to report individually on the sensor data and the temperature data."
   ]
  },
  {
   "cell_type": "code",
   "execution_count": 24,
   "id": "4c6d1f7d",
   "metadata": {},
   "outputs": [
    {
     "name": "stdout",
     "output_type": "stream",
     "text": [
      "Count: 200\n",
      "Min: -2103.8\n",
      "Max: 2420.0\n",
      "Mean: 1175.615\n",
      "Sum: 235123.0000000001\n",
      "Mode: 0.0\n",
      "Median: 1380.6\n",
      "S.D.: 900.6154085655701\n",
      "Count: 200\n",
      "Min: -20\n",
      "Max: 30\n",
      "Mean: 5\n",
      "Sum: 1000\n",
      "Mode: 20\n",
      "Median: 4.0\n",
      "S.D.: 14.90404821739153\n"
     ]
    }
   ],
   "source": [
    "# Write a Python function to compute and print the following descriptive statistics for an input list.\n",
    "def stats(data: list) -> None:\n",
    "    \"\"\"Calculates and prints stats for the list of inputs\n",
    "\n",
    "    Args:\n",
    "        data (list): A collection of numeric values.\n",
    "    \"\"\"\n",
    "    print(f\"Count: {len(data)}\")\n",
    "    print(f\"Min: {min(data)}\")\n",
    "    print(f\"Max: {max(data)}\")\n",
    "    print(f\"Mean: {statistics.mean(data)}\")\n",
    "    print(f\"Sum: {sum(data)}\")\n",
    "    print(f\"Mode: {statistics.mode(data)}\")\n",
    "    print(f\"Median: {statistics.median(data)}\")\n",
    "    print(f\"S.D.: {statistics.stdev(data)}\")\n",
    "\n",
    "# Call your descriptive statistics function to report individually on the sensor data and the temperature data.\n",
    "stats(sensor_vals)\n",
    "stats(temp_vals)"
   ]
  },
  {
   "cell_type": "markdown",
   "id": "committed-knock",
   "metadata": {},
   "source": [
    "### <span style=\"color:red\">Task 3</span>\n",
    "\n",
    "* Write a Python function to compute and print the frequency of each value in an input list. The function should accept a list of valued and return a dictionary of values mapped to frequencies.  This function should be reusable for different list of values.\n",
    "* Call your frequency function to report individually on the sensor data and the temperature data.\n",
    "\n",
    "Hint: See Counter example from the collections module from Chapter 6 in the book or the NumPy example from Chapter 5."
   ]
  },
  {
   "cell_type": "code",
   "execution_count": 25,
   "id": "ee214e63",
   "metadata": {},
   "outputs": [
    {
     "name": "stdout",
     "output_type": "stream",
     "text": [
      "Sensor Frequencies:\n",
      "-1808.0: 1\n",
      "1664.4: 1\n",
      "1382.2: 1\n",
      "2320.4: 1\n",
      "1403.4: 1\n",
      "1766.0: 1\n",
      "-808.8: 1\n",
      "1318.6: 1\n",
      "-1707.4: 1\n",
      "1171.2: 1\n",
      "-1326.6: 1\n",
      "1490.4: 1\n",
      "-2103.8: 1\n",
      "1025.0: 1\n",
      "2103.4: 1\n",
      "1883.4: 1\n",
      "1428.4: 1\n",
      "899.2: 1\n",
      "899.0: 1\n",
      "850.5999999999999: 1\n",
      "1054.8: 1\n",
      "0.0: 14\n",
      "1801.6: 1\n",
      "-1554.2: 1\n",
      "1250.0: 1\n",
      "861.4000000000001: 1\n",
      "2091.0: 1\n",
      "1770.2: 1\n",
      "2159.8: 1\n",
      "1222.8: 2\n",
      "1793.2: 1\n",
      "1353.8: 1\n",
      "1833.6: 1\n",
      "1332.4: 1\n",
      "991.4000000000001: 1\n",
      "1243.0: 1\n",
      "1879.6: 1\n",
      "1709.0: 1\n",
      "1886.8: 1\n",
      "1201.4: 1\n",
      "1200.2: 1\n",
      "1400.4: 1\n",
      "1615.8: 1\n",
      "1412.6: 1\n",
      "1826.6: 1\n",
      "-1916.2: 1\n",
      "1605.0: 1\n",
      "1532.8: 2\n",
      "1444.2: 1\n",
      "1693.4: 1\n",
      "-1652.4: 1\n",
      "1426.6: 1\n",
      "1573.2: 1\n",
      "921.4000000000001: 1\n",
      "1767.2: 1\n",
      "1753.8: 1\n",
      "1817.8: 1\n",
      "-1070.4: 1\n",
      "1428.8: 1\n",
      "1575.0: 1\n",
      "1699.0: 1\n",
      "1339.6: 1\n",
      "1379.0: 1\n",
      "1491.8: 1\n",
      "1193.6: 1\n",
      "1252.2: 1\n",
      "1120.4: 1\n",
      "1363.0: 1\n",
      "1238.8: 1\n",
      "1525.4: 1\n",
      "1410.8: 1\n",
      "1635.8: 1\n",
      "884.5999999999999: 1\n",
      "726.0: 1\n",
      "1317.2: 1\n",
      "1040.8: 1\n",
      "1094.4: 1\n",
      "1135.8: 1\n",
      "2183.0: 1\n",
      "995.5999999999999: 1\n",
      "1620.0: 1\n",
      "1301.6: 1\n",
      "1018.4000000000001: 1\n",
      "1317.6: 1\n",
      "1533.4: 1\n",
      "1145.4: 1\n",
      "2009.8: 1\n",
      "1804.6: 1\n",
      "1492.2: 1\n",
      "1188.8: 1\n",
      "1356.6: 1\n",
      "1996.0: 1\n",
      "1697.0: 1\n",
      "-2055.8: 1\n",
      "-1943.2: 1\n",
      "1416.0: 1\n",
      "1224.0: 1\n",
      "1314.8: 1\n",
      "2082.0: 1\n",
      "1740.8: 1\n",
      "1364.0: 1\n",
      "904.8: 1\n",
      "1406.6: 1\n",
      "1586.0: 1\n",
      "1851.8: 1\n",
      "1772.8: 1\n",
      "1052.6: 1\n",
      "1228.8: 1\n",
      "1080.4: 1\n",
      "1796.0: 1\n",
      "915.4000000000001: 1\n",
      "-1325.8: 1\n",
      "1460.6: 1\n",
      "1848.2: 1\n",
      "1442.0: 1\n",
      "1203.6: 1\n",
      "2018.2: 1\n",
      "1448.2: 1\n",
      "1817.0: 1\n",
      "2155.2: 1\n",
      "1177.8: 1\n",
      "1039.2: 1\n",
      "899.5999999999999: 1\n",
      "1835.4: 1\n",
      "1313.0: 1\n",
      "1584.8: 1\n",
      "1030.2: 1\n",
      "1661.4: 1\n",
      "1677.4: 1\n",
      "1287.4: 1\n",
      "2099.4: 1\n",
      "1943.0: 1\n",
      "1040.6: 1\n",
      "1261.8: 1\n",
      "1532.6: 1\n",
      "2000.4: 1\n",
      "1977.2: 1\n",
      "1217.0: 1\n",
      "1493.6: 1\n",
      "670.5999999999999: 1\n",
      "1275.8: 1\n",
      "2112.0: 1\n",
      "755.0: 1\n",
      "2420.0: 1\n",
      "1402.6: 1\n",
      "1980.4: 1\n",
      "1992.6: 1\n",
      "1505.8: 1\n",
      "1150.8: 1\n",
      "1637.6: 1\n",
      "1563.8: 1\n",
      "1627.6: 1\n",
      "1061.2: 1\n",
      "978.0: 1\n",
      "2231.6: 1\n",
      "1419.2: 1\n",
      "856.4000000000001: 1\n",
      "1695.6: 1\n",
      "1154.8: 1\n",
      "1792.6: 1\n",
      "1131.4: 1\n",
      "2075.2: 1\n",
      "1732.2: 1\n",
      "1153.4: 1\n",
      "1169.6: 1\n",
      "1465.4: 1\n",
      "-1453.0: 1\n",
      "2046.8: 1\n",
      "1316.0: 1\n",
      "2161.2: 1\n",
      "1928.2: 1\n",
      "1520.2: 1\n",
      "1853.4: 1\n",
      "1891.6: 1\n",
      "915.2: 1\n",
      "1312.4: 1\n",
      "1478.0: 1\n",
      "1885.8: 1\n",
      "1315.0: 1\n",
      "1711.4: 1\n",
      "1974.6: 1\n",
      "784.8: 1\n",
      "1728.6: 1\n",
      "1714.6: 1\n",
      "798.0: 1\n",
      "Temperature Frequencies:\n",
      "20: 8\n",
      "-13: 5\n",
      "-19: 3\n",
      "27: 5\n",
      "-3: 8\n",
      "-5: 3\n",
      "-6: 8\n",
      "-12: 3\n",
      "-14: 5\n",
      "23: 6\n",
      "14: 6\n",
      "-15: 6\n",
      "17: 4\n",
      "7: 5\n",
      "-18: 4\n",
      "-7: 5\n",
      "12: 5\n",
      "18: 6\n",
      "15: 5\n",
      "-8: 3\n",
      "25: 3\n",
      "21: 5\n",
      "24: 4\n",
      "6: 1\n",
      "8: 1\n",
      "-20: 3\n",
      "28: 6\n",
      "-10: 7\n",
      "1: 3\n",
      "-11: 4\n",
      "4: 6\n",
      "2: 3\n",
      "-4: 5\n",
      "26: 5\n",
      "9: 6\n",
      "-2: 3\n",
      "19: 1\n",
      "3: 5\n",
      "16: 2\n",
      "-16: 4\n",
      "22: 2\n",
      "29: 4\n",
      "0: 3\n",
      "-17: 2\n",
      "5: 3\n",
      "11: 2\n",
      "30: 1\n",
      "13: 1\n",
      "-9: 1\n",
      "-1: 1\n"
     ]
    }
   ],
   "source": [
    "# Write a Python function to compute and print the frequency of each value in an input list. The function should accept a list of valued and return a dictionary of values mapped to frequencies.  This function should be reusable for different list of values.\n",
    "def count_frequencies(data: list) -> dict:\n",
    "    \"\"\"Counts the number of times each value occurs in the list, returning a dictionary of value: frequency key/value pairs\n",
    "\n",
    "    Args:\n",
    "        data (list): A collection of numeric values.\n",
    "\n",
    "    Returns:\n",
    "        dict: A dictionary of value: frequency key/value pairs.\n",
    "    \"\"\"\n",
    "    value_frequencies = {}\n",
    "    for value in data:\n",
    "        if value in value_frequencies:\n",
    "            value_frequencies[value] += 1\n",
    "        else:\n",
    "            value_frequencies[value] = 1\n",
    "    return value_frequencies\n",
    "\n",
    "# Call your frequency function to report individually on the sensor data and the temperature data.\n",
    "sensor_frequencies = count_frequencies(sensor_vals)\n",
    "print(\"Sensor Frequencies:\")\n",
    "for key, value in sensor_frequencies.items():\n",
    "    print(f\"{key}: {value}\")\n",
    "temp_frequencies = count_frequencies(temp_vals)\n",
    "print(\"Temperature Frequencies:\")\n",
    "for key, value in temp_frequencies.items():\n",
    "    print(f\"{key}: {value}\")"
   ]
  },
  {
   "cell_type": "markdown",
   "id": "organized-steps",
   "metadata": {},
   "source": [
    "## Visualizing Data\n",
    "\n",
    "Let's take a look at the raw data we acquired from the engineer.  Show the sensor and temperature data that we read from the files."
   ]
  },
  {
   "attachments": {},
   "cell_type": "markdown",
   "id": "temporal-namibia",
   "metadata": {},
   "source": [
    "### <span style=\"color:red\">Task 4</span>\n",
    "\n",
    "* Write a Python function to draw a scatter plot (optional) \n",
    "    * No reinventing the wheel :)\n",
    "* Plot the sensor data using the temperature as the x-axis and the sensor value as the y-axis.\n",
    "* Label the x-axis as \"Temperature\" and the y-axis as \"Sensor\".\n",
    "* Make the title of your plot \"Sensor by Temperature (Raw Data)\".\n",
    "\n",
    "You may find it useful to look at the plot examples in the \"regression_example\" notebook in the project folder.\n"
   ]
  },
  {
   "cell_type": "code",
   "execution_count": 26,
   "id": "e9f31f57",
   "metadata": {},
   "outputs": [
    {
     "data": {
      "text/plain": [
       "Text(0.5, 1.0, 'Sensor by Temperature (Raw Data)')"
      ]
     },
     "execution_count": 26,
     "metadata": {},
     "output_type": "execute_result"
    },
    {
     "data": {
      "image/png": "[encoded data removed]",
      "text/plain": [
       "<Figure size 640x480 with 1 Axes>"
      ]
     },
     "metadata": {},
     "output_type": "display_data"
    }
   ],
   "source": [
    "# Plot the sensor data using the temperature as the x-axis and the sensor value as the y-axis.\n",
    "plt.scatter(temp_vals, sensor_vals)\n",
    "# Label the x-axis as \"Temperature\" and the y-axis as \"Sensor\".\n",
    "plt.xlabel(\"Temperature\")\n",
    "plt.ylabel(\"Sensor\")\n",
    "#  Make the title of your plot \"Sensor by Temperature (Raw Data)\".\n",
    "plt.title(\"Sensor by Temperature (Raw Data)\")"
   ]
  },
  {
   "cell_type": "markdown",
   "id": "different-radical",
   "metadata": {},
   "source": [
    "### <span style=\"color:red\">Task 5</span>\n",
    "\n",
    "* Plot the frequency of temperature values as a bar plot with an appropriate title, x-axis label and y-axis label.\n",
    "* Plot the frequency of sensor values as a bar plot with an appropriate title, x-axis label and y-axis label.\n",
    "\n",
    "You may find it useful to use your friend, The Internet, to look at the information about mapplotlib bar plots."
   ]
  },
  {
   "cell_type": "code",
   "execution_count": 27,
   "id": "28403ac6",
   "metadata": {},
   "outputs": [
    {
     "data": {
      "text/plain": [
       "Text(0, 0.5, '# of Occurences')"
      ]
     },
     "execution_count": 27,
     "metadata": {},
     "output_type": "execute_result"
    },
    {
     "data": {
      "image/png": "[encoded data removed]",
      "text/plain": [
       "<Figure size 640x480 with 1 Axes>"
      ]
     },
     "metadata": {},
     "output_type": "display_data"
    }
   ],
   "source": [
    "# Plot the frequency of temperature values as a bar plot with an appropriate title, x-axis label and y-axis label.\n",
    "plt.bar(temp_frequencies.keys(), temp_frequencies.values())\n",
    "plt.title(\"Temperature Frequency\")\n",
    "plt.xlabel(\"Degrees Celsius\")\n",
    "plt.ylabel(\"# of Occurences\")"
   ]
  },
  {
   "cell_type": "code",
   "execution_count": 28,
   "id": "071a08b8",
   "metadata": {},
   "outputs": [
    {
     "data": {
      "text/plain": [
       "Text(0, 0.5, '# of Occurences')"
      ]
     },
     "execution_count": 28,
     "metadata": {},
     "output_type": "execute_result"
    },
    {
     "data": {
      "image/png": "[encoded data removed]",
      "text/plain": [
       "<Figure size 640x480 with 1 Axes>"
      ]
     },
     "metadata": {},
     "output_type": "display_data"
    }
   ],
   "source": [
    "# Plot the frequency of sensor values as a bar plot with an appropriate title, x-axis label and y-axis label.\n",
    "plt.bar(sensor_frequencies.keys(), sensor_frequencies.values())\n",
    "plt.title(\"Sensor Frequency\")\n",
    "plt.xlabel(\"Vibranium Concentration\")\n",
    "plt.ylabel(\"# of Occurences\")"
   ]
  },
  {
   "cell_type": "markdown",
   "id": "incomplete-radiation",
   "metadata": {},
   "source": [
    "## Preparing Data\n",
    "\n",
    "You noticed some unexpected values in the sensor readings.  You sought out the sensor engineer for some clarification.  She tells you in no uncertain terms that the sensors are prototypes and you should expect errors.\n",
    "\n",
    "She explains that the maximum valid sensor value is 2000 and the minimum valid value is 1000.  She also explains some other types of sensor errors (described below) and her recommendation on handling the problem.\n",
    "\n",
    "Three types of sensor errors:\n",
    "1.  Sometimes the sensor is too slow to capture a reading.  Missing values are represented as sensor values of 0.  Drop these readings.  There is no way to estimate the true value in this case.\n",
    "2.  There is a sensor bug that sometimes reports the sensor value as a negative value rather than the true positive value.  Replace these values with the absolute value (positive value) of the reading.\n",
    "3.  At extreme upper and lower ranges of valid sensor values, sensors may report values below minimum and above maximum.  Replace these values with the valid min or max, as appropriate."
   ]
  },
  {
   "cell_type": "markdown",
   "id": "subtle-provider",
   "metadata": {},
   "source": [
    "### <span style=\"color:red\">Task 6</span>\n",
    "\n",
    "* Write a Python function to correct the sensor errors as guided by the sensor engineer's recommendations.  This function will take as input the temperature list and the sensor list and return two new lists (i.e., the \"cleaned\" temperature and sensor lists).  Don't destroy your copies of the \"raw\" lists and make sure you don't destry the integrity of your lists (remember that temperatures and sensor values are related)\n",
    "* Test your function with some simple lists that you create by hand to test all of your edge cases.\n",
    "* Produce \"clean\" lists by calling your \"preparation\" function on the original temperature and sensor data.\n",
    "* Print the first 5 sensor values and the first 5 temperature values for the raw and clean data.  Verify by viewing that these values are correct.\n",
    "* Print the count/length of the sensor list and the temperature list."
   ]
  },
  {
   "cell_type": "code",
   "execution_count": 29,
   "id": "367d10df",
   "metadata": {},
   "outputs": [],
   "source": [
    "# Write a Python function to correct the sensor errors as guided by the sensor engineer's recommendations.  This function will take as input the temperature list and the sensor list and return two new lists (i.e., the \"cleaned\" temperature and sensor lists).  Don't destroy your copies of the \"raw\" lists and make sure you don't destry the integrity of your lists (remember that temperatures and sensor values are related)\n",
    "def correct_sensor_errors(sensor_data: list, temp_data: list) -> tuple:\n",
    "    \"\"\"Corrects the 3 mentioned errors above and returns a copied tuple of the corrected sensor data and temperature data lists.\n",
    "\n",
    "    Args:\n",
    "        sensor_data (list of floats): Sensor readings\n",
    "        temp_data (list of ints): Temperature readings\n",
    "\n",
    "    Returns:\n",
    "       tuple of lists: The corrected sensor data and temperature data lists.\n",
    "    \"\"\"\n",
    "    sensor_fixed = []\n",
    "    temp_fixed = []\n",
    "    for sensorval, tempval in zip(sensor_data, temp_data):\n",
    "        if sensorval == 0:\n",
    "            continue\n",
    "        if sensorval < 0:\n",
    "            sensorval = abs(sensorval)\n",
    "        if sensorval < 1000:\n",
    "            sensorval = 1000\n",
    "        if sensorval > 2000:\n",
    "            sensorval = 2000\n",
    "        sensor_fixed.append(sensorval)\n",
    "        temp_fixed.append(tempval)\n",
    "    return sensor_fixed, temp_fixed"
   ]
  },
  {
   "cell_type": "code",
   "execution_count": 30,
   "id": "7ea4bde9",
   "metadata": {},
   "outputs": [
    {
     "name": "stdout",
     "output_type": "stream",
     "text": [
      "Length of the sensor list: 10, Length of the temp list: 10\n",
      "Sensor list: [1000, 1500, 2455, 300, 0, -12, 23, 657, 2365.4, 123.23], Temp list: [1, 32, 0, 23, 45, 67, 89, 23, 4, 1]\n",
      "Corrected sensor list: [1000, 1500, 2000, 1000, 1000, 1000, 1000, 2000, 1000], Corrected temp list: [1, 32, 0, 23, 67, 89, 23, 4, 1]\n"
     ]
    }
   ],
   "source": [
    "# Test your function with some simple lists that you create by hand to test all of your edge cases.\n",
    "test_sensor_list = [1000, 1500, 2455, 300, 0, -12, 23, 657, 2365.4, 123.23]\n",
    "test_temp_list = [1, 32, 0, 23, 45, 67, 89, 23, 4, 1]\n",
    "print(f\"Length of the sensor list: {len(test_sensor_list)}, Length of the temp list: {len(test_temp_list)}\")\n",
    "print(f\"Sensor list: {test_sensor_list}, Temp list: {test_temp_list}\")\n",
    "corrected_sensors, corrected_temps = correct_sensor_errors(test_sensor_list, test_temp_list)\n",
    "print(f\"Corrected sensor list: {corrected_sensors}, Corrected temp list: {corrected_temps}\")"
   ]
  },
  {
   "cell_type": "code",
   "execution_count": 31,
   "id": "0ea303cb",
   "metadata": {},
   "outputs": [
    {
     "name": "stdout",
     "output_type": "stream",
     "text": [
      "[-1808.0, 1664.4, 1382.2, 2320.4, 1403.4] [1808.0, 1664.4, 1382.2, 2000, 1403.4]\n",
      "[20, -13, -19, 27, -3] [20, -13, -19, 27, -3]\n",
      "200 186\n"
     ]
    }
   ],
   "source": [
    "# Produce \"clean\" lists by calling your \"preparation\" function on the original temperature and sensor data.\n",
    "clean_sensor, clean_temp = correct_sensor_errors(sensor_vals, temp_vals)\n",
    "# Print the first 5 sensor values and the first 5 temperature values for the raw and clean data.  Verify by viewing that these values are correct.\n",
    "print(sensor_vals[:5], clean_sensor[:5])\n",
    "print(temp_vals[:5], clean_temp[:5])\n",
    "# Print the count/length of the sensor list and the temperature list.\n",
    "print(len(sensor_vals), len(clean_sensor))"
   ]
  },
  {
   "cell_type": "markdown",
   "id": "awful-lying",
   "metadata": {},
   "source": [
    "### <span style=\"color:red\">Task 7</span>\n",
    "\n",
    "* Run your \"descriptive statistics\" and \"frequency\" functions on your clean temperature and sensor lists and compare them to the \"raw\" results."
   ]
  },
  {
   "cell_type": "code",
   "execution_count": 32,
   "id": "3afd3f6f",
   "metadata": {},
   "outputs": [
    {
     "name": "stdout",
     "output_type": "stream",
     "text": [
      "Count: 200\n",
      "Min: -2103.8\n",
      "Max: 2420.0\n",
      "Mean: 1175.615\n",
      "Sum: 235123.0000000001\n",
      "Mode: 0.0\n",
      "Median: 1380.6\n",
      "S.D.: 900.6154085655701\n",
      "Count: 186\n",
      "Min: 1000\n",
      "Max: 2000\n",
      "Mean: 1488.3301075268816\n",
      "Sum: 276829.3999999999\n",
      "Mode: 1000\n",
      "Median: 1456.8\n",
      "S.D.: 332.4607770517091\n",
      "Count: 200\n",
      "Min: -20\n",
      "Max: 30\n",
      "Mean: 5\n",
      "Sum: 1000\n",
      "Mode: 20\n",
      "Median: 4.0\n",
      "S.D.: 14.90404821739153\n",
      "Count: 186\n",
      "Min: -20\n",
      "Max: 30\n",
      "Mean: 5.489247311827957\n",
      "Sum: 1021\n",
      "Mode: 20\n",
      "Median: 4.5\n",
      "S.D.: 14.931280152685025\n"
     ]
    },
    {
     "data": {
      "text/plain": [
       "{20: 8,\n",
       " -13: 4,\n",
       " -19: 3,\n",
       " 27: 5,\n",
       " -3: 7,\n",
       " -5: 2,\n",
       " -6: 8,\n",
       " -12: 3,\n",
       " -14: 3,\n",
       " 23: 6,\n",
       " 14: 6,\n",
       " -15: 6,\n",
       " 17: 4,\n",
       " 7: 5,\n",
       " -18: 3,\n",
       " -7: 5,\n",
       " 18: 6,\n",
       " 15: 4,\n",
       " -8: 2,\n",
       " 25: 3,\n",
       " 21: 5,\n",
       " 24: 4,\n",
       " 6: 1,\n",
       " 8: 1,\n",
       " -20: 3,\n",
       " 28: 6,\n",
       " -10: 7,\n",
       " 1: 3,\n",
       " -11: 3,\n",
       " 4: 5,\n",
       " 2: 3,\n",
       " -4: 5,\n",
       " 26: 5,\n",
       " 9: 6,\n",
       " -2: 3,\n",
       " 19: 1,\n",
       " 3: 5,\n",
       " 16: 2,\n",
       " -16: 4,\n",
       " 22: 2,\n",
       " 29: 3,\n",
       " 0: 2,\n",
       " -17: 2,\n",
       " 11: 2,\n",
       " 5: 2,\n",
       " 12: 4,\n",
       " 30: 1,\n",
       " 13: 1,\n",
       " -9: 1,\n",
       " -1: 1}"
      ]
     },
     "execution_count": 32,
     "metadata": {},
     "output_type": "execute_result"
    }
   ],
   "source": [
    "stats(sensor_vals)\n",
    "stats(clean_sensor)\n",
    "stats(temp_vals)\n",
    "stats(clean_temp)\n",
    "\n",
    "count_frequencies(sensor_vals)\n",
    "count_frequencies(clean_sensor)\n",
    "count_frequencies(temp_vals)\n",
    "count_frequencies(clean_temp)"
   ]
  },
  {
   "cell_type": "markdown",
   "id": "appreciated-ireland",
   "metadata": {},
   "source": [
    "### <span style=\"color:red\">Task 8</span>\n",
    "\n",
    "* Create a scatter plot using your prepared data. (Optional: use function that you wrote)\n",
    "* The titile for this plot should be \"Sensor by Temperature (Prepared Data)\"."
   ]
  },
  {
   "cell_type": "code",
   "execution_count": 33,
   "id": "a5515423",
   "metadata": {},
   "outputs": [
    {
     "data": {
      "text/plain": [
       "Text(0.5, 1.0, 'Sensor by Temperature (Cleaned Data)')"
      ]
     },
     "execution_count": 33,
     "metadata": {},
     "output_type": "execute_result"
    },
    {
     "data": {
      "image/png": "[encoded data removed]",
      "text/plain": [
       "<Figure size 640x480 with 1 Axes>"
      ]
     },
     "metadata": {},
     "output_type": "display_data"
    }
   ],
   "source": [
    "# Create a scatter plot using your prepared data. (Optional: use function that you wrote)\n",
    "plt.scatter(clean_temp, clean_sensor)\n",
    "plt.xlabel(\"Degrees Celsius\")\n",
    "plt.ylabel(\"Vibranium Concentration\")\n",
    "# The titile for this plot should be \"Sensor by Temperature (Prepared Data)\".\n",
    "plt.title(\"Sensor by Temperature (Cleaned Data)\")"
   ]
  },
  {
   "cell_type": "markdown",
   "id": "indian-slave",
   "metadata": {},
   "source": [
    "## Model Building\n",
    "\n",
    "After looking at the sensor plots, you decide a linear regression model may do a good job fitting the data.  Now, you need to build the model.\n",
    "\n",
    "You may find it useful to refer to the \"regression_example\" notebook for hints in building this model."
   ]
  },
  {
   "cell_type": "markdown",
   "id": "copyrighted-drain",
   "metadata": {},
   "source": [
    "### <span style=\"color:red\">Task 9</span>\n",
    "\n",
    "The scilearn-kit libraries require training data to be in a numpy \"array of arrays\".  See the referenced notebook above for hints on making that conversion.  \n",
    "\n",
    "* Create a \"training_X\" numpy array of arrays from your \"prepared\" temperature list. (Hint: use np.c_)\n",
    "* Create a \"training_y\" numpy array of arrays from your \"prepared\" sensor list. (Hint: use np.c_)"
   ]
  },
  {
   "cell_type": "code",
   "execution_count": 34,
   "id": "50aaa95c",
   "metadata": {},
   "outputs": [],
   "source": [
    "# Create a \"training_X\" numpy array of arrays from your \"prepared\" temperature list. (Hint: use np.c_)\n",
    "training_x = np.c_[clean_temp]\n",
    "# Create a \"training_y\" numpy array of arrays from your \"prepared\" sensor list. (Hint: use np.c_)\n",
    "training_y = np.c_[clean_sensor]"
   ]
  },
  {
   "cell_type": "markdown",
   "id": "animal-inspection",
   "metadata": {},
   "source": [
    "### <span style=\"color:red\">Task 10</span>\n",
    "* Create a linear model object\n",
    "\n",
    "See the referenced notebook above for hints.  "
   ]
  },
  {
   "cell_type": "code",
   "execution_count": 35,
   "id": "245b2578",
   "metadata": {},
   "outputs": [],
   "source": [
    "# Create a linear model object\n",
    "linear_model = lm.LinearRegression()"
   ]
  },
  {
   "cell_type": "markdown",
   "id": "furnished-presentation",
   "metadata": {},
   "source": [
    "### <span style=\"color:red\">Task 11</span>\n",
    "* Train the linear model using your training temperature and sensor data.\n",
    "\n",
    "See the referenced notebook above for hints.  "
   ]
  },
  {
   "cell_type": "code",
   "execution_count": 36,
   "id": "e557ef2c",
   "metadata": {},
   "outputs": [
    {
     "data": {
      "text/html": [
       "<style>#sk-container-id-2 {color: black;background-color: white;}#sk-container-id-2 pre{padding: 0;}#sk-container-id-2 div.sk-toggleable {background-color: white;}#sk-container-id-2 label.sk-toggleable__label {cursor: pointer;display: block;width: 100%;margin-bottom: 0;padding: 0.3em;box-sizing: border-box;text-align: center;}#sk-container-id-2 label.sk-toggleable__label-arrow:before {content: \"▸\";float: left;margin-right: 0.25em;color: #696969;}#sk-container-id-2 label.sk-toggleable__label-arrow:hover:before {color: black;}#sk-container-id-2 div.sk-estimator:hover label.sk-toggleable__label-arrow:before {color: black;}#sk-container-id-2 div.sk-toggleable__content {max-height: 0;max-width: 0;overflow: hidden;text-align: left;background-color: #f0f8ff;}#sk-container-id-2 div.sk-toggleable__content pre {margin: 0.2em;color: black;border-radius: 0.25em;background-color: #f0f8ff;}#sk-container-id-2 input.sk-toggleable__control:checked~div.sk-toggleable__content {max-height: 200px;max-width: 100%;overflow: auto;}#sk-container-id-2 input.sk-toggleable__control:checked~label.sk-toggleable__label-arrow:before {content: \"▾\";}#sk-container-id-2 div.sk-estimator input.sk-toggleable__control:checked~label.sk-toggleable__label {background-color: #d4ebff;}#sk-container-id-2 div.sk-label input.sk-toggleable__control:checked~label.sk-toggleable__label {background-color: #d4ebff;}#sk-container-id-2 input.sk-hidden--visually {border: 0;clip: rect(1px 1px 1px 1px);clip: rect(1px, 1px, 1px, 1px);height: 1px;margin: -1px;overflow: hidden;padding: 0;position: absolute;width: 1px;}#sk-container-id-2 div.sk-estimator {font-family: monospace;background-color: #f0f8ff;border: 1px dotted black;border-radius: 0.25em;box-sizing: border-box;margin-bottom: 0.5em;}#sk-container-id-2 div.sk-estimator:hover {background-color: #d4ebff;}#sk-container-id-2 div.sk-parallel-item::after {content: \"\";width: 100%;border-bottom: 1px solid gray;flex-grow: 1;}#sk-container-id-2 div.sk-label:hover label.sk-toggleable__label {background-color: #d4ebff;}#sk-container-id-2 div.sk-serial::before {content: \"\";position: absolute;border-left: 1px solid gray;box-sizing: border-box;top: 0;bottom: 0;left: 50%;z-index: 0;}#sk-container-id-2 div.sk-serial {display: flex;flex-direction: column;align-items: center;background-color: white;padding-right: 0.2em;padding-left: 0.2em;position: relative;}#sk-container-id-2 div.sk-item {position: relative;z-index: 1;}#sk-container-id-2 div.sk-parallel {display: flex;align-items: stretch;justify-content: center;background-color: white;position: relative;}#sk-container-id-2 div.sk-item::before, #sk-container-id-2 div.sk-parallel-item::before {content: \"\";position: absolute;border-left: 1px solid gray;box-sizing: border-box;top: 0;bottom: 0;left: 50%;z-index: -1;}#sk-container-id-2 div.sk-parallel-item {display: flex;flex-direction: column;z-index: 1;position: relative;background-color: white;}#sk-container-id-2 div.sk-parallel-item:first-child::after {align-self: flex-end;width: 50%;}#sk-container-id-2 div.sk-parallel-item:last-child::after {align-self: flex-start;width: 50%;}#sk-container-id-2 div.sk-parallel-item:only-child::after {width: 0;}#sk-container-id-2 div.sk-dashed-wrapped {border: 1px dashed gray;margin: 0 0.4em 0.5em 0.4em;box-sizing: border-box;padding-bottom: 0.4em;background-color: white;}#sk-container-id-2 div.sk-label label {font-family: monospace;font-weight: bold;display: inline-block;line-height: 1.2em;}#sk-container-id-2 div.sk-label-container {text-align: center;}#sk-container-id-2 div.sk-container {/* jupyter's `normalize.less` sets `[hidden] { display: none; }` but bootstrap.min.css set `[hidden] { display: none !important; }` so we also need the `!important` here to be able to override the default hidden behavior on the sphinx rendered scikit-learn.org. See: https://github.com/scikit-learn/scikit-learn/issues/21755 */display: inline-block !important;position: relative;}#sk-container-id-2 div.sk-text-repr-fallback {display: none;}</style><div id=\"sk-container-id-2\" class=\"sk-top-container\"><div class=\"sk-text-repr-fallback\"><pre>LinearRegression()</pre><b>In a Jupyter environment, please rerun this cell to show the HTML representation or trust the notebook. <br />On GitHub, the HTML representation is unable to render, please try loading this page with nbviewer.org.</b></div><div class=\"sk-container\" hidden><div class=\"sk-item\"><div class=\"sk-estimator sk-toggleable\"><input class=\"sk-toggleable__control sk-hidden--visually\" id=\"sk-estimator-id-2\" type=\"checkbox\" checked><label for=\"sk-estimator-id-2\" class=\"sk-toggleable__label sk-toggleable__label-arrow\">LinearRegression</label><div class=\"sk-toggleable__content\"><pre>LinearRegression()</pre></div></div></div></div></div>"
      ],
      "text/plain": [
       "LinearRegression()"
      ]
     },
     "execution_count": 36,
     "metadata": {},
     "output_type": "execute_result"
    }
   ],
   "source": [
    "# Train the linear model using your training temperature and sensor data.\n",
    "linear_model.fit(training_x, training_y)"
   ]
  },
  {
   "cell_type": "markdown",
   "id": "acknowledged-sight",
   "metadata": {},
   "source": [
    "### <span style=\"color:red\">Task 12</span>\n",
    "* Print the equation for the resulting prediction line.\n",
    "\n",
    "See the referenced notebook above for hints.  "
   ]
  },
  {
   "cell_type": "code",
   "execution_count": 37,
   "id": "37a142e3",
   "metadata": {},
   "outputs": [
    {
     "name": "stdout",
     "output_type": "stream",
     "text": [
      "Vibranium concentration prediction line equation: y = 13.541229774255873x + 1413.9989483897027\n"
     ]
    }
   ],
   "source": [
    "print(f\"Vibranium concentration prediction line equation: y = {linear_model.coef_[0][0]}x + {linear_model.intercept_[0]}\")"
   ]
  },
  {
   "cell_type": "markdown",
   "id": "sitting-broadcast",
   "metadata": {},
   "source": [
    "### <span style=\"color:red\">Task 13</span>\n",
    "* Print a scatter plot of the prepared data with the predicted line superimposed on the data.\n",
    "\n",
    "See the referenced notebook above for hints.  "
   ]
  },
  {
   "cell_type": "code",
   "execution_count": 38,
   "id": "70e80c29",
   "metadata": {},
   "outputs": [
    {
     "data": {
      "text/plain": [
       "[Text(0.5, 0, 'Degrees Celsius'),\n",
       " Text(0, 0.5, 'Vibranium Concentration'),\n",
       " Text(0.5, 1.0, 'Sensor by Temperature (Cleaned Data)')]"
      ]
     },
     "execution_count": 38,
     "metadata": {},
     "output_type": "execute_result"
    },
    {
     "data": {
      "image/png": "[encoded data removed]",
      "text/plain": [
       "<Figure size 640x480 with 1 Axes>"
      ]
     },
     "metadata": {},
     "output_type": "display_data"
    }
   ],
   "source": [
    "# Print a scatter plot of the prepared data with the predicted line superimposed on the data.\n",
    "res = sns.regplot(x=clean_temp, y=clean_sensor, label=\"Predicted Line\")\n",
    "res.set(xlabel=\"Degrees Celsius\", ylabel=\"Vibranium Concentration\", title=\"Sensor by Temperature (Cleaned Data)\")"
   ]
  },
  {
   "cell_type": "markdown",
   "id": "arabic-bedroom",
   "metadata": {},
   "source": [
    "## Model Usage\n",
    "\n",
    "Feeling exceptionally brave, you decide to demonstrate the predictions of your model to the sensor engineer."
   ]
  },
  {
   "cell_type": "markdown",
   "id": "living-construction",
   "metadata": {},
   "source": [
    "### <span style=\"color:red\">Task 14</span>\n",
    "* Demonstrate your predictor with a single input Celsius value of 5.\n",
    "* Demonstrate your predictor for the a list of input temperatures: -25, 5, 7, 12, 25\n",
    "\n",
    "Note that the input to the \"predict\" method requires a list of lists as input.  Also, the results are returned as list of lists.\n",
    "\n",
    "See the referenced notebook above for hints.  "
   ]
  },
  {
   "cell_type": "code",
   "execution_count": 39,
   "id": "5541c95f",
   "metadata": {},
   "outputs": [
    {
     "name": "stdout",
     "output_type": "stream",
     "text": [
      "Estimated Vibranium concentration at 5 degrees Celsius: 1481.705097260982\n",
      "Predicted results for [-25, 5, 7, 12, 25]: [[1075.46820403]\n",
      " [1481.70509726]\n",
      " [1508.78755681]\n",
      " [1576.49370568]\n",
      " [1752.52969275]]\n"
     ]
    }
   ],
   "source": [
    "# Demonstrate your predictor with a single input Celsius value of 5.\n",
    "print(f\"Estimated Vibranium concentration at 5 degrees Celsius: {linear_model.predict([[5]])[0][0]}\")\n",
    "# Demonstrate your predictor for the a list of input temperatures: -25, 5, 7, 12, 25\n",
    "vals = [-25,5,7,12,25]\n",
    "print(f\"Predicted results for {vals}: {linear_model.predict(np.c_[vals])}\")"
   ]
  },
  {
   "cell_type": "markdown",
   "id": "grave-treasurer",
   "metadata": {},
   "source": [
    "## Results\n",
    "\n",
    "You need to report your results to the sensor engineer.  Most of your results are captured in the results above, but there is potentially more to do.\n"
   ]
  },
  {
   "cell_type": "markdown",
   "id": "lyric-folder",
   "metadata": {},
   "source": [
    "### <span style=\"color:red\">Task 15</span>\n",
    "\n",
    "* What do you suggest that you and the sensor engineer do to assess the quality of the predictions, perhaps including further actions to take?"
   ]
  },
  {
   "attachments": {},
   "cell_type": "markdown",
   "id": "8cc077fa",
   "metadata": {},
   "source": [
    "Here I cheat a little bit on the project by referring to my previous experience in Dr. Stine's Machine Learning class! There's a number of metrics we can use when evaluating non-categorical linear prediction models to judge the efficacy of our outputs:\n",
    "* MSE: Mean Squared Error\n",
    "    * We can use the `mean_squared_error` method from the LinearRegression class to get the MSE, giving it the test data and the predicted data as inputs. ex. mean_squared_error(test_data, predicted_data)\n",
    "* R^2: Coefficient of Determination\n",
    "    * We can similarly use the `score` method from the LinearRegression class to get the R^2, again giving it the test data and the predicted data as inputs. ex. score(test_data, predicted_data)\n",
    "\n",
    "Implmenting both of these methods would be fantastic ways to evalute the quality of our models and help determine if our dataset and model can sufficiently provide an accurate representation and prediction of the sensor data."
   ]
  },
  {
   "cell_type": "markdown",
   "id": "88daec14-4c9b-4100-ab98-559a06e673b5",
   "metadata": {},
   "source": [
    "<p style=\"font-size:120%;color:navy;background:linen;padding:10px;text-align:center\">&copy; Copyright 2022 by Michelle Talley <br> <br>You may not publish this notebook on any website or share it with anyone without explicit permission of the author. </p>\n"
   ]
  }
 ],
 "metadata": {
  "kernelspec": {
   "display_name": "Python 3 (ipykernel)",
   "language": "python",
   "name": "python3"
  },
  "language_info": {
   "codemirror_mode": {
    "name": "ipython",
    "version": 3
   },
   "file_extension": ".py",
   "mimetype": "text/x-python",
   "name": "python",
   "nbconvert_exporter": "python",
   "pygments_lexer": "ipython3",
   "version": "3.10.4"
  }
 },
 "nbformat": 4,
 "nbformat_minor": 5
}
