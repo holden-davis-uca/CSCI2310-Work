{
 "cells": [
  {
   "cell_type": "markdown",
   "id": "rising-while",
   "metadata": {},
   "source": [
    "# Introduction to Data Science - Project - Sensor Data Preparation"
   ]
  },
  {
   "cell_type": "markdown",
   "id": "international-syndicate",
   "metadata": {},
   "source": [
    "### File Input/Output Functions\n",
    "\n",
    "You may find the following function useful to read the data files into lists.  Feel free to write your own routine instead if you choose. This function accepts a full path to a file and returns the file as a list of integers or floats. **Make sure you use the appropriate parameters for each data file.**"
   ]
  },
  {
   "cell_type": "code",
   "execution_count": 2,
   "id": "suburban-windows",
   "metadata": {},
   "outputs": [],
   "source": [
    "def read_list_from_file(filespec, conversion=float):\n",
    "    \"\"\"Return a list with each line of the input file as an element.\"\"\"\n",
    "    with open(filespec) as f:\n",
    "        # \"read\" does not provide conversion to types; it returns strings, so we need to convert the data\n",
    "        lines = list(map(conversion, f.read().splitlines()))\n",
    "    return(lines)"
   ]
  },
  {
   "cell_type": "markdown",
   "id": "polar-spelling",
   "metadata": {},
   "source": [
    "## Problem Statement\n",
    "\n",
    "Vibranium is a very valuable element (at least in the Marvel universe).  A leading Vibranium producing country has recently discovered that it can effectively \"mine\" Vibrainium atoms from air.  One of the most skilled mining engineers has built prototype sensors for detecting Vibranium concentrations.\n",
    "\n",
    "The engineer has asked you to produce a predictor of Vibranium concentration (number of Vibranium atoms per billion air atoms) based upon air temperature in Celsius using preliminary data she has collected.\n",
    "\n",
    "Unfortunately, the sensors are prototypes.  As a result, the sensors are sometimes faulty.  You will have to adapt to the faulty data.  The sensor engineer, who clearly has significant domain expertise, will provide some guidance on dealing with sensor challenges."
   ]
  },
  {
   "cell_type": "markdown",
   "id": "respected-sister",
   "metadata": {},
   "source": [
    "## Acquiring Data\n",
    "\n",
    "The engineer has two files containing the sensor data.  One file, \"sensor.txt\" contains the sensor readings with a single reading per line in the file.\n",
    "\n",
    "The other file \"temperature.txt\" contains the Cesius temperature associated with the sensor reading.  \n",
    "Each line of the temperature file aligns with the corresponding line in the sensor file."
   ]
  },
  {
   "cell_type": "markdown",
   "id": "secondary-sociology",
   "metadata": {},
   "source": [
    "### <span style=\"color:red\">Task 1</span>\n",
    "\n",
    "* Read the sensor data into a list.  \n",
    "* Read the temperature values into another list. \n",
    "\n",
    "Insert cells into this notebook here to show your work (do this for all the tasks in this notebook).  \n",
    "\n",
    "If needed, use your friend, The Internet, to look for ways to read data into a list in Python."
   ]
  },
  {
   "cell_type": "markdown",
   "id": "senior-brisbane",
   "metadata": {},
   "source": [
    "### <span style=\"color:red\">Task 2</span>\n",
    "\n",
    "* Write a Python function to compute and print the following descriptive statistics for an input list.\n",
    "    - count\n",
    "    - min \n",
    "    - max\n",
    "    - mean\n",
    "    - sum\n",
    "    - mode\n",
    "    - median\n",
    "    - population standard deviation\n",
    "* Call your descriptive statistics function to report individually on the sensor data and the temperature data."
   ]
  },
  {
   "cell_type": "markdown",
   "id": "committed-knock",
   "metadata": {},
   "source": [
    "### <span style=\"color:red\">Task 3</span>\n",
    "\n",
    "* Write a Python function to compute and print the frequency of each value in an input list. The function should accept a list of valued and return a dictionary of values mapped to frequencies.  This function should be reusable for different list of values.\n",
    "* Call your frequency function to report individually on the sensor data and the temperature data.\n",
    "\n",
    "Hint: See Counter example from the collections module from Chapter 6 in the book or the NumPy example from Chapter 5."
   ]
  },
  {
   "cell_type": "markdown",
   "id": "organized-steps",
   "metadata": {},
   "source": [
    "## Visualizing Data\n",
    "\n",
    "Let's take a look at the raw data we acquired from the engineer.  Show the sensor and temperature data that we read from the files."
   ]
  },
  {
   "cell_type": "markdown",
   "id": "temporal-namibia",
   "metadata": {},
   "source": [
    "### <span style=\"color:red\">Task 4</span>\n",
    "\n",
    "* Write a Python function to draw a scatter plot (optional)  \n",
    "* Plot the sensor data using the temperature as the x-axis and the sensor value as the y-access.\n",
    "* Label the x-axis as \"Temperature\" and the y-access as \"Sensor\".\n",
    "* Make the title of your plot \"Sensor by Temperature (Raw Data)\".\n",
    "\n",
    "You may find it useful to look at the plot examples in the \"regression_example\" notebook in the project folder.\n"
   ]
  },
  {
   "cell_type": "markdown",
   "id": "different-radical",
   "metadata": {},
   "source": [
    "### <span style=\"color:red\">Task 5</span>\n",
    "\n",
    "* Plot the frequency of temperature values as a bar plot with an appropriate title. \n",
    "* Plot the frequency of sensor values as a bar plot with an appropriate title.\n",
    "\n",
    "You may find it useful to use your friend, The Interet, to look at the information about mapplotlib bar plots."
   ]
  },
  {
   "cell_type": "markdown",
   "id": "incomplete-radiation",
   "metadata": {},
   "source": [
    "## Preparing Data\n",
    "\n",
    "You noticed some unexpected values in the sensor readings.  You sought out the sensor engineer for some clarification.  She tells you in no uncertain terms that the sensors are prototypes and you should expect errors.\n",
    "\n",
    "She explains that the maximum valid sensor value is 2000 and the minimum valid value is 1000.  She also explains some other types of sensor errors (described below) and her recommendation on handling the problem.\n",
    "\n",
    "Three types of sensor errors:\n",
    "1.  Sometimes the sensor is too slow to capture a reading.  Missing values are represented as sensor values of 0.  Drop these readings.  There is no way to estimate the true value in this case.\n",
    "2.  There is a sensor bug that sometimes reports the sensor value as a negative value rather than the true positive value.  Replace these values with the absolute value (positive value) of the reading.\n",
    "3.  At extreme upper and lower ranges of valid sensor values, sensors may report values below minimum and above maximum.  Replace these values with the valid min or max, as appropriate."
   ]
  },
  {
   "cell_type": "markdown",
   "id": "subtle-provider",
   "metadata": {},
   "source": [
    "### <span style=\"color:red\">Task 6</span>\n",
    "\n",
    "* Write a Python function to correct the sensor errors as guided by the sensor engineer's recommendations.  This function will take as input the temperature list and the sensor list and return two new lists (i.e., the \"cleaned\" temperature and sensor lists).  Don't destroy your copies of the \"raw\" lists and make sure you don't destry the integrity of your lists (remember that temperatures and sensor values are related)\n",
    "* Test your function with some simple lists that you create by hand to test all of your edge cases.\n",
    "* Produce \"clean\" lists by calling your \"preparation\" function on the original temperature and sensor data.\n",
    "* Print the first 5 sensor values and the first 5 temperature values for the raw and clean data.  Verify by viewing that these values are correct.\n",
    "* Print the count/length of the sensor list and the temperature list."
   ]
  },
  {
   "cell_type": "markdown",
   "id": "awful-lying",
   "metadata": {},
   "source": [
    "### <span style=\"color:red\">Task 7</span>\n",
    "\n",
    "* Run your \"descriptive statistics\" and \"frequency\" functions on your clean temperature and sensor lists and compare them to the \"raw\" results."
   ]
  },
  {
   "cell_type": "markdown",
   "id": "appreciated-ireland",
   "metadata": {},
   "source": [
    "### <span style=\"color:red\">Task 8</span>\n",
    "\n",
    "* Create a scatter plot using your prepared data. (Optional: use function that you wrote)\n",
    "* The titile for this plot should be \"Sensor by Temperature (Prepared Data)\"."
   ]
  },
  {
   "cell_type": "markdown",
   "id": "indian-slave",
   "metadata": {},
   "source": [
    "## Model Building\n",
    "\n",
    "After looking at the sensor plots, you decide a linear regression model may do a good job fitting the data.  Now, you need to build the model.\n",
    "\n",
    "You may find it useful to refer to the \"regression_example\" notebook for hints in building this model."
   ]
  },
  {
   "cell_type": "markdown",
   "id": "copyrighted-drain",
   "metadata": {},
   "source": [
    "### <span style=\"color:red\">Task 9</span>\n",
    "\n",
    "The scilearn-kit libraries require training data to be in a numpy \"array of arrays\".  See the referenced notebook above for hints on making that conversion.  \n",
    "\n",
    "* Create a \"training_X\" numpy array of arrays from your \"prepared\" temperature list. (Hint: use np.c_)\n",
    "* Create a \"training_y\" numpy array of arrays from your \"prepared\" sensor list. (Hint: use np.c_)"
   ]
  },
  {
   "cell_type": "markdown",
   "id": "animal-inspection",
   "metadata": {},
   "source": [
    "### <span style=\"color:red\">Task 10</span>\n",
    "* Create a linear model object\n",
    "\n",
    "See the referenced notebook above for hints.  "
   ]
  },
  {
   "cell_type": "markdown",
   "id": "furnished-presentation",
   "metadata": {},
   "source": [
    "### <span style=\"color:red\">Task 11</span>\n",
    "* Train the linear model using your training temperature and sensor data.\n",
    "\n",
    "See the referenced notebook above for hints.  "
   ]
  },
  {
   "cell_type": "markdown",
   "id": "acknowledged-sight",
   "metadata": {},
   "source": [
    "### <span style=\"color:red\">Task 12</span>\n",
    "* Print the equation for the resulting prediction line.\n",
    "\n",
    "See the referenced notebook above for hints.  "
   ]
  },
  {
   "cell_type": "markdown",
   "id": "sitting-broadcast",
   "metadata": {},
   "source": [
    "### <span style=\"color:red\">Task 13</span>\n",
    "* Print a scatter plot of the prepared data with the predicted line superimposed on the data.\n",
    "\n",
    "See the referenced notebook above for hints.  "
   ]
  },
  {
   "cell_type": "markdown",
   "id": "arabic-bedroom",
   "metadata": {},
   "source": [
    "## Model Usage\n",
    "\n",
    "Feeling exceptionally brave, you decide to demonstrate the predictions of your model to the sensor engineer."
   ]
  },
  {
   "cell_type": "markdown",
   "id": "living-construction",
   "metadata": {},
   "source": [
    "### <span style=\"color:red\">Task 14</span>\n",
    "* Demonstrate your predictor with a single input Celsius value of 5.\n",
    "* Demonstrate your predictor for the a list of input temperatures: -25, 5, 7, 12, 25\n",
    "\n",
    "Note that the input to the \"predict\" method requires a list of lists as input.  Also, the results are returned as list of lists.\n",
    "\n",
    "See the referenced notebook above for hints.  "
   ]
  },
  {
   "cell_type": "markdown",
   "id": "grave-treasurer",
   "metadata": {},
   "source": [
    "## Results\n",
    "\n",
    "You need to report your results to the sensor engineer.  Most of your results are captured in the results above, but there is potentially more to do.\n"
   ]
  },
  {
   "cell_type": "markdown",
   "id": "lyric-folder",
   "metadata": {},
   "source": [
    "### <span style=\"color:red\">Task 15</span>\n",
    "\n",
    "* What do you suggest that you and the sensor engineer do to assess the quality of the predictions, perhaps including further actions to take?"
   ]
  },
  {
   "cell_type": "markdown",
   "id": "88daec14-4c9b-4100-ab98-559a06e673b5",
   "metadata": {},
   "source": [
    "<p style=\"font-size:120%;color:navy;background:linen;padding:10px;text-align:center\">&copy; Copyright 2022 by Michelle Talley <br> <br>You may not publish this notebook on any website or share it with anyone without explicit permission of the author. </p>\n"
   ]
  }
 ],
 "metadata": {
  "kernelspec": {
   "display_name": "Python 3 (ipykernel)",
   "language": "python",
   "name": "python3"
  },
  "language_info": {
   "codemirror_mode": {
    "name": "ipython",
    "version": 3
   },
   "file_extension": ".py",
   "mimetype": "text/x-python",
   "name": "python",
   "nbconvert_exporter": "python",
   "pygments_lexer": "ipython3",
   "version": "3.9.15"
  }
 },
 "nbformat": 4,
 "nbformat_minor": 5
}
