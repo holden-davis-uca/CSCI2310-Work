{
 "cells": [
  {
   "attachments": {},
   "cell_type": "markdown",
   "metadata": {},
   "source": [
    "# Name: Holden Davis\n",
    "# Assignment: Lab 1\n",
    "### The objective of this lab is to become familiar with __Jupyter Notebooks__\n",
    "\n",
    "My name is Holden Davis and I am a senior Computer Science major at UCA!\n",
    "\n",
    "My email address is [hdavis13@cub.uca.edu](mailto:hdavis13@cub.uca.edu)\n",
    "\n",
    "Some useful resources for learning Jupyter Notebooks are the following:\n",
    "* [Mark down language reference sheet](https://www.markdownguide.org/basic-syntax)\n",
    "* [Jupyter notebook cheat sheet](https://cheatography.com/weidadeyue/cheat-sheets/jupyter-notebook/)\n",
    "\n",
    "#### This is an example of code that will print the result of 1 + 1\n",
    "`print(1+1)`"
   ]
  },
  {
   "cell_type": "code",
   "execution_count": 17,
   "metadata": {},
   "outputs": [
    {
     "name": "stdout",
     "output_type": "stream",
     "text": [
      "2\n"
     ]
    }
   ],
   "source": [
    "print(1+1)"
   ]
  },
  {
   "cell_type": "code",
   "execution_count": 18,
   "metadata": {},
   "outputs": [
    {
     "name": "stdout",
     "output_type": "stream",
     "text": [
      "32.00 degrees Farenheit is 0.00 degrees Celsius\n",
      "You could freeze water.\n"
     ]
    }
   ],
   "source": [
    "farenheit = float(input(\"Enter the temperature in Farenheit: \"))\n",
    "celsius = (farenheit - 32) * 5 / 9\n",
    "print(\"%1.2f degrees Farenheit is %1.2f degrees Celsius\" % (farenheit, celsius))\n",
    "if (celsius <= 0):\n",
    "    print(\"You could freeze water.\")\n",
    "elif (celsius >= 100):\n",
    "    print(\"You could boil water.\")\n"
   ]
  }
 ],
 "metadata": {
  "kernelspec": {
   "display_name": "CSCI2310-Work",
   "language": "python",
   "name": "python3"
  },
  "language_info": {
   "codemirror_mode": {
    "name": "ipython",
    "version": 3
   },
   "file_extension": ".py",
   "mimetype": "text/x-python",
   "name": "python",
   "nbconvert_exporter": "python",
   "pygments_lexer": "ipython3",
   "version": "3.10.9"
  },
  "orig_nbformat": 4,
  "vscode": {
   "interpreter": {
    "hash": "299409b180f29f8b3a330776e686c6d359741b559248a960bf42e2edb94ee730"
   }
  }
 },
 "nbformat": 4,
 "nbformat_minor": 2
}
