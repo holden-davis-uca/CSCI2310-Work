{
 "cells": [
  {
   "attachments": {},
   "cell_type": "markdown",
   "metadata": {},
   "source": [
    "### Notebook written by: Holden Davis\n",
    "### Assignment: Lab 2\n",
    "##### 1/23/22\n"
   ]
  },
  {
   "cell_type": "code",
   "execution_count": null,
   "metadata": {},
   "outputs": [],
   "source": [
    "while (True):\n",
    "    triangle_base = int(input(\"Please enter the edge length of the base of right triangle:\"))\n",
    "    # Base is greater than 0, we can print it!\n",
    "    if triangle_base > 0:\n",
    "        # Print the triangle is ascending order\n",
    "        for i in range(triangle_base):\n",
    "            print(\"#\" * int(i+1))\n",
    "        print(\"\")\n",
    "        # Print the triangle in descending order\n",
    "        for i in range(triangle_base, 0, -1):\n",
    "            print(\"#\" * int(i))\n",
    "        print(\"\")\n",
    "    # Base is 0 or less, exit the loop!\n",
    "    else:\n",
    "        print(\"All done!\")\n",
    "        break\n"
   ]
  },
  {
   "cell_type": "code",
   "execution_count": null,
   "metadata": {},
   "outputs": [],
   "source": [
    "import statistics\n",
    "vals = 9, 11, 22, 34, 17, 22, 34, 22, 40\n",
    "print(\"Values are\", vals)\n",
    "print(\"Sorted values are\", sorted(vals))\n",
    "print(\"Count is\", len(vals))\n",
    "print(\"Cool statistics:\\n\")\n",
    "print(\"> Mean is %1.2f\" % statistics.mean(vals))\n",
    "print(\"> Median is\", statistics.median(vals))\n",
    "print(\"> Mode is\", statistics.mode(vals))\n",
    "print(\"> Sum is\", sum(vals))\n",
    "print(\"> Min is\", min(vals))\n",
    "print(\"> Max is\", max(vals))"
   ]
  }
 ],
 "metadata": {
  "kernelspec": {
   "display_name": "CSCI2310-Work",
   "language": "python",
   "name": "python3"
  },
  "language_info": {
   "codemirror_mode": {
    "name": "ipython",
    "version": 3
   },
   "file_extension": ".py",
   "mimetype": "text/x-python",
   "name": "python",
   "nbconvert_exporter": "python",
   "pygments_lexer": "ipython3",
   "version": "3.10.9"
  },
  "orig_nbformat": 4,
  "vscode": {
   "interpreter": {
    "hash": "299409b180f29f8b3a330776e686c6d359741b559248a960bf42e2edb94ee730"
   }
  }
 },
 "nbformat": 4,
 "nbformat_minor": 2
}
