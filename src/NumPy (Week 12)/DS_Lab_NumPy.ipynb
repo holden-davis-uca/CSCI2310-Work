{
 "cells": [
  {
   "cell_type": "markdown",
   "id": "younger-steps",
   "metadata": {},
   "source": [
    "### NumPy Lab"
   ]
  },
  {
   "attachments": {},
   "cell_type": "markdown",
   "id": "aggressive-savage",
   "metadata": {},
   "source": [
    "Holden Davis"
   ]
  },
  {
   "cell_type": "code",
   "execution_count": 75,
   "id": "6f65d9cd",
   "metadata": {},
   "outputs": [],
   "source": [
    "import numpy as np"
   ]
  },
  {
   "attachments": {},
   "cell_type": "markdown",
   "id": "descending-sending",
   "metadata": {},
   "source": [
    "### <span style=\"color:red\">Task 1</span>\n",
    "\n",
    "Use the appropriate NumPy methods to do the following: Fill a 2-by-3 arrayay with ones, a 3-by-3 arrayay with zeros and a 2-by-5 arrayay with 5s. Display each arrayay."
   ]
  },
  {
   "cell_type": "code",
   "execution_count": 76,
   "id": "85dd347f",
   "metadata": {},
   "outputs": [
    {
     "name": "stdout",
     "output_type": "stream",
     "text": [
      "[[1. 1. 1.]\n",
      " [1. 1. 1.]]\n",
      "\n",
      "[[0. 0. 0.]\n",
      " [0. 0. 0.]\n",
      " [0. 0. 0.]]\n",
      "\n",
      "[[5. 5. 5. 5. 5.]\n",
      " [5. 5. 5. 5. 5.]]\n"
     ]
    }
   ],
   "source": [
    "a = np.ndarray(shape=(2,3))\n",
    "a.fill(1)\n",
    "\n",
    "b = np.ndarray(shape=(3,3))\n",
    "b.fill(0)\n",
    "\n",
    "c = np.ndarray(shape=(2,5))\n",
    "c.fill(5)\n",
    "\n",
    "print(a)\n",
    "print()\n",
    "print(b)\n",
    "print()\n",
    "print(c)"
   ]
  },
  {
   "attachments": {},
   "cell_type": "markdown",
   "id": "840caf24-6351-446d-b0ae-37b78c14c02a",
   "metadata": {
    "tags": []
   },
   "source": [
    "### <span style=\"color:red\">Task 2</span>\n",
    "\n",
    "Use arange to create an arrayay containing the values 1-15, reshape it into a 3 by 5 arrayay, then use indexing and slicing techniques to perform each of the following operations :\n",
    "* Select and display the 3rd row\n",
    "* Select and display the 4th column\n",
    "* Select and display the first and second row.\n",
    "* Select and display the 2nd column up to and including the 4th column\n",
    "* Select and display the element that is in the 2nd row and the 4th column\n",
    "* Select and display all the elements from the 1st and 2nd row and the first column, the 3rd column, and the 5th column.\n",
    "\n",
    "Remember, rows and columns start indexing at 0.  When asked to display the 2nd row, you should display the row with the index of 1. The same applies to columns.\n"
   ]
  },
  {
   "cell_type": "code",
   "execution_count": 77,
   "id": "04be4dbf",
   "metadata": {},
   "outputs": [
    {
     "name": "stdout",
     "output_type": "stream",
     "text": [
      "3rd row: [11 12 13 14 15]\n",
      "\n",
      "4th column: [ 4  9 14]\n",
      "\n",
      "1st and second rows: [[ 2  3  4  5]\n",
      " [ 7  8  9 10]\n",
      " [12 13 14 15]]\n",
      "\n",
      "2nd column up to and including 4th column: 9\n",
      "\n",
      "1st and 2nd rows at 1st, 3rd, and 5th columns: [[ 1  3  5]\n",
      " [ 6  8 10]]\n"
     ]
    }
   ],
   "source": [
    "array = np.arange(1,16).reshape(3,5)\n",
    "print(\"3rd row:\",array[2])\n",
    "print()\n",
    "print(\"4th column:\",array[:, 3])\n",
    "print()\n",
    "print(\"1st and second rows:\",array[:, 1:5])\n",
    "print()\n",
    "print(\"2nd column up to and including 4th column:\",array[1][3])\n",
    "print()\n",
    "print(\"1st and 2nd rows at 1st, 3rd, and 5th columns:\",array[0:2, [0,2,4]])"
   ]
  },
  {
   "attachments": {},
   "cell_type": "markdown",
   "id": "inclusive-printer",
   "metadata": {},
   "source": [
    "### <span style=\"color:red\">Task 3</span>\n",
    "\n",
    "Use arange to create a 2-by-2 arrayay containing the numbers 0–3. Use **broadcasting** to perform each of the following operations on the **original** arrayay :\n",
    "\n",
    "* Square every element of the arrayay.\n",
    "\n",
    "* Add 6 to every element of the arrayay.\n",
    "\n",
    "* Multiply every element of the arrayay by 3.\n",
    "\n",
    "Make sure you display the results."
   ]
  },
  {
   "cell_type": "code",
   "execution_count": 78,
   "id": "a10d3f4d",
   "metadata": {},
   "outputs": [
    {
     "name": "stdout",
     "output_type": "stream",
     "text": [
      "[[18 21]\n",
      " [30 45]]\n"
     ]
    }
   ],
   "source": [
    "array = np.arange(0,4).reshape(2,2)\n",
    "array **= 2\n",
    "array += 6\n",
    "array *= 3\n",
    "print(array)"
   ]
  },
  {
   "attachments": {},
   "cell_type": "markdown",
   "id": "c0fe1f88-9cbd-4203-af06-31e08d1e4496",
   "metadata": {},
   "source": [
    "### <span style=\"color:red\">Task 4</span> \n",
    "\n",
    "Use arange to create a 3-by-3 arrayay containing the even integers from 2 through 18. Use arange to create a second 3-by-3 arrayay containing the integers from 9 down to 1, then multiply the first arrayay by the second."
   ]
  },
  {
   "cell_type": "code",
   "execution_count": 79,
   "id": "527d667a-8424-45da-865c-40c1e2b83068",
   "metadata": {},
   "outputs": [
    {
     "name": "stdout",
     "output_type": "stream",
     "text": [
      "first: [[ 2  4  6]\n",
      " [ 8 10 12]\n",
      " [14 16 18]]\n",
      "\n",
      "second: [[9 8 7]\n",
      " [6 5 4]\n",
      " [3 2 1]]\n",
      "\n",
      "first * second: [[18 32 42]\n",
      " [48 50 48]\n",
      " [42 32 18]]\n"
     ]
    }
   ],
   "source": [
    "array = np.arange(2,19, step=2).reshape(3,3)\n",
    "array2 = np.arange(9, 0, step=-1).reshape(3,3)\n",
    "print(\"first:\",array)\n",
    "print()\n",
    "print(\"second:\",array2)\n",
    "print()\n",
    "print(\"first * second:\",array * array2)"
   ]
  },
  {
   "attachments": {},
   "cell_type": "markdown",
   "id": "03879ed2-cfe9-4690-b96f-2d2e172b3644",
   "metadata": {
    "tags": []
   },
   "source": [
    "### <span style=\"color:red\">Task 5</span> \n",
    " \n",
    "Use a list comprehenstion to create a 2-by-3 arrayay containing the first six powers of 2 beginning with 2<sup>0</sup>. Flatten the arrayay first with method ```flatten```, then with ```ravel```. In each case, display the result then display the original arrayay to show that it was unmodified.\n",
    "\n",
    "<span style =\"color:red\">Answer this question in markdown: What is the difference between flatten and ravel?"
   ]
  },
  {
   "cell_type": "code",
   "execution_count": 80,
   "id": "a123e635",
   "metadata": {},
   "outputs": [
    {
     "name": "stdout",
     "output_type": "stream",
     "text": [
      "original: [[ 1  2  4]\n",
      " [ 8 16 32]]\n",
      "\n",
      "flatten(): [ 1  2  4  8 16 32]\n",
      "\n",
      "original: [[ 1  2  4]\n",
      " [ 8 16 32]]\n",
      "\n",
      "ravel(): [ 1  2  4  8 16 32]\n",
      "\n",
      "original: [[ 1  2  4]\n",
      " [ 8 16 32]]\n"
     ]
    }
   ],
   "source": [
    "array = np.array([2**i for i in range(6)]).reshape(2,3)\n",
    "print(\"original:\",array)\n",
    "print()\n",
    "print(\"flatten():\",array.flatten())\n",
    "print()\n",
    "print(\"original:\",array)\n",
    "print()\n",
    "print(\"ravel():\",array.ravel())\n",
    "print()\n",
    "print(\"original:\",array)\n"
   ]
  },
  {
   "attachments": {},
   "cell_type": "markdown",
   "id": "1a71e7a8",
   "metadata": {},
   "source": [
    "You can't perceive a difference between ravel and flatten purely off of what I've written, so I had to look this one up to confirm! Flatten will always return a copy of the input array, whereas ravel will attempt to return a view of the original array if possible, creating a copy only if necessary. This ends up being a difference mainly in terms of memory consumption."
   ]
  }
 ],
 "metadata": {
  "kernelspec": {
   "display_name": "Python 3 (ipykernel)",
   "language": "python",
   "name": "python3"
  },
  "language_info": {
   "codemirror_mode": {
    "name": "ipython",
    "version": 3
   },
   "file_extension": ".py",
   "mimetype": "text/x-python",
   "name": "python",
   "nbconvert_exporter": "python",
   "pygments_lexer": "ipython3",
   "version": "3.10.4"
  }
 },
 "nbformat": 4,
 "nbformat_minor": 5
}
