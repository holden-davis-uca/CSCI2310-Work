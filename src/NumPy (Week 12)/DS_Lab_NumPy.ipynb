{
 "cells": [
  {
   "cell_type": "markdown",
   "id": "younger-steps",
   "metadata": {},
   "source": [
    "### NumPy Lab"
   ]
  },
  {
   "cell_type": "markdown",
   "id": "aggressive-savage",
   "metadata": {},
   "source": [
    "Name?"
   ]
  },
  {
   "cell_type": "markdown",
   "id": "descending-sending",
   "metadata": {},
   "source": [
    "### <span style=\"color:red\">Task 1</span>\n",
    "\n",
    "Use the appropriate NumPy methods to do the following: Fill a 2-by-3 array with ones, a 3-by-3 array with zeros and a 2-by-5 array with 5s. Display each array."
   ]
  },
  {
   "cell_type": "markdown",
   "id": "840caf24-6351-446d-b0ae-37b78c14c02a",
   "metadata": {
    "tags": []
   },
   "source": [
    "### <span style=\"color:red\">Task 2</span>\n",
    "\n",
    "Use arange to create an array containing the values 1-15, reshape it into a 3 by 5 array, then use indexing and slicing techniques to perform each of the following operations :\n",
    "* Select and display the 3rd row\n",
    "* Select and display the 4th column\n",
    "* Select and display the first and second row.\n",
    "* Select and display the 2nd column up to and including the 4th column\n",
    "* Select and display the element that is in the 2nd row and the 4th column\n",
    "* Select and display all the elements from the 1st and 2nd row and the first column, the 3rd column, and the 5th column.\n",
    "\n",
    "Remember, rows and columns start indexing at 0.  When asked to display the 2nd row, you should display the row with the index of 1. The same applies to columns.\n"
   ]
  },
  {
   "cell_type": "markdown",
   "id": "inclusive-printer",
   "metadata": {},
   "source": [
    "### <span style=\"color:red\">Task 3</span>\n",
    "\n",
    "Use arange to create a 2-by-2 array containing the numbers 0–3. Use **broadcasting** to perform each of the following operations on the **original** array :\n",
    "\n",
    "* Square every element of the array.\n",
    "\n",
    "* Add 6 to every element of the array.\n",
    "\n",
    "* Multiply every element of the array by 3.\n",
    "\n",
    "Make sure you display the results."
   ]
  },
  {
   "cell_type": "markdown",
   "id": "c0fe1f88-9cbd-4203-af06-31e08d1e4496",
   "metadata": {},
   "source": [
    "### <span style=\"color:red\">Task 4</span> \n",
    "\n",
    "Use arange to create a 3-by-3 array containing the even integers from 2 through 18. Use arange to create a second 3-by-3 array containing the integers from 9 down to 1, then multiply the first array by the second."
   ]
  },
  {
   "cell_type": "code",
   "execution_count": null,
   "id": "527d667a-8424-45da-865c-40c1e2b83068",
   "metadata": {},
   "outputs": [],
   "source": []
  },
  {
   "cell_type": "markdown",
   "id": "03879ed2-cfe9-4690-b96f-2d2e172b3644",
   "metadata": {
    "tags": []
   },
   "source": [
    "### <span style=\"color:red\">Task 5</span> \n",
    " \n",
    "Use a list comprehenstion to create a 2-by-3 array containing the first six powers of 2 beginning with 2<sup>0</sup>. Flatten the array first with method ```flatten```, then with ```ravel```. In each case, display the result then display the original array to show that it was unmodified.\n",
    "\n",
    "<span style =\"color:red\">Answer this question in markdown: What is the difference between flatten and ravel?"
   ]
  }
 ],
 "metadata": {
  "kernelspec": {
   "display_name": "Python 3 (ipykernel)",
   "language": "python",
   "name": "python3"
  },
  "language_info": {
   "codemirror_mode": {
    "name": "ipython",
    "version": 3
   },
   "file_extension": ".py",
   "mimetype": "text/x-python",
   "name": "python",
   "nbconvert_exporter": "python",
   "pygments_lexer": "ipython3",
   "version": "3.9.7"
  }
 },
 "nbformat": 4,
 "nbformat_minor": 5
}
