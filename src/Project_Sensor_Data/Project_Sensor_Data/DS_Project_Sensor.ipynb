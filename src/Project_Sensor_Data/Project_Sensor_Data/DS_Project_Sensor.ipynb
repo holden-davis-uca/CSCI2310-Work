{
 "cells": [
  {
   "cell_type": "code",
   "execution_count": 144,
   "id": "7b719c93",
   "metadata": {},
   "outputs": [],
   "source": [
    "# Global imports\n",
    "import statistics\n",
    "import matplotlib.pyplot as plt\n",
    "import seaborn as sns\n",
    "import numpy as np\n",
    "import sklearn.linear_model"
   ]
  },
  {
   "cell_type": "markdown",
   "id": "rising-while",
   "metadata": {},
   "source": [
    "# Introduction to Data Science - Project - Sensor Data Preparation"
   ]
  },
  {
   "cell_type": "markdown",
   "id": "international-syndicate",
   "metadata": {},
   "source": [
    "### File Input/Output Functions\n",
    "\n",
    "You may find the following function useful to read the data files into lists.  Feel free to write your own routine instead if you choose. This function accepts a full path to a file and returns the file as a list of integers or floats. **Make sure you use the appropriate parameters for each data file.**"
   ]
  },
  {
   "cell_type": "code",
   "execution_count": 145,
   "id": "suburban-windows",
   "metadata": {},
   "outputs": [],
   "source": [
    "def read_list_from_file(filespec, conversion=float):\n",
    "    \"\"\"Return a list with each line of the input file as an element.\"\"\"\n",
    "    with open(filespec) as f:\n",
    "        # \"read\" does not provide conversion to types; it returns strings, so we need to convert the data\n",
    "        lines = list(map(conversion, f.read().splitlines()))\n",
    "    return(lines)"
   ]
  },
  {
   "cell_type": "markdown",
   "id": "polar-spelling",
   "metadata": {},
   "source": [
    "## Problem Statement\n",
    "\n",
    "Vibranium is a very valuable element (at least in the Marvel universe).  A leading Vibranium producing country has recently discovered that it can effectively \"mine\" Vibrainium atoms from air.  One of the most skilled mining engineers has built prototype sensors for detecting Vibranium concentrations.\n",
    "\n",
    "The engineer has asked you to produce a predictor of Vibranium concentration (number of Vibranium atoms per billion air atoms) based upon air temperature in Celsius using preliminary data she has collected.\n",
    "\n",
    "Unfortunately, the sensors are prototypes.  As a result, the sensors are sometimes faulty.  You will have to adapt to the faulty data.  The sensor engineer, who clearly has significant domain expertise, will provide some guidance on dealing with sensor challenges."
   ]
  },
  {
   "cell_type": "markdown",
   "id": "respected-sister",
   "metadata": {},
   "source": [
    "## Acquiring Data\n",
    "\n",
    "The engineer has two files containing the sensor data.  One file, \"sensor.txt\" contains the sensor readings with a single reading per line in the file.\n",
    "\n",
    "The other file \"temperature.txt\" contains the Cesius temperature associated with the sensor reading.  \n",
    "Each line of the temperature file aligns with the corresponding line in the sensor file."
   ]
  },
  {
   "cell_type": "markdown",
   "id": "secondary-sociology",
   "metadata": {},
   "source": [
    "### <span style=\"color:red\">Task 1</span>\n",
    "\n",
    "* Read the sensor data into a list.  \n",
    "* Read the temperature values into another list. \n",
    "\n",
    "Insert cells into this notebook here to show your work (do this for all the tasks in this notebook).  \n",
    "\n",
    "If needed, use your friend, The Internet, to look for ways to read data into a list in Python."
   ]
  },
  {
   "cell_type": "code",
   "execution_count": 146,
   "id": "b28f489b",
   "metadata": {},
   "outputs": [],
   "source": [
    "def readfile(filepath: str, conversion: type) -> list:\n",
    "    \"\"\"Modification of read_list_from_file to use multiple types and docstrings.\n",
    "\n",
    "    Args:\n",
    "        filepath (str): Name of the file to read.\n",
    "        conversion (type): Type to convert each string line of the file to.\n",
    "\n",
    "    Returns:\n",
    "        list: List of lines from the file, converted to the specified type.\n",
    "    \"\"\"\n",
    "    with open(filepath) as f:\n",
    "        lines = list(map(conversion, f.read().splitlines()))\n",
    "    return lines"
   ]
  },
  {
   "cell_type": "code",
   "execution_count": 147,
   "id": "8d8d2e30",
   "metadata": {},
   "outputs": [],
   "source": [
    "# Read the sensor data into a list.  \n",
    "sensor_vals: list = readfile(\"sensor.txt\", float)\n",
    "# Read the temperature values into another list.\n",
    "temp_vals: list = readfile(\"temperature.txt\", int)"
   ]
  },
  {
   "cell_type": "markdown",
   "id": "senior-brisbane",
   "metadata": {},
   "source": [
    "### <span style=\"color:red\">Task 2</span>\n",
    "\n",
    "* Write a Python function to compute and print the following descriptive statistics for an input list.\n",
    "    - count\n",
    "    - min \n",
    "    - max\n",
    "    - mean\n",
    "    - sum\n",
    "    - mode\n",
    "    - median\n",
    "    - population standard deviation\n",
    "* Call your descriptive statistics function to report individually on the sensor data and the temperature data."
   ]
  },
  {
   "cell_type": "code",
   "execution_count": 148,
   "id": "4c6d1f7d",
   "metadata": {},
   "outputs": [
    {
     "name": "stdout",
     "output_type": "stream",
     "text": [
      "Count: 200\n",
      "Min: -2103.8\n",
      "Max: 2420.0\n",
      "Mean: 1175.615\n",
      "Sum: 235123.0000000001\n",
      "Mode: 0.0\n",
      "Median: 1380.6\n",
      "S.D.: 900.6154085655701\n",
      "Count: 200\n",
      "Min: -20\n",
      "Max: 30\n",
      "Mean: 5\n",
      "Sum: 1000\n",
      "Mode: 20\n",
      "Median: 4.0\n",
      "S.D.: 14.90404821739153\n"
     ]
    }
   ],
   "source": [
    "# Write a Python function to compute and print the following descriptive statistics for an input list.\n",
    "def stats(data: list) -> None:\n",
    "    \"\"\"Calculates and prints stats for the list of inputs\n",
    "\n",
    "    Args:\n",
    "        data (list): A collection of numeric values.\n",
    "    \"\"\"\n",
    "    print(f\"Count: {len(data)}\")\n",
    "    print(f\"Min: {min(data)}\")\n",
    "    print(f\"Max: {max(data)}\")\n",
    "    print(f\"Mean: {statistics.mean(data)}\")\n",
    "    print(f\"Sum: {sum(data)}\")\n",
    "    print(f\"Mode: {statistics.mode(data)}\")\n",
    "    print(f\"Median: {statistics.median(data)}\")\n",
    "    print(f\"S.D.: {statistics.stdev(data)}\")\n",
    "\n",
    "# Call your descriptive statistics function to report individually on the sensor data and the temperature data.\n",
    "stats(sensor_vals)\n",
    "stats(temp_vals)"
   ]
  },
  {
   "cell_type": "markdown",
   "id": "committed-knock",
   "metadata": {},
   "source": [
    "### <span style=\"color:red\">Task 3</span>\n",
    "\n",
    "* Write a Python function to compute and print the frequency of each value in an input list. The function should accept a list of valued and return a dictionary of values mapped to frequencies.  This function should be reusable for different list of values.\n",
    "* Call your frequency function to report individually on the sensor data and the temperature data.\n",
    "\n",
    "Hint: See Counter example from the collections module from Chapter 6 in the book or the NumPy example from Chapter 5."
   ]
  },
  {
   "cell_type": "code",
   "execution_count": 149,
   "id": "ee214e63",
   "metadata": {},
   "outputs": [],
   "source": [
    "# Write a Python function to compute and print the frequency of each value in an input list. The function should accept a list of valued and return a dictionary of values mapped to frequencies.  This function should be reusable for different list of values.\n",
    "def count_frequencies(data: list) -> dict:\n",
    "    \"\"\"Counts the number of times each value occurs in the list, returning a dictionary of value: frequency key/value pairs\n",
    "\n",
    "    Args:\n",
    "        data (list): A collection of numeric values.\n",
    "\n",
    "    Returns:\n",
    "        dict: A dictionary of value: frequency key/value pairs.\n",
    "    \"\"\"\n",
    "    value_frequencies = {}\n",
    "    for value in data:\n",
    "        if value in value_frequencies:\n",
    "            value_frequencies[value] += 1\n",
    "        else:\n",
    "            value_frequencies[value] = 1\n",
    "    return value_frequencies\n",
    "\n",
    "# Call your frequency function to report individually on the sensor data and the temperature data.\n",
    "sensor_frequencies = count_frequencies(sensor_vals)\n",
    "temp_frequencies = count_frequencies(temp_vals)"
   ]
  },
  {
   "cell_type": "markdown",
   "id": "organized-steps",
   "metadata": {},
   "source": [
    "## Visualizing Data\n",
    "\n",
    "Let's take a look at the raw data we acquired from the engineer.  Show the sensor and temperature data that we read from the files."
   ]
  },
  {
   "attachments": {},
   "cell_type": "markdown",
   "id": "temporal-namibia",
   "metadata": {},
   "source": [
    "### <span style=\"color:red\">Task 4</span>\n",
    "\n",
    "* Write a Python function to draw a scatter plot (optional) \n",
    "    * No reinventing the wheel :)\n",
    "* Plot the sensor data using the temperature as the x-axis and the sensor value as the y-axis.\n",
    "* Label the x-axis as \"Temperature\" and the y-axis as \"Sensor\".\n",
    "* Make the title of your plot \"Sensor by Temperature (Raw Data)\".\n",
    "\n",
    "You may find it useful to look at the plot examples in the \"regression_example\" notebook in the project folder.\n"
   ]
  },
  {
   "cell_type": "code",
   "execution_count": 150,
   "id": "e9f31f57",
   "metadata": {},
   "outputs": [
    {
     "data": {
      "text/plain": [
       "Text(0.5, 1.0, 'Sensor by Temperature (Raw Data)')"
      ]
     },
     "execution_count": 150,
     "metadata": {},
     "output_type": "execute_result"
    },
    {
     "data": {
      "image/png": "[encoded data removed]",
      "text/plain": [
       "<Figure size 640x480 with 1 Axes>"
      ]
     },
     "metadata": {},
     "output_type": "display_data"
    }
   ],
   "source": [
    "# Plot the sensor data using the temperature as the x-axis and the sensor value as the y-axis.\n",
    "plt.scatter(temp_vals, sensor_vals)\n",
    "# Label the x-axis as \"Temperature\" and the y-axis as \"Sensor\".\n",
    "plt.xlabel(\"Temperature\")\n",
    "plt.ylabel(\"Sensor\")\n",
    "#  Make the title of your plot \"Sensor by Temperature (Raw Data)\".\n",
    "plt.title(\"Sensor by Temperature (Raw Data)\")"
   ]
  },
  {
   "cell_type": "markdown",
   "id": "different-radical",
   "metadata": {},
   "source": [
    "### <span style=\"color:red\">Task 5</span>\n",
    "\n",
    "* Plot the frequency of temperature values as a bar plot with an appropriate title, x-axis label and y-axis label.\n",
    "* Plot the frequency of sensor values as a bar plot with an appropriate title, x-axis label and y-axis label.\n",
    "\n",
    "You may find it useful to use your friend, The Internet, to look at the information about mapplotlib bar plots."
   ]
  },
  {
   "cell_type": "code",
   "execution_count": 151,
   "id": "28403ac6",
   "metadata": {},
   "outputs": [
    {
     "data": {
      "text/plain": [
       "Text(0, 0.5, '# of Occurences')"
      ]
     },
     "execution_count": 151,
     "metadata": {},
     "output_type": "execute_result"
    },
    {
     "data": {
      "image/png": "[encoded data removed]",
      "text/plain": [
       "<Figure size 640x480 with 1 Axes>"
      ]
     },
     "metadata": {},
     "output_type": "display_data"
    }
   ],
   "source": [
    "# Plot the frequency of temperature values as a bar plot with an appropriate title, x-axis label and y-axis label.\n",
    "plt.bar(temp_frequencies.keys(), temp_frequencies.values())\n",
    "plt.title(\"Temperature Frequency\")\n",
    "plt.xlabel(\"Degrees Celsius\")\n",
    "plt.ylabel(\"# of Occurences\")"
   ]
  },
  {
   "cell_type": "code",
   "execution_count": 152,
   "id": "071a08b8",
   "metadata": {},
   "outputs": [
    {
     "data": {
      "text/plain": [
       "Text(0, 0.5, '# of Occurences')"
      ]
     },
     "execution_count": 152,
     "metadata": {},
     "output_type": "execute_result"
    },
    {
     "data": {
      "image/png": "[encoded data removed]",
      "text/plain": [
       "<Figure size 640x480 with 1 Axes>"
      ]
     },
     "metadata": {},
     "output_type": "display_data"
    }
   ],
   "source": [
    "# Plot the frequency of sensor values as a bar plot with an appropriate title, x-axis label and y-axis label.\n",
    "plt.bar(sensor_frequencies.keys(), sensor_frequencies.values())\n",
    "plt.title(\"Sensor Frequency\")\n",
    "plt.xlabel(\"Vibranium Concentration\")\n",
    "plt.ylabel(\"# of Occurences\")"
   ]
  },
  {
   "cell_type": "markdown",
   "id": "incomplete-radiation",
   "metadata": {},
   "source": [
    "## Preparing Data\n",
    "\n",
    "You noticed some unexpected values in the sensor readings.  You sought out the sensor engineer for some clarification.  She tells you in no uncertain terms that the sensors are prototypes and you should expect errors.\n",
    "\n",
    "She explains that the maximum valid sensor value is 2000 and the minimum valid value is 1000.  She also explains some other types of sensor errors (described below) and her recommendation on handling the problem.\n",
    "\n",
    "Three types of sensor errors:\n",
    "1.  Sometimes the sensor is too slow to capture a reading.  Missing values are represented as sensor values of 0.  Drop these readings.  There is no way to estimate the true value in this case.\n",
    "2.  There is a sensor bug that sometimes reports the sensor value as a negative value rather than the true positive value.  Replace these values with the absolute value (positive value) of the reading.\n",
    "3.  At extreme upper and lower ranges of valid sensor values, sensors may report values below minimum and above maximum.  Replace these values with the valid min or max, as appropriate."
   ]
  },
  {
   "cell_type": "markdown",
   "id": "subtle-provider",
   "metadata": {},
   "source": [
    "### <span style=\"color:red\">Task 6</span>\n",
    "\n",
    "* Write a Python function to correct the sensor errors as guided by the sensor engineer's recommendations.  This function will take as input the temperature list and the sensor list and return two new lists (i.e., the \"cleaned\" temperature and sensor lists).  Don't destroy your copies of the \"raw\" lists and make sure you don't destry the integrity of your lists (remember that temperatures and sensor values are related)\n",
    "* Test your function with some simple lists that you create by hand to test all of your edge cases.\n",
    "* Produce \"clean\" lists by calling your \"preparation\" function on the original temperature and sensor data.\n",
    "* Print the first 5 sensor values and the first 5 temperature values for the raw and clean data.  Verify by viewing that these values are correct.\n",
    "* Print the count/length of the sensor list and the temperature list."
   ]
  },
  {
   "cell_type": "code",
   "execution_count": 153,
   "id": "367d10df",
   "metadata": {},
   "outputs": [],
   "source": [
    "# Write a Python function to correct the sensor errors as guided by the sensor engineer's recommendations.  This function will take as input the temperature list and the sensor list and return two new lists (i.e., the \"cleaned\" temperature and sensor lists).  Don't destroy your copies of the \"raw\" lists and make sure you don't destry the integrity of your lists (remember that temperatures and sensor values are related)\n",
    "def correct_sensor_errors(sensor_data: list, temp_data: list) -> tuple:\n",
    "    \"\"\"Corrects the 3 mentioned errors above and returns a copied tuple of the corrected sensor data and temperature data lists.\n",
    "\n",
    "    Args:\n",
    "        sensor_data (list of floats): Sensor readings\n",
    "        temp_data (list of ints): Temperature readings\n",
    "\n",
    "    Returns:\n",
    "       tuple of lists: The corrected sensor data and temperature data lists.\n",
    "    \"\"\"\n",
    "    sensor_fixed = []\n",
    "    temp_fixed = []\n",
    "    for sensorval, tempval in zip(sensor_data, temp_data):\n",
    "        if sensorval == 0:\n",
    "            continue\n",
    "        elif sensorval < 0:\n",
    "            sensorval = abs(sensorval)\n",
    "        elif sensorval < 1000:\n",
    "            sensorval = 1000\n",
    "        elif sensorval > 2000:\n",
    "            sensorval = 2000\n",
    "        sensor_fixed.append(sensorval)\n",
    "        temp_fixed.append(tempval)\n",
    "    return sensor_fixed, temp_fixed"
   ]
  },
  {
   "cell_type": "code",
   "execution_count": 154,
   "id": "7ea4bde9",
   "metadata": {},
   "outputs": [
    {
     "name": "stdout",
     "output_type": "stream",
     "text": [
      "Length of the sensor list: 10, Length of the temp list: 10\n",
      "Sensor list: [1000, 1500, 2455, 300, 0, -12, 23, 657, 2365.4, 123.23], Temp list: [1, 32, 0, 23, 45, 67, 89, 23, 4, 1]\n",
      "Corrected sensor list: [1000, 1500, 2000, 1000, 12, 1000, 1000, 2000, 1000], Corrected temp list: [1, 32, 0, 23, 67, 89, 23, 4, 1]\n"
     ]
    }
   ],
   "source": [
    "# Test your function with some simple lists that you create by hand to test all of your edge cases.\n",
    "test_sensor_list = [1000, 1500, 2455, 300, 0, -12, 23, 657, 2365.4, 123.23]\n",
    "test_temp_list = [1, 32, 0, 23, 45, 67, 89, 23, 4, 1]\n",
    "print(f\"Length of the sensor list: {len(test_sensor_list)}, Length of the temp list: {len(test_temp_list)}\")\n",
    "print(f\"Sensor list: {test_sensor_list}, Temp list: {test_temp_list}\")\n",
    "corrected_sensors, corrected_temps = correct_sensor_errors(test_sensor_list, test_temp_list)\n",
    "print(f\"Corrected sensor list: {corrected_sensors}, Corrected temp list: {corrected_temps}\")"
   ]
  },
  {
   "cell_type": "code",
   "execution_count": 155,
   "id": "0ea303cb",
   "metadata": {},
   "outputs": [
    {
     "name": "stdout",
     "output_type": "stream",
     "text": [
      "[-1808.0, 1664.4, 1382.2, 2320.4, 1403.4] [1808.0, 1664.4, 1382.2, 2000, 1403.4]\n",
      "[20, -13, -19, 27, -3] [20, -13, -19, 27, -3]\n",
      "200 186\n"
     ]
    }
   ],
   "source": [
    "# Produce \"clean\" lists by calling your \"preparation\" function on the original temperature and sensor data.\n",
    "clean_sensor, clean_temp = correct_sensor_errors(sensor_vals, temp_vals)\n",
    "# Print the first 5 sensor values and the first 5 temperature values for the raw and clean data.  Verify by viewing that these values are correct.\n",
    "print(sensor_vals[:5], clean_sensor[:5])\n",
    "print(temp_vals[:5], clean_temp[:5])\n",
    "# Print the count/length of the sensor list and the temperature list.\n",
    "print(len(sensor_vals), len(clean_sensor))"
   ]
  },
  {
   "cell_type": "markdown",
   "id": "awful-lying",
   "metadata": {},
   "source": [
    "### <span style=\"color:red\">Task 7</span>\n",
    "\n",
    "* Run your \"descriptive statistics\" and \"frequency\" functions on your clean temperature and sensor lists and compare them to the \"raw\" results."
   ]
  },
  {
   "cell_type": "code",
   "execution_count": 156,
   "id": "3afd3f6f",
   "metadata": {},
   "outputs": [
    {
     "name": "stdout",
     "output_type": "stream",
     "text": [
      "Count: 200\n",
      "Min: -2103.8\n",
      "Max: 2420.0\n",
      "Mean: 1175.615\n",
      "Sum: 235123.0000000001\n",
      "Mode: 0.0\n",
      "Median: 1380.6\n",
      "S.D.: 900.6154085655701\n",
      "Count: 186\n",
      "Min: 808.8\n",
      "Max: 2103.8\n",
      "Mean: 1488.1602150537635\n",
      "Sum: 276797.79999999993\n",
      "Mode: 1000\n",
      "Median: 1456.8\n",
      "S.D.: 335.70083001605315\n",
      "Count: 200\n",
      "Min: -20\n",
      "Max: 30\n",
      "Mean: 5\n",
      "Sum: 1000\n",
      "Mode: 20\n",
      "Median: 4.0\n",
      "S.D.: 14.90404821739153\n",
      "Count: 186\n",
      "Min: -20\n",
      "Max: 30\n",
      "Mean: 5.489247311827957\n",
      "Sum: 1021\n",
      "Mode: 20\n",
      "Median: 4.5\n",
      "S.D.: 14.931280152685025\n"
     ]
    },
    {
     "data": {
      "text/plain": [
       "{20: 8,\n",
       " -13: 4,\n",
       " -19: 3,\n",
       " 27: 5,\n",
       " -3: 7,\n",
       " -5: 2,\n",
       " -6: 8,\n",
       " -12: 3,\n",
       " -14: 3,\n",
       " 23: 6,\n",
       " 14: 6,\n",
       " -15: 6,\n",
       " 17: 4,\n",
       " 7: 5,\n",
       " -18: 3,\n",
       " -7: 5,\n",
       " 18: 6,\n",
       " 15: 4,\n",
       " -8: 2,\n",
       " 25: 3,\n",
       " 21: 5,\n",
       " 24: 4,\n",
       " 6: 1,\n",
       " 8: 1,\n",
       " -20: 3,\n",
       " 28: 6,\n",
       " -10: 7,\n",
       " 1: 3,\n",
       " -11: 3,\n",
       " 4: 5,\n",
       " 2: 3,\n",
       " -4: 5,\n",
       " 26: 5,\n",
       " 9: 6,\n",
       " -2: 3,\n",
       " 19: 1,\n",
       " 3: 5,\n",
       " 16: 2,\n",
       " -16: 4,\n",
       " 22: 2,\n",
       " 29: 3,\n",
       " 0: 2,\n",
       " -17: 2,\n",
       " 11: 2,\n",
       " 5: 2,\n",
       " 12: 4,\n",
       " 30: 1,\n",
       " 13: 1,\n",
       " -9: 1,\n",
       " -1: 1}"
      ]
     },
     "execution_count": 156,
     "metadata": {},
     "output_type": "execute_result"
    }
   ],
   "source": [
    "stats(sensor_vals)\n",
    "stats(clean_sensor)\n",
    "stats(temp_vals)\n",
    "stats(clean_temp)\n",
    "\n",
    "count_frequencies(sensor_vals)\n",
    "count_frequencies(clean_sensor)\n",
    "count_frequencies(temp_vals)\n",
    "count_frequencies(clean_temp)"
   ]
  },
  {
   "cell_type": "markdown",
   "id": "appreciated-ireland",
   "metadata": {},
   "source": [
    "### <span style=\"color:red\">Task 8</span>\n",
    "\n",
    "* Create a scatter plot using your prepared data. (Optional: use function that you wrote)\n",
    "* The titile for this plot should be \"Sensor by Temperature (Prepared Data)\"."
   ]
  },
  {
   "cell_type": "code",
   "execution_count": 157,
   "id": "a5515423",
   "metadata": {},
   "outputs": [
    {
     "data": {
      "text/plain": [
       "Text(0.5, 1.0, 'Sensor by Temperature (Cleaned Data)')"
      ]
     },
     "execution_count": 157,
     "metadata": {},
     "output_type": "execute_result"
    },
    {
     "data": {
      "image/png": "[encoded data removed]",
      "text/plain": [
       "<Figure size 640x480 with 1 Axes>"
      ]
     },
     "metadata": {},
     "output_type": "display_data"
    }
   ],
   "source": [
    "# Create a scatter plot using your prepared data. (Optional: use function that you wrote)\n",
    "plt.scatter(clean_temp, clean_sensor)\n",
    "plt.xlabel(\"Degrees Celsius\")\n",
    "plt.ylabel(\"Vibranium Concentration\")\n",
    "# The titile for this plot should be \"Sensor by Temperature (Prepared Data)\".\n",
    "plt.title(\"Sensor by Temperature (Cleaned Data)\")"
   ]
  },
  {
   "cell_type": "markdown",
   "id": "indian-slave",
   "metadata": {},
   "source": [
    "## Model Building\n",
    "\n",
    "After looking at the sensor plots, you decide a linear regression model may do a good job fitting the data.  Now, you need to build the model.\n",
    "\n",
    "You may find it useful to refer to the \"regression_example\" notebook for hints in building this model."
   ]
  },
  {
   "cell_type": "markdown",
   "id": "copyrighted-drain",
   "metadata": {},
   "source": [
    "### <span style=\"color:red\">Task 9</span>\n",
    "\n",
    "The scilearn-kit libraries require training data to be in a numpy \"array of arrays\".  See the referenced notebook above for hints on making that conversion.  \n",
    "\n",
    "* Create a \"training_X\" numpy array of arrays from your \"prepared\" temperature list. (Hint: use np.c_)\n",
    "* Create a \"training_y\" numpy array of arrays from your \"prepared\" sensor list. (Hint: use np.c_)"
   ]
  },
  {
   "cell_type": "code",
   "execution_count": 158,
   "id": "50aaa95c",
   "metadata": {},
   "outputs": [],
   "source": [
    "# Create a \"training_X\" numpy array of arrays from your \"prepared\" temperature list. (Hint: use np.c_)\n",
    "training_x = np.c_[clean_temp]\n",
    "# Create a \"training_y\" numpy array of arrays from your \"prepared\" sensor list. (Hint: use np.c_)\n",
    "training_y = np.c_[clean_sensor]"
   ]
  },
  {
   "cell_type": "markdown",
   "id": "animal-inspection",
   "metadata": {},
   "source": [
    "### <span style=\"color:red\">Task 10</span>\n",
    "* Create a linear model object\n",
    "\n",
    "See the referenced notebook above for hints.  "
   ]
  },
  {
   "cell_type": "code",
   "execution_count": 159,
   "id": "245b2578",
   "metadata": {},
   "outputs": [
    {
     "ename": "AttributeError",
     "evalue": "'LinearRegression' object has no attribute 'LinearRegression'",
     "output_type": "error",
     "traceback": [
      "\u001b[0;31m---------------------------------------------------------------------------\u001b[0m",
      "\u001b[0;31mAttributeError\u001b[0m                            Traceback (most recent call last)",
      "Cell \u001b[0;32mIn[159], line 2\u001b[0m\n\u001b[1;32m      1\u001b[0m \u001b[39m# Create a linear model object\u001b[39;00m\n\u001b[0;32m----> 2\u001b[0m linear_model \u001b[39m=\u001b[39m linear_model\u001b[39m.\u001b[39;49mLinearRegression()\n",
      "\u001b[0;31mAttributeError\u001b[0m: 'LinearRegression' object has no attribute 'LinearRegression'"
     ]
    }
   ],
   "source": [
    "# Create a linear model object\n",
    "linear_model = linear_model.LinearRegression()"
   ]
  },
  {
   "cell_type": "markdown",
   "id": "furnished-presentation",
   "metadata": {},
   "source": [
    "### <span style=\"color:red\">Task 11</span>\n",
    "* Train the linear model using your training temperature and sensor data.\n",
    "\n",
    "See the referenced notebook above for hints.  "
   ]
  },
  {
   "cell_type": "code",
   "execution_count": null,
   "id": "e557ef2c",
   "metadata": {},
   "outputs": [],
   "source": [
    "# Train the linear model using your training temperature and sensor data.\n",
    "linear_model.fit(training_x, training_y)"
   ]
  },
  {
   "cell_type": "markdown",
   "id": "acknowledged-sight",
   "metadata": {},
   "source": [
    "### <span style=\"color:red\">Task 12</span>\n",
    "* Print the equation for the resulting prediction line.\n",
    "\n",
    "See the referenced notebook above for hints.  "
   ]
  },
  {
   "cell_type": "code",
   "execution_count": null,
   "id": "37a142e3",
   "metadata": {},
   "outputs": [],
   "source": [
    "print(f\"Vibranium concentration prediction line equation: y = {linear_model.coef_[0][0]}x + {linear_model.intercept_[0]}\")"
   ]
  },
  {
   "cell_type": "markdown",
   "id": "sitting-broadcast",
   "metadata": {},
   "source": [
    "### <span style=\"color:red\">Task 13</span>\n",
    "* Print a scatter plot of the prepared data with the predicted line superimposed on the data.\n",
    "\n",
    "See the referenced notebook above for hints.  "
   ]
  },
  {
   "cell_type": "code",
   "execution_count": null,
   "id": "70e80c29",
   "metadata": {},
   "outputs": [],
   "source": [
    "# Print a scatter plot of the prepared data with the predicted line superimposed on the data.\n",
    "res = sns.regplot(x=clean_temp, y=clean_sensor, label=\"Predicted Line\")\n",
    "res.set(xlabel=\"Degrees Celsius\", ylabel=\"Vibranium Concentration\", title=\"Sensor by Temperature (Cleaned Data)\")"
   ]
  },
  {
   "cell_type": "markdown",
   "id": "arabic-bedroom",
   "metadata": {},
   "source": [
    "## Model Usage\n",
    "\n",
    "Feeling exceptionally brave, you decide to demonstrate the predictions of your model to the sensor engineer."
   ]
  },
  {
   "cell_type": "markdown",
   "id": "living-construction",
   "metadata": {},
   "source": [
    "### <span style=\"color:red\">Task 14</span>\n",
    "* Demonstrate your predictor with a single input Celsius value of 5.\n",
    "* Demonstrate your predictor for the a list of input temperatures: -25, 5, 7, 12, 25\n",
    "\n",
    "Note that the input to the \"predict\" method requires a list of lists as input.  Also, the results are returned as list of lists.\n",
    "\n",
    "See the referenced notebook above for hints.  "
   ]
  },
  {
   "cell_type": "code",
   "execution_count": null,
   "id": "5541c95f",
   "metadata": {},
   "outputs": [],
   "source": [
    "# Demonstrate your predictor with a single input Celsius value of 5.\n",
    "print(f\"Estimated Vibranium concentration at 5 degrees Celsius: {linear_model.predict([[5]])[0][0]}\")\n",
    "# Demonstrate your predictor for the a list of input temperatures: -25, 5, 7, 12, 25\n",
    "vals = [-25,5,7,12,25]\n",
    "print(f\"Predicted results for {vals}: {linear_model.predict(np.c_[vals])}\")"
   ]
  },
  {
   "cell_type": "markdown",
   "id": "grave-treasurer",
   "metadata": {},
   "source": [
    "## Results\n",
    "\n",
    "You need to report your results to the sensor engineer.  Most of your results are captured in the results above, but there is potentially more to do.\n"
   ]
  },
  {
   "cell_type": "markdown",
   "id": "lyric-folder",
   "metadata": {},
   "source": [
    "### <span style=\"color:red\">Task 15</span>\n",
    "\n",
    "* What do you suggest that you and the sensor engineer do to assess the quality of the predictions, perhaps including further actions to take?"
   ]
  },
  {
   "attachments": {},
   "cell_type": "markdown",
   "id": "8cc077fa",
   "metadata": {},
   "source": [
    "Here I cheat a little bit on the project by referring to my previous experience in Dr. Stine's Machine Learning class! There's a number of metrics we can use when evaluating non-categorical linear prediction models to judge the efficacy of our outputs:\n",
    "* MSE: Mean Squared Error\n",
    "    * We can use the `mean_squared_error` method from the LinearRegression class to get the MSE, giving it the test data and the predicted data as inputs. ex. mean_squared_error(test_data, predicted_data)\n",
    "* R^2: Coefficient of Determination\n",
    "    * We can similarly use the `score` method from the LinearRegression class to get the R^2, again giving it the test data and the predicted data as inputs. ex. score(test_data, predicted_data)\n",
    "\n",
    "Implmenting both of these methods would be fantastic ways to evalute the quality of our models and help determine if our dataset and model can sufficiently provide an accurate representation and prediction of the sensor data."
   ]
  },
  {
   "cell_type": "markdown",
   "id": "88daec14-4c9b-4100-ab98-559a06e673b5",
   "metadata": {},
   "source": [
    "<p style=\"font-size:120%;color:navy;background:linen;padding:10px;text-align:center\">&copy; Copyright 2022 by Michelle Talley <br> <br>You may not publish this notebook on any website or share it with anyone without explicit permission of the author. </p>\n"
   ]
  }
 ],
 "metadata": {
  "kernelspec": {
   "display_name": "Python 3 (ipykernel)",
   "language": "python",
   "name": "python3"
  },
  "language_info": {
   "codemirror_mode": {
    "name": "ipython",
    "version": 3
   },
   "file_extension": ".py",
   "mimetype": "text/x-python",
   "name": "python",
   "nbconvert_exporter": "python",
   "pygments_lexer": "ipython3",
   "version": "3.10.4"
  }
 },
 "nbformat": 4,
 "nbformat_minor": 5
}
