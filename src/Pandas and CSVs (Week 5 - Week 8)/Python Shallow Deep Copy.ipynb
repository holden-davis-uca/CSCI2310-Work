{
 "cells": [
  {
   "cell_type": "markdown",
   "id": "bc694175-3089-4646-93c8-7c2ca40d6d70",
   "metadata": {
    "tags": []
   },
   "source": [
    "---\n",
    "\n",
    "<p style='font-size:240%;color:green;background:linen;padding:10px;text-align:center'>Learning Insight</p>"
   ]
  },
  {
   "cell_type": "code",
   "execution_count": 74,
   "id": "5a424153-befe-407c-8317-77344a89833c",
   "metadata": {
    "tags": []
   },
   "outputs": [],
   "source": [
    "import pandas as pd"
   ]
  },
  {
   "cell_type": "markdown",
   "id": "8345479b-f4c5-4c95-aa66-2ddc897201c5",
   "metadata": {},
   "source": [
    "## List Assignment"
   ]
  },
  {
   "cell_type": "markdown",
   "id": "b4704eb2-c047-4d82-a4a9-ab87e4618117",
   "metadata": {
    "tags": []
   },
   "source": [
    "An assignment of one list another gives a ***reference*** to the same list (i.e., same area in storage) as the original list.  Modifying the second list ***also*** modifies the contents of the first."
   ]
  },
  {
   "cell_type": "code",
   "execution_count": 75,
   "id": "4a4f9e1c-4054-4582-bf5e-a19f1aca3a4d",
   "metadata": {},
   "outputs": [
    {
     "data": {
      "text/plain": [
       "[0, 1, 2, 3, 4, 5, 6, 7, 8, 9]"
      ]
     },
     "execution_count": 75,
     "metadata": {},
     "output_type": "execute_result"
    }
   ],
   "source": [
    "list1 = list(range(10))\n",
    "list1"
   ]
  },
  {
   "cell_type": "code",
   "execution_count": 76,
   "id": "51e12d59-ec9d-4f52-a1f9-e3561fbbb3b9",
   "metadata": {},
   "outputs": [
    {
     "data": {
      "text/plain": [
       "[0, 1, 2, 3, 4, 5, 6, 7, 8, 9]"
      ]
     },
     "execution_count": 76,
     "metadata": {},
     "output_type": "execute_result"
    }
   ],
   "source": [
    "list2 = list1\n",
    "list2"
   ]
  },
  {
   "cell_type": "markdown",
   "id": "f1190dd7-5a63-4bd7-aeee-0cface64fc5e",
   "metadata": {},
   "source": [
    "As a result of the assignment, `list1` and `list2` refer to (are pointers to) the same area in memory."
   ]
  },
  {
   "cell_type": "code",
   "execution_count": 77,
   "id": "74aa171e-7162-478b-bdfb-d2febeb24fcb",
   "metadata": {
    "tags": []
   },
   "outputs": [
    {
     "data": {
      "text/plain": [
       "140261841978624"
      ]
     },
     "execution_count": 77,
     "metadata": {},
     "output_type": "execute_result"
    }
   ],
   "source": [
    "id(list1)"
   ]
  },
  {
   "cell_type": "code",
   "execution_count": 78,
   "id": "31d74e47-0a5e-488a-9bd8-e93b90a4c6c4",
   "metadata": {},
   "outputs": [
    {
     "data": {
      "text/plain": [
       "140261841978624"
      ]
     },
     "execution_count": 78,
     "metadata": {},
     "output_type": "execute_result"
    }
   ],
   "source": [
    "id(list2)"
   ]
  },
  {
   "cell_type": "code",
   "execution_count": 79,
   "id": "f6267da4-3836-4600-9da8-8897e76efd4d",
   "metadata": {},
   "outputs": [
    {
     "data": {
      "text/plain": [
       "True"
      ]
     },
     "execution_count": 79,
     "metadata": {},
     "output_type": "execute_result"
    }
   ],
   "source": [
    "id(list1) == id(list2)"
   ]
  },
  {
   "cell_type": "markdown",
   "id": "973943aa-e4c1-412d-8abb-3a022c967e36",
   "metadata": {},
   "source": [
    "Since the two variables point to the same area in memory, changing the underlying values in one list also changes it for the other."
   ]
  },
  {
   "cell_type": "code",
   "execution_count": 80,
   "id": "e7e6137d-9503-4f66-a543-8f2ac37c6e8b",
   "metadata": {},
   "outputs": [
    {
     "data": {
      "text/plain": [
       "[0, 99, 2, 3, 4, 5, 6, 7, 8, 9]"
      ]
     },
     "execution_count": 80,
     "metadata": {},
     "output_type": "execute_result"
    }
   ],
   "source": [
    "list2[1] = 99\n",
    "list2"
   ]
  },
  {
   "cell_type": "code",
   "execution_count": 81,
   "id": "43e91154-20b7-4269-a0b9-9d6db0ef0787",
   "metadata": {},
   "outputs": [
    {
     "data": {
      "text/plain": [
       "[0, 99, 2, 3, 4, 5, 6, 7, 8, 9]"
      ]
     },
     "execution_count": 81,
     "metadata": {},
     "output_type": "execute_result"
    }
   ],
   "source": [
    "list1"
   ]
  },
  {
   "cell_type": "markdown",
   "id": "da945cbf-2c8d-4003-9a9e-eba656988e03",
   "metadata": {},
   "source": [
    "## List Copy"
   ]
  },
  {
   "cell_type": "markdown",
   "id": "fa244309-02a2-4130-8ca8-515b1fe0b908",
   "metadata": {},
   "source": [
    "Using the `copy` list method creates a ***shallow copy*** of the original list.\n",
    "\n",
    "All the immutable values in the original list are copied (i.e., not stored in the same storage space) to the new list."
   ]
  },
  {
   "cell_type": "code",
   "execution_count": 82,
   "id": "289deb1b-caaa-4c56-bc7d-9db046d73411",
   "metadata": {},
   "outputs": [
    {
     "data": {
      "text/plain": [
       "[0, 1, 2, 3, 4, 5, 6, 7, 8, 9]"
      ]
     },
     "execution_count": 82,
     "metadata": {},
     "output_type": "execute_result"
    }
   ],
   "source": [
    "list1 = list(range(10))\n",
    "list1"
   ]
  },
  {
   "cell_type": "code",
   "execution_count": 83,
   "id": "4bdaba60-1431-4864-a1d2-2f78cde93b7f",
   "metadata": {},
   "outputs": [
    {
     "data": {
      "text/plain": [
       "[0, 1, 2, 3, 4, 5, 6, 7, 8, 9]"
      ]
     },
     "execution_count": 83,
     "metadata": {},
     "output_type": "execute_result"
    }
   ],
   "source": [
    "list2 = list1.copy()\n",
    "list2"
   ]
  },
  {
   "cell_type": "markdown",
   "id": "3f447872-7195-4ffa-ab48-335dff860002",
   "metadata": {},
   "source": [
    "As a result of the `copy`, `list1` and `list2` refer to (are pointers to) different areas in memory."
   ]
  },
  {
   "cell_type": "code",
   "execution_count": 84,
   "id": "823dfd0e-542e-4545-a852-f71dde53c2d0",
   "metadata": {
    "tags": []
   },
   "outputs": [
    {
     "data": {
      "text/plain": [
       "140261841993216"
      ]
     },
     "execution_count": 84,
     "metadata": {},
     "output_type": "execute_result"
    }
   ],
   "source": [
    "id(list1)"
   ]
  },
  {
   "cell_type": "code",
   "execution_count": 85,
   "id": "66f23ee1-3072-4b4b-b8f9-9a7211433d5f",
   "metadata": {},
   "outputs": [
    {
     "data": {
      "text/plain": [
       "140262117719360"
      ]
     },
     "execution_count": 85,
     "metadata": {},
     "output_type": "execute_result"
    }
   ],
   "source": [
    "id(list2)"
   ]
  },
  {
   "cell_type": "code",
   "execution_count": 86,
   "id": "673e78b7-6804-4c29-9f36-eaa85d9c867a",
   "metadata": {},
   "outputs": [
    {
     "data": {
      "text/plain": [
       "False"
      ]
     },
     "execution_count": 86,
     "metadata": {},
     "output_type": "execute_result"
    }
   ],
   "source": [
    "id(list1) == id(list2)"
   ]
  },
  {
   "cell_type": "markdown",
   "id": "d4fa2678-d742-4659-b4d1-d63c7142a719",
   "metadata": {},
   "source": [
    "Since the lists now have different memory areas, changing immutable values (e.g., numbers, characters, tuples), works as expected.  Changing one list value does not affect the other."
   ]
  },
  {
   "cell_type": "code",
   "execution_count": 87,
   "id": "4b4a6852-f34d-49f0-862e-02f89cbbf960",
   "metadata": {},
   "outputs": [
    {
     "data": {
      "text/plain": [
       "[0, 99, 2, 3, 4, 5, 6, 7, 8, 9]"
      ]
     },
     "execution_count": 87,
     "metadata": {},
     "output_type": "execute_result"
    }
   ],
   "source": [
    "list2[1] = 99\n",
    "list2"
   ]
  },
  {
   "cell_type": "code",
   "execution_count": 88,
   "id": "b479ac86-d051-44c6-8fb4-36f8a6a3f1cc",
   "metadata": {},
   "outputs": [
    {
     "data": {
      "text/plain": [
       "[0, 1, 2, 3, 4, 5, 6, 7, 8, 9]"
      ]
     },
     "execution_count": 88,
     "metadata": {},
     "output_type": "execute_result"
    }
   ],
   "source": [
    "list1"
   ]
  },
  {
   "cell_type": "markdown",
   "id": "8e756d6b-c998-46fc-b546-e9c45f804ea2",
   "metadata": {},
   "source": [
    "### Limitation of the shallow copy"
   ]
  },
  {
   "cell_type": "markdown",
   "id": "5537911d-846a-41d0-bd32-919ec4360aa7",
   "metadata": {},
   "source": [
    "However, the **shallow copy** only creates a new memory area for the top level lists.  If the lists contain other references (pointers) to mutable objects (like lists), those areas of memory are **not** copied."
   ]
  },
  {
   "cell_type": "code",
   "execution_count": 89,
   "id": "3e1622c0-0a8d-4f60-aa42-4d289f06dec9",
   "metadata": {},
   "outputs": [
    {
     "data": {
      "text/plain": [
       "[[0, 1, 2], [3, 4, 5], [6, 7, 8, 9]]"
      ]
     },
     "execution_count": 89,
     "metadata": {},
     "output_type": "execute_result"
    }
   ],
   "source": [
    "list1 = [[0, 1, 2], [3, 4, 5], [6, 7, 8, 9]]\n",
    "list1"
   ]
  },
  {
   "cell_type": "code",
   "execution_count": 90,
   "id": "1cb757eb-4dd5-409f-9ea4-b039eedf0ac0",
   "metadata": {},
   "outputs": [
    {
     "data": {
      "text/plain": [
       "[[0, 1, 2], [3, 4, 5], [6, 7, 8, 9]]"
      ]
     },
     "execution_count": 90,
     "metadata": {},
     "output_type": "execute_result"
    }
   ],
   "source": [
    "list2 = list1.copy()\n",
    "list2"
   ]
  },
  {
   "cell_type": "markdown",
   "id": "7fa56942-fdf2-4e36-a924-9b5791206bad",
   "metadata": {},
   "source": [
    "Top level ids are different, but..."
   ]
  },
  {
   "cell_type": "code",
   "execution_count": 91,
   "id": "79a45328-6108-4b23-90ec-67908419ed8f",
   "metadata": {},
   "outputs": [
    {
     "data": {
      "text/plain": [
       "False"
      ]
     },
     "execution_count": 91,
     "metadata": {},
     "output_type": "execute_result"
    }
   ],
   "source": [
    "id(list1) == id(list2)"
   ]
  },
  {
   "cell_type": "markdown",
   "id": "e4083f59-75ea-4fd6-a710-3b9f2b816a64",
   "metadata": {},
   "source": [
    "...internal ids are the same."
   ]
  },
  {
   "cell_type": "code",
   "execution_count": 92,
   "id": "5e6610c9-4fb1-48fe-9b28-87562238847c",
   "metadata": {},
   "outputs": [
    {
     "data": {
      "text/plain": [
       "True"
      ]
     },
     "execution_count": 92,
     "metadata": {},
     "output_type": "execute_result"
    }
   ],
   "source": [
    "id(list1[0]) == id(list2[0])"
   ]
  },
  {
   "cell_type": "code",
   "execution_count": 93,
   "id": "0305654e-076a-44de-b0dd-df086ac624ec",
   "metadata": {},
   "outputs": [
    {
     "data": {
      "text/plain": [
       "True"
      ]
     },
     "execution_count": 93,
     "metadata": {},
     "output_type": "execute_result"
    }
   ],
   "source": [
    "id(list1[1]) == id(list2[1])"
   ]
  },
  {
   "cell_type": "code",
   "execution_count": 94,
   "id": "42610287-ff6d-4230-98eb-a891b48e02e1",
   "metadata": {},
   "outputs": [
    {
     "data": {
      "text/plain": [
       "True"
      ]
     },
     "execution_count": 94,
     "metadata": {},
     "output_type": "execute_result"
    }
   ],
   "source": [
    "id(list1[1]) == id(list2[1])"
   ]
  },
  {
   "cell_type": "markdown",
   "id": "55333f29-1b92-4d4e-8d77-c4a8e7d4abfe",
   "metadata": {},
   "source": [
    "This means if you modify a value using the internal list id, it changes values for both `list1` and `list2`."
   ]
  },
  {
   "cell_type": "code",
   "execution_count": 95,
   "id": "d2397e97-2031-49cc-8376-4c7ac0e23961",
   "metadata": {},
   "outputs": [
    {
     "data": {
      "text/plain": [
       "[[0, 1, 2], [3, 99, 5], [6, 7, 8, 9]]"
      ]
     },
     "execution_count": 95,
     "metadata": {},
     "output_type": "execute_result"
    }
   ],
   "source": [
    "list2[1][1] = 99\n",
    "list2"
   ]
  },
  {
   "cell_type": "code",
   "execution_count": 96,
   "id": "9de23551-098a-4567-bff7-7073ee397fe7",
   "metadata": {},
   "outputs": [
    {
     "data": {
      "text/plain": [
       "[[0, 1, 2], [3, 99, 5], [6, 7, 8, 9]]"
      ]
     },
     "execution_count": 96,
     "metadata": {},
     "output_type": "execute_result"
    }
   ],
   "source": [
    "list1"
   ]
  },
  {
   "cell_type": "markdown",
   "id": "7994c396-3907-42b9-9277-60afafe3292a",
   "metadata": {},
   "source": [
    "Adding to the potential confusion, if we **replace** one of the internal references by assigning a different mutable value (e.g., another list), the references for the two lists are now different."
   ]
  },
  {
   "cell_type": "code",
   "execution_count": 97,
   "id": "5074bcb1-60c3-4821-a3ef-b6c6540898be",
   "metadata": {
    "tags": []
   },
   "outputs": [
    {
     "data": {
      "text/plain": [
       "[[0, 1, 2], ['a', 'b', 'c'], [6, 7, 8, 9]]"
      ]
     },
     "execution_count": 97,
     "metadata": {},
     "output_type": "execute_result"
    }
   ],
   "source": [
    "list2[1] = ['a', 'b', 'c']\n",
    "list2"
   ]
  },
  {
   "cell_type": "code",
   "execution_count": 98,
   "id": "29ac9cdd-9896-4430-beef-e90ac7c8ad30",
   "metadata": {},
   "outputs": [
    {
     "data": {
      "text/plain": [
       "[[0, 1, 2], [3, 99, 5], [6, 7, 8, 9]]"
      ]
     },
     "execution_count": 98,
     "metadata": {},
     "output_type": "execute_result"
    }
   ],
   "source": [
    "list1"
   ]
  },
  {
   "cell_type": "code",
   "execution_count": 99,
   "id": "45267118-d6a7-4cc4-8973-74066f6f299b",
   "metadata": {
    "tags": []
   },
   "outputs": [
    {
     "data": {
      "text/plain": [
       "False"
      ]
     },
     "execution_count": 99,
     "metadata": {},
     "output_type": "execute_result"
    }
   ],
   "source": [
    "id(list1) == id(list2)"
   ]
  },
  {
   "cell_type": "code",
   "execution_count": 100,
   "id": "1c0ad2ba-c690-4ba7-8058-94e3fb910653",
   "metadata": {
    "tags": []
   },
   "outputs": [
    {
     "data": {
      "text/plain": [
       "False"
      ]
     },
     "execution_count": 100,
     "metadata": {},
     "output_type": "execute_result"
    }
   ],
   "source": [
    "id(list1[1]) == id(list2[1])"
   ]
  },
  {
   "cell_type": "markdown",
   "id": "86c54507-a452-48fb-90cc-9358fb11c14f",
   "metadata": {},
   "source": [
    "But the reference for the first element in the list has not changed..."
   ]
  },
  {
   "cell_type": "code",
   "execution_count": 101,
   "id": "5ba74b3e-dfec-4ac3-875d-ef51f3bd81da",
   "metadata": {
    "tags": []
   },
   "outputs": [
    {
     "data": {
      "text/plain": [
       "True"
      ]
     },
     "execution_count": 101,
     "metadata": {},
     "output_type": "execute_result"
    }
   ],
   "source": [
    "id(list1[0]) == id(list2[0])"
   ]
  },
  {
   "cell_type": "code",
   "execution_count": 102,
   "id": "aa26364c-b8ba-4f18-b71d-6db15c36ea03",
   "metadata": {
    "tags": []
   },
   "outputs": [
    {
     "data": {
      "text/plain": [
       "[[0, 99, 2], ['a', 'b', 'c'], [6, 7, 8, 9]]"
      ]
     },
     "execution_count": 102,
     "metadata": {},
     "output_type": "execute_result"
    }
   ],
   "source": [
    "list2[0][1] = 99\n",
    "list2"
   ]
  },
  {
   "cell_type": "code",
   "execution_count": 103,
   "id": "69798090-e483-49c1-b074-c9c396154a6d",
   "metadata": {},
   "outputs": [
    {
     "data": {
      "text/plain": [
       "[[0, 99, 2], [3, 99, 5], [6, 7, 8, 9]]"
      ]
     },
     "execution_count": 103,
     "metadata": {},
     "output_type": "execute_result"
    }
   ],
   "source": [
    "list1"
   ]
  },
  {
   "cell_type": "markdown",
   "id": "636a3072-854e-4284-a30f-01c63d76fef1",
   "metadata": {
    "tags": []
   },
   "source": [
    "## List Deep Copy"
   ]
  },
  {
   "cell_type": "markdown",
   "id": "afd283f9-d2c4-403e-80c6-599078e5cad2",
   "metadata": {},
   "source": [
    "Pandas has a library that provides for a **Deep Copy** of mutable data structures.  This library recursively visits all parts of the data structure and copies all mutable elements."
   ]
  },
  {
   "cell_type": "code",
   "execution_count": 104,
   "id": "f155aca4-34f7-4ffd-9e27-5ec4930ac694",
   "metadata": {},
   "outputs": [],
   "source": [
    "import copy"
   ]
  },
  {
   "cell_type": "code",
   "execution_count": 105,
   "id": "141cb799-4984-4293-ba62-76993b70947a",
   "metadata": {},
   "outputs": [
    {
     "data": {
      "text/plain": [
       "[[0, 1, 2], [3, 4, 5], [6, 7, 8, 9]]"
      ]
     },
     "execution_count": 105,
     "metadata": {},
     "output_type": "execute_result"
    }
   ],
   "source": [
    "list1 = [[0, 1, 2], [3, 4, 5], [6, 7, 8, 9]]\n",
    "list1"
   ]
  },
  {
   "cell_type": "code",
   "execution_count": 106,
   "id": "5cd689c5-88ba-4ff5-80d9-1b570e1d3d67",
   "metadata": {},
   "outputs": [
    {
     "data": {
      "text/plain": [
       "[[0, 1, 2], [3, 4, 5], [6, 7, 8, 9]]"
      ]
     },
     "execution_count": 106,
     "metadata": {},
     "output_type": "execute_result"
    }
   ],
   "source": [
    "list2 = copy.deepcopy(list1)\n",
    "list2"
   ]
  },
  {
   "cell_type": "markdown",
   "id": "12cbe16f-33d2-40c3-bc31-5ac366bcb936",
   "metadata": {},
   "source": [
    "Top level ids are different, and..."
   ]
  },
  {
   "cell_type": "code",
   "execution_count": 107,
   "id": "c91fbba7-5761-4a69-b070-9b6600d0966d",
   "metadata": {},
   "outputs": [
    {
     "data": {
      "text/plain": [
       "False"
      ]
     },
     "execution_count": 107,
     "metadata": {},
     "output_type": "execute_result"
    }
   ],
   "source": [
    "id(list1) == id(list2)"
   ]
  },
  {
   "cell_type": "markdown",
   "id": "c26be836-7988-4897-a561-097be6e46211",
   "metadata": {},
   "source": [
    "...so are the internal ids."
   ]
  },
  {
   "cell_type": "code",
   "execution_count": 108,
   "id": "a6184d91-dd49-4675-b199-4f2414260ac3",
   "metadata": {},
   "outputs": [
    {
     "data": {
      "text/plain": [
       "False"
      ]
     },
     "execution_count": 108,
     "metadata": {},
     "output_type": "execute_result"
    }
   ],
   "source": [
    "id(list1[0]) == id(list2[0])"
   ]
  },
  {
   "cell_type": "code",
   "execution_count": 109,
   "id": "818c2abf-f1c0-4b08-9f47-bb8334311b3b",
   "metadata": {},
   "outputs": [
    {
     "data": {
      "text/plain": [
       "False"
      ]
     },
     "execution_count": 109,
     "metadata": {},
     "output_type": "execute_result"
    }
   ],
   "source": [
    "id(list1[1]) == id(list2[1])"
   ]
  },
  {
   "cell_type": "code",
   "execution_count": 110,
   "id": "21d3d14b-a04a-47fb-b722-6169fc64716f",
   "metadata": {},
   "outputs": [
    {
     "data": {
      "text/plain": [
       "False"
      ]
     },
     "execution_count": 110,
     "metadata": {},
     "output_type": "execute_result"
    }
   ],
   "source": [
    "id(list1[1]) == id(list2[1])"
   ]
  },
  {
   "cell_type": "markdown",
   "id": "1dadac9c-a87f-4ea2-9402-b94fb8c9377b",
   "metadata": {
    "tags": []
   },
   "source": [
    "Now, `list1` and `list2` reference entirely different data structures and changes in one are not reflected in the other."
   ]
  },
  {
   "cell_type": "code",
   "execution_count": 111,
   "id": "6e814fe1-41ed-4b16-a9d8-923ea94a7dec",
   "metadata": {},
   "outputs": [
    {
     "data": {
      "text/plain": [
       "[[0, 1, 2], [3, 99, 5], [6, 7, 8, 9]]"
      ]
     },
     "execution_count": 111,
     "metadata": {},
     "output_type": "execute_result"
    }
   ],
   "source": [
    "list2[1][1] = 99\n",
    "list2"
   ]
  },
  {
   "cell_type": "code",
   "execution_count": 112,
   "id": "c6c1de50-69b4-4482-bcbf-45c79a68355c",
   "metadata": {},
   "outputs": [
    {
     "data": {
      "text/plain": [
       "[[0, 1, 2], [3, 4, 5], [6, 7, 8, 9]]"
      ]
     },
     "execution_count": 112,
     "metadata": {},
     "output_type": "execute_result"
    }
   ],
   "source": [
    "list1"
   ]
  },
  {
   "cell_type": "code",
   "execution_count": 113,
   "id": "83e76474-0cbc-41e6-977a-04b38f00e6a3",
   "metadata": {
    "tags": []
   },
   "outputs": [
    {
     "data": {
      "text/plain": [
       "[[0, 1, 2], ['a', 'b', 'c'], [6, 7, 8, 9]]"
      ]
     },
     "execution_count": 113,
     "metadata": {},
     "output_type": "execute_result"
    }
   ],
   "source": [
    "list2[1] = ['a', 'b', 'c']\n",
    "list2"
   ]
  },
  {
   "cell_type": "code",
   "execution_count": 114,
   "id": "54f5a696-fff7-4616-9004-a8e478e165bc",
   "metadata": {},
   "outputs": [
    {
     "data": {
      "text/plain": [
       "[[0, 1, 2], [3, 4, 5], [6, 7, 8, 9]]"
      ]
     },
     "execution_count": 114,
     "metadata": {},
     "output_type": "execute_result"
    }
   ],
   "source": [
    "list1"
   ]
  },
  {
   "cell_type": "code",
   "execution_count": 115,
   "id": "55e94433-5a87-4c1a-8288-c08ac33b878e",
   "metadata": {
    "tags": []
   },
   "outputs": [
    {
     "data": {
      "text/plain": [
       "[[0, 99, 2], ['a', 'b', 'c'], [6, 7, 8, 9]]"
      ]
     },
     "execution_count": 115,
     "metadata": {},
     "output_type": "execute_result"
    }
   ],
   "source": [
    "list2[0][1] = 99\n",
    "list2"
   ]
  },
  {
   "cell_type": "code",
   "execution_count": 116,
   "id": "e591a29b-a93d-4f4b-8f33-70e204e14108",
   "metadata": {},
   "outputs": [
    {
     "data": {
      "text/plain": [
       "[[0, 1, 2], [3, 4, 5], [6, 7, 8, 9]]"
      ]
     },
     "execution_count": 116,
     "metadata": {},
     "output_type": "execute_result"
    }
   ],
   "source": [
    "list1"
   ]
  }
 ],
 "metadata": {
  "kernelspec": {
   "display_name": "Python 3 (ipykernel)",
   "language": "python",
   "name": "python3"
  },
  "language_info": {
   "codemirror_mode": {
    "name": "ipython",
    "version": 3
   },
   "file_extension": ".py",
   "mimetype": "text/x-python",
   "name": "python",
   "nbconvert_exporter": "python",
   "pygments_lexer": "ipython3",
   "version": "3.8.10"
  }
 },
 "nbformat": 4,
 "nbformat_minor": 5
}
