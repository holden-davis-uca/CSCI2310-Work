{
 "cells": [
  {
   "cell_type": "markdown",
   "id": "80b92215-4bf5-434c-b738-3c2960ae535c",
   "metadata": {},
   "source": [
    "# Graphing - Matplotlib, Seaborn, Pandas #"
   ]
  },
  {
   "cell_type": "markdown",
   "id": "4964f65b-0b95-4232-a389-b1fa946d3873",
   "metadata": {},
   "source": [
    "Many of the examples in this notebook are adapted from <u>Pandas for Everyone: Python Data Analysis</u> by Daniel Y. Chen."
   ]
  },
  {
   "cell_type": "code",
   "execution_count": null,
   "id": "4cc43732-9c02-47e0-bc84-697f5ccb324e",
   "metadata": {},
   "outputs": [],
   "source": [
    "# Import useful modules (libraries)\n",
    "import os\n",
    "import numpy as np\n",
    "import pandas as pd\n",
    "import matplotlib as mpl\n",
    "import matplotlib.pyplot as plt\n",
    "\n",
    "# the next line is \"magic\" command for Jupyter notebooks that causes plots to be rendered directly into the Jupyter notebook\n",
    "%matplotlib inline\n",
    "# %matplotlib notebook\n",
    "\n",
    "import seaborn as sns"
   ]
  },
  {
   "cell_type": "markdown",
   "id": "5bbc65c1-dc8b-4794-89ba-843fa0245db0",
   "metadata": {
    "tags": []
   },
   "source": [
    "## Matplotlib Terminology ##"
   ]
  },
  {
   "cell_type": "markdown",
   "id": "a34132fa-95d1-4edc-91e7-23a5fb0da6ba",
   "metadata": {},
   "source": [
    "`matplotlib` has many powerful features, but can be a little overwhelming with the options and terminology.  We will look at a few of the features, but there is a lot of documentation available online."
   ]
  },
  {
   "cell_type": "markdown",
   "id": "14021f3e-dbda-49b8-bda4-fa5b21ba8b6b",
   "metadata": {},
   "source": [
    "Here is a handy reference diagram to `matplotlib` terminology.  It is kind of cool that this diagram is entirely produced via `matplotlib`.\n",
    "\n",
    "The code is from: https://matplotlib.org/stable/gallery/showcase/anatomy.html"
   ]
  },
  {
   "cell_type": "code",
   "execution_count": null,
   "id": "b5e17d5f-9619-4cfc-b2c5-36aa9540daa4",
   "metadata": {},
   "outputs": [],
   "source": [
    "import numpy as np\n",
    "import matplotlib.pyplot as plt\n",
    "from matplotlib.patches import Circle\n",
    "from matplotlib.patheffects import withStroke\n",
    "from matplotlib.ticker import AutoMinorLocator, MultipleLocator\n",
    "\n",
    "royal_blue = [0, 20/256, 82/256]\n",
    "\n",
    "\n",
    "# make the figure\n",
    "\n",
    "np.random.seed(19680801)\n",
    "\n",
    "X = np.linspace(0.5, 3.5, 100)\n",
    "Y1 = 3+np.cos(X)\n",
    "Y2 = 1+np.cos(1+X/0.75)/2\n",
    "Y3 = np.random.uniform(Y1, Y2, len(X))\n",
    "\n",
    "fig = plt.figure(figsize=(7.5, 7.5))\n",
    "ax = fig.add_axes([0.2, 0.17, 0.68, 0.7], aspect=1)\n",
    "\n",
    "ax.xaxis.set_major_locator(MultipleLocator(1.000))\n",
    "ax.xaxis.set_minor_locator(AutoMinorLocator(4))\n",
    "ax.yaxis.set_major_locator(MultipleLocator(1.000))\n",
    "ax.yaxis.set_minor_locator(AutoMinorLocator(4))\n",
    "ax.xaxis.set_minor_formatter(\"{x:.2f}\")\n",
    "\n",
    "ax.set_xlim(0, 4)\n",
    "ax.set_ylim(0, 4)\n",
    "\n",
    "ax.tick_params(which='major', width=1.0, length=10, labelsize=14)\n",
    "ax.tick_params(which='minor', width=1.0, length=5, labelsize=10,\n",
    "               labelcolor='0.25')\n",
    "\n",
    "ax.grid(linestyle=\"--\", linewidth=0.5, color='.25', zorder=-10)\n",
    "\n",
    "ax.plot(X, Y1, c='C0', lw=2.5, label=\"Blue signal\", zorder=10)\n",
    "ax.plot(X, Y2, c='C1', lw=2.5, label=\"Orange signal\")\n",
    "ax.plot(X[::3], Y3[::3], linewidth=0, markersize=9,\n",
    "        marker='s', markerfacecolor='none', markeredgecolor='C4',\n",
    "        markeredgewidth=2.5)\n",
    "\n",
    "ax.set_title(\"Anatomy of a figure\", fontsize=20, verticalalignment='bottom')\n",
    "ax.set_xlabel(\"x Axis label\", fontsize=14)\n",
    "ax.set_ylabel(\"y Axis label\", fontsize=14)\n",
    "ax.legend(loc=\"upper right\", fontsize=14)\n",
    "\n",
    "\n",
    "# Annotate the figure\n",
    "\n",
    "def annotate(x, y, text, code):\n",
    "    # Circle marker\n",
    "    c = Circle((x, y), radius=0.15, clip_on=False, zorder=10, linewidth=2.5,\n",
    "               edgecolor=royal_blue + [0.6], facecolor='none',\n",
    "               path_effects=[withStroke(linewidth=7, foreground='white')])\n",
    "    ax.add_artist(c)\n",
    "\n",
    "    # use path_effects as a background for the texts\n",
    "    # draw the path_effects and the colored text separately so that the\n",
    "    # path_effects cannot clip other texts\n",
    "    for path_effects in [[withStroke(linewidth=7, foreground='white')], []]:\n",
    "        color = 'white' if path_effects else royal_blue\n",
    "        ax.text(x, y-0.2, text, zorder=100,\n",
    "                ha='center', va='top', weight='bold', color=color,\n",
    "                style='italic', fontfamily='Courier New',\n",
    "                path_effects=path_effects)\n",
    "\n",
    "        color = 'white' if path_effects else 'black'\n",
    "        ax.text(x, y-0.33, code, zorder=100,\n",
    "                ha='center', va='top', weight='normal', color=color,\n",
    "                fontfamily='monospace', fontsize='medium',\n",
    "                path_effects=path_effects)\n",
    "\n",
    "\n",
    "annotate(3.5, -0.13, \"Minor tick label\", \"ax.xaxis.set_minor_formatter\")\n",
    "annotate(-0.03, 1.0, \"Major tick\", \"ax.yaxis.set_major_locator\")\n",
    "annotate(0.00, 3.75, \"Minor tick\", \"ax.yaxis.set_minor_locator\")\n",
    "annotate(-0.15, 3.00, \"Major tick label\", \"ax.yaxis.set_major_formatter\")\n",
    "annotate(1.68, -0.39, \"xlabel\", \"ax.set_xlabel\")\n",
    "annotate(-0.38, 1.67, \"ylabel\", \"ax.set_ylabel\")\n",
    "annotate(1.52, 4.15, \"Title\", \"ax.set_title\")\n",
    "annotate(1.75, 2.80, \"Line\", \"ax.plot\")\n",
    "annotate(2.25, 1.54, \"Markers\", \"ax.scatter\")\n",
    "annotate(3.00, 3.00, \"Grid\", \"ax.grid\")\n",
    "annotate(3.60, 3.58, \"Legend\", \"ax.legend\")\n",
    "annotate(2.5, 0.55, \"Axes\", \"fig.subplots\")\n",
    "annotate(4, 4.5, \"Figure\", \"plt.figure\")\n",
    "annotate(0.65, 0.01, \"x Axis\", \"ax.xaxis\")\n",
    "annotate(0, 0.36, \"y Axis\", \"ax.yaxis\")\n",
    "annotate(4.0, 0.7, \"Spine\", \"ax.spines\")\n",
    "\n",
    "# frame around figure\n",
    "fig.patch.set(linewidth=4, edgecolor='0.5')\n",
    "plt.show()\n"
   ]
  },
  {
   "cell_type": "markdown",
   "id": "5fc2f891-60f6-47e1-bc3c-b95bd6f00caa",
   "metadata": {},
   "source": [
    "This page explains the diagram above in more detail:  \n",
    "\n",
    "https://matplotlib.org/stable/tutorials/introductory/usage.html#sphx-glr-tutorials-introductory-usage-py"
   ]
  },
  {
   "cell_type": "markdown",
   "id": "592675e0-1135-4dd7-8743-abca3db67bd0",
   "metadata": {},
   "source": [
    "## Get Some Sample Data for Graphs ##"
   ]
  },
  {
   "cell_type": "markdown",
   "id": "c8e729e4-4486-48cf-8e03-564082616f8c",
   "metadata": {},
   "source": [
    "As an example, we will use the \"Anscombe quartet\" data (named after statistician Frank Anscombe) from the Seaborn module.\n",
    "\n",
    "We will plot 4 datasets to visually compare them.  We will use this example to explore some features of the `matplotlib` module."
   ]
  },
  {
   "cell_type": "markdown",
   "id": "a7f52e63-0589-4710-ba00-7a2444e0c907",
   "metadata": {},
   "source": [
    "In earlier lectures, we have seen summary statistics calculated with methods like `describe`, `mean`, etc.  While these are clearly useful measurements, they can sometimes give a misleading sense of similarity between data sets.  Visualization of data can often help recognize some of these diffences.  The Anscombe quartet data is specifically constructed to illustrate these misleading situations."
   ]
  },
  {
   "cell_type": "code",
   "execution_count": null,
   "id": "a216d2c2-855c-4410-9044-af9370b4c611",
   "metadata": {},
   "outputs": [],
   "source": [
    "anscombe = sns.load_dataset('anscombe')"
   ]
  },
  {
   "cell_type": "markdown",
   "id": "a25a47ce-1bde-4e5e-a34b-1926a7e9ed75",
   "metadata": {},
   "source": [
    "This creates a dataframe with 4 sets of data, identified with Roman numbers I-IV."
   ]
  },
  {
   "cell_type": "code",
   "execution_count": null,
   "id": "24ef2127-d625-469c-b4ce-34c7eaa85e24",
   "metadata": {},
   "outputs": [],
   "source": [
    "anscombe"
   ]
  },
  {
   "cell_type": "markdown",
   "id": "36db6286-ec02-41e9-a186-4825ea58a1de",
   "metadata": {
    "tags": []
   },
   "source": [
    "For illustration, let's create 4 distinct dataframes."
   ]
  },
  {
   "cell_type": "code",
   "execution_count": null,
   "id": "d14eb769-215f-49ad-9261-22ebfc07d981",
   "metadata": {},
   "outputs": [],
   "source": [
    "anscombe1 = anscombe[anscombe['dataset'] == 'I']\n",
    "anscombe1"
   ]
  },
  {
   "cell_type": "code",
   "execution_count": null,
   "id": "4322a11e-b947-4800-8015-dfe1d5e243df",
   "metadata": {},
   "outputs": [],
   "source": [
    "anscombe2 = anscombe[anscombe['dataset'] == 'II']\n",
    "anscombe2"
   ]
  },
  {
   "cell_type": "code",
   "execution_count": null,
   "id": "0302a80e-13bc-42de-ad29-fe62f0be40be",
   "metadata": {},
   "outputs": [],
   "source": [
    "anscombe3 = anscombe[anscombe['dataset'] == 'III']\n",
    "anscombe3"
   ]
  },
  {
   "cell_type": "code",
   "execution_count": null,
   "id": "fca19ecf-6199-440d-bc2a-9d852fbfe0ce",
   "metadata": {},
   "outputs": [],
   "source": [
    "anscombe4 = anscombe[anscombe['dataset'] == 'IV']\n",
    "anscombe4"
   ]
  },
  {
   "cell_type": "markdown",
   "id": "53b0deb7-8897-4d98-8591-34a2f9ada211",
   "metadata": {},
   "source": [
    "Looking at the summary statistics, these 4 datasets looking pretty similar."
   ]
  },
  {
   "cell_type": "code",
   "execution_count": null,
   "id": "99360b39-450f-4123-bcca-bfb7be64ecee",
   "metadata": {},
   "outputs": [],
   "source": [
    "anscombe1.describe()"
   ]
  },
  {
   "cell_type": "code",
   "execution_count": null,
   "id": "4e073afe-8ec1-4b2a-a7e0-110e0792063b",
   "metadata": {},
   "outputs": [],
   "source": [
    "anscombe2.describe()"
   ]
  },
  {
   "cell_type": "code",
   "execution_count": null,
   "id": "1a006e41-0622-46b8-800a-d1bcd4a03c16",
   "metadata": {},
   "outputs": [],
   "source": [
    "anscombe3.describe()"
   ]
  },
  {
   "cell_type": "code",
   "execution_count": null,
   "id": "5a9798be-2140-4641-be9b-187761d2b778",
   "metadata": {},
   "outputs": [],
   "source": [
    "anscombe4.describe()"
   ]
  },
  {
   "cell_type": "markdown",
   "id": "f53fa1de-ce18-4ca0-a28e-85942d07bdd2",
   "metadata": {},
   "source": [
    "## A Basic Graph ##"
   ]
  },
  {
   "cell_type": "markdown",
   "id": "1358ba2f-06f2-4aa0-a2e0-6836b370ecea",
   "metadata": {
    "tags": []
   },
   "source": [
    "We have seen some `matplotlib` plots in earlier lectures, so some of this should be familiar.  \n",
    "\n",
    "First, we will make a simple figure with the first dataset."
   ]
  },
  {
   "cell_type": "code",
   "execution_count": null,
   "id": "4b9a269f-4138-40dc-a5d2-3d5de334e499",
   "metadata": {},
   "outputs": [],
   "source": [
    "anscombe1"
   ]
  },
  {
   "cell_type": "markdown",
   "id": "0f36f324-c509-4415-9300-83d3379f0da7",
   "metadata": {},
   "source": [
    "Plot the x and y values against each other in a scatter plot."
   ]
  },
  {
   "cell_type": "code",
   "execution_count": null,
   "id": "90ef18e6-b000-4691-a3ae-ca98380bac7b",
   "metadata": {},
   "outputs": [],
   "source": [
    "# set the figure size to something appropriate to show in a Jupyter notebook\n",
    "plt.figure(figsize=(10, 6))\n",
    "\n",
    "# Show the data on a scatter plot\n",
    "plt.scatter(anscombe1['x'], anscombe1['y'])\n",
    "\n",
    "plt.title('Anscombe I Data')\n",
    "\n",
    "plt.xlabel('X Value')\n",
    "plt.ylabel('Y Value')\n",
    "\n",
    "plt.show()"
   ]
  },
  {
   "cell_type": "markdown",
   "id": "eb0c1dda-88d4-42cc-8858-f111f778f471",
   "metadata": {},
   "source": [
    "## A Figure with Multiple Subplots ##"
   ]
  },
  {
   "cell_type": "markdown",
   "id": "7dd383b6-d802-443b-81f7-f5a51c435ed0",
   "metadata": {
    "tags": []
   },
   "source": [
    "We want to see graphs for all 4 datasets together.  Within a `matplotlib` `figure`, we can have multiple subplots placed on multiple `axes`.  \n",
    "\n",
    "Note that `axes` refers to a subpart (region) of the larger figure, while `axis` refers to a part of a single subgraph (e.g., the ***x*** and ***y*** axis in the graph above)."
   ]
  },
  {
   "cell_type": "code",
   "execution_count": null,
   "id": "b7e2ff14-dc62-47f1-8238-71aa7fc16a8d",
   "metadata": {},
   "outputs": [],
   "source": [
    "# set the figure size big enough to show the subplots; note we are saving the figure object reference to use later\n",
    "fig = plt.figure(figsize=(20, 12))\n",
    "\n",
    "# now, within the larger figure, add subplots for each dataset.  \n",
    "# We are going to have a 2 x 2 grid of graphs and they are numbered from top-left to bottom-right\n",
    "# Each time we create a subplot, we are going to get an `axes` object so we can address that particular subplot\n",
    "axes1 = fig.add_subplot(2, 2, 1)\n",
    "axes2 = fig.add_subplot(2, 2, 2)\n",
    "axes3 = fig.add_subplot(2, 2, 3)\n",
    "axes4 = fig.add_subplot(2, 2, 4)\n",
    "\n",
    "# plot each of the 4 datasets in the appropriate subplot\n",
    "axes1.scatter(anscombe1['x'], anscombe1['y'])\n",
    "axes2.scatter(anscombe2['x'], anscombe2['y'])\n",
    "axes3.scatter(anscombe3['x'], anscombe3['y'])\n",
    "axes4.scatter(anscombe4['x'], anscombe4['y'])\n",
    "\n",
    "plt.show()"
   ]
  },
  {
   "cell_type": "markdown",
   "id": "fb3c1341-858a-48e2-9755-4d9c101a107e",
   "metadata": {},
   "source": [
    "We will now add a few extra bits to the graph, such as titles."
   ]
  },
  {
   "cell_type": "code",
   "execution_count": null,
   "id": "88e48529-4dfc-4623-858c-d473d7ce52fa",
   "metadata": {
    "tags": []
   },
   "outputs": [],
   "source": [
    "# set the figure size big enough to show the subplots; note we are saving the figure object reference to use later\n",
    "fig = plt.figure(figsize=(20, 12))\n",
    "\n",
    "# now, within the larger figure, add subplots for each dataset.  \n",
    "# We are going to have a 2 x 2 grid of graphs and they are numbered from top-left to bottom-right\n",
    "# Each time we create a subplot, we are going to get an `axes` object so we can address that particular subplot\n",
    "axes1 = fig.add_subplot(2, 2, 1)\n",
    "axes2 = fig.add_subplot(2, 2, 2)\n",
    "axes3 = fig.add_subplot(2, 2, 3)\n",
    "axes4 = fig.add_subplot(2, 2, 4)\n",
    "\n",
    "# plot each of the 4 datasets in the appropriate subplot\n",
    "axes1.scatter(anscombe1['x'], anscombe1['y'])\n",
    "axes2.scatter(anscombe2['x'], anscombe2['y'])\n",
    "axes3.scatter(anscombe3['x'], anscombe3['y'])\n",
    "axes4.scatter(anscombe4['x'], anscombe4['y'])\n",
    "\n",
    "# set the title for the overall figure\n",
    "fig.suptitle('Anscombe Quartet', fontsize=20)\n",
    "\n",
    "fontsize = 16\n",
    "# set titles for each subplot\n",
    "axes1.set_title('Dataset I', fontsize=fontsize)\n",
    "axes2.set_title('Dataset II', fontsize=fontsize)\n",
    "axes3.set_title('Dataset III', fontsize=fontsize)\n",
    "axes4.set_title('Dataset IV', fontsize=fontsize)\n",
    "\n",
    "# Note that the graphs above do not have the same x range and y range, so we will explicitly set them to be the same\n",
    "xlim = [2, 20]\n",
    "ylim = [2, 14]\n",
    "axes1.set_xlim(xlim)\n",
    "axes1.set_ylim(ylim)\n",
    "axes2.set_xlim(xlim)\n",
    "axes2.set_ylim(ylim)\n",
    "axes3.set_xlim(xlim)\n",
    "axes3.set_ylim(ylim)\n",
    "axes4.set_xlim(xlim)\n",
    "axes4.set_ylim(ylim)\n",
    "\n",
    "plt.show()"
   ]
  },
  {
   "cell_type": "markdown",
   "id": "08a05736-ac74-4fec-a6aa-ce662fe241cf",
   "metadata": {},
   "source": [
    "Remember how similar the summary statistics looked for these datasets?\n",
    "\n",
    "The visualizations show the datasets look very different from one another."
   ]
  },
  {
   "cell_type": "markdown",
   "id": "cac70472-3e96-4320-b9b6-2d45e8ef6e8a",
   "metadata": {},
   "source": [
    "## More Chart Types ##"
   ]
  },
  {
   "cell_type": "markdown",
   "id": "c962ede4-5f0d-45e7-bfe0-fb14553cd8f3",
   "metadata": {
    "tags": []
   },
   "source": [
    "We used scatterplots in the examples above, but there are many types of charts in `matplotlib`.  \n",
    "\n",
    "We will use some data on the cost of meal\n",
    "s and the associated tips.  This data is also available in the Seaborn module for our examples."
   ]
  },
  {
   "cell_type": "code",
   "execution_count": null,
   "id": "aa8011c9-edb7-4b93-9347-8043e2cb5ea9",
   "metadata": {},
   "outputs": [],
   "source": [
    "tips = sns.load_dataset('tips')\n",
    "tips"
   ]
  },
  {
   "cell_type": "markdown",
   "id": "5fb60ef6-4d7c-4e09-b47c-ed49a1337dc8",
   "metadata": {},
   "source": [
    "## Histograms and Bar Charts - Looking at a single variable ##"
   ]
  },
  {
   "cell_type": "markdown",
   "id": "5a6b9e25-b495-4cd7-938b-d28467274db0",
   "metadata": {
    "tags": []
   },
   "source": [
    "Histograms are often used to show the distribution of values on a single variable."
   ]
  },
  {
   "cell_type": "code",
   "execution_count": null,
   "id": "5bd13c3b-0e25-42c1-b3ca-ae72d4108030",
   "metadata": {},
   "outputs": [],
   "source": [
    "party_size = tips['size'].value_counts()\n",
    "party_size"
   ]
  },
  {
   "cell_type": "code",
   "execution_count": null,
   "id": "46fb0168-c600-4ca0-932c-322d7f279251",
   "metadata": {},
   "outputs": [],
   "source": [
    "party_size.index"
   ]
  },
  {
   "cell_type": "code",
   "execution_count": null,
   "id": "661c1733-dc8a-43ca-a591-a3da337e5eb5",
   "metadata": {},
   "outputs": [],
   "source": [
    "party_size.values"
   ]
  },
  {
   "cell_type": "markdown",
   "id": "44f0cd3e-7dfd-4cc1-9baf-b9e33e3f6acd",
   "metadata": {
    "tags": []
   },
   "source": [
    "Plot a histogram of the size of the dinner parties."
   ]
  },
  {
   "cell_type": "markdown",
   "id": "65fc8ed5-6df1-4c94-9227-f3d349df7454",
   "metadata": {},
   "source": [
    "We can use matplotlib and pass values and counts as a Series."
   ]
  },
  {
   "cell_type": "code",
   "execution_count": null,
   "id": "b069f0b3-7e67-4777-b518-895f2fe0b7c8",
   "metadata": {},
   "outputs": [],
   "source": [
    "plt.figure(figsize=(10, 6))\n",
    "\n",
    "plt.bar(party_size.index, party_size.values)\n",
    "\n",
    "plt.title('Party Size Frequency')\n",
    "\n",
    "plt.xlabel('Party Size')\n",
    "plt.ylabel('Frequency')\n",
    "\n",
    "plt.show()"
   ]
  },
  {
   "cell_type": "markdown",
   "id": "bd326714-e5ab-4c09-8fc4-60a095560122",
   "metadata": {},
   "source": [
    "Or, we could leverage the Seaborn library.\n",
    "\n",
    "Also, let's add some grid lines to make the data easier to read."
   ]
  },
  {
   "cell_type": "code",
   "execution_count": null,
   "id": "e362696b-3be5-4c2b-83c6-0e0729336ac8",
   "metadata": {
    "tags": []
   },
   "outputs": [],
   "source": [
    "plt.figure(figsize=(10, 6))\n",
    "\n",
    "sns.histplot(tips['size'], discrete=True)\n",
    "\n",
    "plt.title('Party Size Frequency')\n",
    "\n",
    "plt.xlabel('Party Size')\n",
    "plt.ylabel('Frequency')\n",
    "\n",
    "plt.grid()\n",
    "\n",
    "plt.show()"
   ]
  },
  {
   "cell_type": "markdown",
   "id": "03aef8e4-b712-4428-8ed8-2bb2d0a38802",
   "metadata": {},
   "source": [
    "Or, since we already have a dataframe, we can leverage the Pandas implementation for graphs."
   ]
  },
  {
   "cell_type": "code",
   "execution_count": null,
   "id": "f5e206fa-9c75-4a19-846a-c9563f8236f3",
   "metadata": {
    "tags": []
   },
   "outputs": [],
   "source": [
    "party_size = tips['size'].value_counts().sort_index().plot(kind='bar', figsize=(10,6))\n",
    "plt.grid()\n",
    "plt.show()"
   ]
  },
  {
   "cell_type": "markdown",
   "id": "265b04c5-937b-4cb2-9ae0-14b662675e67",
   "metadata": {},
   "source": [
    "Which library should you use?  It is largely a matter of preference.  \n",
    "\n",
    "Using `matplotlib` directly offers great power (which implies the great responsibility that comes with it).\n",
    "\n",
    "Pandas graphing methods are often easy to invoke on dataframes, but are limited to when working with Pandas datastructures.\n",
    "\n",
    "Seaborn is conveninent and makes pretty graphs.  \n",
    "\n",
    "We will use all of these libraries, sometimes in concert, through the rest of the examples in this notebook."
   ]
  },
  {
   "cell_type": "markdown",
   "id": "4f6717cd-96f3-43c5-845d-798351990a6c",
   "metadata": {},
   "source": [
    "Moving on with more examples..."
   ]
  },
  {
   "cell_type": "markdown",
   "id": "f0193455-7cd4-4cda-9f82-94bffcc4ad58",
   "metadata": {},
   "source": [
    "Plot a histogram of the size of the total bill for the meals.  \n",
    "\n",
    "Since the total bill is unlikely to be exactly the same between diners, we will have matplotlib \"bin\" the values.  We can specify the number of bins or specific bins that matplotlib is to use when we create the graph."
   ]
  },
  {
   "cell_type": "code",
   "execution_count": null,
   "id": "8c000331-844d-4d0f-bec6-d6373416f1d1",
   "metadata": {},
   "outputs": [],
   "source": [
    "tips['total_bill'].describe()"
   ]
  },
  {
   "cell_type": "code",
   "execution_count": null,
   "id": "098059f3-0ee3-4dac-9edc-4ae429f03689",
   "metadata": {
    "tags": []
   },
   "outputs": [],
   "source": [
    "bins_to_use = [0, 10, 20, 30, 40, 50, 60]"
   ]
  },
  {
   "cell_type": "markdown",
   "id": "e7a70329-5605-4554-86f5-3b6e43f93724",
   "metadata": {},
   "source": [
    "First, use matlibplot directly to produce a histogram."
   ]
  },
  {
   "cell_type": "code",
   "execution_count": null,
   "id": "76e691f2-8800-4721-910e-b67565a5beae",
   "metadata": {},
   "outputs": [],
   "source": [
    "plt.figure(figsize=(10, 6))\n",
    "\n",
    "plt.hist(tips['total_bill'], bins=bins_to_use, align='mid', color='g', edgecolor='white')\n",
    "\n",
    "plt.title('Total Bill Frequency')\n",
    "\n",
    "plt.xlabel('Total Bill')\n",
    "plt.ylabel('Frequency')\n",
    "\n",
    "plt.show()"
   ]
  },
  {
   "cell_type": "markdown",
   "id": "b0309dca-960e-4633-8d7e-fe78bfbf8244",
   "metadata": {},
   "source": [
    "Now, use Seaborn is produce a similar histogram."
   ]
  },
  {
   "cell_type": "code",
   "execution_count": null,
   "id": "2d277adc-d4ea-47a5-b5c4-6d52687c97bd",
   "metadata": {},
   "outputs": [],
   "source": [
    "plt.figure(figsize=(10, 6))\n",
    "\n",
    "sns.histplot(tips['total_bill'], bins=bins_to_use, color='g', edgecolor='w')\n",
    "\n",
    "plt.title('Total Bill Frequency')\n",
    "\n",
    "plt.xlabel('Total Bill')\n",
    "plt.ylabel('Frequency')\n",
    "\n",
    "plt.show()"
   ]
  },
  {
   "cell_type": "markdown",
   "id": "023c14a0-3714-4e7b-9d68-d909436cf685",
   "metadata": {},
   "source": [
    "Since we have a dataframe, we can also use the `plot` method on the dataframe object and specify the type of graph we want as a parameter."
   ]
  },
  {
   "cell_type": "code",
   "execution_count": null,
   "id": "07bea74e-e906-49c9-ab6f-3a04a2148359",
   "metadata": {},
   "outputs": [],
   "source": [
    "tips['total_bill'].plot(kind='hist', \n",
    "                        bins=bins_to_use,\n",
    "                        color='g',\n",
    "                        edgecolor='w', \n",
    "                        title='Total Bill Frequency', \n",
    "                        xlabel='Total Bill', \n",
    "                        ylabel='Frequency', \n",
    "                        figsize=(10, 6)\n",
    "                       )\n",
    "\n",
    "plt.grid()\n",
    "\n",
    "plt.show()"
   ]
  },
  {
   "cell_type": "markdown",
   "id": "f25b9b71-deab-447d-a8fe-ba6f8e9e3a1b",
   "metadata": {},
   "source": [
    "Or, we could use the `hist` method on the dataframe object."
   ]
  },
  {
   "cell_type": "code",
   "execution_count": null,
   "id": "8fe9ee82-3502-4d7e-bdea-53ca68798067",
   "metadata": {},
   "outputs": [],
   "source": [
    "plt.figure(figsize=(10, 6))\n",
    "\n",
    "tips['total_bill'].hist(bins=bins_to_use, color='g', edgecolor='w')\n",
    "\n",
    "plt.title('Total Bill Frequency')\n",
    "\n",
    "plt.xlabel('Total Bill')\n",
    "plt.ylabel('Frequency')\n",
    "\n",
    "plt.show()"
   ]
  },
  {
   "cell_type": "markdown",
   "id": "292dd6a0-63be-4616-988f-74afc9af82c0",
   "metadata": {
    "tags": []
   },
   "source": [
    "Binning works well for continuous variables, but sometimes we want to count categorical data.  \n",
    "\n",
    "Recall that categorical data has distinct values, but no inherent ordering of the values (i.e., unlike integers).\n",
    "\n",
    "What are the busy days of the week?"
   ]
  },
  {
   "cell_type": "code",
   "execution_count": null,
   "id": "84b95561-f861-41d8-9aee-dffd61d8d1c1",
   "metadata": {},
   "outputs": [],
   "source": [
    "tips['day'].value_counts()"
   ]
  },
  {
   "cell_type": "markdown",
   "id": "1357c637-0788-4521-8bb0-8135a11f3dfc",
   "metadata": {},
   "source": [
    "The matplotlib `hist` method is better with continuous data and gives kind of wonky results on categorical data.  "
   ]
  },
  {
   "cell_type": "code",
   "execution_count": null,
   "id": "7ff8eed1-bc25-43d5-b676-267a5bab101a",
   "metadata": {},
   "outputs": [],
   "source": [
    "plt.figure(figsize=(10, 6))\n",
    "\n",
    "plt.hist(tips['day'], align='mid')\n",
    "\n",
    "plt.title('Daily Traffic')\n",
    "\n",
    "plt.xlabel('Day')\n",
    "plt.ylabel('Meals')\n",
    "\n",
    "plt.grid()\n",
    "plt.show()"
   ]
  },
  {
   "cell_type": "markdown",
   "id": "173062f6-7439-4be2-bb7f-16ace0b66256",
   "metadata": {},
   "source": [
    "The Seaborn `histplot` does a better job displaying discrete categorical data.  Note the `discrete` parameter.  A histogram is a classic visualization tool that represents the distribution of one or more variables by counting the number of observations that fall within discrete bins."
   ]
  },
  {
   "cell_type": "code",
   "execution_count": null,
   "id": "4bc500b9-98f2-4f98-adbb-689a91cdc258",
   "metadata": {},
   "outputs": [],
   "source": [
    "plt.figure(figsize=(10, 6))\n",
    "\n",
    "sns.histplot(x = tips['day'], discrete=True)\n",
    "\n",
    "plt.title('Daily Traffic')\n",
    "\n",
    "plt.xlabel('Day')\n",
    "plt.ylabel('Meals')\n",
    "\n",
    "plt.grid()\n",
    "\n",
    "plt.show()"
   ]
  },
  {
   "cell_type": "markdown",
   "id": "b571fa51-3f37-48de-9935-7814feb5151f",
   "metadata": {},
   "source": [
    "The Seaborn `countplot` method provides another variation. According to seaborn documentation, a count plot can be thought of as a histogram across a categorical, instead of quantitative, variable."
   ]
  },
  {
   "cell_type": "code",
   "execution_count": null,
   "id": "8b13714f-6f76-4e17-852f-34b84dfc581d",
   "metadata": {},
   "outputs": [],
   "source": [
    "plt.figure(figsize=(10, 6))\n",
    "\n",
    "sns.countplot(x = tips['day'])\n",
    "\n",
    "plt.title('Daily Traffic')\n",
    "\n",
    "plt.xlabel('Day')\n",
    "plt.ylabel('Meals')\n",
    "\n",
    "plt.grid()\n",
    "\n",
    "plt.show()"
   ]
  },
  {
   "cell_type": "markdown",
   "id": "d5f18ada-18b2-4278-b6e3-d8d0d380372d",
   "metadata": {},
   "source": [
    "Again, we could also exploit the Pandas graphing, but with a bit more construction on our part."
   ]
  },
  {
   "cell_type": "code",
   "execution_count": null,
   "id": "c3856493-bed4-4a5e-8fef-db145eb5c571",
   "metadata": {
    "tags": []
   },
   "outputs": [],
   "source": [
    "party_size = tips['day'].value_counts().sort_index().plot(kind='bar', figsize=(10,6))"
   ]
  },
  {
   "cell_type": "markdown",
   "id": "dd4b5e51-0096-4a2c-8d8b-aeedbdbda3b8",
   "metadata": {},
   "source": [
    "## Plotting Multiple Pieces of Information on a Graph ##"
   ]
  },
  {
   "cell_type": "markdown",
   "id": "edb16b8a-a0c4-43e0-a5d1-a90b231f7dd1",
   "metadata": {
    "tags": []
   },
   "source": [
    "What is the mean of all the meal bills?"
   ]
  },
  {
   "cell_type": "code",
   "execution_count": null,
   "id": "dcaf52d2-d6cd-4b33-b952-852e697329de",
   "metadata": {
    "tags": []
   },
   "outputs": [],
   "source": [
    "mean_bill = tips['total_bill'].mean()\n",
    "mean_bill"
   ]
  },
  {
   "cell_type": "markdown",
   "id": "06c2fab9-54bb-4d70-802d-0182d817d732",
   "metadata": {},
   "source": [
    "What is the range of our observations?"
   ]
  },
  {
   "cell_type": "code",
   "execution_count": null,
   "id": "108bdaa4-7cc8-4782-88a8-6f599777ec43",
   "metadata": {},
   "outputs": [],
   "source": [
    "tips.index"
   ]
  },
  {
   "cell_type": "markdown",
   "id": "a5681ee3-8033-4a74-8f8f-50c4e81f2a71",
   "metadata": {},
   "source": [
    "As an example, create a subset of the larger tips dataframe."
   ]
  },
  {
   "cell_type": "code",
   "execution_count": null,
   "id": "e22ef5eb-e04e-4027-a89a-7663e264d17d",
   "metadata": {
    "tags": []
   },
   "outputs": [],
   "source": [
    "smtips = tips.head()\n",
    "smtips"
   ]
  },
  {
   "cell_type": "markdown",
   "id": "0a1176d2-a886-44a8-9a94-5a18a60d4095",
   "metadata": {},
   "source": [
    "Let's make a function to plot observation values.  We will use this function a few times below."
   ]
  },
  {
   "cell_type": "code",
   "execution_count": null,
   "id": "214efbe2-8d2f-4a62-8360-bc23f22f0a3a",
   "metadata": {},
   "outputs": [],
   "source": [
    "def plot_observations(x, y, title='Value of Each Observation', color='b', fig=None, ax=None):\n",
    "    \n",
    "    if fig is None:\n",
    "        fig, ax = plt.subplots(figsize=(10, 6))\n",
    "\n",
    "    ax.scatter(x=x, y=y, color=color)\n",
    "\n",
    "    ax.set_title(title)\n",
    "\n",
    "    ax.set_ylabel('Value')\n",
    "    ax.set_xlabel('Observation Index')\n",
    "    ax.grid(axis='y')\n",
    "\n",
    "    return fig, ax"
   ]
  },
  {
   "cell_type": "markdown",
   "id": "92897c28-64ef-4a57-a1a1-ca8ec8a9f5dc",
   "metadata": {},
   "source": [
    "Plot the observation values for total bill for our subset of data.  \n",
    "\n",
    "Compare the graph to the values shown above when we displayed the dataframe."
   ]
  },
  {
   "cell_type": "code",
   "execution_count": null,
   "id": "616a7ccd-da64-458d-81ca-3f1efe83a7d4",
   "metadata": {},
   "outputs": [],
   "source": [
    "fig, ax = plot_observations(smtips.index, smtips['total_bill'], title='Total Bill Values')\n",
    "ax.set_ylabel('Total Bill')\n",
    "plt.show()"
   ]
  },
  {
   "cell_type": "markdown",
   "id": "9f17b883-6aef-49d8-9c3e-d892c965051f",
   "metadata": {},
   "source": [
    "Now plot all the observations from tips."
   ]
  },
  {
   "cell_type": "code",
   "execution_count": null,
   "id": "062a967f-2ef2-476f-a99e-0d1b199a2d95",
   "metadata": {
    "tags": []
   },
   "outputs": [],
   "source": [
    "fig, ax = plot_observations(tips.index, tips['total_bill'], title='Total Bill Values')\n",
    "ax.set_ylabel('Total Bill')\n",
    "plt.show()"
   ]
  },
  {
   "cell_type": "markdown",
   "id": "ccd1965c-9d61-447b-9f63-17858f3ac546",
   "metadata": {},
   "source": [
    "Add the mean as a horizontal line across the observations."
   ]
  },
  {
   "cell_type": "code",
   "execution_count": null,
   "id": "db34bf67-e9c8-4c64-91a1-c03d605040d3",
   "metadata": {
    "tags": []
   },
   "outputs": [],
   "source": [
    "fig, ax = plot_observations(tips.index, tips['total_bill'], title='Total Bill Values')\n",
    "ax.set_ylabel('Total Bill')\n",
    "ax.axhline(y = mean_bill, color = 'r', linestyle = '-')\n",
    "plt.show()"
   ]
  },
  {
   "cell_type": "markdown",
   "id": "8d10972d-eaad-4906-aa8c-5912f392fe56",
   "metadata": {},
   "source": [
    "Plot the tip values for each observation."
   ]
  },
  {
   "cell_type": "code",
   "execution_count": null,
   "id": "03b2d755-35cb-4514-9611-7df7dc19c9f1",
   "metadata": {},
   "outputs": [],
   "source": [
    "fig, ax = plot_observations(tips.index, tips['tip'], title='Tip Values', color='g')\n",
    "\n",
    "plt.show()"
   ]
  },
  {
   "cell_type": "markdown",
   "id": "522f1535-137f-4bc4-878e-0f7d58b32ad4",
   "metadata": {},
   "source": [
    "Show the total bill and the associated tip for each observation, first for the subset, then the full set."
   ]
  },
  {
   "cell_type": "code",
   "execution_count": null,
   "id": "6bb82061-e1fd-4e9f-9f34-aa11f7697146",
   "metadata": {
    "tags": []
   },
   "outputs": [],
   "source": [
    "fig, ax = plot_observations(smtips.index, smtips['total_bill'], title='Total Bill Values')\n",
    "fig, ax = plot_observations(smtips.index, smtips['tip'], title='Total Bill and Tip Values', color='g', fig=fig, ax=ax)\n",
    "\n",
    "plt.show()"
   ]
  },
  {
   "cell_type": "code",
   "execution_count": null,
   "id": "97a99ef4-9b43-44bd-a19f-54ad488db977",
   "metadata": {
    "tags": []
   },
   "outputs": [],
   "source": [
    "fig, ax = plot_observations(tips.index, tips['total_bill'], title='Total Bill Values')\n",
    "fig, ax = plot_observations(tips.index, tips['tip'], title='Total Bill and Tip Values', color='g', fig=fig, ax=ax)\n",
    "\n",
    "plt.show()"
   ]
  },
  {
   "cell_type": "markdown",
   "id": "4bd581f1-2541-4ac3-acc8-dc63db091314",
   "metadata": {},
   "source": [
    "Just for fun (meaning, just as an example), add a line to the previous diagram graphing the line `y = (.25) x + 5`."
   ]
  },
  {
   "cell_type": "code",
   "execution_count": null,
   "id": "0ce2e2a7-e84f-49be-b25d-78b6cf6bd3c7",
   "metadata": {
    "tags": []
   },
   "outputs": [],
   "source": [
    "fig, ax = plot_observations(tips.index, tips['total_bill'], title='Total Bill Values')\n",
    "fig, ax = plot_observations(tips.index, tips['tip'], title='Total Bill and Tip Values', color='g', fig=fig, ax=ax)\n",
    "\n",
    "# build some values for x to plot our line\n",
    "x = np.linspace(0, len(tips.index))\n",
    "\n",
    "slope = 0.2\n",
    "intercept = 5\n",
    "\n",
    "# now plot the line using the line equation\n",
    "ax.plot(x, slope * x + intercept, color='r')\n",
    "\n",
    "plt.show()"
   ]
  },
  {
   "cell_type": "markdown",
   "id": "5ecd82ae-17e1-4e0f-b4fe-a79936dec9e5",
   "metadata": {
    "tags": []
   },
   "source": [
    "## Box Plots and Violin Plots ##"
   ]
  },
  {
   "cell_type": "markdown",
   "id": "ef4cf62a-a855-4998-91d5-1b8e4e399c49",
   "metadata": {},
   "source": [
    "Recall that the `describe` method provides many statistics about a variable."
   ]
  },
  {
   "cell_type": "code",
   "execution_count": null,
   "id": "e1c77a8e-df34-4693-9f69-068e4fe67abf",
   "metadata": {
    "tags": []
   },
   "outputs": [],
   "source": [
    "tips.loc[tips['time'] == 'Lunch', 'total_bill'].describe()"
   ]
  },
  {
   "cell_type": "code",
   "execution_count": null,
   "id": "3b5404b7-7f37-4e01-82d5-e903662f8604",
   "metadata": {
    "tags": []
   },
   "outputs": [],
   "source": [
    "tips.loc[tips['time'] == 'Dinner', 'total_bill'].describe()"
   ]
  },
  {
   "cell_type": "code",
   "execution_count": null,
   "id": "9e3f19a1-5f1a-492c-96a3-f3d29a2b624a",
   "metadata": {},
   "outputs": [],
   "source": [
    "tips.loc[tips['time'] == 'Dinner', 'total_bill'].median()"
   ]
  },
  {
   "cell_type": "code",
   "execution_count": null,
   "id": "512a063a-efa3-4638-b6fa-ab9add70dfdb",
   "metadata": {},
   "outputs": [],
   "source": [
    "tips.loc[tips['time'] == 'Lunch', 'total_bill'].median()"
   ]
  },
  {
   "cell_type": "markdown",
   "id": "26373115-c8f8-4293-9b44-e48ec72c5a58",
   "metadata": {},
   "source": [
    "Box plots can show multiple statistics about a variable in a single chart. A box plot (or box-and-whisker plot) shows the distribution of quantitative data in a way that facilitates comparisons between variables or across levels of a categorical variable. The box shows the quartiles of the dataset while the whiskers extend to show the rest of the distribution, except for points that are determined to be “outliers” using a method that is a function of the inter-quartile range.\n",
    "\n",
    "The plots below show the total bill by time of day.  We could make this charts from matplotlib primitives, but is more convenient to leverage the Seaborn libraries to make the charts.\n",
    "\n",
    "The diagram below giving a description of a box plot came from this site: https://chartio.com/learn/charts/box-plot-complete-guide/"
   ]
  },
  {
   "attachments": {
    "7a3c8b65-4a71-4ab8-abfe-3c9ffb23da32.png": {
     "image/png": "[encoded data removed]"
    }
   },
   "cell_type": "markdown",
   "id": "136d6a98-69e3-40ea-afc5-997c625ccab6",
   "metadata": {},
   "source": [
    "![image.png](attachment:7a3c8b65-4a71-4ab8-abfe-3c9ffb23da32.png)"
   ]
  },
  {
   "cell_type": "code",
   "execution_count": null,
   "id": "fff36431-236a-4c35-affc-0644a1c229b8",
   "metadata": {},
   "outputs": [],
   "source": [
    "box, ax = plt.subplots(figsize=(10, 6))\n",
    "ax = sns.boxplot(x='time', y='total_bill', data=tips)\n",
    "ax.set_title('Total Bill by Time of Day')\n",
    "ax.set_xlabel('Time of Day')\n",
    "ax.set_ylabel('Total Bill')\n",
    "ax.set_yticks(range(0, 60, 4))\n",
    "ax.grid()\n",
    "plt.show()"
   ]
  },
  {
   "cell_type": "markdown",
   "id": "f6cda9a6-9817-484a-ac31-1aed0e8bb665",
   "metadata": {},
   "source": [
    "Box plots are useful, but they do not give any visual insight into the distribution of points on the graph.  A violin plot is similar to the box plot, but shows the data distribution as a density function (hence the violin shape) that gives more insight into the number of values at a particular value (here, the amount of bill)."
   ]
  },
  {
   "cell_type": "code",
   "execution_count": null,
   "id": "7555e1e9-5af3-4d8f-82be-9f63d94dd0e6",
   "metadata": {},
   "outputs": [],
   "source": [
    "violin, ax = plt.subplots(figsize=(10, 6))\n",
    "ax = sns.violinplot(x='time', y='total_bill', data=tips)\n",
    "ax.set_title('Total Bill by Time of Day - Violin Plot')\n",
    "ax.set_xlabel('Time of Day')\n",
    "ax.set_ylabel('Total Bill')\n",
    "plt.show()"
   ]
  },
  {
   "cell_type": "markdown",
   "id": "a1f4641c-b45c-496e-ba6c-b0f6d9b4a4a3",
   "metadata": {},
   "source": [
    "## Looking at Multiple Variables Together ##"
   ]
  },
  {
   "cell_type": "markdown",
   "id": "a01b7a49-6b8a-426a-a904-10e8a27ebadb",
   "metadata": {},
   "source": [
    "We are going to color code dots on our plot by sex, so create a column with a color code based upon the value of sex."
   ]
  },
  {
   "cell_type": "code",
   "execution_count": null,
   "id": "be9a59c1-fabe-414a-9adc-ea16a1173544",
   "metadata": {},
   "outputs": [],
   "source": [
    "tips['sex_color'] = tips['sex'].apply(lambda x: 'r' if x == 'Female' else 'b')"
   ]
  },
  {
   "cell_type": "code",
   "execution_count": null,
   "id": "5a7d18d5-f0ef-4502-8eff-629b3d526301",
   "metadata": {},
   "outputs": [],
   "source": [
    "tips"
   ]
  },
  {
   "cell_type": "markdown",
   "id": "ee6d6c22-0aeb-44c5-aef4-08c2422825d4",
   "metadata": {},
   "source": [
    "We will now show serveral different views of the data on a single figure."
   ]
  },
  {
   "cell_type": "code",
   "execution_count": null,
   "id": "aaa5a902-2e65-4b61-8ffb-39c6efa13102",
   "metadata": {
    "tags": []
   },
   "outputs": [],
   "source": [
    "# set the figure size big enough to show the subplots; note we are saving the figure object reference to use later\n",
    "fig = plt.figure(figsize=(30, 20))\n",
    "\n",
    "# now, within the larger figure, add subplots for each dataset.  \n",
    "# We are going to have a 2 x 2 grid of graphs and they are numbered from top-left to bottom-right\n",
    "# Each time we create a subplot, we are going to get an `axes` object so we can address that particular subplot\n",
    "axes1 = fig.add_subplot(2, 2, 1)\n",
    "axes2 = fig.add_subplot(2, 2, 2)\n",
    "axes3 = fig.add_subplot(2, 2, 3)\n",
    "axes4 = fig.add_subplot(2, 2, 4)\n",
    "\n",
    "# plot each of the 4 datasets in the appropriate subplot\n",
    "fontsize = 16\n",
    "\n",
    "# plot 1\n",
    "axes1.plot(tips['total_bill'], tips['tip'], 'o')\n",
    "axes1.set_title('Dot Plot', fontsize=fontsize + 4)\n",
    "axes1.set_xlabel('Total Bill', fontsize=fontsize)\n",
    "axes1.set_ylabel('Tips', fontsize=fontsize)\n",
    "\n",
    "# plot 2\n",
    "axes2.scatter(tips['total_bill'], tips['tip'])\n",
    "axes2.set_title('Scatter', fontsize=fontsize + 4)\n",
    "axes2.set_xlabel('Total Bill', fontsize=fontsize)\n",
    "axes2.set_ylabel('Tips', fontsize=fontsize)\n",
    "\n",
    "# plot 3\n",
    "# set the color of the dot based upon sex and the size of the dot based upon party size\n",
    "axes3.scatter(tips['total_bill'], tips['tip'], c=tips['sex_color'], s=tips['size'] * 30)\n",
    "axes3.set_title('Scatter Plot - Sex (color) and Party Size (size)', fontsize=fontsize + 4)\n",
    "axes3.set_xlabel('Total Bill', fontsize=fontsize)\n",
    "axes3.set_ylabel('Tips', fontsize=fontsize)\n",
    "\n",
    "# plot 4\n",
    "# for axes 4, use sns regplot to plot a scatterplot and also produce a regression line on the data\n",
    "sns.regplot(x='total_bill', y='tip', data=tips, ax=axes4)\n",
    "axes4.set_title('SNS Scatter Plot with Regression Line', fontsize=fontsize + 4)\n",
    "axes4.set_xlabel('Total Bill', fontsize=fontsize)\n",
    "axes4.set_ylabel('Tips', fontsize=fontsize)\n",
    "\n",
    "# set the title for the overall figure\n",
    "fig.suptitle('Total Bill and Tip', fontsize=fontsize + 8)\n",
    "\n",
    "plt.show()"
   ]
  },
  {
   "cell_type": "markdown",
   "id": "22c3b0b1-58b9-45c5-b16c-01bcf281cc91",
   "metadata": {},
   "source": [
    "### But does it work with lists?"
   ]
  },
  {
   "cell_type": "markdown",
   "id": "966cc00e-f772-49eb-b2c3-d1d33ddbd583",
   "metadata": {},
   "source": [
    "All the examples so far have used a Pandas dataframe for the base data.\n",
    "\n",
    "Fortunately, the `matplotlib` and `Seaborn` libraries both accept \"list-like\" inputs, so the methods work as expected if simple lists are supplied.\n",
    "\n",
    "Let's demonstrate this."
   ]
  },
  {
   "cell_type": "markdown",
   "id": "a9298e75-03c4-446d-871b-7798707287bc",
   "metadata": {},
   "source": [
    "### Demonstrating by extracting lists from the Pandas dataframe"
   ]
  },
  {
   "cell_type": "markdown",
   "id": "74c5e82e-131e-449e-b4cc-14124c726044",
   "metadata": {
    "tags": []
   },
   "source": [
    "Firs, we extract the data lists directly from the Pandas dataframe"
   ]
  },
  {
   "cell_type": "code",
   "execution_count": null,
   "id": "55e4975b-0326-4a20-ab63-82d27863fdb3",
   "metadata": {},
   "outputs": [],
   "source": [
    "tips.head()"
   ]
  },
  {
   "cell_type": "code",
   "execution_count": null,
   "id": "b8ed9ea8-e2e5-48b1-95c6-28f2d591bef6",
   "metadata": {
    "tags": []
   },
   "outputs": [],
   "source": [
    "total_bill_list = tips['total_bill'].tolist()\n",
    "total_bill_list[0:5]"
   ]
  },
  {
   "cell_type": "code",
   "execution_count": null,
   "id": "e39949fd-773d-4c15-b9ba-821beb5a1c76",
   "metadata": {
    "tags": []
   },
   "outputs": [],
   "source": [
    "tip_list = tips['tip'].tolist()\n",
    "tip_list[0:5]"
   ]
  },
  {
   "cell_type": "code",
   "execution_count": null,
   "id": "baac8739-943d-48e5-a09d-1a79aca92171",
   "metadata": {},
   "outputs": [],
   "source": [
    "sex_list = tips['sex_color'].tolist()\n",
    "sex_list[0:5]"
   ]
  },
  {
   "cell_type": "code",
   "execution_count": null,
   "id": "c2fed567-241d-454a-8133-7021b746d250",
   "metadata": {
    "tags": []
   },
   "outputs": [],
   "source": [
    "size_list = tips['size'].tolist()\n",
    "size_list[0:5]"
   ]
  },
  {
   "cell_type": "markdown",
   "id": "c4d06948-941f-4bee-b2c5-64de5c9e89e9",
   "metadata": {},
   "source": [
    "We have to set the explicit sizes in the list in order to pass the list to Seaborn (in a later cell).  \n",
    "\n",
    "Previously, we scaled the size of the party by mutliplying the size by 30, so we will do that again here."
   ]
  },
  {
   "cell_type": "code",
   "execution_count": null,
   "id": "17e134eb-10fe-48af-b2b9-7e0fb5707756",
   "metadata": {
    "tags": []
   },
   "outputs": [],
   "source": [
    "size_list = list(map(lambda x:x * 30, size_list))\n",
    "size_list[0:5]"
   ]
  },
  {
   "cell_type": "markdown",
   "id": "7311b59b-1b58-444d-8945-9eca53e31901",
   "metadata": {},
   "source": [
    "Now, we will build the same figure as before, but use the lists as inputs.  \n",
    "\n",
    "Note that this code is essentially the same as the previous figure code, but changes the parameters to the plot routines to use the lists as data rather than using the Pandas dataframe."
   ]
  },
  {
   "cell_type": "code",
   "execution_count": null,
   "id": "e711c8e9-35c5-4bbc-a8b3-7033d0f2e94d",
   "metadata": {
    "tags": []
   },
   "outputs": [],
   "source": [
    "# set the figure size big enough to show the subplots; note we are saving the figure object reference to use later\n",
    "fig = plt.figure(figsize=(30, 20))\n",
    "\n",
    "# now, within the larger figure, add subplots for each dataset.  \n",
    "# We are going to have a 2 x 2 grid of graphs and they are numbered from top-left to bottom-right\n",
    "# Each time we create a subplot, we are going to get an `axes` object so we can address that particular subplot\n",
    "axes1 = fig.add_subplot(2, 2, 1)\n",
    "axes2 = fig.add_subplot(2, 2, 2)\n",
    "axes3 = fig.add_subplot(2, 2, 3)\n",
    "axes4 = fig.add_subplot(2, 2, 4)\n",
    "\n",
    "# plot each of the 4 datasets in the appropriate subplot\n",
    "fontsize = 16\n",
    "\n",
    "# plot 1  ---- CHANGED TO USE LISTS\n",
    "axes1.plot(total_bill_list, tip_list, 'o')\n",
    "axes1.set_title('Dot Plot', fontsize=fontsize + 4)\n",
    "axes1.set_xlabel('Total Bill', fontsize=fontsize)\n",
    "axes1.set_ylabel('Tips', fontsize=fontsize)\n",
    "\n",
    "# plot 2 ---- CHANGED TO USE LISTS\n",
    "axes2.scatter(total_bill_list, tip_list)\n",
    "axes2.set_title('Scatter', fontsize=fontsize + 4)\n",
    "axes2.set_xlabel('Total Bill', fontsize=fontsize)\n",
    "axes2.set_ylabel('Tips', fontsize=fontsize)\n",
    "\n",
    "# plot 3 ---- CHANGED TO USE LISTS\n",
    "# set the color of the dot based upon sex and the size of the dot based upon party size\n",
    "axes3.scatter(total_bill_list, tip_list, c=sex_list, s=size_list)\n",
    "axes3.set_title('Scatter Plot - Sex (color) and Party Size (size)', fontsize=fontsize + 4)\n",
    "axes3.set_xlabel('Total Bill', fontsize=fontsize)\n",
    "axes3.set_ylabel('Tips', fontsize=fontsize)\n",
    "\n",
    "# plot 4 ---- CHANGED TO USE LISTS\n",
    "# for axes 4, use sns regplot to plot a scatterplot and also produce a regression line on the data\n",
    "sns.regplot(x=total_bill_list, y=tip_list, ax=axes4)\n",
    "axes4.set_title('SNS Scatter Plot with Regression Line', fontsize=fontsize + 4)\n",
    "axes4.set_xlabel('Total Bill', fontsize=fontsize)\n",
    "axes4.set_ylabel('Tips', fontsize=fontsize)\n",
    "\n",
    "# set the title for the overall figure\n",
    "fig.suptitle('Total Bill and Tip', fontsize=fontsize + 8)\n",
    "\n",
    "plt.show()"
   ]
  },
  {
   "cell_type": "markdown",
   "id": "094568e6-0de2-4276-943b-93f2dc1dc171",
   "metadata": {
    "tags": []
   },
   "source": [
    "### Demonstrating with random data"
   ]
  },
  {
   "cell_type": "markdown",
   "id": "f83111d8-86f8-41e7-9560-15760de1e52f",
   "metadata": {},
   "source": [
    "We can also demonstrate by generating some random data."
   ]
  },
  {
   "cell_type": "markdown",
   "id": "67315ec6-12eb-4fac-a611-f4595c7caf3f",
   "metadata": {
    "tags": []
   },
   "source": [
    "First, we will generate some random data to simulate the total bill and tip values and store those values in lists."
   ]
  },
  {
   "cell_type": "code",
   "execution_count": null,
   "id": "83a58630-769c-406b-b73c-a40a55e19e13",
   "metadata": {},
   "outputs": [],
   "source": [
    "import random\n",
    "sample_size = 20\n",
    "total_bill_list = [random.uniform(5, 60) for i in range(sample_size)]\n",
    "total_bill_list"
   ]
  },
  {
   "cell_type": "code",
   "execution_count": null,
   "id": "1d1336ff-263b-416b-8b0e-ef1a4649eafa",
   "metadata": {
    "tags": []
   },
   "outputs": [],
   "source": [
    "tip_list = [random.uniform(1, 10) for i in range(sample_size)]\n",
    "tip_list"
   ]
  },
  {
   "cell_type": "markdown",
   "id": "30068f55-b712-4f3e-97d6-e1591917f63d",
   "metadata": {},
   "source": [
    "One of our sample graphs above used colors for the sex and set the size of the dot based upon the size of the dinner party.\n",
    "\n",
    "To produce a similar graph, we will generate a list of random colors and random sizes.  \n",
    "\n",
    "Note that this is not using the actual data to set the color values.  We are simply setting random color values."
   ]
  },
  {
   "cell_type": "code",
   "execution_count": null,
   "id": "54af0598-d24e-4f8a-bc82-a3b65b51f5e8",
   "metadata": {},
   "outputs": [],
   "source": [
    "sex_list = [random.choice(['r', 'b']) for i in range(sample_size)]\n",
    "sex_list"
   ]
  },
  {
   "cell_type": "markdown",
   "id": "c22471c4-0639-43c5-aac2-c1c70c8b745a",
   "metadata": {},
   "source": [
    "Now, we generate the random party size (i.e., we are not using the original data) and applying the scaling (i.e., multiplying by 30) at the same time."
   ]
  },
  {
   "cell_type": "code",
   "execution_count": null,
   "id": "6c1400c4-2d35-4b3a-88b7-080ee7de3f24",
   "metadata": {
    "tags": []
   },
   "outputs": [],
   "source": [
    "size_list = [random.randint(1, 6) * 30 for i in range(sample_size)]\n",
    "size_list"
   ]
  },
  {
   "cell_type": "markdown",
   "id": "aa15a860-9c12-4969-a658-ef6b9c32f8ac",
   "metadata": {},
   "source": [
    "Rerun the \"list\" version of the figure with our random data.\n",
    "\n",
    "Repeating all this code in different cells is a pain (and error prone)!  We should have made a function to do this!  😀"
   ]
  },
  {
   "cell_type": "code",
   "execution_count": null,
   "id": "7747ba2f-a229-4ec2-8d78-f06632f42dfb",
   "metadata": {
    "tags": []
   },
   "outputs": [],
   "source": [
    "# set the figure size big enough to show the subplots; note we are saving the figure object reference to use later\n",
    "fig = plt.figure(figsize=(30, 20))\n",
    "\n",
    "# now, within the larger figure, add subplots for each dataset.  \n",
    "# We are going to have a 2 x 2 grid of graphs and they are numbered from top-left to bottom-right\n",
    "# Each time we create a subplot, we are going to get an `axes` object so we can address that particular subplot\n",
    "axes1 = fig.add_subplot(2, 2, 1)\n",
    "axes2 = fig.add_subplot(2, 2, 2)\n",
    "axes3 = fig.add_subplot(2, 2, 3)\n",
    "axes4 = fig.add_subplot(2, 2, 4)\n",
    "\n",
    "# plot each of the 4 datasets in the appropriate subplot\n",
    "fontsize = 16\n",
    "\n",
    "# plot 1  ---- CHANGED TO USE LISTS\n",
    "axes1.plot(total_bill_list, tip_list, 'o')\n",
    "axes1.set_title('Dot Plot', fontsize=fontsize + 4)\n",
    "axes1.set_xlabel('Total Bill', fontsize=fontsize)\n",
    "axes1.set_ylabel('Tips', fontsize=fontsize)\n",
    "\n",
    "# plot 2 ---- CHANGED TO USE LISTS\n",
    "axes2.scatter(total_bill_list, tip_list)\n",
    "axes2.set_title('Scatter', fontsize=fontsize + 4)\n",
    "axes2.set_xlabel('Total Bill', fontsize=fontsize)\n",
    "axes2.set_ylabel('Tips', fontsize=fontsize)\n",
    "\n",
    "# plot 3 ---- CHANGED TO USE LISTS\n",
    "# set the color of the dot based upon sex and the size of the dot based upon party size\n",
    "axes3.scatter(total_bill_list, tip_list, c=sex_list, s=size_list)\n",
    "axes3.set_title('Scatter Plot - Sex (color) and Party Size (size)', fontsize=fontsize + 4)\n",
    "axes3.set_xlabel('Total Bill', fontsize=fontsize)\n",
    "axes3.set_ylabel('Tips', fontsize=fontsize)\n",
    "\n",
    "# plot 4 ---- CHANGED TO USE LISTS\n",
    "# for axes 4, use sns regplot to plot a scatterplot and also produce a regression line on the data\n",
    "sns.regplot(x=total_bill_list, y=tip_list, ax=axes4)\n",
    "axes4.set_title('SNS Scatter Plot with Regression Line', fontsize=fontsize + 4)\n",
    "axes4.set_xlabel('Total Bill', fontsize=fontsize)\n",
    "axes4.set_ylabel('Tips', fontsize=fontsize)\n",
    "\n",
    "# set the title for the overall figure\n",
    "fig.suptitle('Total Bill and Tip', fontsize=fontsize + 8)\n",
    "\n",
    "plt.show()"
   ]
  },
  {
   "cell_type": "markdown",
   "id": "a2306c70-dd39-4dda-8c03-55747de4835c",
   "metadata": {},
   "source": [
    "### Another Multi-part Figure"
   ]
  },
  {
   "cell_type": "markdown",
   "id": "7cfa0d9b-2fb7-4061-bb0f-bc374645a3a1",
   "metadata": {},
   "source": [
    "Here is another example of providing several views of the data in a single figure.  \n",
    "\n",
    "We will go back to using the tips dataframe for these examples."
   ]
  },
  {
   "cell_type": "markdown",
   "id": "778bd0ab-8df7-4899-88ca-c0f26864738c",
   "metadata": {
    "tags": []
   },
   "source": [
    "Since the total bill and the tips are in dollars and cents, we will bin the values into buckets to count them.  Define the bins for each."
   ]
  },
  {
   "cell_type": "code",
   "execution_count": null,
   "id": "1c342458-26ae-4538-b98b-905bd8baba1f",
   "metadata": {},
   "outputs": [],
   "source": [
    "tips"
   ]
  },
  {
   "cell_type": "code",
   "execution_count": null,
   "id": "3fa06b6d-fb39-4901-bff4-06745131e5c8",
   "metadata": {
    "tags": []
   },
   "outputs": [],
   "source": [
    "bill_bins_to_use = range(0, 60, 5)\n",
    "\n",
    "tip_bins_to_use = range(0, 10)"
   ]
  },
  {
   "cell_type": "markdown",
   "id": "cad37390-ab5a-452a-8444-97d838b5562a",
   "metadata": {},
   "source": [
    "Now, make a 4 part figure with several views of the two variables together.  In this case, we use the Seaborn library to construct each component graph."
   ]
  },
  {
   "cell_type": "code",
   "execution_count": null,
   "id": "c1c5f567-945b-43b5-95a7-058f019adcaf",
   "metadata": {},
   "outputs": [],
   "source": [
    "fig = plt.figure(figsize=(30, 20))\n",
    "\n",
    "fontsize = 16\n",
    "fig.suptitle('Tips and Total Bill Comparison', fontsize=fontsize + 8)\n",
    "fig.fontsize = fontsize\n",
    "\n",
    "axes1 = fig.add_subplot(2, 2, 1)\n",
    "axes2 = fig.add_subplot(2, 2, 2)\n",
    "axes3 = fig.add_subplot(2, 2, 3)\n",
    "axes4 = fig.add_subplot(2, 2, 4)\n",
    "\n",
    "# plot 1\n",
    "sns.histplot(data=tips, x='total_bill', hue='sex', bins=bill_bins_to_use, ax=axes1)\n",
    "axes1.set_title('Frequency of Total Bill Values', fontsize=fontsize + 4)\n",
    "axes1.grid()\n",
    "axes1.set_yticks(ticks=range(0, 50, 5))\n",
    "axes1.set_xlabel('Total Bill', fontsize=fontsize)\n",
    "axes1.set_ylabel('Count', fontsize=fontsize)\n",
    "\n",
    "# plot 2\n",
    "sns.scatterplot(data=tips, x='total_bill', y='tip', hue='sex', ax=axes2)\n",
    "axes2.set_title('Tips by Total Bill', fontsize=fontsize + 4)\n",
    "axes2.set_xlabel('Total Bill', fontsize=fontsize)\n",
    "axes2.set_ylabel('Tip', fontsize=fontsize)\n",
    "\n",
    "# plot 3\n",
    "sns.kdeplot(data=tips, x='total_bill', y='tip', shade=True, color='g', hue=None, ax=axes3)\n",
    "axes3.set_title('Density Function of Total Bill and Tips', fontsize=fontsize + 4)\n",
    "axes3.set_xlabel('Total Bill', fontsize=fontsize)\n",
    "axes3.set_ylabel('Tip', fontsize=fontsize)\n",
    "\n",
    "# plot 4\n",
    "sns.histplot(data=tips, x='tip', hue='sex', bins=tip_bins_to_use, ax=axes4)\n",
    "axes4.set_title('Frequency of Tip Values', fontsize=fontsize + 4)\n",
    "axes4.grid()\n",
    "axes4.set_yticks(ticks=range(0, 50, 5))\n",
    "axes4.set_xlabel('Tip', fontsize=fontsize)\n",
    "axes4.set_ylabel('Count', fontsize=fontsize)\n",
    "\n",
    "plt.show()"
   ]
  },
  {
   "cell_type": "markdown",
   "id": "0a36f845-ceb9-4bf5-9080-1e202444391a",
   "metadata": {},
   "source": [
    "Let's check our graph results."
   ]
  },
  {
   "cell_type": "markdown",
   "id": "a5d96eec-e148-47ff-b7ca-e6ef4fac5c07",
   "metadata": {},
   "source": [
    "First, use the Pandas `value_counts` method, specifying the bins used to count.  We will take a look at the total bill, but we could the same thing for the tip value."
   ]
  },
  {
   "cell_type": "code",
   "execution_count": null,
   "id": "b0e299e7-1411-4198-9559-3e6918ce7b52",
   "metadata": {
    "tags": []
   },
   "outputs": [],
   "source": [
    "tips.groupby('sex')['total_bill'].value_counts(bins=bill_bins_to_use).sort_index()"
   ]
  },
  {
   "cell_type": "markdown",
   "id": "83e4b148-d9e6-4d32-9ee1-d256ab3dc6a7",
   "metadata": {},
   "source": [
    "Note the counts for female patrons in the (20.0, 25.0] range and in the (25.0, 30.0] range.\n",
    "\n",
    "Now, look back at the graph.\n",
    "\n",
    "What happened here?"
   ]
  },
  {
   "cell_type": "code",
   "execution_count": null,
   "id": "5b9d3745-a9b9-452e-b063-9e7b71f085c6",
   "metadata": {},
   "outputs": [],
   "source": [
    "tips[(tips['total_bill'] == 25.0) & (tips['sex'] == 'Female')]"
   ]
  },
  {
   "cell_type": "markdown",
   "id": "3f8b265e-e31d-4609-bcf2-65dbcc57aa94",
   "metadata": {},
   "source": [
    "There is one observation where the total bill is exactly $25.00, right on the border between 2 bins.  \n",
    "\n",
    "Our graph included this count in the range [25.0, 30.0), but the `value_counts` method included the count in (20.0, 25.0] (note the brackets)."
   ]
  },
  {
   "cell_type": "markdown",
   "id": "b11357c2-2997-44ce-8bc3-f33e5512f22e",
   "metadata": {
    "tags": []
   },
   "source": [
    "We can use the Pandas `cut` function to be more specific on the binning of border cases.  By default, `cut` acts like `value_counts` and includes the bottom value of the bin, but not the top."
   ]
  },
  {
   "cell_type": "code",
   "execution_count": null,
   "id": "f6b00119-54cc-48ad-a3f0-2056a7963cf7",
   "metadata": {
    "tags": []
   },
   "outputs": [],
   "source": [
    "tips.groupby([pd.cut( tips['total_bill'], bill_bins_to_use), 'sex'])['total_bill'].count()"
   ]
  },
  {
   "cell_type": "markdown",
   "id": "a0a5aa80-54d0-49cc-b51a-e30d4934c3c4",
   "metadata": {},
   "source": [
    "We can modify this behavior by setting the `right` parameter to `False`.  Now, the bin counts will include the lower bound values, but exclude the upper bound, just as the histogram did."
   ]
  },
  {
   "cell_type": "code",
   "execution_count": null,
   "id": "bde36b15-052d-498f-bad2-93c36ef2f05c",
   "metadata": {},
   "outputs": [],
   "source": [
    "tips.groupby([pd.cut( tips['total_bill'], bill_bins_to_use, right=False), 'sex'])['total_bill'].count()"
   ]
  },
  {
   "cell_type": "code",
   "execution_count": null,
   "id": "ea1f186b-597f-43c8-8b1b-62ba54f0520b",
   "metadata": {},
   "outputs": [],
   "source": []
  }
 ],
 "metadata": {
  "kernelspec": {
   "display_name": "CSCI2310-Work",
   "language": "python",
   "name": "python3"
  },
  "language_info": {
   "codemirror_mode": {
    "name": "ipython",
    "version": 3
   },
   "file_extension": ".py",
   "mimetype": "text/x-python",
   "name": "python",
   "nbconvert_exporter": "python",
   "pygments_lexer": "ipython3",
   "version": "3.10.9"
  },
  "vscode": {
   "interpreter": {
    "hash": "62d8bb5bef9a11e2af1a2fcea549324af377ddc8b6c68834540f9082573488f4"
   }
  }
 },
 "nbformat": 4,
 "nbformat_minor": 5
}
