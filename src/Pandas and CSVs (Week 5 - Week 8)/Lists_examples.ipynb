{
 "cells": [
  {
   "cell_type": "markdown",
   "id": "3127dffe-a5b2-4624-bc61-be35353f2ee4",
   "metadata": {},
   "source": [
    "# Beware of these potential issues when working with lists."
   ]
  },
  {
   "cell_type": "markdown",
   "id": "afd86279-6771-4b64-b884-b3db32377ae2",
   "metadata": {},
   "source": [
    "#### Lists are mutable, so take care when using them"
   ]
  },
  {
   "cell_type": "code",
   "execution_count": 25,
   "id": "c8f1cf76-2d63-4e09-a1b1-c1d10897411a",
   "metadata": {},
   "outputs": [],
   "source": [
    "list1 = [50,30,10,4,1]"
   ]
  },
  {
   "cell_type": "code",
   "execution_count": 2,
   "id": "bba7de9e-ee2e-434f-84e2-6898e3db7b67",
   "metadata": {},
   "outputs": [
    {
     "data": {
      "text/plain": [
       "[50, 30, 10, 4, 1]"
      ]
     },
     "execution_count": 2,
     "metadata": {},
     "output_type": "execute_result"
    }
   ],
   "source": [
    "list1"
   ]
  },
  {
   "cell_type": "code",
   "execution_count": 15,
   "id": "b8e5f980-632b-4333-99e3-1f1366ed50a7",
   "metadata": {},
   "outputs": [],
   "source": [
    "def myfunc_assignment(alist):\n",
    "    thislist = alist\n",
    "    thislist[0] = 100\n",
    "    print(f\"new list inside function: {thislist}\")\n",
    "    print(f\"original list passed to function: {alist}\")\n",
    "    # return new list\n",
    "    return thislist"
   ]
  },
  {
   "cell_type": "code",
   "execution_count": 16,
   "id": "51cd8145-af9d-4579-a483-0ef629ec7597",
   "metadata": {},
   "outputs": [
    {
     "name": "stdout",
     "output_type": "stream",
     "text": [
      "new list inside function: [100, 30, 10, 4, 1]\n",
      "original list passed to function: [100, 30, 10, 4, 1]\n"
     ]
    },
    {
     "data": {
      "text/plain": [
       "[100, 30, 10, 4, 1]"
      ]
     },
     "execution_count": 16,
     "metadata": {},
     "output_type": "execute_result"
    }
   ],
   "source": [
    "myfunc_assignment(list1)"
   ]
  },
  {
   "cell_type": "code",
   "execution_count": 13,
   "id": "20dd8dff-e97f-41a3-9ad2-3b6831552198",
   "metadata": {},
   "outputs": [
    {
     "data": {
      "text/plain": [
       "[100, 30, 10, 4, 1]"
      ]
     },
     "execution_count": 13,
     "metadata": {},
     "output_type": "execute_result"
    }
   ],
   "source": [
    "list1"
   ]
  },
  {
   "cell_type": "code",
   "execution_count": 21,
   "id": "87607888-8f06-4f34-9949-38113ab9cc82",
   "metadata": {},
   "outputs": [],
   "source": [
    "def myfunc_copy(alist):\n",
    "    thislist = alist.copy()\n",
    "    thislist[0] = 100\n",
    "    print(f\"new list inside function: {thislist}\")\n",
    "    print(f\"original list passed to function: {alist}\")\n",
    "    # return new list\n",
    "    return thislist"
   ]
  },
  {
   "cell_type": "code",
   "execution_count": 18,
   "id": "6e870d5e-7cd4-434c-8d4e-d2bfcb0a8e09",
   "metadata": {},
   "outputs": [],
   "source": [
    "list1 = [50,30,10,4,1]"
   ]
  },
  {
   "cell_type": "code",
   "execution_count": 19,
   "id": "31fdd969-80c1-4692-8746-bc4477dbdb88",
   "metadata": {},
   "outputs": [
    {
     "data": {
      "text/plain": [
       "[50, 30, 10, 4, 1]"
      ]
     },
     "execution_count": 19,
     "metadata": {},
     "output_type": "execute_result"
    }
   ],
   "source": [
    "list1"
   ]
  },
  {
   "cell_type": "code",
   "execution_count": 22,
   "id": "bcab02ad-cbc9-4ef6-9595-ba548df776e0",
   "metadata": {},
   "outputs": [
    {
     "name": "stdout",
     "output_type": "stream",
     "text": [
      "new list inside function: [100, 30, 10, 4, 1]\n",
      "original list passed to function: [50, 30, 10, 4, 1]\n"
     ]
    },
    {
     "data": {
      "text/plain": [
       "[100, 30, 10, 4, 1]"
      ]
     },
     "execution_count": 22,
     "metadata": {},
     "output_type": "execute_result"
    }
   ],
   "source": [
    "myfunc_copy(list1)"
   ]
  },
  {
   "cell_type": "code",
   "execution_count": 23,
   "id": "ba50e299-635e-4e42-ae0e-9940e0043351",
   "metadata": {},
   "outputs": [
    {
     "data": {
      "text/plain": [
       "[50, 30, 10, 4, 1]"
      ]
     },
     "execution_count": 23,
     "metadata": {},
     "output_type": "execute_result"
    }
   ],
   "source": [
    "list1"
   ]
  },
  {
   "cell_type": "markdown",
   "id": "1cb58b6f-dddf-4851-abd6-aca970baa68b",
   "metadata": {},
   "source": [
    "#### Be aware that .copy is a \"shallow\" copy and will not copy mutable objects inside of the list.  You have to use copy.deepcopy() in that case."
   ]
  },
  {
   "cell_type": "code",
   "execution_count": 28,
   "id": "9e790145-ce3a-4ae6-9bfc-91625406187e",
   "metadata": {},
   "outputs": [],
   "source": [
    "import copy\n",
    "def myfunc_deepcopy(alist):\n",
    "    thislist = copy.deepcopy(alist)\n",
    "    thislist[0] = 100\n",
    "    print(f\"new list inside function: {thislist}\")\n",
    "    print(f\"original list passed to function: {alist}\")\n",
    "    # return new list\n",
    "    return thislist"
   ]
  },
  {
   "cell_type": "code",
   "execution_count": 29,
   "id": "1b5968f9-348f-4c07-b66c-365c1a485125",
   "metadata": {},
   "outputs": [],
   "source": [
    "list1 = [50,30,10,4,1]"
   ]
  },
  {
   "cell_type": "code",
   "execution_count": 30,
   "id": "a5db120e-16f7-40c5-87f9-5a9af20a1fca",
   "metadata": {},
   "outputs": [
    {
     "name": "stdout",
     "output_type": "stream",
     "text": [
      "new list inside function: [100, 30, 10, 4, 1]\n",
      "original list passed to function: [50, 30, 10, 4, 1]\n"
     ]
    },
    {
     "data": {
      "text/plain": [
       "[100, 30, 10, 4, 1]"
      ]
     },
     "execution_count": 30,
     "metadata": {},
     "output_type": "execute_result"
    }
   ],
   "source": [
    "myfunc_deepcopy(list1)"
   ]
  },
  {
   "cell_type": "markdown",
   "id": "c47584cf-3682-4d8e-a1b8-5d0062896491",
   "metadata": {},
   "source": [
    "#### Be careful if you are editing a list while using an iterator. This can cause a subtle error, especially when combined with a shallow copy error."
   ]
  },
  {
   "cell_type": "code",
   "execution_count": 45,
   "id": "d2415906-1904-4f7a-b029-255183b6791e",
   "metadata": {},
   "outputs": [],
   "source": [
    "list1 = [50,30,10,4,1]"
   ]
  },
  {
   "cell_type": "code",
   "execution_count": 46,
   "id": "29702bb1-e976-44fb-afe3-b77d3bbdbcaf",
   "metadata": {},
   "outputs": [
    {
     "name": "stdout",
     "output_type": "stream",
     "text": [
      "0:50:[50, 30, 10, 4, 1]\n",
      "1:30:[50, 30, 10, 4, 1]\n",
      "2:10:[50, 30, 10, 4, 1]\n",
      "3:4:[50, 30, 10, 4, 1]\n",
      "4:1:[50, 30, 10, 4, 1]\n"
     ]
    }
   ],
   "source": [
    "for (i,value) in enumerate(list1):\n",
    "    print(f\"{i}:{value}:{list1}\")"
   ]
  },
  {
   "cell_type": "code",
   "execution_count": 53,
   "id": "f019ec76-ac02-4a93-8f60-0a0d3a6b6d23",
   "metadata": {},
   "outputs": [
    {
     "name": "stdout",
     "output_type": "stream",
     "text": [
      "before pop: value of list at index 0: 50\n",
      "after pop: value of list at index 0: 50\n",
      "i=0,value=50,list1[0]=50,list1=[50, 30, 10, 4, 1]\n",
      "\n",
      "before pop: value of list at index 1: 30\n",
      "after pop: value of list at index 1: 10\n",
      "i=1,value=30,list1[1]=10,list1=[50, 10, 4, 1]\n",
      "\n",
      "before pop: value of list at index 2: 4\n",
      "after pop: value of list at index 2: 4\n",
      "i=2,value=4,list1[2]=4,list1=[50, 10, 4, 1]\n",
      "\n",
      "before pop: value of list at index 3: 1\n",
      "after pop: value of list at index 3: 1\n",
      "i=3,value=1,list1[3]=1,list1=[50, 10, 4, 1]\n",
      "\n"
     ]
    }
   ],
   "source": [
    "list1 = [50,30,10,4,1]\n",
    "for (i,value) in enumerate(list1):\n",
    "    print(f\"before pop: value of list at index {i}: {value}\")\n",
    "    if (value == 30):\n",
    "        list1.pop(i)\n",
    "    print(f\"after pop: value of list at index {i}: {list1[i]}\")\n",
    "    print(f\"i={i},value={value},list1[{i}]={list1[i]},list1={list1}\")\n",
    "    print()"
   ]
  }
 ],
 "metadata": {
  "kernelspec": {
   "display_name": "Python 3 (ipykernel)",
   "language": "python",
   "name": "python3"
  },
  "language_info": {
   "codemirror_mode": {
    "name": "ipython",
    "version": 3
   },
   "file_extension": ".py",
   "mimetype": "text/x-python",
   "name": "python",
   "nbconvert_exporter": "python",
   "pygments_lexer": "ipython3",
   "version": "3.9.7"
  }
 },
 "nbformat": 4,
 "nbformat_minor": 5
}
