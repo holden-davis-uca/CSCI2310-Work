{
 "cells": [
  {
   "cell_type": "markdown",
   "id": "0025d819-c7fc-4369-90d7-8dde9dc402f7",
   "metadata": {},
   "source": [
    "# Introduction to Data Science Self Check\n",
    "Answers to these questions can be found in Introduction Lecture and Chapter 1 of the textbook. Check the Introduction to Data Science Module on Blackboard for more information."
   ]
  },
  {
   "cell_type": "code",
   "execution_count": null,
   "id": "fcf6e08a-573a-4f50-8189-a2df773423f9",
   "metadata": {},
   "outputs": [],
   "source": [
    "**What is your definition of data science??**"
   ]
  },
  {
   "cell_type": "markdown",
   "id": "7784f235-92e2-425d-a278-34440248b04a",
   "metadata": {},
   "source": [
    "**What are some of the causes in the growth of data science?**"
   ]
  },
  {
   "cell_type": "markdown",
   "id": "b9644566-83b4-4591-bfb9-0f039209be5a",
   "metadata": {},
   "source": [
    "**What is Moore's law?**"
   ]
  },
  {
   "cell_type": "markdown",
   "id": "d2e6431e-11e3-46c2-b5db-b2dead9f63a3",
   "metadata": {},
   "source": [
    "**What are the 6 steps in a data science project?**"
   ]
  },
  {
   "cell_type": "markdown",
   "id": "dbba5b73-6b17-41b5-aa29-d9b007ebe681",
   "metadata": {},
   "source": [
    "**How much time is spent on data prepartion vs modeling in a Data Science project?**"
   ]
  },
  {
   "cell_type": "markdown",
   "id": "a879beec-e0fe-46fc-9e53-3c0349b9dbb6",
   "metadata": {},
   "source": [
    "**What is meant by the \"Unreasonable Effectiveness of Data\"?**"
   ]
  },
  {
   "cell_type": "markdown",
   "id": "fda596a7-6fd2-4716-a83c-4ff08ac174eb",
   "metadata": {},
   "source": [
    "**What the the four V's of Big Data?**"
   ]
  }
 ],
 "metadata": {
  "kernelspec": {
   "display_name": "CSCI2310-Work",
   "language": "python",
   "name": "python3"
  },
  "language_info": {
   "codemirror_mode": {
    "name": "ipython",
    "version": 3
   },
   "file_extension": ".py",
   "mimetype": "text/x-python",
   "name": "python",
   "nbconvert_exporter": "python",
   "pygments_lexer": "ipython3",
   "version": "3.10.9 (tags/v3.10.9:1dd9be6, Dec  6 2022, 20:01:21) [MSC v.1934 64 bit (AMD64)]"
  },
  "vscode": {
   "interpreter": {
    "hash": "299409b180f29f8b3a330776e686c6d359741b559248a960bf42e2edb94ee730"
   }
  }
 },
 "nbformat": 4,
 "nbformat_minor": 5
}
