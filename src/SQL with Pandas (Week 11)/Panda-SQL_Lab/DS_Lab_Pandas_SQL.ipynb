{
 "cells": [
  {
   "cell_type": "markdown",
   "id": "5a716f3b-8401-4b1c-ad55-b806f5ab2992",
   "metadata": {},
   "source": [
    "# Introduction to Data Science - Lab - Using SQL with Pandas"
   ]
  },
  {
   "attachments": {},
   "cell_type": "markdown",
   "id": "8fe30579-08b4-4e9b-91b4-92353af4e613",
   "metadata": {},
   "source": [
    "#### <span style=\"color:red\">Name: Holden Davis</span>"
   ]
  },
  {
   "cell_type": "markdown",
   "id": "f0591351-779a-46db-acb8-d2e5a213c999",
   "metadata": {},
   "source": [
    "## Introduction\n",
    "\n",
    "The purpose of this project is to explore using SQL as the language to interact with Pandas dataframes.  \n",
    "\n",
    "<span style=\"color:blue\">While it is certainly possible to perform all the tasks in this notebook directly using Pandas functions, the point of this exercise is to use SQL.  This means this project will be graded on your use of SQL, so you should use SQL!  😀</span>\n",
    "\n",
    "Hint: You need to install the Panda SQL module to complete this lab.  See lecture notebook for more information."
   ]
  },
  {
   "cell_type": "markdown",
   "id": "84307c14-fb9b-4ee8-b7bb-2255c376b1f4",
   "metadata": {},
   "source": [
    "For this exercise, we will use data about colleges from the file:\n",
    "\n",
    "- College.csv"
   ]
  },
  {
   "attachments": {},
   "cell_type": "markdown",
   "id": "b847b628-a340-446e-b704-1cf542c2b8b9",
   "metadata": {},
   "source": [
    "## Import the modules you need here."
   ]
  },
  {
   "cell_type": "code",
   "execution_count": 47,
   "id": "de0f973c",
   "metadata": {},
   "outputs": [],
   "source": [
    "import pandas as pd\n",
    "from pandasql import sqldf"
   ]
  },
  {
   "cell_type": "markdown",
   "id": "eadc7ffe-42ed-45c7-a4b4-4c0b5c8cbe91",
   "metadata": {
    "tags": []
   },
   "source": [
    "---\n",
    "## <span style=\"color:red\">Task 1</span>"
   ]
  },
  {
   "cell_type": "markdown",
   "id": "1b9e8ed6-806c-4d50-b1a0-e979d0b94806",
   "metadata": {},
   "source": [
    "Create a convenience lambda function to use with `pandasql` that passes global variables to your query object. "
   ]
  },
  {
   "cell_type": "code",
   "execution_count": 48,
   "id": "f5157d28",
   "metadata": {},
   "outputs": [],
   "source": [
    "#Create a convenience lambda function to use with `pandasql` that passes global variables to your query object. \n",
    "queryer = lambda query: sqldf(query, globals())"
   ]
  },
  {
   "cell_type": "markdown",
   "id": "62d91c92-a6dc-413a-b196-a8f4c8886cb2",
   "metadata": {},
   "source": [
    "## Data Aquisition"
   ]
  },
  {
   "cell_type": "markdown",
   "id": "65cd333c-dfe9-441e-8d9f-3e7b2b6dba3f",
   "metadata": {
    "tags": []
   },
   "source": [
    "---\n",
    "## <span style=\"color:red\">Task 2</span>"
   ]
  },
  {
   "cell_type": "markdown",
   "id": "3a244722-72dc-4d17-a885-0597d7b5c8a8",
   "metadata": {},
   "source": [
    "**Read the data file into a dataframe called \"college\".**"
   ]
  },
  {
   "cell_type": "code",
   "execution_count": 49,
   "id": "664b3b5e",
   "metadata": {},
   "outputs": [],
   "source": [
    "#Read the data file into a dataframe called \"college\".\n",
    "college = pd.read_csv('College.csv')"
   ]
  },
  {
   "cell_type": "markdown",
   "id": "dfd65356-c475-4513-93da-cd4993b06288",
   "metadata": {},
   "source": [
    "---\n",
    "## <span style=\"color:red\">Task 3</span>"
   ]
  },
  {
   "cell_type": "markdown",
   "id": "024a3922-7bf5-4e65-b83e-d1a5ee4b4ee6",
   "metadata": {
    "tags": []
   },
   "source": [
    "**Display the summary information (i.e., `info`) about the \"college\" dataframe, including the names of the columns.**"
   ]
  },
  {
   "cell_type": "code",
   "execution_count": 50,
   "id": "b7b3f24a",
   "metadata": {},
   "outputs": [
    {
     "name": "stdout",
     "output_type": "stream",
     "text": [
      "<class 'pandas.core.frame.DataFrame'>\n",
      "RangeIndex: 777 entries, 0 to 776\n",
      "Data columns (total 19 columns):\n",
      " #   Column       Non-Null Count  Dtype  \n",
      "---  ------       --------------  -----  \n",
      " 0   School       777 non-null    object \n",
      " 1   Private      777 non-null    object \n",
      " 2   Apps         777 non-null    int64  \n",
      " 3   Accept       777 non-null    int64  \n",
      " 4   Enroll       777 non-null    int64  \n",
      " 5   Top10perc    777 non-null    int64  \n",
      " 6   Top25perc    777 non-null    int64  \n",
      " 7   F.Undergrad  777 non-null    int64  \n",
      " 8   P.Undergrad  777 non-null    int64  \n",
      " 9   Outstate     777 non-null    int64  \n",
      " 10  Room.Board   777 non-null    int64  \n",
      " 11  Books        777 non-null    int64  \n",
      " 12  Personal     777 non-null    int64  \n",
      " 13  PhD          777 non-null    int64  \n",
      " 14  Terminal     777 non-null    int64  \n",
      " 15  S.F.Ratio    777 non-null    float64\n",
      " 16  perc.alumni  777 non-null    int64  \n",
      " 17  Expend       777 non-null    int64  \n",
      " 18  Grad.Rate    777 non-null    int64  \n",
      "dtypes: float64(1), int64(16), object(2)\n",
      "memory usage: 115.5+ KB\n"
     ]
    }
   ],
   "source": [
    "#Display the summary information (i.e., `info`) about the \"college\" dataframe, including the names of the columns.\n",
    "college.info()"
   ]
  },
  {
   "cell_type": "markdown",
   "id": "94893cbd-3c2b-4499-b448-1deec9101788",
   "metadata": {},
   "source": [
    "---\n",
    "## <span style=\"color:red\">Task 4</span>"
   ]
  },
  {
   "cell_type": "markdown",
   "id": "8743317a-f3ad-40ef-a3a3-66700fb79171",
   "metadata": {
    "tags": []
   },
   "source": [
    "**Pandas SQL does not recognize column names with embedded periods.**\n",
    "\n",
    "**Rename the columns to replace '.' with '_' as needed, then display the summary of the dataframe again.**\n",
    "\n",
    "Check your work by running info again.\n",
    "\n",
    "<span style=\"color:blue\">Hint:</span> Do a little web searching for how to rename **columns** in Pandas"
   ]
  },
  {
   "cell_type": "code",
   "execution_count": 51,
   "id": "b53543d3",
   "metadata": {},
   "outputs": [
    {
     "name": "stdout",
     "output_type": "stream",
     "text": [
      "<class 'pandas.core.frame.DataFrame'>\n",
      "RangeIndex: 777 entries, 0 to 776\n",
      "Data columns (total 19 columns):\n",
      " #   Column       Non-Null Count  Dtype  \n",
      "---  ------       --------------  -----  \n",
      " 0   School       777 non-null    object \n",
      " 1   Private      777 non-null    object \n",
      " 2   Apps         777 non-null    int64  \n",
      " 3   Accept       777 non-null    int64  \n",
      " 4   Enroll       777 non-null    int64  \n",
      " 5   Top10perc    777 non-null    int64  \n",
      " 6   Top25perc    777 non-null    int64  \n",
      " 7   F_Undergrad  777 non-null    int64  \n",
      " 8   P_Undergrad  777 non-null    int64  \n",
      " 9   Outstate     777 non-null    int64  \n",
      " 10  Room_Board   777 non-null    int64  \n",
      " 11  Books        777 non-null    int64  \n",
      " 12  Personal     777 non-null    int64  \n",
      " 13  PhD          777 non-null    int64  \n",
      " 14  Terminal     777 non-null    int64  \n",
      " 15  S_F_Ratio    777 non-null    float64\n",
      " 16  perc_alumni  777 non-null    int64  \n",
      " 17  Expend       777 non-null    int64  \n",
      " 18  Grad_Rate    777 non-null    int64  \n",
      "dtypes: float64(1), int64(16), object(2)\n",
      "memory usage: 115.5+ KB\n"
     ]
    }
   ],
   "source": [
    "#Rename the columns to replace '.' with '_' as needed, then display the summary of the dataframe again.\n",
    "college.columns = [column.replace('.', '_') for column in college.columns]\n",
    "college.info()"
   ]
  },
  {
   "cell_type": "markdown",
   "id": "24ce4592-2d6d-4a98-a838-c8582abd0657",
   "metadata": {},
   "source": [
    "---\n",
    "## <span style=\"color:red\">Task 5</span>"
   ]
  },
  {
   "cell_type": "markdown",
   "id": "855bf47e-e9d2-46b0-95ab-82125dd9c6c3",
   "metadata": {
    "tags": []
   },
   "source": [
    "**Using SQL, select just the following columns from the base dataframe and display the result.:**\n",
    "\n",
    "- school name\n",
    "- private or public status\n",
    "- number of students accepted\n",
    "- number that enrolled"
   ]
  },
  {
   "cell_type": "code",
   "execution_count": 52,
   "id": "8efeab3f",
   "metadata": {},
   "outputs": [
    {
     "data": {
      "text/html": [
       "<div>\n",
       "<style scoped>\n",
       "    .dataframe tbody tr th:only-of-type {\n",
       "        vertical-align: middle;\n",
       "    }\n",
       "\n",
       "    .dataframe tbody tr th {\n",
       "        vertical-align: top;\n",
       "    }\n",
       "\n",
       "    .dataframe thead th {\n",
       "        text-align: right;\n",
       "    }\n",
       "</style>\n",
       "<table border=\"1\" class=\"dataframe\">\n",
       "  <thead>\n",
       "    <tr style=\"text-align: right;\">\n",
       "      <th></th>\n",
       "      <th>School</th>\n",
       "      <th>Private</th>\n",
       "      <th>Accept</th>\n",
       "      <th>Enroll</th>\n",
       "    </tr>\n",
       "  </thead>\n",
       "  <tbody>\n",
       "    <tr>\n",
       "      <th>0</th>\n",
       "      <td>Abilene Christian University</td>\n",
       "      <td>Yes</td>\n",
       "      <td>1232</td>\n",
       "      <td>721</td>\n",
       "    </tr>\n",
       "    <tr>\n",
       "      <th>1</th>\n",
       "      <td>Adelphi University</td>\n",
       "      <td>Yes</td>\n",
       "      <td>1924</td>\n",
       "      <td>512</td>\n",
       "    </tr>\n",
       "    <tr>\n",
       "      <th>2</th>\n",
       "      <td>Adrian College</td>\n",
       "      <td>Yes</td>\n",
       "      <td>1097</td>\n",
       "      <td>336</td>\n",
       "    </tr>\n",
       "    <tr>\n",
       "      <th>3</th>\n",
       "      <td>Agnes Scott College</td>\n",
       "      <td>Yes</td>\n",
       "      <td>349</td>\n",
       "      <td>137</td>\n",
       "    </tr>\n",
       "    <tr>\n",
       "      <th>4</th>\n",
       "      <td>Alaska Pacific University</td>\n",
       "      <td>Yes</td>\n",
       "      <td>146</td>\n",
       "      <td>55</td>\n",
       "    </tr>\n",
       "    <tr>\n",
       "      <th>...</th>\n",
       "      <td>...</td>\n",
       "      <td>...</td>\n",
       "      <td>...</td>\n",
       "      <td>...</td>\n",
       "    </tr>\n",
       "    <tr>\n",
       "      <th>772</th>\n",
       "      <td>Worcester State College</td>\n",
       "      <td>No</td>\n",
       "      <td>1515</td>\n",
       "      <td>543</td>\n",
       "    </tr>\n",
       "    <tr>\n",
       "      <th>773</th>\n",
       "      <td>Xavier University</td>\n",
       "      <td>Yes</td>\n",
       "      <td>1805</td>\n",
       "      <td>695</td>\n",
       "    </tr>\n",
       "    <tr>\n",
       "      <th>774</th>\n",
       "      <td>Xavier University of Louisiana</td>\n",
       "      <td>Yes</td>\n",
       "      <td>1915</td>\n",
       "      <td>695</td>\n",
       "    </tr>\n",
       "    <tr>\n",
       "      <th>775</th>\n",
       "      <td>Yale University</td>\n",
       "      <td>Yes</td>\n",
       "      <td>2453</td>\n",
       "      <td>1317</td>\n",
       "    </tr>\n",
       "    <tr>\n",
       "      <th>776</th>\n",
       "      <td>York College of Pennsylvania</td>\n",
       "      <td>Yes</td>\n",
       "      <td>1855</td>\n",
       "      <td>691</td>\n",
       "    </tr>\n",
       "  </tbody>\n",
       "</table>\n",
       "<p>777 rows × 4 columns</p>\n",
       "</div>"
      ],
      "text/plain": [
       "                             School Private  Accept  Enroll\n",
       "0      Abilene Christian University     Yes    1232     721\n",
       "1                Adelphi University     Yes    1924     512\n",
       "2                    Adrian College     Yes    1097     336\n",
       "3               Agnes Scott College     Yes     349     137\n",
       "4         Alaska Pacific University     Yes     146      55\n",
       "..                              ...     ...     ...     ...\n",
       "772         Worcester State College      No    1515     543\n",
       "773               Xavier University     Yes    1805     695\n",
       "774  Xavier University of Louisiana     Yes    1915     695\n",
       "775                 Yale University     Yes    2453    1317\n",
       "776    York College of Pennsylvania     Yes    1855     691\n",
       "\n",
       "[777 rows x 4 columns]"
      ]
     },
     "execution_count": 52,
     "metadata": {},
     "output_type": "execute_result"
    }
   ],
   "source": [
    "queryer(\"SELECT School, Private, Accept, Enroll FROM college;\")\n"
   ]
  },
  {
   "cell_type": "markdown",
   "id": "32151c31-c312-41d9-9b36-6feeb097e94b",
   "metadata": {},
   "source": [
    "---\n",
    "## <span style=\"color:red\">Task 6</span>"
   ]
  },
  {
   "cell_type": "markdown",
   "id": "74d72481-cbc9-4fba-9f68-bbf14b602737",
   "metadata": {
    "tags": []
   },
   "source": [
    "**Using SQL, select just the following columns from the base dataframe for only the private colleges and display the result.**\n",
    "\n",
    "- school name\n",
    "- private or public status\n",
    "- number of students accepted\n",
    "- number that enrolled"
   ]
  },
  {
   "cell_type": "code",
   "execution_count": 53,
   "id": "5ae2191a",
   "metadata": {},
   "outputs": [
    {
     "data": {
      "text/html": [
       "<div>\n",
       "<style scoped>\n",
       "    .dataframe tbody tr th:only-of-type {\n",
       "        vertical-align: middle;\n",
       "    }\n",
       "\n",
       "    .dataframe tbody tr th {\n",
       "        vertical-align: top;\n",
       "    }\n",
       "\n",
       "    .dataframe thead th {\n",
       "        text-align: right;\n",
       "    }\n",
       "</style>\n",
       "<table border=\"1\" class=\"dataframe\">\n",
       "  <thead>\n",
       "    <tr style=\"text-align: right;\">\n",
       "      <th></th>\n",
       "      <th>School</th>\n",
       "      <th>Private</th>\n",
       "      <th>Accept</th>\n",
       "      <th>Enroll</th>\n",
       "    </tr>\n",
       "  </thead>\n",
       "  <tbody>\n",
       "    <tr>\n",
       "      <th>0</th>\n",
       "      <td>Abilene Christian University</td>\n",
       "      <td>Yes</td>\n",
       "      <td>1232</td>\n",
       "      <td>721</td>\n",
       "    </tr>\n",
       "    <tr>\n",
       "      <th>1</th>\n",
       "      <td>Adelphi University</td>\n",
       "      <td>Yes</td>\n",
       "      <td>1924</td>\n",
       "      <td>512</td>\n",
       "    </tr>\n",
       "    <tr>\n",
       "      <th>2</th>\n",
       "      <td>Adrian College</td>\n",
       "      <td>Yes</td>\n",
       "      <td>1097</td>\n",
       "      <td>336</td>\n",
       "    </tr>\n",
       "    <tr>\n",
       "      <th>3</th>\n",
       "      <td>Agnes Scott College</td>\n",
       "      <td>Yes</td>\n",
       "      <td>349</td>\n",
       "      <td>137</td>\n",
       "    </tr>\n",
       "    <tr>\n",
       "      <th>4</th>\n",
       "      <td>Alaska Pacific University</td>\n",
       "      <td>Yes</td>\n",
       "      <td>146</td>\n",
       "      <td>55</td>\n",
       "    </tr>\n",
       "    <tr>\n",
       "      <th>...</th>\n",
       "      <td>...</td>\n",
       "      <td>...</td>\n",
       "      <td>...</td>\n",
       "      <td>...</td>\n",
       "    </tr>\n",
       "    <tr>\n",
       "      <th>560</th>\n",
       "      <td>Worcester Polytechnic Institute</td>\n",
       "      <td>Yes</td>\n",
       "      <td>2314</td>\n",
       "      <td>682</td>\n",
       "    </tr>\n",
       "    <tr>\n",
       "      <th>561</th>\n",
       "      <td>Xavier University</td>\n",
       "      <td>Yes</td>\n",
       "      <td>1805</td>\n",
       "      <td>695</td>\n",
       "    </tr>\n",
       "    <tr>\n",
       "      <th>562</th>\n",
       "      <td>Xavier University of Louisiana</td>\n",
       "      <td>Yes</td>\n",
       "      <td>1915</td>\n",
       "      <td>695</td>\n",
       "    </tr>\n",
       "    <tr>\n",
       "      <th>563</th>\n",
       "      <td>Yale University</td>\n",
       "      <td>Yes</td>\n",
       "      <td>2453</td>\n",
       "      <td>1317</td>\n",
       "    </tr>\n",
       "    <tr>\n",
       "      <th>564</th>\n",
       "      <td>York College of Pennsylvania</td>\n",
       "      <td>Yes</td>\n",
       "      <td>1855</td>\n",
       "      <td>691</td>\n",
       "    </tr>\n",
       "  </tbody>\n",
       "</table>\n",
       "<p>565 rows × 4 columns</p>\n",
       "</div>"
      ],
      "text/plain": [
       "                              School Private  Accept  Enroll\n",
       "0       Abilene Christian University     Yes    1232     721\n",
       "1                 Adelphi University     Yes    1924     512\n",
       "2                     Adrian College     Yes    1097     336\n",
       "3                Agnes Scott College     Yes     349     137\n",
       "4          Alaska Pacific University     Yes     146      55\n",
       "..                               ...     ...     ...     ...\n",
       "560  Worcester Polytechnic Institute     Yes    2314     682\n",
       "561                Xavier University     Yes    1805     695\n",
       "562   Xavier University of Louisiana     Yes    1915     695\n",
       "563                  Yale University     Yes    2453    1317\n",
       "564     York College of Pennsylvania     Yes    1855     691\n",
       "\n",
       "[565 rows x 4 columns]"
      ]
     },
     "execution_count": 53,
     "metadata": {},
     "output_type": "execute_result"
    }
   ],
   "source": [
    "queryer(\"SELECT School, Private, Accept, Enroll FROM college WHERE Private='Yes';\")"
   ]
  },
  {
   "cell_type": "markdown",
   "id": "4956b441-c375-4d81-8903-eee60eaeb57c",
   "metadata": {},
   "source": [
    "---\n",
    "## <span style=\"color:red\">Task 7</span>"
   ]
  },
  {
   "cell_type": "markdown",
   "id": "5629ee25-8597-49d6-80eb-facd461e0a35",
   "metadata": {
    "tags": []
   },
   "source": [
    "**Using SQL, select just the following columns from the base dataframe for all the colleges with graduation rates of 90% or above.**\n",
    "\n",
    "**Display the result in descending order by graduation rate (i.e., highest first).**\n",
    "\n",
    "- school name\n",
    "- private or public status\n",
    "- number that enrolled\n",
    "- graduation rate"
   ]
  },
  {
   "cell_type": "code",
   "execution_count": 54,
   "id": "9d15ac1b",
   "metadata": {},
   "outputs": [
    {
     "data": {
      "text/html": [
       "<div>\n",
       "<style scoped>\n",
       "    .dataframe tbody tr th:only-of-type {\n",
       "        vertical-align: middle;\n",
       "    }\n",
       "\n",
       "    .dataframe tbody tr th {\n",
       "        vertical-align: top;\n",
       "    }\n",
       "\n",
       "    .dataframe thead th {\n",
       "        text-align: right;\n",
       "    }\n",
       "</style>\n",
       "<table border=\"1\" class=\"dataframe\">\n",
       "  <thead>\n",
       "    <tr style=\"text-align: right;\">\n",
       "      <th></th>\n",
       "      <th>School</th>\n",
       "      <th>Private</th>\n",
       "      <th>Enroll</th>\n",
       "      <th>Grad_Rate</th>\n",
       "    </tr>\n",
       "  </thead>\n",
       "  <tbody>\n",
       "    <tr>\n",
       "      <th>0</th>\n",
       "      <td>Cazenovia College</td>\n",
       "      <td>Yes</td>\n",
       "      <td>527</td>\n",
       "      <td>118</td>\n",
       "    </tr>\n",
       "    <tr>\n",
       "      <th>1</th>\n",
       "      <td>Amherst College</td>\n",
       "      <td>Yes</td>\n",
       "      <td>418</td>\n",
       "      <td>100</td>\n",
       "    </tr>\n",
       "    <tr>\n",
       "      <th>2</th>\n",
       "      <td>College of Mount St. Joseph</td>\n",
       "      <td>Yes</td>\n",
       "      <td>238</td>\n",
       "      <td>100</td>\n",
       "    </tr>\n",
       "    <tr>\n",
       "      <th>3</th>\n",
       "      <td>Grove City College</td>\n",
       "      <td>Yes</td>\n",
       "      <td>573</td>\n",
       "      <td>100</td>\n",
       "    </tr>\n",
       "    <tr>\n",
       "      <th>4</th>\n",
       "      <td>Harvard University</td>\n",
       "      <td>Yes</td>\n",
       "      <td>1606</td>\n",
       "      <td>100</td>\n",
       "    </tr>\n",
       "    <tr>\n",
       "      <th>...</th>\n",
       "      <td>...</td>\n",
       "      <td>...</td>\n",
       "      <td>...</td>\n",
       "      <td>...</td>\n",
       "    </tr>\n",
       "    <tr>\n",
       "      <th>69</th>\n",
       "      <td>University of Chicago</td>\n",
       "      <td>Yes</td>\n",
       "      <td>922</td>\n",
       "      <td>90</td>\n",
       "    </tr>\n",
       "    <tr>\n",
       "      <th>70</th>\n",
       "      <td>Vassar College</td>\n",
       "      <td>Yes</td>\n",
       "      <td>653</td>\n",
       "      <td>90</td>\n",
       "    </tr>\n",
       "    <tr>\n",
       "      <th>71</th>\n",
       "      <td>Washington and Lee University</td>\n",
       "      <td>Yes</td>\n",
       "      <td>425</td>\n",
       "      <td>90</td>\n",
       "    </tr>\n",
       "    <tr>\n",
       "      <th>72</th>\n",
       "      <td>Washington University</td>\n",
       "      <td>Yes</td>\n",
       "      <td>1254</td>\n",
       "      <td>90</td>\n",
       "    </tr>\n",
       "    <tr>\n",
       "      <th>73</th>\n",
       "      <td>Webber College</td>\n",
       "      <td>Yes</td>\n",
       "      <td>79</td>\n",
       "      <td>90</td>\n",
       "    </tr>\n",
       "  </tbody>\n",
       "</table>\n",
       "<p>74 rows × 4 columns</p>\n",
       "</div>"
      ],
      "text/plain": [
       "                           School Private  Enroll  Grad_Rate\n",
       "0               Cazenovia College     Yes     527        118\n",
       "1                 Amherst College     Yes     418        100\n",
       "2     College of Mount St. Joseph     Yes     238        100\n",
       "3              Grove City College     Yes     573        100\n",
       "4              Harvard University     Yes    1606        100\n",
       "..                            ...     ...     ...        ...\n",
       "69          University of Chicago     Yes     922         90\n",
       "70                 Vassar College     Yes     653         90\n",
       "71  Washington and Lee University     Yes     425         90\n",
       "72          Washington University     Yes    1254         90\n",
       "73                 Webber College     Yes      79         90\n",
       "\n",
       "[74 rows x 4 columns]"
      ]
     },
     "execution_count": 54,
     "metadata": {},
     "output_type": "execute_result"
    }
   ],
   "source": [
    "queryer(\"SELECT School, Private, Enroll, Grad_Rate FROM college WHERE Grad_Rate >= 90 ORDER BY Grad_Rate DESC;\")"
   ]
  },
  {
   "cell_type": "markdown",
   "id": "5fc47864-0a98-4f4a-8ed7-0ab5eafc4dc0",
   "metadata": {},
   "source": [
    "---\n",
    "## <span style=\"color:red\">Task 8</span>"
   ]
  },
  {
   "cell_type": "markdown",
   "id": "623310ab-860f-41a6-9f1d-534f22ff18d4",
   "metadata": {
    "tags": []
   },
   "source": [
    "**Using SQL, select just the following columns from the base dataframe for all the colleges with graduation rates oveof 90% or above and the college is public.**\n",
    "\n",
    "**Display the result in descending order by graduation rate (i.e., highest first).**\n",
    "\n",
    "- school name\n",
    "- private or public status\n",
    "- number that enrolled\n",
    "- graduation rate"
   ]
  },
  {
   "cell_type": "code",
   "execution_count": 55,
   "id": "d54bf1a0",
   "metadata": {},
   "outputs": [
    {
     "data": {
      "text/html": [
       "<div>\n",
       "<style scoped>\n",
       "    .dataframe tbody tr th:only-of-type {\n",
       "        vertical-align: middle;\n",
       "    }\n",
       "\n",
       "    .dataframe tbody tr th {\n",
       "        vertical-align: top;\n",
       "    }\n",
       "\n",
       "    .dataframe thead th {\n",
       "        text-align: right;\n",
       "    }\n",
       "</style>\n",
       "<table border=\"1\" class=\"dataframe\">\n",
       "  <thead>\n",
       "    <tr style=\"text-align: right;\">\n",
       "      <th></th>\n",
       "      <th>School</th>\n",
       "      <th>Private</th>\n",
       "      <th>Enroll</th>\n",
       "      <th>Grad_Rate</th>\n",
       "    </tr>\n",
       "  </thead>\n",
       "  <tbody>\n",
       "    <tr>\n",
       "      <th>0</th>\n",
       "      <td>Missouri Southern State College</td>\n",
       "      <td>No</td>\n",
       "      <td>913</td>\n",
       "      <td>100</td>\n",
       "    </tr>\n",
       "    <tr>\n",
       "      <th>1</th>\n",
       "      <td>James Madison University</td>\n",
       "      <td>No</td>\n",
       "      <td>2082</td>\n",
       "      <td>98</td>\n",
       "    </tr>\n",
       "    <tr>\n",
       "      <th>2</th>\n",
       "      <td>University of Virginia</td>\n",
       "      <td>No</td>\n",
       "      <td>2678</td>\n",
       "      <td>95</td>\n",
       "    </tr>\n",
       "    <tr>\n",
       "      <th>3</th>\n",
       "      <td>College of William and Mary</td>\n",
       "      <td>No</td>\n",
       "      <td>1217</td>\n",
       "      <td>93</td>\n",
       "    </tr>\n",
       "  </tbody>\n",
       "</table>\n",
       "</div>"
      ],
      "text/plain": [
       "                            School Private  Enroll  Grad_Rate\n",
       "0  Missouri Southern State College      No     913        100\n",
       "1         James Madison University      No    2082         98\n",
       "2           University of Virginia      No    2678         95\n",
       "3      College of William and Mary      No    1217         93"
      ]
     },
     "execution_count": 55,
     "metadata": {},
     "output_type": "execute_result"
    }
   ],
   "source": [
    "queryer(\"SELECT School, Private, Enroll, Grad_Rate FROM college WHERE Grad_Rate >= 90 AND Private='No' ORDER BY Grad_Rate DESC;\")"
   ]
  },
  {
   "cell_type": "markdown",
   "id": "d41c3bd8-7928-4e4f-9501-b13df921d33f",
   "metadata": {},
   "source": [
    "---\n",
    "## <span style=\"color:red\">Task 9</span>"
   ]
  },
  {
   "cell_type": "markdown",
   "id": "e06622f9-e4c5-4815-87a2-6c146b2ca9b4",
   "metadata": {
    "tags": []
   },
   "source": [
    "**Using SQL, select all the colleges with \"Arkansas\" as part of their name and display the columns below.**\n",
    "\n",
    "- school name\n",
    "- private or public status\n",
    "- number that enrolled\n",
    "- graduation rate\n",
    "\n",
    "Hint: You will need to use LIKE in your SQL statement."
   ]
  },
  {
   "cell_type": "code",
   "execution_count": 56,
   "id": "2e6f9b33",
   "metadata": {},
   "outputs": [
    {
     "data": {
      "text/html": [
       "<div>\n",
       "<style scoped>\n",
       "    .dataframe tbody tr th:only-of-type {\n",
       "        vertical-align: middle;\n",
       "    }\n",
       "\n",
       "    .dataframe tbody tr th {\n",
       "        vertical-align: top;\n",
       "    }\n",
       "\n",
       "    .dataframe thead th {\n",
       "        text-align: right;\n",
       "    }\n",
       "</style>\n",
       "<table border=\"1\" class=\"dataframe\">\n",
       "  <thead>\n",
       "    <tr style=\"text-align: right;\">\n",
       "      <th></th>\n",
       "      <th>School</th>\n",
       "      <th>Private</th>\n",
       "      <th>Enroll</th>\n",
       "      <th>Grad_Rate</th>\n",
       "    </tr>\n",
       "  </thead>\n",
       "  <tbody>\n",
       "    <tr>\n",
       "      <th>0</th>\n",
       "      <td>Arkansas College (Lyon College)</td>\n",
       "      <td>Yes</td>\n",
       "      <td>166</td>\n",
       "      <td>54</td>\n",
       "    </tr>\n",
       "    <tr>\n",
       "      <th>1</th>\n",
       "      <td>Arkansas Tech University</td>\n",
       "      <td>No</td>\n",
       "      <td>951</td>\n",
       "      <td>48</td>\n",
       "    </tr>\n",
       "    <tr>\n",
       "      <th>2</th>\n",
       "      <td>University of Arkansas at Fayetteville</td>\n",
       "      <td>No</td>\n",
       "      <td>2133</td>\n",
       "      <td>39</td>\n",
       "    </tr>\n",
       "  </tbody>\n",
       "</table>\n",
       "</div>"
      ],
      "text/plain": [
       "                                   School Private  Enroll  Grad_Rate\n",
       "0         Arkansas College (Lyon College)     Yes     166         54\n",
       "1                Arkansas Tech University      No     951         48\n",
       "2  University of Arkansas at Fayetteville      No    2133         39"
      ]
     },
     "execution_count": 56,
     "metadata": {},
     "output_type": "execute_result"
    }
   ],
   "source": [
    "queryer(\"SELECT School, Private, Enroll, Grad_Rate FROM college WHERE School LIKE '%Arkansas%';\")"
   ]
  },
  {
   "cell_type": "markdown",
   "id": "47885dac-80c9-47f6-9121-d597da755e7f",
   "metadata": {},
   "source": [
    "---\n",
    "## <span style=\"color:red\">Task 10</span>"
   ]
  },
  {
   "cell_type": "markdown",
   "id": "f4ce098b-56b1-4222-b53d-91cdfb509afd",
   "metadata": {
    "tags": []
   },
   "source": [
    "**Using SQL, select count the number of colleges with graduate rates of 25% or lower.**"
   ]
  },
  {
   "cell_type": "code",
   "execution_count": 57,
   "id": "c76edad4",
   "metadata": {},
   "outputs": [
    {
     "data": {
      "text/html": [
       "<div>\n",
       "<style scoped>\n",
       "    .dataframe tbody tr th:only-of-type {\n",
       "        vertical-align: middle;\n",
       "    }\n",
       "\n",
       "    .dataframe tbody tr th {\n",
       "        vertical-align: top;\n",
       "    }\n",
       "\n",
       "    .dataframe thead th {\n",
       "        text-align: right;\n",
       "    }\n",
       "</style>\n",
       "<table border=\"1\" class=\"dataframe\">\n",
       "  <thead>\n",
       "    <tr style=\"text-align: right;\">\n",
       "      <th></th>\n",
       "      <th>NUM_TOUGH_SCHOOLS</th>\n",
       "    </tr>\n",
       "  </thead>\n",
       "  <tbody>\n",
       "    <tr>\n",
       "      <th>0</th>\n",
       "      <td>10</td>\n",
       "    </tr>\n",
       "  </tbody>\n",
       "</table>\n",
       "</div>"
      ],
      "text/plain": [
       "   NUM_TOUGH_SCHOOLS\n",
       "0                 10"
      ]
     },
     "execution_count": 57,
     "metadata": {},
     "output_type": "execute_result"
    }
   ],
   "source": [
    "queryer(\"SELECT COUNT(*) AS NUM_TOUGH_SCHOOLS FROM college WHERE Grad_Rate <= 25;\")"
   ]
  },
  {
   "cell_type": "markdown",
   "id": "dd94a69d-bba4-4529-aaec-0c28f5b13098",
   "metadata": {},
   "source": [
    "---\n",
    "## <span style=\"color:red\">Task 11</span>"
   ]
  },
  {
   "cell_type": "markdown",
   "id": "06361687-461e-435f-be5a-5f403f1cd88b",
   "metadata": {
    "tags": []
   },
   "source": [
    "**Using SQL, find the lowest and highest graduation rate achieved.  Store that values in variables called 'min_grad_rate'and 'max_grad_rate', respectively. Hint: the result is returned in a Panda DataFrame, so you can use loc to retreive the values.**"
   ]
  },
  {
   "cell_type": "code",
   "execution_count": 58,
   "id": "a13ca645",
   "metadata": {},
   "outputs": [
    {
     "name": "stdout",
     "output_type": "stream",
     "text": [
      "Highest graduation rate: 118\n",
      "Lowest graduation rate: 10\n"
     ]
    }
   ],
   "source": [
    "maxgradframe = queryer(\"SELECT MAX(Grad_Rate) FROM college;\")\n",
    "maxgradrate = maxgradframe['MAX(Grad_Rate)'][0]\n",
    "print(\"Highest graduation rate:\", maxgradrate)\n",
    "mingradframe = queryer(\"SELECT MIN(Grad_Rate) FROM college;\")\n",
    "mingradrate = mingradframe['MIN(Grad_Rate)'][0]\n",
    "print(\"Lowest graduation rate:\", mingradrate)\n"
   ]
  },
  {
   "cell_type": "markdown",
   "id": "248a4795-aa38-434d-93b3-7434f11da112",
   "metadata": {},
   "source": [
    "---\n",
    "## <span style=\"color:red\">Task 12</span>"
   ]
  },
  {
   "cell_type": "markdown",
   "id": "59a57ab8-618a-4072-8919-b31ccb85399f",
   "metadata": {
    "tags": []
   },
   "source": [
    "**Using SQL, select the colleges which have the highest graduation rates (i.e., the maximum graduation rates in the data).**\n",
    "\n",
    "**Display the following columns for all schools with the highest rate.  Use the variables set above to help form this query.**\n",
    "\n",
    "- school name\n",
    "- private or public status\n",
    "- number that enrolled\n",
    "- graduation rate\n",
    "- maximum graduation rate\n",
    "\n",
    "Hint: You obtained the maximum graduation rate in the previous task."
   ]
  },
  {
   "cell_type": "code",
   "execution_count": 59,
   "id": "51b520b4",
   "metadata": {},
   "outputs": [
    {
     "data": {
      "text/html": [
       "<div>\n",
       "<style scoped>\n",
       "    .dataframe tbody tr th:only-of-type {\n",
       "        vertical-align: middle;\n",
       "    }\n",
       "\n",
       "    .dataframe tbody tr th {\n",
       "        vertical-align: top;\n",
       "    }\n",
       "\n",
       "    .dataframe thead th {\n",
       "        text-align: right;\n",
       "    }\n",
       "</style>\n",
       "<table border=\"1\" class=\"dataframe\">\n",
       "  <thead>\n",
       "    <tr style=\"text-align: right;\">\n",
       "      <th></th>\n",
       "      <th>School</th>\n",
       "      <th>Private</th>\n",
       "      <th>Enroll</th>\n",
       "      <th>Grad_Rate</th>\n",
       "      <th>Max_Grad_Rate</th>\n",
       "    </tr>\n",
       "  </thead>\n",
       "  <tbody>\n",
       "    <tr>\n",
       "      <th>0</th>\n",
       "      <td>Cazenovia College</td>\n",
       "      <td>Yes</td>\n",
       "      <td>527</td>\n",
       "      <td>118</td>\n",
       "      <td>118</td>\n",
       "    </tr>\n",
       "  </tbody>\n",
       "</table>\n",
       "</div>"
      ],
      "text/plain": [
       "              School Private  Enroll  Grad_Rate Max_Grad_Rate\n",
       "0  Cazenovia College     Yes     527        118           118"
      ]
     },
     "execution_count": 59,
     "metadata": {},
     "output_type": "execute_result"
    }
   ],
   "source": [
    "queryer(\"SELECT School, Private, Enroll, Grad_Rate, '\"+str(maxgradrate)+\"' AS Max_Grad_Rate FROM college WHERE Grad_Rate= \"+ str(maxgradrate) +\";\")"
   ]
  },
  {
   "cell_type": "markdown",
   "id": "79d2b8ad-8c11-495c-9fba-f12f53029e14",
   "metadata": {},
   "source": [
    "---\n",
    "## <span style=\"color:red\">Task 13</span>"
   ]
  },
  {
   "cell_type": "markdown",
   "id": "d3746d27-8c50-4655-bdea-bd76dda4794c",
   "metadata": {
    "tags": []
   },
   "source": [
    "**Using SQL, select the colleges which have the lowest graduation rates (i.e., the minimum graduation rates in the data).**\n",
    "\n",
    "**Display the following columns for all schools with the lowest rate.  Use the variables set above to help form this query.**\n",
    "\n",
    "- school name\n",
    "- private or public status\n",
    "- number that enrolled\n",
    "- graduation rate\n",
    "\n",
    "Hint: You already obtained the minimum graduation rate."
   ]
  },
  {
   "cell_type": "code",
   "execution_count": 60,
   "id": "e0bb22f1",
   "metadata": {},
   "outputs": [
    {
     "data": {
      "text/html": [
       "<div>\n",
       "<style scoped>\n",
       "    .dataframe tbody tr th:only-of-type {\n",
       "        vertical-align: middle;\n",
       "    }\n",
       "\n",
       "    .dataframe tbody tr th {\n",
       "        vertical-align: top;\n",
       "    }\n",
       "\n",
       "    .dataframe thead th {\n",
       "        text-align: right;\n",
       "    }\n",
       "</style>\n",
       "<table border=\"1\" class=\"dataframe\">\n",
       "  <thead>\n",
       "    <tr style=\"text-align: right;\">\n",
       "      <th></th>\n",
       "      <th>School</th>\n",
       "      <th>Private</th>\n",
       "      <th>Enroll</th>\n",
       "      <th>Grad_Rate</th>\n",
       "      <th>Min_Grad_Rate</th>\n",
       "    </tr>\n",
       "  </thead>\n",
       "  <tbody>\n",
       "    <tr>\n",
       "      <th>0</th>\n",
       "      <td>Texas Southern University</td>\n",
       "      <td>No</td>\n",
       "      <td>2604</td>\n",
       "      <td>10</td>\n",
       "      <td>10</td>\n",
       "    </tr>\n",
       "  </tbody>\n",
       "</table>\n",
       "</div>"
      ],
      "text/plain": [
       "                      School Private  Enroll  Grad_Rate Min_Grad_Rate\n",
       "0  Texas Southern University      No    2604         10            10"
      ]
     },
     "execution_count": 60,
     "metadata": {},
     "output_type": "execute_result"
    }
   ],
   "source": [
    "queryer(\"SELECT School, Private, Enroll, Grad_Rate, '\"+str(mingradrate)+\"' AS Min_Grad_Rate FROM college WHERE Grad_Rate= \"+ str(mingradrate) +\";\")"
   ]
  },
  {
   "cell_type": "markdown",
   "id": "efb792d0-4679-4468-91e6-b454779830e5",
   "metadata": {},
   "source": [
    "---\n",
    "## <span style=\"color:red\">Task 14</span>"
   ]
  },
  {
   "cell_type": "markdown",
   "id": "28c9cbdb-f809-463f-9452-8683cfe668c1",
   "metadata": {
    "tags": []
   },
   "source": [
    "**Using SQL, display the average graduation rate, the average number enrolled, and the average student-teacher ratio for private schools vs public schools.**\n",
    "\n",
    "**Display the following columns for the result.**\n",
    "\n",
    "- private or public status\n",
    "- average number that enrolled\n",
    "- average graduation rate\n",
    "- average student faculty ratio\n",
    "\n",
    "Hint: You will need to use GROUPBY in your SQL statement."
   ]
  },
  {
   "cell_type": "code",
   "execution_count": 61,
   "id": "c1c3be52",
   "metadata": {},
   "outputs": [
    {
     "data": {
      "text/html": [
       "<div>\n",
       "<style scoped>\n",
       "    .dataframe tbody tr th:only-of-type {\n",
       "        vertical-align: middle;\n",
       "    }\n",
       "\n",
       "    .dataframe tbody tr th {\n",
       "        vertical-align: top;\n",
       "    }\n",
       "\n",
       "    .dataframe thead th {\n",
       "        text-align: right;\n",
       "    }\n",
       "</style>\n",
       "<table border=\"1\" class=\"dataframe\">\n",
       "  <thead>\n",
       "    <tr style=\"text-align: right;\">\n",
       "      <th></th>\n",
       "      <th>Private</th>\n",
       "      <th>AVG(Enroll)</th>\n",
       "      <th>AVG(Grad_Rate)</th>\n",
       "      <th>AVG(S_F_Ratio)</th>\n",
       "    </tr>\n",
       "  </thead>\n",
       "  <tbody>\n",
       "    <tr>\n",
       "      <th>0</th>\n",
       "      <td>No</td>\n",
       "      <td>1640.872642</td>\n",
       "      <td>56.042453</td>\n",
       "      <td>17.139151</td>\n",
       "    </tr>\n",
       "    <tr>\n",
       "      <th>1</th>\n",
       "      <td>Yes</td>\n",
       "      <td>456.945133</td>\n",
       "      <td>68.998230</td>\n",
       "      <td>12.945487</td>\n",
       "    </tr>\n",
       "  </tbody>\n",
       "</table>\n",
       "</div>"
      ],
      "text/plain": [
       "  Private  AVG(Enroll)  AVG(Grad_Rate)  AVG(S_F_Ratio)\n",
       "0      No  1640.872642       56.042453       17.139151\n",
       "1     Yes   456.945133       68.998230       12.945487"
      ]
     },
     "execution_count": 61,
     "metadata": {},
     "output_type": "execute_result"
    }
   ],
   "source": [
    "queryer(\"SELECT Private, AVG(Enroll), AVG(Grad_Rate), AVG(S_F_Ratio) FROM college GROUP BY Private;\")"
   ]
  },
  {
   "cell_type": "markdown",
   "id": "f9eb1f66-c118-4e9b-86b5-4be102b848da",
   "metadata": {},
   "source": [
    "---\n",
    "## <span style=\"color:red\">Task 15</span>"
   ]
  },
  {
   "cell_type": "markdown",
   "id": "0c977484-e1d2-4a19-90e9-83fefeaf3f89",
   "metadata": {
    "tags": []
   },
   "source": [
    "**Using SQL, display the average graduation rate, the average number enrolled, and the average student-teacher ratio for private schools vs public schools, but including only those schools with graduation rates of 65% or higher.**\n",
    "\n",
    "**Display the following columns for the result.**\n",
    "\n",
    "- private or public status\n",
    "- average number that enrolled\n",
    "- average graduation rate\n",
    "- average student faculty ratio\n"
   ]
  },
  {
   "cell_type": "code",
   "execution_count": 62,
   "id": "2dc00b47",
   "metadata": {},
   "outputs": [
    {
     "data": {
      "text/html": [
       "<div>\n",
       "<style scoped>\n",
       "    .dataframe tbody tr th:only-of-type {\n",
       "        vertical-align: middle;\n",
       "    }\n",
       "\n",
       "    .dataframe tbody tr th {\n",
       "        vertical-align: top;\n",
       "    }\n",
       "\n",
       "    .dataframe thead th {\n",
       "        text-align: right;\n",
       "    }\n",
       "</style>\n",
       "<table border=\"1\" class=\"dataframe\">\n",
       "  <thead>\n",
       "    <tr style=\"text-align: right;\">\n",
       "      <th></th>\n",
       "      <th>Private</th>\n",
       "      <th>AVG(Enroll)</th>\n",
       "      <th>AVG(Grad_Rate)</th>\n",
       "      <th>AVG(S_F_Ratio)</th>\n",
       "    </tr>\n",
       "  </thead>\n",
       "  <tbody>\n",
       "    <tr>\n",
       "      <th>0</th>\n",
       "      <td>No</td>\n",
       "      <td>2386.982456</td>\n",
       "      <td>74.245614</td>\n",
       "      <td>16.368421</td>\n",
       "    </tr>\n",
       "    <tr>\n",
       "      <th>1</th>\n",
       "      <td>Yes</td>\n",
       "      <td>529.534286</td>\n",
       "      <td>79.357143</td>\n",
       "      <td>12.470857</td>\n",
       "    </tr>\n",
       "  </tbody>\n",
       "</table>\n",
       "</div>"
      ],
      "text/plain": [
       "  Private  AVG(Enroll)  AVG(Grad_Rate)  AVG(S_F_Ratio)\n",
       "0      No  2386.982456       74.245614       16.368421\n",
       "1     Yes   529.534286       79.357143       12.470857"
      ]
     },
     "execution_count": 62,
     "metadata": {},
     "output_type": "execute_result"
    }
   ],
   "source": [
    "queryer(\"SELECT Private, AVG(Enroll), AVG(Grad_Rate), AVG(S_F_Ratio) FROM college WHERE Grad_Rate >= 65 GROUP BY Private;\")"
   ]
  },
  {
   "cell_type": "markdown",
   "id": "caaaaf8e-06a1-4b51-a20e-7e38a541db2a",
   "metadata": {},
   "source": [
    "<p style=\"font-size:120%;color:navy;background:linen;padding:10px;text-align:center\">&copy; Copyright 2022 by Michelle Talley <br> <br>You may not publish this notebook on any website or share it with anyone without explicit permission of the author. </p>\n"
   ]
  }
 ],
 "metadata": {
  "kernelspec": {
   "display_name": "Python 3 (ipykernel)",
   "language": "python",
   "name": "python3"
  },
  "language_info": {
   "codemirror_mode": {
    "name": "ipython",
    "version": 3
   },
   "file_extension": ".py",
   "mimetype": "text/x-python",
   "name": "python",
   "nbconvert_exporter": "python",
   "pygments_lexer": "ipython3",
   "version": "3.10.4"
  }
 },
 "nbformat": 4,
 "nbformat_minor": 5
}
