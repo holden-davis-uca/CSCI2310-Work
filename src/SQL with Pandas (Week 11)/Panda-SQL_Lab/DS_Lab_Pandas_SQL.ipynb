{
 "cells": [
  {
   "cell_type": "markdown",
   "id": "5a716f3b-8401-4b1c-ad55-b806f5ab2992",
   "metadata": {},
   "source": [
    "# Introduction to Data Science - Lab - Using SQL with Pandas"
   ]
  },
  {
   "cell_type": "markdown",
   "id": "8fe30579-08b4-4e9b-91b4-92353af4e613",
   "metadata": {},
   "source": [
    "#### <span style=\"color:red\">Name: </span>"
   ]
  },
  {
   "cell_type": "markdown",
   "id": "f0591351-779a-46db-acb8-d2e5a213c999",
   "metadata": {},
   "source": [
    "## Introduction\n",
    "\n",
    "The purpose of this project is to explore using SQL as the language to interact with Pandas dataframes.  \n",
    "\n",
    "<span style=\"color:blue\">While it is certainly possible to perform all the tasks in this notebook directly using Pandas functions, the point of this exercise is to use SQL.  This means this project will be graded on your use of SQL, so you should use SQL!  😀</span>\n",
    "\n",
    "Hint: You need to install the Panda SQL module to complete this lab.  See lecture notebook for more information."
   ]
  },
  {
   "cell_type": "markdown",
   "id": "84307c14-fb9b-4ee8-b7bb-2255c376b1f4",
   "metadata": {},
   "source": [
    "For this exercise, we will use data about colleges from the file:\n",
    "\n",
    "- College.csv"
   ]
  },
  {
   "cell_type": "markdown",
   "id": "b847b628-a340-446e-b704-1cf542c2b8b9",
   "metadata": {},
   "source": [
    "## Import the modules you need here."
   ]
  },
  {
   "cell_type": "markdown",
   "id": "eadc7ffe-42ed-45c7-a4b4-4c0b5c8cbe91",
   "metadata": {
    "tags": []
   },
   "source": [
    "---\n",
    "## <span style=\"color:red\">Task 1</span>"
   ]
  },
  {
   "cell_type": "markdown",
   "id": "1b9e8ed6-806c-4d50-b1a0-e979d0b94806",
   "metadata": {},
   "source": [
    "Create a convenience lambda function to use with `pandasql` that passes global variables to your query object. "
   ]
  },
  {
   "cell_type": "markdown",
   "id": "62d91c92-a6dc-413a-b196-a8f4c8886cb2",
   "metadata": {},
   "source": [
    "## Data Aquisition"
   ]
  },
  {
   "cell_type": "markdown",
   "id": "65cd333c-dfe9-441e-8d9f-3e7b2b6dba3f",
   "metadata": {
    "tags": []
   },
   "source": [
    "---\n",
    "## <span style=\"color:red\">Task 2</span>"
   ]
  },
  {
   "cell_type": "markdown",
   "id": "3a244722-72dc-4d17-a885-0597d7b5c8a8",
   "metadata": {},
   "source": [
    "**Read the data file into a dataframe called \"college\".**"
   ]
  },
  {
   "cell_type": "markdown",
   "id": "dfd65356-c475-4513-93da-cd4993b06288",
   "metadata": {},
   "source": [
    "---\n",
    "## <span style=\"color:red\">Task 3</span>"
   ]
  },
  {
   "cell_type": "markdown",
   "id": "024a3922-7bf5-4e65-b83e-d1a5ee4b4ee6",
   "metadata": {
    "tags": []
   },
   "source": [
    "**Display the summary information (i.e., `info`) about the \"college\" dataframe, including the names of the columns.**"
   ]
  },
  {
   "cell_type": "markdown",
   "id": "94893cbd-3c2b-4499-b448-1deec9101788",
   "metadata": {},
   "source": [
    "---\n",
    "## <span style=\"color:red\">Task 4</span>"
   ]
  },
  {
   "cell_type": "markdown",
   "id": "8743317a-f3ad-40ef-a3a3-66700fb79171",
   "metadata": {
    "tags": []
   },
   "source": [
    "**Pandas SQL does not recognize column names with embedded periods.**\n",
    "\n",
    "**Rename the columns to replace '.' with '_' as needed, then display the summary of the dataframe again.**\n",
    "\n",
    "Check your work by running info again.\n",
    "\n",
    "<span style=\"color:blue\">Hint:</span> Do a little web searching for how to rename **columns** in Pandas"
   ]
  },
  {
   "cell_type": "markdown",
   "id": "24ce4592-2d6d-4a98-a838-c8582abd0657",
   "metadata": {},
   "source": [
    "---\n",
    "## <span style=\"color:red\">Task 5</span>"
   ]
  },
  {
   "cell_type": "markdown",
   "id": "855bf47e-e9d2-46b0-95ab-82125dd9c6c3",
   "metadata": {
    "tags": []
   },
   "source": [
    "**Using SQL, select just the following columns from the base dataframe and display the result.:**\n",
    "\n",
    "- school name\n",
    "- private or public status\n",
    "- number of students accepted\n",
    "- number that enrolled"
   ]
  },
  {
   "cell_type": "markdown",
   "id": "32151c31-c312-41d9-9b36-6feeb097e94b",
   "metadata": {},
   "source": [
    "---\n",
    "## <span style=\"color:red\">Task 6</span>"
   ]
  },
  {
   "cell_type": "markdown",
   "id": "74d72481-cbc9-4fba-9f68-bbf14b602737",
   "metadata": {
    "tags": []
   },
   "source": [
    "**Using SQL, select just the following columns from the base dataframe for only the private colleges and display the result.**\n",
    "\n",
    "- school name\n",
    "- private or public status\n",
    "- number of students accepted\n",
    "- number that enrolled"
   ]
  },
  {
   "cell_type": "markdown",
   "id": "4956b441-c375-4d81-8903-eee60eaeb57c",
   "metadata": {},
   "source": [
    "---\n",
    "## <span style=\"color:red\">Task 7</span>"
   ]
  },
  {
   "cell_type": "markdown",
   "id": "5629ee25-8597-49d6-80eb-facd461e0a35",
   "metadata": {
    "tags": []
   },
   "source": [
    "**Using SQL, select just the following columns from the base dataframe for all the colleges with graduation rates of 90% or above.**\n",
    "\n",
    "**Display the result in descending order by graduation rate (i.e., highest first).**\n",
    "\n",
    "- school name\n",
    "- private or public status\n",
    "- number that enrolled\n",
    "- graduation rate"
   ]
  },
  {
   "cell_type": "markdown",
   "id": "5fc47864-0a98-4f4a-8ed7-0ab5eafc4dc0",
   "metadata": {},
   "source": [
    "---\n",
    "## <span style=\"color:red\">Task 8</span>"
   ]
  },
  {
   "cell_type": "markdown",
   "id": "623310ab-860f-41a6-9f1d-534f22ff18d4",
   "metadata": {
    "tags": []
   },
   "source": [
    "**Using SQL, select just the following columns from the base dataframe for all the colleges with graduation rates oveof 90% or above and the college is public.**\n",
    "\n",
    "**Display the result in descending order by graduation rate (i.e., highest first).**\n",
    "\n",
    "- school name\n",
    "- private or public status\n",
    "- number that enrolled\n",
    "- graduation rate"
   ]
  },
  {
   "cell_type": "markdown",
   "id": "d41c3bd8-7928-4e4f-9501-b13df921d33f",
   "metadata": {},
   "source": [
    "---\n",
    "## <span style=\"color:red\">Task 9</span>"
   ]
  },
  {
   "cell_type": "markdown",
   "id": "e06622f9-e4c5-4815-87a2-6c146b2ca9b4",
   "metadata": {
    "tags": []
   },
   "source": [
    "**Using SQL, select all the colleges with \"Arkansas\" as part of their name and display the columns below.**\n",
    "\n",
    "- school name\n",
    "- private or public status\n",
    "- number that enrolled\n",
    "- graduation rate\n",
    "\n",
    "Hint: You will need to use LIKE in your SQL statement."
   ]
  },
  {
   "cell_type": "markdown",
   "id": "47885dac-80c9-47f6-9121-d597da755e7f",
   "metadata": {},
   "source": [
    "---\n",
    "## <span style=\"color:red\">Task 10</span>"
   ]
  },
  {
   "cell_type": "markdown",
   "id": "f4ce098b-56b1-4222-b53d-91cdfb509afd",
   "metadata": {
    "tags": []
   },
   "source": [
    "**Using SQL, select count the number of colleges with graduate rates of 25% or lower.**"
   ]
  },
  {
   "cell_type": "markdown",
   "id": "dd94a69d-bba4-4529-aaec-0c28f5b13098",
   "metadata": {},
   "source": [
    "---\n",
    "## <span style=\"color:red\">Task 11</span>"
   ]
  },
  {
   "cell_type": "markdown",
   "id": "06361687-461e-435f-be5a-5f403f1cd88b",
   "metadata": {
    "tags": []
   },
   "source": [
    "**Using SQL, find the lowest and highest graduation rate achieved.  Store that values in variables called 'min_grad_rate'and 'max_grad_rate', respectively. Hint: the result is returned in a Panda DataFrame, so you can use loc to retreive the values.**"
   ]
  },
  {
   "cell_type": "markdown",
   "id": "248a4795-aa38-434d-93b3-7434f11da112",
   "metadata": {},
   "source": [
    "---\n",
    "## <span style=\"color:red\">Task 12</span>"
   ]
  },
  {
   "cell_type": "markdown",
   "id": "59a57ab8-618a-4072-8919-b31ccb85399f",
   "metadata": {
    "tags": []
   },
   "source": [
    "**Using SQL, select the colleges which have the highest graduation rates (i.e., the maximum graduation rates in the data).**\n",
    "\n",
    "**Display the following columns for all schools with the highest rate.  Use the variables set above to help form this query.**\n",
    "\n",
    "- school name\n",
    "- private or public status\n",
    "- number that enrolled\n",
    "- graduation rate\n",
    "- maximum graduation rate\n",
    "\n",
    "Hint: You obtained the maximum graduation rate in the previous task."
   ]
  },
  {
   "cell_type": "markdown",
   "id": "79d2b8ad-8c11-495c-9fba-f12f53029e14",
   "metadata": {},
   "source": [
    "---\n",
    "## <span style=\"color:red\">Task 13</span>"
   ]
  },
  {
   "cell_type": "markdown",
   "id": "d3746d27-8c50-4655-bdea-bd76dda4794c",
   "metadata": {
    "tags": []
   },
   "source": [
    "**Using SQL, select the colleges which have the lowest graduation rates (i.e., the minimum graduation rates in the data).**\n",
    "\n",
    "**Display the following columns for all schools with the lowest rate.  Use the variables set above to help form this query.**\n",
    "\n",
    "- school name\n",
    "- private or public status\n",
    "- number that enrolled\n",
    "- graduation rate\n",
    "\n",
    "Hint: You already obtained the minimum graduation rate."
   ]
  },
  {
   "cell_type": "markdown",
   "id": "efb792d0-4679-4468-91e6-b454779830e5",
   "metadata": {},
   "source": [
    "---\n",
    "## <span style=\"color:red\">Task 14</span>"
   ]
  },
  {
   "cell_type": "markdown",
   "id": "28c9cbdb-f809-463f-9452-8683cfe668c1",
   "metadata": {
    "tags": []
   },
   "source": [
    "**Using SQL, display the average graduation rate, the average number enrolled, and the average student-teacher ratio for private schools vs public schools.**\n",
    "\n",
    "**Display the following columns for the result.**\n",
    "\n",
    "- private or public status\n",
    "- average number that enrolled\n",
    "- average graduation rate\n",
    "- average student faculty ratio\n",
    "\n",
    "Hint: You will need to use GROUPBY in your SQL statement."
   ]
  },
  {
   "cell_type": "markdown",
   "id": "f9eb1f66-c118-4e9b-86b5-4be102b848da",
   "metadata": {},
   "source": [
    "---\n",
    "## <span style=\"color:red\">Task 15</span>"
   ]
  },
  {
   "cell_type": "markdown",
   "id": "0c977484-e1d2-4a19-90e9-83fefeaf3f89",
   "metadata": {
    "tags": []
   },
   "source": [
    "**Using SQL, display the average graduation rate, the average number enrolled, and the average student-teacher ratio for private schools vs public schools, but including only those schools with graduation rates of 65% or higher.**\n",
    "\n",
    "**Display the following columns for the result.**\n",
    "\n",
    "- private or public status\n",
    "- average number that enrolled\n",
    "- average graduation rate\n",
    "- average student faculty ratio\n"
   ]
  },
  {
   "cell_type": "markdown",
   "id": "caaaaf8e-06a1-4b51-a20e-7e38a541db2a",
   "metadata": {},
   "source": [
    "<p style=\"font-size:120%;color:navy;background:linen;padding:10px;text-align:center\">&copy; Copyright 2022 by Michelle Talley <br> <br>You may not publish this notebook on any website or share it with anyone without explicit permission of the author. </p>\n"
   ]
  }
 ],
 "metadata": {
  "kernelspec": {
   "display_name": "Python 3 (ipykernel)",
   "language": "python",
   "name": "python3"
  },
  "language_info": {
   "codemirror_mode": {
    "name": "ipython",
    "version": 3
   },
   "file_extension": ".py",
   "mimetype": "text/x-python",
   "name": "python",
   "nbconvert_exporter": "python",
   "pygments_lexer": "ipython3",
   "version": "3.9.7"
  }
 },
 "nbformat": 4,
 "nbformat_minor": 5
}
