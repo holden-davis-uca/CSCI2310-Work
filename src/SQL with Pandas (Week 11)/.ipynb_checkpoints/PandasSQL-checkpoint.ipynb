{
 "cells": [
  {
   "cell_type": "markdown",
   "id": "e22c6a6d-3e46-4460-95ef-614d8b456315",
   "metadata": {},
   "source": [
    "# Using SQL with Pandas"
   ]
  },
  {
   "cell_type": "markdown",
   "id": "92006f5c-5a4a-4db2-be11-8ad586323874",
   "metadata": {},
   "source": [
    "**Setting up Pandas SQL**\n",
    "\n",
    "By default, pandasql is not installed with Anaconda.  \n",
    "\n",
    "Go to the \"Environments\" tab on Anaconda Navigator.  \n",
    "\n",
    "Select \"Not installed\" packages, then search for \"pandasql.\"\n",
    "\n",
    "Install the required packages by clicking the \"Apply\" button (this may take a while to complete)."
   ]
  },
  {
   "cell_type": "markdown",
   "id": "1b27cfef-dc2f-4023-b498-636da8dafad1",
   "metadata": {
    "tags": []
   },
   "source": [
    "**A few useful web resources:**\n",
    "\n",
    "https://pypi.org/project/pandasql/\n",
    "\n",
    "https://towardsdatascience.com/how-to-use-sql-in-pandas-62d8a0f6341\n",
    "\n",
    "https://www.dataquest.io/blog/sql-commands/\n",
    "\n",
    "https://devopscube.com/sql-for-data-science/\n",
    "\n",
    "https://towardsdatascience.com/pandas-equivalent-of-10-useful-sql-queries-f79428e60bd9\n",
    "\n",
    "https://www.analyticsvidhya.com/blog/2020/07/8-sql-techniques-data-analysis-analytics-data-science/"
   ]
  },
  {
   "cell_type": "code",
   "execution_count": 1,
   "id": "92f8ba5a-7f89-4372-ac57-6ec03d76b5a6",
   "metadata": {
    "tags": []
   },
   "outputs": [],
   "source": [
    "import pandas as pd"
   ]
  },
  {
   "cell_type": "code",
   "execution_count": 2,
   "id": "f8b37f57-a7c4-4b70-bb69-d905ac8ceecd",
   "metadata": {},
   "outputs": [],
   "source": [
    "from pandasql import sqldf"
   ]
  },
  {
   "cell_type": "markdown",
   "id": "f5efd8bf-22d6-4fea-a437-c7aef8af3bc4",
   "metadata": {},
   "source": [
    "Create a convenience lambda function that passes global variables to your query object. "
   ]
  },
  {
   "cell_type": "code",
   "execution_count": 3,
   "id": "4d5297ae-3628-4e50-92a1-497fc67f7120",
   "metadata": {},
   "outputs": [],
   "source": [
    "pysqldf = lambda q: sqldf(q, globals())"
   ]
  },
  {
   "cell_type": "code",
   "execution_count": 4,
   "id": "6bedb5ce-c92b-43c8-b265-ee8e62fbd0f5",
   "metadata": {},
   "outputs": [],
   "source": [
    "flight_data = \"./departuredelays.csv\""
   ]
  },
  {
   "cell_type": "code",
   "execution_count": 5,
   "id": "259d2253-0ee6-4216-ad52-dc15e93f100b",
   "metadata": {},
   "outputs": [
    {
     "name": "stdout",
     "output_type": "stream",
     "text": [
      "-rwxr--r--@ 1 michelle  staff  33396236 Aug 10 15:32 \u001b[31m./departuredelays.csv\u001b[m\u001b[m*\n"
     ]
    }
   ],
   "source": [
    "ls -l $flight_data"
   ]
  },
  {
   "cell_type": "code",
   "execution_count": 6,
   "id": "e1b0aa34-ee77-48d8-9f68-78bbc93604a2",
   "metadata": {},
   "outputs": [],
   "source": [
    "df = pd.read_csv(flight_data)"
   ]
  },
  {
   "cell_type": "code",
   "execution_count": 7,
   "id": "59a33544-3248-43dc-aeea-f63c41c61895",
   "metadata": {
    "tags": []
   },
   "outputs": [
    {
     "data": {
      "text/html": [
       "<div>\n",
       "<style scoped>\n",
       "    .dataframe tbody tr th:only-of-type {\n",
       "        vertical-align: middle;\n",
       "    }\n",
       "\n",
       "    .dataframe tbody tr th {\n",
       "        vertical-align: top;\n",
       "    }\n",
       "\n",
       "    .dataframe thead th {\n",
       "        text-align: right;\n",
       "    }\n",
       "</style>\n",
       "<table border=\"1\" class=\"dataframe\">\n",
       "  <thead>\n",
       "    <tr style=\"text-align: right;\">\n",
       "      <th></th>\n",
       "      <th>date</th>\n",
       "      <th>delay</th>\n",
       "      <th>distance</th>\n",
       "      <th>origin</th>\n",
       "      <th>destination</th>\n",
       "    </tr>\n",
       "  </thead>\n",
       "  <tbody>\n",
       "    <tr>\n",
       "      <th>0</th>\n",
       "      <td>1011245</td>\n",
       "      <td>6</td>\n",
       "      <td>602</td>\n",
       "      <td>ABE</td>\n",
       "      <td>ATL</td>\n",
       "    </tr>\n",
       "    <tr>\n",
       "      <th>1</th>\n",
       "      <td>1020600</td>\n",
       "      <td>-8</td>\n",
       "      <td>369</td>\n",
       "      <td>ABE</td>\n",
       "      <td>DTW</td>\n",
       "    </tr>\n",
       "    <tr>\n",
       "      <th>2</th>\n",
       "      <td>1021245</td>\n",
       "      <td>-2</td>\n",
       "      <td>602</td>\n",
       "      <td>ABE</td>\n",
       "      <td>ATL</td>\n",
       "    </tr>\n",
       "    <tr>\n",
       "      <th>3</th>\n",
       "      <td>1020605</td>\n",
       "      <td>-4</td>\n",
       "      <td>602</td>\n",
       "      <td>ABE</td>\n",
       "      <td>ATL</td>\n",
       "    </tr>\n",
       "    <tr>\n",
       "      <th>4</th>\n",
       "      <td>1031245</td>\n",
       "      <td>-4</td>\n",
       "      <td>602</td>\n",
       "      <td>ABE</td>\n",
       "      <td>ATL</td>\n",
       "    </tr>\n",
       "    <tr>\n",
       "      <th>...</th>\n",
       "      <td>...</td>\n",
       "      <td>...</td>\n",
       "      <td>...</td>\n",
       "      <td>...</td>\n",
       "      <td>...</td>\n",
       "    </tr>\n",
       "    <tr>\n",
       "      <th>1391573</th>\n",
       "      <td>3310623</td>\n",
       "      <td>-10</td>\n",
       "      <td>139</td>\n",
       "      <td>YUM</td>\n",
       "      <td>PHX</td>\n",
       "    </tr>\n",
       "    <tr>\n",
       "      <th>1391574</th>\n",
       "      <td>3311505</td>\n",
       "      <td>-4</td>\n",
       "      <td>139</td>\n",
       "      <td>YUM</td>\n",
       "      <td>PHX</td>\n",
       "    </tr>\n",
       "    <tr>\n",
       "      <th>1391575</th>\n",
       "      <td>3311846</td>\n",
       "      <td>0</td>\n",
       "      <td>206</td>\n",
       "      <td>YUM</td>\n",
       "      <td>LAX</td>\n",
       "    </tr>\n",
       "    <tr>\n",
       "      <th>1391576</th>\n",
       "      <td>3310500</td>\n",
       "      <td>-7</td>\n",
       "      <td>206</td>\n",
       "      <td>YUM</td>\n",
       "      <td>LAX</td>\n",
       "    </tr>\n",
       "    <tr>\n",
       "      <th>1391577</th>\n",
       "      <td>3311432</td>\n",
       "      <td>6</td>\n",
       "      <td>206</td>\n",
       "      <td>YUM</td>\n",
       "      <td>LAX</td>\n",
       "    </tr>\n",
       "  </tbody>\n",
       "</table>\n",
       "<p>1391578 rows × 5 columns</p>\n",
       "</div>"
      ],
      "text/plain": [
       "            date  delay  distance origin destination\n",
       "0        1011245      6       602    ABE         ATL\n",
       "1        1020600     -8       369    ABE         DTW\n",
       "2        1021245     -2       602    ABE         ATL\n",
       "3        1020605     -4       602    ABE         ATL\n",
       "4        1031245     -4       602    ABE         ATL\n",
       "...          ...    ...       ...    ...         ...\n",
       "1391573  3310623    -10       139    YUM         PHX\n",
       "1391574  3311505     -4       139    YUM         PHX\n",
       "1391575  3311846      0       206    YUM         LAX\n",
       "1391576  3310500     -7       206    YUM         LAX\n",
       "1391577  3311432      6       206    YUM         LAX\n",
       "\n",
       "[1391578 rows x 5 columns]"
      ]
     },
     "execution_count": 7,
     "metadata": {},
     "output_type": "execute_result"
    }
   ],
   "source": [
    "df"
   ]
  },
  {
   "cell_type": "code",
   "execution_count": 8,
   "id": "cf583657-3e82-4455-b8c9-83bdf869cfa2",
   "metadata": {},
   "outputs": [
    {
     "data": {
      "text/plain": [
       "date            int64\n",
       "delay           int64\n",
       "distance        int64\n",
       "origin         object\n",
       "destination    object\n",
       "dtype: object"
      ]
     },
     "execution_count": 8,
     "metadata": {},
     "output_type": "execute_result"
    }
   ],
   "source": [
    "df.dtypes"
   ]
  },
  {
   "cell_type": "markdown",
   "id": "56e0c68e-ce91-41c8-ba4c-aa6c04804dcb",
   "metadata": {},
   "source": [
    "**SELECT**\n",
    "\n",
    "Here is a general template of SELECT statement, which is the workhorse statement for data science with SQL."
   ]
  },
  {
   "cell_type": "markdown",
   "id": "db793415-0ec9-46f3-8757-076998850b1f",
   "metadata": {},
   "source": [
    "**Template for SQL Select functions:**\n",
    "\n",
    "    SELECT column1, function_name(column2)\n",
    "    FROM table_name\n",
    "    WHERE condition\n",
    "    GROUP BY column1, column2\n",
    "    HAVING condition\n",
    "    ORDER BY column1 ASC|DESC, column2 ASC|DESC;\n",
    "\n",
    "    function_name: Name of the function used for example, SUM() , AVG().\n",
    "    table_name: Name of the table.\n",
    "    condition: Condition used.\n",
    "    "
   ]
  },
  {
   "cell_type": "markdown",
   "id": "e417ceff-8083-4280-853d-d0194338c253",
   "metadata": {},
   "source": [
    "**WHERE operators:**\n",
    "\n",
    "| Operator | \tDescription |\n",
    "|----------|----------------|\n",
    "| > | Greater Than |\n",
    "| >= | Greater than or Equal to |\n",
    "| < | Less than |\n",
    "| <= | Less than or Equal to |\n",
    "| = | Equal to |\n",
    "| <> | Not equal to |\n",
    "| BETWEEN | In an inclusive Range |\n",
    "| LIKE | Search for a pattern |\n",
    "| IN | To define multiple likely values for a column |"
   ]
  },
  {
   "cell_type": "markdown",
   "id": "ef6af480-6e99-4f51-8260-1359277d0187",
   "metadata": {},
   "source": [
    "**Wildcards on LIKE:**\n",
    "    \n",
    "| Operators | Description |\n",
    "|-----------|-------------|\n",
    "| % | \tUsed in substitute for zero or more characters |\n",
    "| _ | \tUsed in substitute of one character  |\n",
    "| [range_of_characters] | \tUsed to retrieve matching set or range of characters defined inside the brackets. |\n",
    "| [^range_of_characters] or [!range of characters] | \tUsed to fetch a non-matching set or range of characters specified inside the brackets. |"
   ]
  },
  {
   "cell_type": "code",
   "execution_count": 9,
   "id": "1e63cd92-7da2-439e-8e73-35af21375264",
   "metadata": {},
   "outputs": [],
   "source": [
    "q = \"SELECT * FROM df WHERE destination == 'ATL'\""
   ]
  },
  {
   "cell_type": "code",
   "execution_count": 10,
   "id": "53c8c986-96c0-449d-9be7-d7f04f5c7fe2",
   "metadata": {},
   "outputs": [
    {
     "data": {
      "text/html": [
       "<div>\n",
       "<style scoped>\n",
       "    .dataframe tbody tr th:only-of-type {\n",
       "        vertical-align: middle;\n",
       "    }\n",
       "\n",
       "    .dataframe tbody tr th {\n",
       "        vertical-align: top;\n",
       "    }\n",
       "\n",
       "    .dataframe thead th {\n",
       "        text-align: right;\n",
       "    }\n",
       "</style>\n",
       "<table border=\"1\" class=\"dataframe\">\n",
       "  <thead>\n",
       "    <tr style=\"text-align: right;\">\n",
       "      <th></th>\n",
       "      <th>date</th>\n",
       "      <th>delay</th>\n",
       "      <th>distance</th>\n",
       "      <th>origin</th>\n",
       "      <th>destination</th>\n",
       "    </tr>\n",
       "  </thead>\n",
       "  <tbody>\n",
       "    <tr>\n",
       "      <th>0</th>\n",
       "      <td>1011245</td>\n",
       "      <td>6</td>\n",
       "      <td>602</td>\n",
       "      <td>ABE</td>\n",
       "      <td>ATL</td>\n",
       "    </tr>\n",
       "    <tr>\n",
       "      <th>1</th>\n",
       "      <td>1021245</td>\n",
       "      <td>-2</td>\n",
       "      <td>602</td>\n",
       "      <td>ABE</td>\n",
       "      <td>ATL</td>\n",
       "    </tr>\n",
       "    <tr>\n",
       "      <th>2</th>\n",
       "      <td>1020605</td>\n",
       "      <td>-4</td>\n",
       "      <td>602</td>\n",
       "      <td>ABE</td>\n",
       "      <td>ATL</td>\n",
       "    </tr>\n",
       "    <tr>\n",
       "      <th>3</th>\n",
       "      <td>1031245</td>\n",
       "      <td>-4</td>\n",
       "      <td>602</td>\n",
       "      <td>ABE</td>\n",
       "      <td>ATL</td>\n",
       "    </tr>\n",
       "    <tr>\n",
       "      <th>4</th>\n",
       "      <td>1030605</td>\n",
       "      <td>0</td>\n",
       "      <td>602</td>\n",
       "      <td>ABE</td>\n",
       "      <td>ATL</td>\n",
       "    </tr>\n",
       "    <tr>\n",
       "      <th>...</th>\n",
       "      <td>...</td>\n",
       "      <td>...</td>\n",
       "      <td>...</td>\n",
       "      <td>...</td>\n",
       "      <td>...</td>\n",
       "    </tr>\n",
       "    <tr>\n",
       "      <th>90429</th>\n",
       "      <td>3310724</td>\n",
       "      <td>-10</td>\n",
       "      <td>512</td>\n",
       "      <td>XNA</td>\n",
       "      <td>ATL</td>\n",
       "    </tr>\n",
       "    <tr>\n",
       "      <th>90430</th>\n",
       "      <td>3311811</td>\n",
       "      <td>30</td>\n",
       "      <td>512</td>\n",
       "      <td>XNA</td>\n",
       "      <td>ATL</td>\n",
       "    </tr>\n",
       "    <tr>\n",
       "      <th>90431</th>\n",
       "      <td>3310927</td>\n",
       "      <td>-4</td>\n",
       "      <td>512</td>\n",
       "      <td>XNA</td>\n",
       "      <td>ATL</td>\n",
       "    </tr>\n",
       "    <tr>\n",
       "      <th>90432</th>\n",
       "      <td>3310600</td>\n",
       "      <td>-5</td>\n",
       "      <td>512</td>\n",
       "      <td>XNA</td>\n",
       "      <td>ATL</td>\n",
       "    </tr>\n",
       "    <tr>\n",
       "      <th>90433</th>\n",
       "      <td>3311500</td>\n",
       "      <td>-7</td>\n",
       "      <td>512</td>\n",
       "      <td>XNA</td>\n",
       "      <td>ATL</td>\n",
       "    </tr>\n",
       "  </tbody>\n",
       "</table>\n",
       "<p>90434 rows × 5 columns</p>\n",
       "</div>"
      ],
      "text/plain": [
       "          date  delay  distance origin destination\n",
       "0      1011245      6       602    ABE         ATL\n",
       "1      1021245     -2       602    ABE         ATL\n",
       "2      1020605     -4       602    ABE         ATL\n",
       "3      1031245     -4       602    ABE         ATL\n",
       "4      1030605      0       602    ABE         ATL\n",
       "...        ...    ...       ...    ...         ...\n",
       "90429  3310724    -10       512    XNA         ATL\n",
       "90430  3311811     30       512    XNA         ATL\n",
       "90431  3310927     -4       512    XNA         ATL\n",
       "90432  3310600     -5       512    XNA         ATL\n",
       "90433  3311500     -7       512    XNA         ATL\n",
       "\n",
       "[90434 rows x 5 columns]"
      ]
     },
     "execution_count": 10,
     "metadata": {},
     "output_type": "execute_result"
    }
   ],
   "source": [
    "pysqldf(q)"
   ]
  },
  {
   "cell_type": "markdown",
   "id": "d16d7544-ffb6-406a-b09e-d0b79741f52e",
   "metadata": {},
   "source": [
    "The query returns a dataframe, so dataframe methods can be executed on the result."
   ]
  },
  {
   "cell_type": "code",
   "execution_count": 11,
   "id": "abaeadeb-2080-4979-b824-37ca37617c47",
   "metadata": {
    "tags": []
   },
   "outputs": [
    {
     "data": {
      "text/html": [
       "<div>\n",
       "<style scoped>\n",
       "    .dataframe tbody tr th:only-of-type {\n",
       "        vertical-align: middle;\n",
       "    }\n",
       "\n",
       "    .dataframe tbody tr th {\n",
       "        vertical-align: top;\n",
       "    }\n",
       "\n",
       "    .dataframe thead th {\n",
       "        text-align: right;\n",
       "    }\n",
       "</style>\n",
       "<table border=\"1\" class=\"dataframe\">\n",
       "  <thead>\n",
       "    <tr style=\"text-align: right;\">\n",
       "      <th></th>\n",
       "      <th>date</th>\n",
       "      <th>delay</th>\n",
       "      <th>distance</th>\n",
       "      <th>origin</th>\n",
       "      <th>destination</th>\n",
       "    </tr>\n",
       "  </thead>\n",
       "  <tbody>\n",
       "    <tr>\n",
       "      <th>0</th>\n",
       "      <td>1011245</td>\n",
       "      <td>6</td>\n",
       "      <td>602</td>\n",
       "      <td>ABE</td>\n",
       "      <td>ATL</td>\n",
       "    </tr>\n",
       "    <tr>\n",
       "      <th>1</th>\n",
       "      <td>1021245</td>\n",
       "      <td>-2</td>\n",
       "      <td>602</td>\n",
       "      <td>ABE</td>\n",
       "      <td>ATL</td>\n",
       "    </tr>\n",
       "    <tr>\n",
       "      <th>2</th>\n",
       "      <td>1020605</td>\n",
       "      <td>-4</td>\n",
       "      <td>602</td>\n",
       "      <td>ABE</td>\n",
       "      <td>ATL</td>\n",
       "    </tr>\n",
       "    <tr>\n",
       "      <th>3</th>\n",
       "      <td>1031245</td>\n",
       "      <td>-4</td>\n",
       "      <td>602</td>\n",
       "      <td>ABE</td>\n",
       "      <td>ATL</td>\n",
       "    </tr>\n",
       "    <tr>\n",
       "      <th>4</th>\n",
       "      <td>1030605</td>\n",
       "      <td>0</td>\n",
       "      <td>602</td>\n",
       "      <td>ABE</td>\n",
       "      <td>ATL</td>\n",
       "    </tr>\n",
       "  </tbody>\n",
       "</table>\n",
       "</div>"
      ],
      "text/plain": [
       "      date  delay  distance origin destination\n",
       "0  1011245      6       602    ABE         ATL\n",
       "1  1021245     -2       602    ABE         ATL\n",
       "2  1020605     -4       602    ABE         ATL\n",
       "3  1031245     -4       602    ABE         ATL\n",
       "4  1030605      0       602    ABE         ATL"
      ]
     },
     "execution_count": 11,
     "metadata": {},
     "output_type": "execute_result"
    }
   ],
   "source": [
    "pysqldf(q).head(5)"
   ]
  },
  {
   "cell_type": "markdown",
   "id": "129a208d-376f-4e3b-80d7-29fa4690dd02",
   "metadata": {
    "tags": []
   },
   "source": [
    "Pandas dataframes have a built-in ***query*** method for a similar function."
   ]
  },
  {
   "cell_type": "code",
   "execution_count": 12,
   "id": "5083612e-fde3-4545-a5f1-886ac627c47e",
   "metadata": {
    "tags": []
   },
   "outputs": [
    {
     "data": {
      "text/html": [
       "<div>\n",
       "<style scoped>\n",
       "    .dataframe tbody tr th:only-of-type {\n",
       "        vertical-align: middle;\n",
       "    }\n",
       "\n",
       "    .dataframe tbody tr th {\n",
       "        vertical-align: top;\n",
       "    }\n",
       "\n",
       "    .dataframe thead th {\n",
       "        text-align: right;\n",
       "    }\n",
       "</style>\n",
       "<table border=\"1\" class=\"dataframe\">\n",
       "  <thead>\n",
       "    <tr style=\"text-align: right;\">\n",
       "      <th></th>\n",
       "      <th>date</th>\n",
       "      <th>delay</th>\n",
       "      <th>distance</th>\n",
       "      <th>origin</th>\n",
       "      <th>destination</th>\n",
       "    </tr>\n",
       "  </thead>\n",
       "  <tbody>\n",
       "    <tr>\n",
       "      <th>0</th>\n",
       "      <td>1011245</td>\n",
       "      <td>6</td>\n",
       "      <td>602</td>\n",
       "      <td>ABE</td>\n",
       "      <td>ATL</td>\n",
       "    </tr>\n",
       "    <tr>\n",
       "      <th>2</th>\n",
       "      <td>1021245</td>\n",
       "      <td>-2</td>\n",
       "      <td>602</td>\n",
       "      <td>ABE</td>\n",
       "      <td>ATL</td>\n",
       "    </tr>\n",
       "    <tr>\n",
       "      <th>3</th>\n",
       "      <td>1020605</td>\n",
       "      <td>-4</td>\n",
       "      <td>602</td>\n",
       "      <td>ABE</td>\n",
       "      <td>ATL</td>\n",
       "    </tr>\n",
       "    <tr>\n",
       "      <th>4</th>\n",
       "      <td>1031245</td>\n",
       "      <td>-4</td>\n",
       "      <td>602</td>\n",
       "      <td>ABE</td>\n",
       "      <td>ATL</td>\n",
       "    </tr>\n",
       "    <tr>\n",
       "      <th>5</th>\n",
       "      <td>1030605</td>\n",
       "      <td>0</td>\n",
       "      <td>602</td>\n",
       "      <td>ABE</td>\n",
       "      <td>ATL</td>\n",
       "    </tr>\n",
       "    <tr>\n",
       "      <th>...</th>\n",
       "      <td>...</td>\n",
       "      <td>...</td>\n",
       "      <td>...</td>\n",
       "      <td>...</td>\n",
       "      <td>...</td>\n",
       "    </tr>\n",
       "    <tr>\n",
       "      <th>1390713</th>\n",
       "      <td>3310724</td>\n",
       "      <td>-10</td>\n",
       "      <td>512</td>\n",
       "      <td>XNA</td>\n",
       "      <td>ATL</td>\n",
       "    </tr>\n",
       "    <tr>\n",
       "      <th>1390714</th>\n",
       "      <td>3311811</td>\n",
       "      <td>30</td>\n",
       "      <td>512</td>\n",
       "      <td>XNA</td>\n",
       "      <td>ATL</td>\n",
       "    </tr>\n",
       "    <tr>\n",
       "      <th>1390715</th>\n",
       "      <td>3310927</td>\n",
       "      <td>-4</td>\n",
       "      <td>512</td>\n",
       "      <td>XNA</td>\n",
       "      <td>ATL</td>\n",
       "    </tr>\n",
       "    <tr>\n",
       "      <th>1390717</th>\n",
       "      <td>3310600</td>\n",
       "      <td>-5</td>\n",
       "      <td>512</td>\n",
       "      <td>XNA</td>\n",
       "      <td>ATL</td>\n",
       "    </tr>\n",
       "    <tr>\n",
       "      <th>1390718</th>\n",
       "      <td>3311500</td>\n",
       "      <td>-7</td>\n",
       "      <td>512</td>\n",
       "      <td>XNA</td>\n",
       "      <td>ATL</td>\n",
       "    </tr>\n",
       "  </tbody>\n",
       "</table>\n",
       "<p>90434 rows × 5 columns</p>\n",
       "</div>"
      ],
      "text/plain": [
       "            date  delay  distance origin destination\n",
       "0        1011245      6       602    ABE         ATL\n",
       "2        1021245     -2       602    ABE         ATL\n",
       "3        1020605     -4       602    ABE         ATL\n",
       "4        1031245     -4       602    ABE         ATL\n",
       "5        1030605      0       602    ABE         ATL\n",
       "...          ...    ...       ...    ...         ...\n",
       "1390713  3310724    -10       512    XNA         ATL\n",
       "1390714  3311811     30       512    XNA         ATL\n",
       "1390715  3310927     -4       512    XNA         ATL\n",
       "1390717  3310600     -5       512    XNA         ATL\n",
       "1390718  3311500     -7       512    XNA         ATL\n",
       "\n",
       "[90434 rows x 5 columns]"
      ]
     },
     "execution_count": 12,
     "metadata": {},
     "output_type": "execute_result"
    }
   ],
   "source": [
    "df.query(\"destination == 'ATL'\") "
   ]
  },
  {
   "cell_type": "markdown",
   "id": "184a70d9-cfc9-4d4d-a113-5242ec6c883a",
   "metadata": {},
   "source": [
    "Pandas SQL executes standard SQL.  By passing globals (i.e., via the lambda function), variables such as the dataframe name can be referenced in the command.\n",
    "\n",
    "Note that Pandas dataframes variables are automatically detected in the SQL statement.  This includes both the base dataframe name (***df*** in this example) and the column names in the dataframe (e.g., ***origin***, ***destination***, and ***distance***) in this example."
   ]
  },
  {
   "cell_type": "code",
   "execution_count": 13,
   "id": "369e0adb-e6ba-468f-b82d-f02148d53a62",
   "metadata": {
    "tags": []
   },
   "outputs": [],
   "source": [
    "q = \"\"\"\n",
    "    SELECT origin, destination, distance FROM df WHERE destination == 'ATL'\n",
    "    ORDER BY distance DESC\n",
    "    \"\"\""
   ]
  },
  {
   "cell_type": "code",
   "execution_count": 14,
   "id": "32313ebf-5746-430f-8057-328b13dacf05",
   "metadata": {},
   "outputs": [
    {
     "data": {
      "text/html": [
       "<div>\n",
       "<style scoped>\n",
       "    .dataframe tbody tr th:only-of-type {\n",
       "        vertical-align: middle;\n",
       "    }\n",
       "\n",
       "    .dataframe tbody tr th {\n",
       "        vertical-align: top;\n",
       "    }\n",
       "\n",
       "    .dataframe thead th {\n",
       "        text-align: right;\n",
       "    }\n",
       "</style>\n",
       "<table border=\"1\" class=\"dataframe\">\n",
       "  <thead>\n",
       "    <tr style=\"text-align: right;\">\n",
       "      <th></th>\n",
       "      <th>origin</th>\n",
       "      <th>destination</th>\n",
       "      <th>distance</th>\n",
       "    </tr>\n",
       "  </thead>\n",
       "  <tbody>\n",
       "    <tr>\n",
       "      <th>0</th>\n",
       "      <td>HNL</td>\n",
       "      <td>ATL</td>\n",
       "      <td>3912</td>\n",
       "    </tr>\n",
       "    <tr>\n",
       "      <th>1</th>\n",
       "      <td>HNL</td>\n",
       "      <td>ATL</td>\n",
       "      <td>3912</td>\n",
       "    </tr>\n",
       "    <tr>\n",
       "      <th>2</th>\n",
       "      <td>HNL</td>\n",
       "      <td>ATL</td>\n",
       "      <td>3912</td>\n",
       "    </tr>\n",
       "    <tr>\n",
       "      <th>3</th>\n",
       "      <td>HNL</td>\n",
       "      <td>ATL</td>\n",
       "      <td>3912</td>\n",
       "    </tr>\n",
       "    <tr>\n",
       "      <th>4</th>\n",
       "      <td>HNL</td>\n",
       "      <td>ATL</td>\n",
       "      <td>3912</td>\n",
       "    </tr>\n",
       "    <tr>\n",
       "      <th>...</th>\n",
       "      <td>...</td>\n",
       "      <td>...</td>\n",
       "      <td>...</td>\n",
       "    </tr>\n",
       "    <tr>\n",
       "      <th>90429</th>\n",
       "      <td>CSG</td>\n",
       "      <td>ATL</td>\n",
       "      <td>72</td>\n",
       "    </tr>\n",
       "    <tr>\n",
       "      <th>90430</th>\n",
       "      <td>CSG</td>\n",
       "      <td>ATL</td>\n",
       "      <td>72</td>\n",
       "    </tr>\n",
       "    <tr>\n",
       "      <th>90431</th>\n",
       "      <td>CSG</td>\n",
       "      <td>ATL</td>\n",
       "      <td>72</td>\n",
       "    </tr>\n",
       "    <tr>\n",
       "      <th>90432</th>\n",
       "      <td>CSG</td>\n",
       "      <td>ATL</td>\n",
       "      <td>72</td>\n",
       "    </tr>\n",
       "    <tr>\n",
       "      <th>90433</th>\n",
       "      <td>CSG</td>\n",
       "      <td>ATL</td>\n",
       "      <td>72</td>\n",
       "    </tr>\n",
       "  </tbody>\n",
       "</table>\n",
       "<p>90434 rows × 3 columns</p>\n",
       "</div>"
      ],
      "text/plain": [
       "      origin destination  distance\n",
       "0        HNL         ATL      3912\n",
       "1        HNL         ATL      3912\n",
       "2        HNL         ATL      3912\n",
       "3        HNL         ATL      3912\n",
       "4        HNL         ATL      3912\n",
       "...      ...         ...       ...\n",
       "90429    CSG         ATL        72\n",
       "90430    CSG         ATL        72\n",
       "90431    CSG         ATL        72\n",
       "90432    CSG         ATL        72\n",
       "90433    CSG         ATL        72\n",
       "\n",
       "[90434 rows x 3 columns]"
      ]
     },
     "execution_count": 14,
     "metadata": {},
     "output_type": "execute_result"
    }
   ],
   "source": [
    "pysqldf(q)"
   ]
  },
  {
   "cell_type": "markdown",
   "id": "4a400f09-da0c-457c-bd84-9ff1f654d305",
   "metadata": {},
   "source": [
    "What flights were to a destination airport that begins with \"C\"?"
   ]
  },
  {
   "cell_type": "code",
   "execution_count": 15,
   "id": "8c32e1eb-376f-4651-8186-28b01b09af18",
   "metadata": {
    "tags": []
   },
   "outputs": [],
   "source": [
    "q = \"\"\"\n",
    "    SELECT * FROM df WHERE destination LIKE 'C%'\n",
    "    \"\"\""
   ]
  },
  {
   "cell_type": "code",
   "execution_count": 16,
   "id": "7f47fcb1-86be-437f-ad9b-b8a959da8720",
   "metadata": {},
   "outputs": [
    {
     "data": {
      "text/html": [
       "<div>\n",
       "<style scoped>\n",
       "    .dataframe tbody tr th:only-of-type {\n",
       "        vertical-align: middle;\n",
       "    }\n",
       "\n",
       "    .dataframe tbody tr th {\n",
       "        vertical-align: top;\n",
       "    }\n",
       "\n",
       "    .dataframe thead th {\n",
       "        text-align: right;\n",
       "    }\n",
       "</style>\n",
       "<table border=\"1\" class=\"dataframe\">\n",
       "  <thead>\n",
       "    <tr style=\"text-align: right;\">\n",
       "      <th></th>\n",
       "      <th>date</th>\n",
       "      <th>delay</th>\n",
       "      <th>distance</th>\n",
       "      <th>origin</th>\n",
       "      <th>destination</th>\n",
       "    </tr>\n",
       "  </thead>\n",
       "  <tbody>\n",
       "    <tr>\n",
       "      <th>0</th>\n",
       "      <td>1012316</td>\n",
       "      <td>-17</td>\n",
       "      <td>48</td>\n",
       "      <td>ACV</td>\n",
       "      <td>CEC</td>\n",
       "    </tr>\n",
       "    <tr>\n",
       "      <th>1</th>\n",
       "      <td>1022316</td>\n",
       "      <td>-20</td>\n",
       "      <td>48</td>\n",
       "      <td>ACV</td>\n",
       "      <td>CEC</td>\n",
       "    </tr>\n",
       "    <tr>\n",
       "      <th>2</th>\n",
       "      <td>1032316</td>\n",
       "      <td>-24</td>\n",
       "      <td>48</td>\n",
       "      <td>ACV</td>\n",
       "      <td>CEC</td>\n",
       "    </tr>\n",
       "    <tr>\n",
       "      <th>3</th>\n",
       "      <td>1052316</td>\n",
       "      <td>-18</td>\n",
       "      <td>48</td>\n",
       "      <td>ACV</td>\n",
       "      <td>CEC</td>\n",
       "    </tr>\n",
       "    <tr>\n",
       "      <th>4</th>\n",
       "      <td>1062316</td>\n",
       "      <td>14</td>\n",
       "      <td>48</td>\n",
       "      <td>ACV</td>\n",
       "      <td>CEC</td>\n",
       "    </tr>\n",
       "    <tr>\n",
       "      <th>...</th>\n",
       "      <td>...</td>\n",
       "      <td>...</td>\n",
       "      <td>...</td>\n",
       "      <td>...</td>\n",
       "      <td>...</td>\n",
       "    </tr>\n",
       "    <tr>\n",
       "      <th>67354</th>\n",
       "      <td>3271139</td>\n",
       "      <td>-13</td>\n",
       "      <td>185</td>\n",
       "      <td>YAK</td>\n",
       "      <td>CDV</td>\n",
       "    </tr>\n",
       "    <tr>\n",
       "      <th>67355</th>\n",
       "      <td>3281139</td>\n",
       "      <td>-12</td>\n",
       "      <td>185</td>\n",
       "      <td>YAK</td>\n",
       "      <td>CDV</td>\n",
       "    </tr>\n",
       "    <tr>\n",
       "      <th>67356</th>\n",
       "      <td>3291139</td>\n",
       "      <td>-6</td>\n",
       "      <td>185</td>\n",
       "      <td>YAK</td>\n",
       "      <td>CDV</td>\n",
       "    </tr>\n",
       "    <tr>\n",
       "      <th>67357</th>\n",
       "      <td>3301139</td>\n",
       "      <td>-20</td>\n",
       "      <td>185</td>\n",
       "      <td>YAK</td>\n",
       "      <td>CDV</td>\n",
       "    </tr>\n",
       "    <tr>\n",
       "      <th>67358</th>\n",
       "      <td>3311139</td>\n",
       "      <td>-19</td>\n",
       "      <td>185</td>\n",
       "      <td>YAK</td>\n",
       "      <td>CDV</td>\n",
       "    </tr>\n",
       "  </tbody>\n",
       "</table>\n",
       "<p>67359 rows × 5 columns</p>\n",
       "</div>"
      ],
      "text/plain": [
       "          date  delay  distance origin destination\n",
       "0      1012316    -17        48    ACV         CEC\n",
       "1      1022316    -20        48    ACV         CEC\n",
       "2      1032316    -24        48    ACV         CEC\n",
       "3      1052316    -18        48    ACV         CEC\n",
       "4      1062316     14        48    ACV         CEC\n",
       "...        ...    ...       ...    ...         ...\n",
       "67354  3271139    -13       185    YAK         CDV\n",
       "67355  3281139    -12       185    YAK         CDV\n",
       "67356  3291139     -6       185    YAK         CDV\n",
       "67357  3301139    -20       185    YAK         CDV\n",
       "67358  3311139    -19       185    YAK         CDV\n",
       "\n",
       "[67359 rows x 5 columns]"
      ]
     },
     "execution_count": 16,
     "metadata": {},
     "output_type": "execute_result"
    }
   ],
   "source": [
    "pysqldf(q)"
   ]
  },
  {
   "cell_type": "markdown",
   "id": "f7b9ce88-ab91-47e5-8c88-e67ed3568ee7",
   "metadata": {},
   "source": [
    "Build a new dataframe for flights that begin or end in one of the hub airports of DFW, Atlanta, or Charlotte."
   ]
  },
  {
   "cell_type": "code",
   "execution_count": 17,
   "id": "3f8a1c29-fa14-4ef7-82c2-94cdc4dfa5f5",
   "metadata": {
    "tags": []
   },
   "outputs": [],
   "source": [
    "q = \"\"\"\n",
    "    SELECT * FROM df WHERE origin IN ('DFW', 'ATL', 'CLT') OR destination IN ('DFW', 'ATL', 'CLT')\n",
    "    \"\"\""
   ]
  },
  {
   "cell_type": "code",
   "execution_count": 18,
   "id": "dc85d80f-1b22-4155-8be6-410929110a1f",
   "metadata": {},
   "outputs": [],
   "source": [
    "hubs_df = pysqldf(q)"
   ]
  },
  {
   "cell_type": "code",
   "execution_count": 19,
   "id": "fd0a3b33-80ec-4599-ba4f-31b13a3c278d",
   "metadata": {
    "tags": []
   },
   "outputs": [
    {
     "data": {
      "text/html": [
       "<div>\n",
       "<style scoped>\n",
       "    .dataframe tbody tr th:only-of-type {\n",
       "        vertical-align: middle;\n",
       "    }\n",
       "\n",
       "    .dataframe tbody tr th {\n",
       "        vertical-align: top;\n",
       "    }\n",
       "\n",
       "    .dataframe thead th {\n",
       "        text-align: right;\n",
       "    }\n",
       "</style>\n",
       "<table border=\"1\" class=\"dataframe\">\n",
       "  <thead>\n",
       "    <tr style=\"text-align: right;\">\n",
       "      <th></th>\n",
       "      <th>date</th>\n",
       "      <th>delay</th>\n",
       "      <th>distance</th>\n",
       "      <th>origin</th>\n",
       "      <th>destination</th>\n",
       "    </tr>\n",
       "  </thead>\n",
       "  <tbody>\n",
       "    <tr>\n",
       "      <th>0</th>\n",
       "      <td>1011245</td>\n",
       "      <td>6</td>\n",
       "      <td>602</td>\n",
       "      <td>ABE</td>\n",
       "      <td>ATL</td>\n",
       "    </tr>\n",
       "    <tr>\n",
       "      <th>1</th>\n",
       "      <td>1021245</td>\n",
       "      <td>-2</td>\n",
       "      <td>602</td>\n",
       "      <td>ABE</td>\n",
       "      <td>ATL</td>\n",
       "    </tr>\n",
       "    <tr>\n",
       "      <th>2</th>\n",
       "      <td>1020605</td>\n",
       "      <td>-4</td>\n",
       "      <td>602</td>\n",
       "      <td>ABE</td>\n",
       "      <td>ATL</td>\n",
       "    </tr>\n",
       "    <tr>\n",
       "      <th>3</th>\n",
       "      <td>1031245</td>\n",
       "      <td>-4</td>\n",
       "      <td>602</td>\n",
       "      <td>ABE</td>\n",
       "      <td>ATL</td>\n",
       "    </tr>\n",
       "    <tr>\n",
       "      <th>4</th>\n",
       "      <td>1030605</td>\n",
       "      <td>0</td>\n",
       "      <td>602</td>\n",
       "      <td>ABE</td>\n",
       "      <td>ATL</td>\n",
       "    </tr>\n",
       "    <tr>\n",
       "      <th>...</th>\n",
       "      <td>...</td>\n",
       "      <td>...</td>\n",
       "      <td>...</td>\n",
       "      <td>...</td>\n",
       "      <td>...</td>\n",
       "    </tr>\n",
       "    <tr>\n",
       "      <th>364119</th>\n",
       "      <td>3311735</td>\n",
       "      <td>-3</td>\n",
       "      <td>244</td>\n",
       "      <td>XNA</td>\n",
       "      <td>DFW</td>\n",
       "    </tr>\n",
       "    <tr>\n",
       "      <th>364120</th>\n",
       "      <td>3310935</td>\n",
       "      <td>-2</td>\n",
       "      <td>244</td>\n",
       "      <td>XNA</td>\n",
       "      <td>DFW</td>\n",
       "    </tr>\n",
       "    <tr>\n",
       "      <th>364121</th>\n",
       "      <td>3310620</td>\n",
       "      <td>-3</td>\n",
       "      <td>244</td>\n",
       "      <td>XNA</td>\n",
       "      <td>DFW</td>\n",
       "    </tr>\n",
       "    <tr>\n",
       "      <th>364122</th>\n",
       "      <td>3311510</td>\n",
       "      <td>-2</td>\n",
       "      <td>244</td>\n",
       "      <td>XNA</td>\n",
       "      <td>DFW</td>\n",
       "    </tr>\n",
       "    <tr>\n",
       "      <th>364123</th>\n",
       "      <td>3310825</td>\n",
       "      <td>-9</td>\n",
       "      <td>244</td>\n",
       "      <td>XNA</td>\n",
       "      <td>DFW</td>\n",
       "    </tr>\n",
       "  </tbody>\n",
       "</table>\n",
       "<p>364124 rows × 5 columns</p>\n",
       "</div>"
      ],
      "text/plain": [
       "           date  delay  distance origin destination\n",
       "0       1011245      6       602    ABE         ATL\n",
       "1       1021245     -2       602    ABE         ATL\n",
       "2       1020605     -4       602    ABE         ATL\n",
       "3       1031245     -4       602    ABE         ATL\n",
       "4       1030605      0       602    ABE         ATL\n",
       "...         ...    ...       ...    ...         ...\n",
       "364119  3311735     -3       244    XNA         DFW\n",
       "364120  3310935     -2       244    XNA         DFW\n",
       "364121  3310620     -3       244    XNA         DFW\n",
       "364122  3311510     -2       244    XNA         DFW\n",
       "364123  3310825     -9       244    XNA         DFW\n",
       "\n",
       "[364124 rows x 5 columns]"
      ]
     },
     "execution_count": 19,
     "metadata": {},
     "output_type": "execute_result"
    }
   ],
   "source": [
    "hubs_df"
   ]
  },
  {
   "cell_type": "markdown",
   "id": "be541c7f-8148-48b5-83c3-6e4dfeed4341",
   "metadata": {},
   "source": [
    "Select from our new ***hubs_df*** dataframe."
   ]
  },
  {
   "cell_type": "code",
   "execution_count": 20,
   "id": "e991e758-9ed3-4137-a78c-f336df4beb60",
   "metadata": {
    "tags": []
   },
   "outputs": [],
   "source": [
    "q = \"\"\"\n",
    "    SELECT * FROM hubs_df \n",
    "    WHERE origin IN ('DFW', 'ATL', 'CLT')\n",
    "    ORDER BY origin, distance\n",
    "    \"\"\""
   ]
  },
  {
   "cell_type": "code",
   "execution_count": 21,
   "id": "191ef67a-3a86-4314-97e5-513140bafde0",
   "metadata": {},
   "outputs": [
    {
     "data": {
      "text/html": [
       "<div>\n",
       "<style scoped>\n",
       "    .dataframe tbody tr th:only-of-type {\n",
       "        vertical-align: middle;\n",
       "    }\n",
       "\n",
       "    .dataframe tbody tr th {\n",
       "        vertical-align: top;\n",
       "    }\n",
       "\n",
       "    .dataframe thead th {\n",
       "        text-align: right;\n",
       "    }\n",
       "</style>\n",
       "<table border=\"1\" class=\"dataframe\">\n",
       "  <thead>\n",
       "    <tr style=\"text-align: right;\">\n",
       "      <th></th>\n",
       "      <th>date</th>\n",
       "      <th>delay</th>\n",
       "      <th>distance</th>\n",
       "      <th>origin</th>\n",
       "      <th>destination</th>\n",
       "    </tr>\n",
       "  </thead>\n",
       "  <tbody>\n",
       "    <tr>\n",
       "      <th>0</th>\n",
       "      <td>1011621</td>\n",
       "      <td>-3</td>\n",
       "      <td>72</td>\n",
       "      <td>ATL</td>\n",
       "      <td>CSG</td>\n",
       "    </tr>\n",
       "    <tr>\n",
       "      <th>1</th>\n",
       "      <td>1021931</td>\n",
       "      <td>-2</td>\n",
       "      <td>72</td>\n",
       "      <td>ATL</td>\n",
       "      <td>CSG</td>\n",
       "    </tr>\n",
       "    <tr>\n",
       "      <th>2</th>\n",
       "      <td>1021026</td>\n",
       "      <td>106</td>\n",
       "      <td>72</td>\n",
       "      <td>ATL</td>\n",
       "      <td>CSG</td>\n",
       "    </tr>\n",
       "    <tr>\n",
       "      <th>3</th>\n",
       "      <td>1021621</td>\n",
       "      <td>77</td>\n",
       "      <td>72</td>\n",
       "      <td>ATL</td>\n",
       "      <td>CSG</td>\n",
       "    </tr>\n",
       "    <tr>\n",
       "      <th>4</th>\n",
       "      <td>1031941</td>\n",
       "      <td>-7</td>\n",
       "      <td>72</td>\n",
       "      <td>ATL</td>\n",
       "      <td>CSG</td>\n",
       "    </tr>\n",
       "    <tr>\n",
       "      <th>...</th>\n",
       "      <td>...</td>\n",
       "      <td>...</td>\n",
       "      <td>...</td>\n",
       "      <td>...</td>\n",
       "      <td>...</td>\n",
       "    </tr>\n",
       "    <tr>\n",
       "      <th>188363</th>\n",
       "      <td>3291050</td>\n",
       "      <td>-3</td>\n",
       "      <td>3288</td>\n",
       "      <td>DFW</td>\n",
       "      <td>HNL</td>\n",
       "    </tr>\n",
       "    <tr>\n",
       "      <th>188364</th>\n",
       "      <td>3301305</td>\n",
       "      <td>-6</td>\n",
       "      <td>3288</td>\n",
       "      <td>DFW</td>\n",
       "      <td>HNL</td>\n",
       "    </tr>\n",
       "    <tr>\n",
       "      <th>188365</th>\n",
       "      <td>3301050</td>\n",
       "      <td>21</td>\n",
       "      <td>3288</td>\n",
       "      <td>DFW</td>\n",
       "      <td>HNL</td>\n",
       "    </tr>\n",
       "    <tr>\n",
       "      <th>188366</th>\n",
       "      <td>3311305</td>\n",
       "      <td>-3</td>\n",
       "      <td>3288</td>\n",
       "      <td>DFW</td>\n",
       "      <td>HNL</td>\n",
       "    </tr>\n",
       "    <tr>\n",
       "      <th>188367</th>\n",
       "      <td>3311050</td>\n",
       "      <td>-2</td>\n",
       "      <td>3288</td>\n",
       "      <td>DFW</td>\n",
       "      <td>HNL</td>\n",
       "    </tr>\n",
       "  </tbody>\n",
       "</table>\n",
       "<p>188368 rows × 5 columns</p>\n",
       "</div>"
      ],
      "text/plain": [
       "           date  delay  distance origin destination\n",
       "0       1011621     -3        72    ATL         CSG\n",
       "1       1021931     -2        72    ATL         CSG\n",
       "2       1021026    106        72    ATL         CSG\n",
       "3       1021621     77        72    ATL         CSG\n",
       "4       1031941     -7        72    ATL         CSG\n",
       "...         ...    ...       ...    ...         ...\n",
       "188363  3291050     -3      3288    DFW         HNL\n",
       "188364  3301305     -6      3288    DFW         HNL\n",
       "188365  3301050     21      3288    DFW         HNL\n",
       "188366  3311305     -3      3288    DFW         HNL\n",
       "188367  3311050     -2      3288    DFW         HNL\n",
       "\n",
       "[188368 rows x 5 columns]"
      ]
     },
     "execution_count": 21,
     "metadata": {},
     "output_type": "execute_result"
    }
   ],
   "source": [
    "pysqldf(q)"
   ]
  },
  {
   "cell_type": "code",
   "execution_count": 22,
   "id": "8e5fed02-abd1-40cf-ada2-e56fbfa75a26",
   "metadata": {
    "tags": []
   },
   "outputs": [],
   "source": [
    "q = \"\"\"\n",
    "    SELECT * FROM hubs_df \n",
    "    WHERE origin == 'DFW'\n",
    "    ORDER BY origin, distance\n",
    "    \"\"\""
   ]
  },
  {
   "cell_type": "code",
   "execution_count": 23,
   "id": "89127078-88d0-4f23-acb2-f6f8223fa80b",
   "metadata": {},
   "outputs": [
    {
     "data": {
      "text/html": [
       "<div>\n",
       "<style scoped>\n",
       "    .dataframe tbody tr th:only-of-type {\n",
       "        vertical-align: middle;\n",
       "    }\n",
       "\n",
       "    .dataframe tbody tr th {\n",
       "        vertical-align: top;\n",
       "    }\n",
       "\n",
       "    .dataframe thead th {\n",
       "        text-align: right;\n",
       "    }\n",
       "</style>\n",
       "<table border=\"1\" class=\"dataframe\">\n",
       "  <thead>\n",
       "    <tr style=\"text-align: right;\">\n",
       "      <th></th>\n",
       "      <th>date</th>\n",
       "      <th>delay</th>\n",
       "      <th>distance</th>\n",
       "      <th>origin</th>\n",
       "      <th>destination</th>\n",
       "    </tr>\n",
       "  </thead>\n",
       "  <tbody>\n",
       "    <tr>\n",
       "      <th>0</th>\n",
       "      <td>1011810</td>\n",
       "      <td>-4</td>\n",
       "      <td>78</td>\n",
       "      <td>DFW</td>\n",
       "      <td>ACT</td>\n",
       "    </tr>\n",
       "    <tr>\n",
       "      <th>1</th>\n",
       "      <td>1012125</td>\n",
       "      <td>-5</td>\n",
       "      <td>78</td>\n",
       "      <td>DFW</td>\n",
       "      <td>ACT</td>\n",
       "    </tr>\n",
       "    <tr>\n",
       "      <th>2</th>\n",
       "      <td>1011020</td>\n",
       "      <td>-3</td>\n",
       "      <td>78</td>\n",
       "      <td>DFW</td>\n",
       "      <td>ACT</td>\n",
       "    </tr>\n",
       "    <tr>\n",
       "      <th>3</th>\n",
       "      <td>1011605</td>\n",
       "      <td>27</td>\n",
       "      <td>78</td>\n",
       "      <td>DFW</td>\n",
       "      <td>ACT</td>\n",
       "    </tr>\n",
       "    <tr>\n",
       "      <th>4</th>\n",
       "      <td>1011320</td>\n",
       "      <td>-3</td>\n",
       "      <td>78</td>\n",
       "      <td>DFW</td>\n",
       "      <td>ACT</td>\n",
       "    </tr>\n",
       "    <tr>\n",
       "      <th>...</th>\n",
       "      <td>...</td>\n",
       "      <td>...</td>\n",
       "      <td>...</td>\n",
       "      <td>...</td>\n",
       "      <td>...</td>\n",
       "    </tr>\n",
       "    <tr>\n",
       "      <th>68477</th>\n",
       "      <td>3291050</td>\n",
       "      <td>-3</td>\n",
       "      <td>3288</td>\n",
       "      <td>DFW</td>\n",
       "      <td>HNL</td>\n",
       "    </tr>\n",
       "    <tr>\n",
       "      <th>68478</th>\n",
       "      <td>3301305</td>\n",
       "      <td>-6</td>\n",
       "      <td>3288</td>\n",
       "      <td>DFW</td>\n",
       "      <td>HNL</td>\n",
       "    </tr>\n",
       "    <tr>\n",
       "      <th>68479</th>\n",
       "      <td>3301050</td>\n",
       "      <td>21</td>\n",
       "      <td>3288</td>\n",
       "      <td>DFW</td>\n",
       "      <td>HNL</td>\n",
       "    </tr>\n",
       "    <tr>\n",
       "      <th>68480</th>\n",
       "      <td>3311305</td>\n",
       "      <td>-3</td>\n",
       "      <td>3288</td>\n",
       "      <td>DFW</td>\n",
       "      <td>HNL</td>\n",
       "    </tr>\n",
       "    <tr>\n",
       "      <th>68481</th>\n",
       "      <td>3311050</td>\n",
       "      <td>-2</td>\n",
       "      <td>3288</td>\n",
       "      <td>DFW</td>\n",
       "      <td>HNL</td>\n",
       "    </tr>\n",
       "  </tbody>\n",
       "</table>\n",
       "<p>68482 rows × 5 columns</p>\n",
       "</div>"
      ],
      "text/plain": [
       "          date  delay  distance origin destination\n",
       "0      1011810     -4        78    DFW         ACT\n",
       "1      1012125     -5        78    DFW         ACT\n",
       "2      1011020     -3        78    DFW         ACT\n",
       "3      1011605     27        78    DFW         ACT\n",
       "4      1011320     -3        78    DFW         ACT\n",
       "...        ...    ...       ...    ...         ...\n",
       "68477  3291050     -3      3288    DFW         HNL\n",
       "68478  3301305     -6      3288    DFW         HNL\n",
       "68479  3301050     21      3288    DFW         HNL\n",
       "68480  3311305     -3      3288    DFW         HNL\n",
       "68481  3311050     -2      3288    DFW         HNL\n",
       "\n",
       "[68482 rows x 5 columns]"
      ]
     },
     "execution_count": 23,
     "metadata": {},
     "output_type": "execute_result"
    }
   ],
   "source": [
    "pysqldf(q)"
   ]
  },
  {
   "cell_type": "markdown",
   "id": "a5e33555-82bc-4507-bfea-2b54ebef5213",
   "metadata": {},
   "source": [
    "Constructing the query using a variable to hold the hub airports is just a little more tricky.  Note the use of the format statement complete the query."
   ]
  },
  {
   "cell_type": "code",
   "execution_count": 24,
   "id": "dd334d47-3b24-46b1-9654-574a7a882478",
   "metadata": {
    "tags": []
   },
   "outputs": [],
   "source": [
    "hubs = ['DFW', 'ATL', 'CLT']"
   ]
  },
  {
   "cell_type": "code",
   "execution_count": 25,
   "id": "3de9605a-db6d-4470-80f4-f465d9c1f773",
   "metadata": {
    "tags": []
   },
   "outputs": [],
   "source": [
    "q = f\"\"\"\n",
    "    -- This is a comment line in SQL.  Note that we are completing the query by filling part of the SELECT statement from Python variables via a format.\n",
    "    SELECT * FROM df WHERE origin IN {tuple(hubs)} OR origin IN {tuple(hubs)} \n",
    "    /* It might be safer to use this style of comments within an SQL statement since\n",
    "    this style is not truncated by newlines, unlike the previous\n",
    "    comment */\n",
    "    \"\"\""
   ]
  },
  {
   "cell_type": "code",
   "execution_count": 26,
   "id": "847e280a-6890-446b-84a1-188d4ce1141a",
   "metadata": {},
   "outputs": [
    {
     "data": {
      "text/plain": [
       "\"\\n    -- This is a comment line in SQL.  Note that we are completing the query by filling part of the SELECT statement from Python variables via a format.\\n    SELECT * FROM df WHERE origin IN ('DFW', 'ATL', 'CLT') OR origin IN ('DFW', 'ATL', 'CLT') \\n    /* It might be safer to use this style of comments within an SQL statement since\\n    this style is not truncated by newlines, unlike the previous\\n    comment */\\n    \""
      ]
     },
     "execution_count": 26,
     "metadata": {},
     "output_type": "execute_result"
    }
   ],
   "source": [
    "q"
   ]
  },
  {
   "cell_type": "code",
   "execution_count": 27,
   "id": "9772e088-6ac9-43a7-a8c6-7de40f92bae2",
   "metadata": {},
   "outputs": [
    {
     "data": {
      "text/html": [
       "<div>\n",
       "<style scoped>\n",
       "    .dataframe tbody tr th:only-of-type {\n",
       "        vertical-align: middle;\n",
       "    }\n",
       "\n",
       "    .dataframe tbody tr th {\n",
       "        vertical-align: top;\n",
       "    }\n",
       "\n",
       "    .dataframe thead th {\n",
       "        text-align: right;\n",
       "    }\n",
       "</style>\n",
       "<table border=\"1\" class=\"dataframe\">\n",
       "  <thead>\n",
       "    <tr style=\"text-align: right;\">\n",
       "      <th></th>\n",
       "      <th>date</th>\n",
       "      <th>delay</th>\n",
       "      <th>distance</th>\n",
       "      <th>origin</th>\n",
       "      <th>destination</th>\n",
       "    </tr>\n",
       "  </thead>\n",
       "  <tbody>\n",
       "    <tr>\n",
       "      <th>0</th>\n",
       "      <td>1010640</td>\n",
       "      <td>-4</td>\n",
       "      <td>517</td>\n",
       "      <td>ATL</td>\n",
       "      <td>MIA</td>\n",
       "    </tr>\n",
       "    <tr>\n",
       "      <th>1</th>\n",
       "      <td>1011925</td>\n",
       "      <td>-1</td>\n",
       "      <td>636</td>\n",
       "      <td>ATL</td>\n",
       "      <td>DFW</td>\n",
       "    </tr>\n",
       "    <tr>\n",
       "      <th>2</th>\n",
       "      <td>1011245</td>\n",
       "      <td>22</td>\n",
       "      <td>636</td>\n",
       "      <td>ATL</td>\n",
       "      <td>DFW</td>\n",
       "    </tr>\n",
       "    <tr>\n",
       "      <th>3</th>\n",
       "      <td>1011405</td>\n",
       "      <td>-3</td>\n",
       "      <td>636</td>\n",
       "      <td>ATL</td>\n",
       "      <td>DFW</td>\n",
       "    </tr>\n",
       "    <tr>\n",
       "      <th>4</th>\n",
       "      <td>1011540</td>\n",
       "      <td>-4</td>\n",
       "      <td>636</td>\n",
       "      <td>ATL</td>\n",
       "      <td>DFW</td>\n",
       "    </tr>\n",
       "    <tr>\n",
       "      <th>...</th>\n",
       "      <td>...</td>\n",
       "      <td>...</td>\n",
       "      <td>...</td>\n",
       "      <td>...</td>\n",
       "      <td>...</td>\n",
       "    </tr>\n",
       "    <tr>\n",
       "      <th>188363</th>\n",
       "      <td>3311335</td>\n",
       "      <td>198</td>\n",
       "      <td>1273</td>\n",
       "      <td>DFW</td>\n",
       "      <td>SFO</td>\n",
       "    </tr>\n",
       "    <tr>\n",
       "      <th>188364</th>\n",
       "      <td>3311855</td>\n",
       "      <td>114</td>\n",
       "      <td>1273</td>\n",
       "      <td>DFW</td>\n",
       "      <td>SFO</td>\n",
       "    </tr>\n",
       "    <tr>\n",
       "      <th>188365</th>\n",
       "      <td>3310700</td>\n",
       "      <td>-6</td>\n",
       "      <td>1073</td>\n",
       "      <td>DFW</td>\n",
       "      <td>LAX</td>\n",
       "    </tr>\n",
       "    <tr>\n",
       "      <th>188366</th>\n",
       "      <td>3311455</td>\n",
       "      <td>-6</td>\n",
       "      <td>1073</td>\n",
       "      <td>DFW</td>\n",
       "      <td>LAX</td>\n",
       "    </tr>\n",
       "    <tr>\n",
       "      <th>188367</th>\n",
       "      <td>3311745</td>\n",
       "      <td>3</td>\n",
       "      <td>1073</td>\n",
       "      <td>DFW</td>\n",
       "      <td>LAX</td>\n",
       "    </tr>\n",
       "  </tbody>\n",
       "</table>\n",
       "<p>188368 rows × 5 columns</p>\n",
       "</div>"
      ],
      "text/plain": [
       "           date  delay  distance origin destination\n",
       "0       1010640     -4       517    ATL         MIA\n",
       "1       1011925     -1       636    ATL         DFW\n",
       "2       1011245     22       636    ATL         DFW\n",
       "3       1011405     -3       636    ATL         DFW\n",
       "4       1011540     -4       636    ATL         DFW\n",
       "...         ...    ...       ...    ...         ...\n",
       "188363  3311335    198      1273    DFW         SFO\n",
       "188364  3311855    114      1273    DFW         SFO\n",
       "188365  3310700     -6      1073    DFW         LAX\n",
       "188366  3311455     -6      1073    DFW         LAX\n",
       "188367  3311745      3      1073    DFW         LAX\n",
       "\n",
       "[188368 rows x 5 columns]"
      ]
     },
     "execution_count": 27,
     "metadata": {},
     "output_type": "execute_result"
    }
   ],
   "source": [
    "pysqldf(q)"
   ]
  },
  {
   "cell_type": "markdown",
   "id": "060bdb58-555d-4ba8-bd84-567c331dd864",
   "metadata": {},
   "source": [
    "Another formatting example using variables."
   ]
  },
  {
   "cell_type": "code",
   "execution_count": 28,
   "id": "77a78d4a-f07b-49af-9469-80df71aebd9f",
   "metadata": {
    "tags": []
   },
   "outputs": [],
   "source": [
    "bottom = 60\n",
    "top = 120"
   ]
  },
  {
   "cell_type": "code",
   "execution_count": 29,
   "id": "f814e37e-8f6e-41de-8744-0f20973333a4",
   "metadata": {
    "tags": []
   },
   "outputs": [],
   "source": [
    "q = f\"\"\"\n",
    "    SELECT * FROM df WHERE delay BETWEEN {bottom} AND {top} \n",
    "    \"\"\""
   ]
  },
  {
   "cell_type": "code",
   "execution_count": 30,
   "id": "a38ae41a-1b46-4ed2-8ebc-1f07066b02ae",
   "metadata": {},
   "outputs": [
    {
     "data": {
      "text/plain": [
       "'\\n    SELECT * FROM df WHERE delay BETWEEN 60 AND 120 \\n    '"
      ]
     },
     "execution_count": 30,
     "metadata": {},
     "output_type": "execute_result"
    }
   ],
   "source": [
    "q"
   ]
  },
  {
   "cell_type": "code",
   "execution_count": 31,
   "id": "0de9119b-2062-46fe-8864-c870a00c7486",
   "metadata": {},
   "outputs": [
    {
     "data": {
      "text/html": [
       "<div>\n",
       "<style scoped>\n",
       "    .dataframe tbody tr th:only-of-type {\n",
       "        vertical-align: middle;\n",
       "    }\n",
       "\n",
       "    .dataframe tbody tr th {\n",
       "        vertical-align: top;\n",
       "    }\n",
       "\n",
       "    .dataframe thead th {\n",
       "        text-align: right;\n",
       "    }\n",
       "</style>\n",
       "<table border=\"1\" class=\"dataframe\">\n",
       "  <thead>\n",
       "    <tr style=\"text-align: right;\">\n",
       "      <th></th>\n",
       "      <th>date</th>\n",
       "      <th>delay</th>\n",
       "      <th>distance</th>\n",
       "      <th>origin</th>\n",
       "      <th>destination</th>\n",
       "    </tr>\n",
       "  </thead>\n",
       "  <tbody>\n",
       "    <tr>\n",
       "      <th>0</th>\n",
       "      <td>1051245</td>\n",
       "      <td>88</td>\n",
       "      <td>602</td>\n",
       "      <td>ABE</td>\n",
       "      <td>ATL</td>\n",
       "    </tr>\n",
       "    <tr>\n",
       "      <th>1</th>\n",
       "      <td>1061725</td>\n",
       "      <td>69</td>\n",
       "      <td>602</td>\n",
       "      <td>ABE</td>\n",
       "      <td>ATL</td>\n",
       "    </tr>\n",
       "    <tr>\n",
       "      <th>2</th>\n",
       "      <td>1091219</td>\n",
       "      <td>83</td>\n",
       "      <td>569</td>\n",
       "      <td>ABE</td>\n",
       "      <td>ORD</td>\n",
       "    </tr>\n",
       "    <tr>\n",
       "      <th>3</th>\n",
       "      <td>1161219</td>\n",
       "      <td>68</td>\n",
       "      <td>569</td>\n",
       "      <td>ABE</td>\n",
       "      <td>ORD</td>\n",
       "    </tr>\n",
       "    <tr>\n",
       "      <th>4</th>\n",
       "      <td>1210600</td>\n",
       "      <td>89</td>\n",
       "      <td>369</td>\n",
       "      <td>ABE</td>\n",
       "      <td>DTW</td>\n",
       "    </tr>\n",
       "    <tr>\n",
       "      <th>...</th>\n",
       "      <td>...</td>\n",
       "      <td>...</td>\n",
       "      <td>...</td>\n",
       "      <td>...</td>\n",
       "      <td>...</td>\n",
       "    </tr>\n",
       "    <tr>\n",
       "      <th>63034</th>\n",
       "      <td>3290735</td>\n",
       "      <td>69</td>\n",
       "      <td>454</td>\n",
       "      <td>XNA</td>\n",
       "      <td>ORD</td>\n",
       "    </tr>\n",
       "    <tr>\n",
       "      <th>63035</th>\n",
       "      <td>3311925</td>\n",
       "      <td>73</td>\n",
       "      <td>244</td>\n",
       "      <td>XNA</td>\n",
       "      <td>DFW</td>\n",
       "    </tr>\n",
       "    <tr>\n",
       "      <th>63036</th>\n",
       "      <td>3021308</td>\n",
       "      <td>96</td>\n",
       "      <td>454</td>\n",
       "      <td>XNA</td>\n",
       "      <td>ORD</td>\n",
       "    </tr>\n",
       "    <tr>\n",
       "      <th>63037</th>\n",
       "      <td>3021530</td>\n",
       "      <td>97</td>\n",
       "      <td>206</td>\n",
       "      <td>YUM</td>\n",
       "      <td>LAX</td>\n",
       "    </tr>\n",
       "    <tr>\n",
       "      <th>63038</th>\n",
       "      <td>3191846</td>\n",
       "      <td>63</td>\n",
       "      <td>206</td>\n",
       "      <td>YUM</td>\n",
       "      <td>LAX</td>\n",
       "    </tr>\n",
       "  </tbody>\n",
       "</table>\n",
       "<p>63039 rows × 5 columns</p>\n",
       "</div>"
      ],
      "text/plain": [
       "          date  delay  distance origin destination\n",
       "0      1051245     88       602    ABE         ATL\n",
       "1      1061725     69       602    ABE         ATL\n",
       "2      1091219     83       569    ABE         ORD\n",
       "3      1161219     68       569    ABE         ORD\n",
       "4      1210600     89       369    ABE         DTW\n",
       "...        ...    ...       ...    ...         ...\n",
       "63034  3290735     69       454    XNA         ORD\n",
       "63035  3311925     73       244    XNA         DFW\n",
       "63036  3021308     96       454    XNA         ORD\n",
       "63037  3021530     97       206    YUM         LAX\n",
       "63038  3191846     63       206    YUM         LAX\n",
       "\n",
       "[63039 rows x 5 columns]"
      ]
     },
     "execution_count": 31,
     "metadata": {},
     "output_type": "execute_result"
    }
   ],
   "source": [
    "pysqldf(q)"
   ]
  },
  {
   "cell_type": "markdown",
   "id": "6e5f06ee-09e8-49e2-be8b-cc5260f2cd34",
   "metadata": {},
   "source": [
    "Another formatting example using variables.  Note the single quotes in the format statement to include the value of the variable as a string in the query."
   ]
  },
  {
   "cell_type": "code",
   "execution_count": 32,
   "id": "39e52b8a-27be-4b72-bbc1-12e5c92451eb",
   "metadata": {
    "tags": []
   },
   "outputs": [],
   "source": [
    "atlanta = 'ATL'"
   ]
  },
  {
   "cell_type": "code",
   "execution_count": 33,
   "id": "b62c189b-9ed7-450d-b73d-e3c6219f15f4",
   "metadata": {
    "tags": []
   },
   "outputs": [],
   "source": [
    "q = f\"\"\"\n",
    "    SELECT * FROM df WHERE destination = '{atlanta}'\n",
    "    \"\"\""
   ]
  },
  {
   "cell_type": "code",
   "execution_count": 34,
   "id": "f0f5a391-b299-4a17-bd9b-6f9d70e1e198",
   "metadata": {},
   "outputs": [
    {
     "data": {
      "text/plain": [
       "\"\\n    SELECT * FROM df WHERE destination = 'ATL'\\n    \""
      ]
     },
     "execution_count": 34,
     "metadata": {},
     "output_type": "execute_result"
    }
   ],
   "source": [
    "q"
   ]
  },
  {
   "cell_type": "code",
   "execution_count": 35,
   "id": "03ebc21c-d860-40ce-8d0e-029acf89707b",
   "metadata": {},
   "outputs": [
    {
     "data": {
      "text/html": [
       "<div>\n",
       "<style scoped>\n",
       "    .dataframe tbody tr th:only-of-type {\n",
       "        vertical-align: middle;\n",
       "    }\n",
       "\n",
       "    .dataframe tbody tr th {\n",
       "        vertical-align: top;\n",
       "    }\n",
       "\n",
       "    .dataframe thead th {\n",
       "        text-align: right;\n",
       "    }\n",
       "</style>\n",
       "<table border=\"1\" class=\"dataframe\">\n",
       "  <thead>\n",
       "    <tr style=\"text-align: right;\">\n",
       "      <th></th>\n",
       "      <th>date</th>\n",
       "      <th>delay</th>\n",
       "      <th>distance</th>\n",
       "      <th>origin</th>\n",
       "      <th>destination</th>\n",
       "    </tr>\n",
       "  </thead>\n",
       "  <tbody>\n",
       "    <tr>\n",
       "      <th>0</th>\n",
       "      <td>1011245</td>\n",
       "      <td>6</td>\n",
       "      <td>602</td>\n",
       "      <td>ABE</td>\n",
       "      <td>ATL</td>\n",
       "    </tr>\n",
       "    <tr>\n",
       "      <th>1</th>\n",
       "      <td>1021245</td>\n",
       "      <td>-2</td>\n",
       "      <td>602</td>\n",
       "      <td>ABE</td>\n",
       "      <td>ATL</td>\n",
       "    </tr>\n",
       "    <tr>\n",
       "      <th>2</th>\n",
       "      <td>1020605</td>\n",
       "      <td>-4</td>\n",
       "      <td>602</td>\n",
       "      <td>ABE</td>\n",
       "      <td>ATL</td>\n",
       "    </tr>\n",
       "    <tr>\n",
       "      <th>3</th>\n",
       "      <td>1031245</td>\n",
       "      <td>-4</td>\n",
       "      <td>602</td>\n",
       "      <td>ABE</td>\n",
       "      <td>ATL</td>\n",
       "    </tr>\n",
       "    <tr>\n",
       "      <th>4</th>\n",
       "      <td>1030605</td>\n",
       "      <td>0</td>\n",
       "      <td>602</td>\n",
       "      <td>ABE</td>\n",
       "      <td>ATL</td>\n",
       "    </tr>\n",
       "    <tr>\n",
       "      <th>...</th>\n",
       "      <td>...</td>\n",
       "      <td>...</td>\n",
       "      <td>...</td>\n",
       "      <td>...</td>\n",
       "      <td>...</td>\n",
       "    </tr>\n",
       "    <tr>\n",
       "      <th>90429</th>\n",
       "      <td>3310724</td>\n",
       "      <td>-10</td>\n",
       "      <td>512</td>\n",
       "      <td>XNA</td>\n",
       "      <td>ATL</td>\n",
       "    </tr>\n",
       "    <tr>\n",
       "      <th>90430</th>\n",
       "      <td>3311811</td>\n",
       "      <td>30</td>\n",
       "      <td>512</td>\n",
       "      <td>XNA</td>\n",
       "      <td>ATL</td>\n",
       "    </tr>\n",
       "    <tr>\n",
       "      <th>90431</th>\n",
       "      <td>3310927</td>\n",
       "      <td>-4</td>\n",
       "      <td>512</td>\n",
       "      <td>XNA</td>\n",
       "      <td>ATL</td>\n",
       "    </tr>\n",
       "    <tr>\n",
       "      <th>90432</th>\n",
       "      <td>3310600</td>\n",
       "      <td>-5</td>\n",
       "      <td>512</td>\n",
       "      <td>XNA</td>\n",
       "      <td>ATL</td>\n",
       "    </tr>\n",
       "    <tr>\n",
       "      <th>90433</th>\n",
       "      <td>3311500</td>\n",
       "      <td>-7</td>\n",
       "      <td>512</td>\n",
       "      <td>XNA</td>\n",
       "      <td>ATL</td>\n",
       "    </tr>\n",
       "  </tbody>\n",
       "</table>\n",
       "<p>90434 rows × 5 columns</p>\n",
       "</div>"
      ],
      "text/plain": [
       "          date  delay  distance origin destination\n",
       "0      1011245      6       602    ABE         ATL\n",
       "1      1021245     -2       602    ABE         ATL\n",
       "2      1020605     -4       602    ABE         ATL\n",
       "3      1031245     -4       602    ABE         ATL\n",
       "4      1030605      0       602    ABE         ATL\n",
       "...        ...    ...       ...    ...         ...\n",
       "90429  3310724    -10       512    XNA         ATL\n",
       "90430  3311811     30       512    XNA         ATL\n",
       "90431  3310927     -4       512    XNA         ATL\n",
       "90432  3310600     -5       512    XNA         ATL\n",
       "90433  3311500     -7       512    XNA         ATL\n",
       "\n",
       "[90434 rows x 5 columns]"
      ]
     },
     "execution_count": 35,
     "metadata": {},
     "output_type": "execute_result"
    }
   ],
   "source": [
    "pysqldf(q)"
   ]
  },
  {
   "cell_type": "markdown",
   "id": "cc07a060-d6e3-4c48-ad4a-4be46922cf2d",
   "metadata": {},
   "source": [
    "**Aggregate Functions:**\n",
    "\n",
    "| Function | Description |\n",
    "|----------|-------------|\n",
    "| AVG( ) | Averages a column of values |\n",
    "| COUNT( ) | Counts the number of values |\n",
    "| MIN( ) | Finds the minimum value |\n",
    "| MAX( ) | Finds the maximum value |\n",
    "| SUM( ) | Sums the column values |"
   ]
  },
  {
   "cell_type": "markdown",
   "id": "0ea49e3d-ee7d-4fba-8f4b-aa508222d24e",
   "metadata": {},
   "source": [
    "What are the average, minimum, and maximum distances of flights into Atlanta?"
   ]
  },
  {
   "cell_type": "code",
   "execution_count": 36,
   "id": "e09ce907-b88c-480e-9fff-7a378b56d7c2",
   "metadata": {},
   "outputs": [],
   "source": [
    "q = \"\"\"\n",
    "    SELECT AVG(distance) AS avg_dist, MIN(distance) AS min_dist, MAX(distance) AS max_dist FROM df WHERE destination == 'ATL'\n",
    "    \"\"\""
   ]
  },
  {
   "cell_type": "code",
   "execution_count": 37,
   "id": "57ee848e-56d3-4883-987a-5e3c97472d6c",
   "metadata": {},
   "outputs": [
    {
     "data": {
      "text/html": [
       "<div>\n",
       "<style scoped>\n",
       "    .dataframe tbody tr th:only-of-type {\n",
       "        vertical-align: middle;\n",
       "    }\n",
       "\n",
       "    .dataframe tbody tr th {\n",
       "        vertical-align: top;\n",
       "    }\n",
       "\n",
       "    .dataframe thead th {\n",
       "        text-align: right;\n",
       "    }\n",
       "</style>\n",
       "<table border=\"1\" class=\"dataframe\">\n",
       "  <thead>\n",
       "    <tr style=\"text-align: right;\">\n",
       "      <th></th>\n",
       "      <th>avg_dist</th>\n",
       "      <th>min_dist</th>\n",
       "      <th>max_dist</th>\n",
       "    </tr>\n",
       "  </thead>\n",
       "  <tbody>\n",
       "    <tr>\n",
       "      <th>0</th>\n",
       "      <td>553.354944</td>\n",
       "      <td>72</td>\n",
       "      <td>3912</td>\n",
       "    </tr>\n",
       "  </tbody>\n",
       "</table>\n",
       "</div>"
      ],
      "text/plain": [
       "     avg_dist  min_dist  max_dist\n",
       "0  553.354944        72      3912"
      ]
     },
     "execution_count": 37,
     "metadata": {},
     "output_type": "execute_result"
    }
   ],
   "source": [
    "pysqldf(q)"
   ]
  },
  {
   "cell_type": "markdown",
   "id": "677d9c71-5127-4984-b7c9-e8fd85bd9aab",
   "metadata": {},
   "source": [
    "How many flights go to Atlanta?"
   ]
  },
  {
   "cell_type": "code",
   "execution_count": 38,
   "id": "2bdc9568-84ae-44e0-9c5e-161acea82ea5",
   "metadata": {
    "tags": []
   },
   "outputs": [],
   "source": [
    "q = \"\"\"\n",
    "    SELECT COUNT(destination) FROM df WHERE destination == 'ATL'\n",
    "    \"\"\""
   ]
  },
  {
   "cell_type": "code",
   "execution_count": 39,
   "id": "72d5ae83-089f-4c9b-ba81-e8c868510a49",
   "metadata": {},
   "outputs": [
    {
     "data": {
      "text/html": [
       "<div>\n",
       "<style scoped>\n",
       "    .dataframe tbody tr th:only-of-type {\n",
       "        vertical-align: middle;\n",
       "    }\n",
       "\n",
       "    .dataframe tbody tr th {\n",
       "        vertical-align: top;\n",
       "    }\n",
       "\n",
       "    .dataframe thead th {\n",
       "        text-align: right;\n",
       "    }\n",
       "</style>\n",
       "<table border=\"1\" class=\"dataframe\">\n",
       "  <thead>\n",
       "    <tr style=\"text-align: right;\">\n",
       "      <th></th>\n",
       "      <th>COUNT(destination)</th>\n",
       "    </tr>\n",
       "  </thead>\n",
       "  <tbody>\n",
       "    <tr>\n",
       "      <th>0</th>\n",
       "      <td>90434</td>\n",
       "    </tr>\n",
       "  </tbody>\n",
       "</table>\n",
       "</div>"
      ],
      "text/plain": [
       "   COUNT(destination)\n",
       "0               90434"
      ]
     },
     "execution_count": 39,
     "metadata": {},
     "output_type": "execute_result"
    }
   ],
   "source": [
    "pysqldf(q)"
   ]
  },
  {
   "cell_type": "markdown",
   "id": "6f2b6b6c-cca9-4888-b42d-11cce4ea259e",
   "metadata": {},
   "source": [
    "How many airports have flights to Atlanta?"
   ]
  },
  {
   "cell_type": "code",
   "execution_count": 40,
   "id": "8fbc8903-c800-44a3-a902-01e0ec926302",
   "metadata": {
    "tags": []
   },
   "outputs": [],
   "source": [
    "q = \"\"\"\n",
    "    SELECT COUNT(DISTINCT origin) FROM df WHERE destination == 'ATL'\n",
    "    \"\"\""
   ]
  },
  {
   "cell_type": "code",
   "execution_count": 41,
   "id": "30f8d458-627b-4a28-8da6-a0edd602aaf4",
   "metadata": {},
   "outputs": [
    {
     "data": {
      "text/html": [
       "<div>\n",
       "<style scoped>\n",
       "    .dataframe tbody tr th:only-of-type {\n",
       "        vertical-align: middle;\n",
       "    }\n",
       "\n",
       "    .dataframe tbody tr th {\n",
       "        vertical-align: top;\n",
       "    }\n",
       "\n",
       "    .dataframe thead th {\n",
       "        text-align: right;\n",
       "    }\n",
       "</style>\n",
       "<table border=\"1\" class=\"dataframe\">\n",
       "  <thead>\n",
       "    <tr style=\"text-align: right;\">\n",
       "      <th></th>\n",
       "      <th>COUNT(DISTINCT origin)</th>\n",
       "    </tr>\n",
       "  </thead>\n",
       "  <tbody>\n",
       "    <tr>\n",
       "      <th>0</th>\n",
       "      <td>149</td>\n",
       "    </tr>\n",
       "  </tbody>\n",
       "</table>\n",
       "</div>"
      ],
      "text/plain": [
       "   COUNT(DISTINCT origin)\n",
       "0                     149"
      ]
     },
     "execution_count": 41,
     "metadata": {},
     "output_type": "execute_result"
    }
   ],
   "source": [
    "pysqldf(q)"
   ]
  },
  {
   "cell_type": "code",
   "execution_count": 42,
   "id": "f4ebc6de-53ae-4676-b957-f9953e9b587d",
   "metadata": {
    "tags": []
   },
   "outputs": [],
   "source": [
    "q = \"\"\"\n",
    "    SELECT DISTINCT origin FROM df WHERE destination == 'ATL'\n",
    "    \"\"\""
   ]
  },
  {
   "cell_type": "code",
   "execution_count": null,
   "id": "37ad4c6e-4d8b-4ca0-a41c-c71707599513",
   "metadata": {},
   "outputs": [],
   "source": [
    "pysqldf(q)"
   ]
  },
  {
   "cell_type": "markdown",
   "id": "469ff2d1-a82c-4366-bec0-e720d24927bd",
   "metadata": {},
   "source": [
    "How many flights to Atlanta are there from Honolulu?"
   ]
  },
  {
   "cell_type": "code",
   "execution_count": null,
   "id": "682de670-c9a8-44d9-901e-189088b3981b",
   "metadata": {
    "tags": []
   },
   "outputs": [],
   "source": [
    "q = \"\"\"\n",
    "    SELECT COUNT(*) FROM df WHERE destination == 'ATL' and origin == 'HNL'\n",
    "    \"\"\""
   ]
  },
  {
   "cell_type": "code",
   "execution_count": null,
   "id": "55d458ad-47b5-4bfb-a7ed-fe1ecb554444",
   "metadata": {},
   "outputs": [],
   "source": [
    "pysqldf(q)"
   ]
  },
  {
   "cell_type": "code",
   "execution_count": null,
   "id": "09c1036e-b7a0-4554-824c-57a7132cc7fe",
   "metadata": {
    "tags": []
   },
   "outputs": [],
   "source": [
    "q = \"\"\"\n",
    "    SELECT * FROM df WHERE destination == 'ATL' and origin == 'HNL'\n",
    "    \"\"\""
   ]
  },
  {
   "cell_type": "code",
   "execution_count": null,
   "id": "30079fef-6749-42e0-acf6-c67a9385c336",
   "metadata": {
    "tags": []
   },
   "outputs": [],
   "source": [
    "pysqldf(q)"
   ]
  },
  {
   "cell_type": "markdown",
   "id": "19dc56d2-944a-4ed0-a94b-ca1eec257073",
   "metadata": {},
   "source": [
    "What city has the most flights into Atlanta?"
   ]
  },
  {
   "cell_type": "code",
   "execution_count": null,
   "id": "1b84cf22-c812-4f75-843a-474dc650dace",
   "metadata": {
    "tags": []
   },
   "outputs": [],
   "source": [
    "q = \"\"\"\n",
    "    SELECT origin, COUNT(destination) AS atl_flights FROM df WHERE destination == 'ATL'\n",
    "    GROUP BY origin\n",
    "    ORDER BY atl_flights DESC\n",
    "    \"\"\""
   ]
  },
  {
   "cell_type": "code",
   "execution_count": null,
   "id": "7c008673-5b07-4b1b-ac26-5b2a772570c8",
   "metadata": {},
   "outputs": [],
   "source": [
    "pysqldf(q)"
   ]
  },
  {
   "cell_type": "code",
   "execution_count": null,
   "id": "f51a25d1-02db-4c45-b554-696ec4cdfcd4",
   "metadata": {
    "tags": []
   },
   "outputs": [],
   "source": [
    "q = \"\"\"\n",
    "    SELECT origin, COUNT(destination) AS atl_flights FROM df WHERE destination == 'ATL'\n",
    "    GROUP BY origin\n",
    "    ORDER BY atl_flights DESC LIMIT 1\n",
    "    \"\"\""
   ]
  },
  {
   "cell_type": "code",
   "execution_count": null,
   "id": "d55db373-822b-4f5f-8b6b-0e538167822a",
   "metadata": {},
   "outputs": [],
   "source": [
    "pysqldf(q)"
   ]
  },
  {
   "cell_type": "markdown",
   "id": "31d6cd5b-7d92-4039-836b-62472cae1529",
   "metadata": {},
   "source": [
    "What are the 10 flights with the largest delays flying into Atlanta?"
   ]
  },
  {
   "cell_type": "code",
   "execution_count": null,
   "id": "bbccbe38-5779-4cc7-9a0e-67fe80f3fe2f",
   "metadata": {
    "tags": []
   },
   "outputs": [],
   "source": [
    "q = \"\"\"\n",
    "    SELECT * FROM df WHERE destination == 'ATL'\n",
    "    ORDER BY delay DESC LIMIT 10\n",
    "    \"\"\""
   ]
  },
  {
   "cell_type": "code",
   "execution_count": null,
   "id": "468b2bde-cbae-4d1a-9108-f38ca5f44166",
   "metadata": {},
   "outputs": [],
   "source": [
    "pysqldf(q)"
   ]
  },
  {
   "cell_type": "markdown",
   "id": "2c382bdc-2cad-43c4-96cc-7df4b9fc3ef5",
   "metadata": {},
   "source": [
    "What is the average delay into each airport?"
   ]
  },
  {
   "cell_type": "code",
   "execution_count": null,
   "id": "9fc3b395-46c0-42fa-bb3f-99d7350baa0f",
   "metadata": {
    "tags": []
   },
   "outputs": [],
   "source": [
    "q = \"\"\"\n",
    "    SELECT destination, AVG(delay) AS avg_delay FROM df\n",
    "    GROUP BY destination\n",
    "    \"\"\""
   ]
  },
  {
   "cell_type": "code",
   "execution_count": null,
   "id": "5ec7b389-40a0-4d66-af3b-ada7fcf6e35b",
   "metadata": {},
   "outputs": [],
   "source": [
    "pysqldf(q)"
   ]
  },
  {
   "cell_type": "code",
   "execution_count": null,
   "id": "a4403a6b-c98d-427d-8c4e-6c309e9b1127",
   "metadata": {
    "tags": []
   },
   "outputs": [],
   "source": [
    "q = \"\"\"\n",
    "    SELECT destination, AVG(delay) AS avg_delay FROM df\n",
    "    GROUP BY destination\n",
    "    ORDER BY avg_delay\n",
    "    \"\"\""
   ]
  },
  {
   "cell_type": "code",
   "execution_count": null,
   "id": "706f9ce6-9b9b-4d4b-b84c-dcff549f0c35",
   "metadata": {},
   "outputs": [],
   "source": [
    "pysqldf(q)"
   ]
  },
  {
   "cell_type": "markdown",
   "id": "4166e574-6261-41ec-abbf-d810553e17bc",
   "metadata": {},
   "source": [
    "How many distinct origin-destination pairs are there?"
   ]
  },
  {
   "cell_type": "code",
   "execution_count": null,
   "id": "b6f4e8aa-88d5-487f-b491-6116696c5408",
   "metadata": {
    "tags": []
   },
   "outputs": [],
   "source": [
    "q = \"\"\"\n",
    "    SELECT origin, destination FROM df\n",
    "    GROUP BY origin, destination\n",
    "    \"\"\""
   ]
  },
  {
   "cell_type": "code",
   "execution_count": null,
   "id": "c6957493-afea-46a1-ae9c-1c72fcb8ce73",
   "metadata": {},
   "outputs": [],
   "source": [
    "pysqldf(q)"
   ]
  },
  {
   "cell_type": "markdown",
   "id": "bf85cf91-711c-4bcf-b113-ea348f23caa2",
   "metadata": {},
   "source": [
    "What is the largest delay between each origin-destination pair?"
   ]
  },
  {
   "cell_type": "code",
   "execution_count": null,
   "id": "aa19499f-4b47-4808-9036-be8026693389",
   "metadata": {
    "tags": []
   },
   "outputs": [],
   "source": [
    "q = \"\"\"\n",
    "    SELECT origin, destination, MAX(delay) as max_delay FROM df\n",
    "    GROUP BY origin, destination\n",
    "    \"\"\""
   ]
  },
  {
   "cell_type": "code",
   "execution_count": null,
   "id": "7af3f4b6-ebc9-4d0a-b1a5-ce458cca44c4",
   "metadata": {},
   "outputs": [],
   "source": [
    "pysqldf(q)"
   ]
  },
  {
   "cell_type": "markdown",
   "id": "9f43e799-41bd-4ddb-8211-e9264b1c7082",
   "metadata": {},
   "source": [
    "Spot check the results for one origin-destination pair."
   ]
  },
  {
   "cell_type": "code",
   "execution_count": null,
   "id": "80e56e40-cb4e-41fc-b2ff-d5f1c40653e2",
   "metadata": {
    "tags": []
   },
   "outputs": [],
   "source": [
    "q = \"\"\"\n",
    "    SELECT origin, destination, delay FROM df\n",
    "    WHERE origin = 'XNA' and destination = 'ORD'\n",
    "    ORDER BY delay DESC\n",
    "    \"\"\""
   ]
  },
  {
   "cell_type": "code",
   "execution_count": null,
   "id": "26d8e607-857b-4e27-b800-360d19172653",
   "metadata": {},
   "outputs": [],
   "source": [
    "pysqldf(q)"
   ]
  },
  {
   "cell_type": "markdown",
   "id": "5b78de2d-fd36-40b6-a209-430f9c88e12a",
   "metadata": {},
   "source": [
    "We can perform arithmetic on values in columns via SQL commands."
   ]
  },
  {
   "cell_type": "markdown",
   "id": "e176f1a6-7fc4-40fa-9921-03aa7db808b7",
   "metadata": {},
   "source": [
    "**Arithmetic operators:**\n",
    "\n",
    "| Operator | Description | \n",
    "|----------|-------------|\n",
    "| + | Addition | \n",
    "| – | Subtraction | \n",
    "| / | Division | \n",
    "| * | Multiplication | \n",
    "| % | Modulus | \n"
   ]
  },
  {
   "cell_type": "code",
   "execution_count": null,
   "id": "25b3d2b6-342e-4cf0-8da6-e7047e31eef3",
   "metadata": {},
   "outputs": [],
   "source": [
    "df"
   ]
  },
  {
   "cell_type": "markdown",
   "id": "f1968360-62f8-43d5-85d1-aa4106ee76ae",
   "metadata": {},
   "source": [
    "Create a new dataframe that converts the ***distance*** column from miles to kilometers and the ***delay*** from minutes to hours.  Use a real number to convert the integer minutes delay to a float variable for delay in hours.  Keep the two computed columns and drop the miles and minutes columns.  "
   ]
  },
  {
   "cell_type": "code",
   "execution_count": null,
   "id": "23b88cc8-4d6a-4138-a1c8-d70489e13c85",
   "metadata": {
    "tags": []
   },
   "outputs": [],
   "source": [
    "q = \"\"\"\n",
    "    SELECT date, delay / 60. AS delay_hours, distance * 1.60934 AS distance_km, origin, destination FROM df\n",
    "    \"\"\""
   ]
  },
  {
   "cell_type": "code",
   "execution_count": null,
   "id": "421d8eb8-236b-4667-976b-d473874bf188",
   "metadata": {},
   "outputs": [],
   "source": [
    "converted_df = pysqldf(q)"
   ]
  },
  {
   "cell_type": "code",
   "execution_count": null,
   "id": "241b6301-19b2-4f0c-bd78-b4584d997501",
   "metadata": {},
   "outputs": [],
   "source": [
    "converted_df"
   ]
  },
  {
   "cell_type": "markdown",
   "id": "ea491734-17b6-4ffa-8f8e-cc2e9c4a1004",
   "metadata": {
    "tags": []
   },
   "source": [
    "Categorize flights based upon the length of the delay.  This uses the CASE SQL clause to test multiple conditions."
   ]
  },
  {
   "cell_type": "code",
   "execution_count": null,
   "id": "721fa1e2-b88e-4f88-b928-40ff6c29cab1",
   "metadata": {},
   "outputs": [],
   "source": [
    "q = \"\"\"\n",
    "    SELECT delay, origin, destination, \n",
    "       CASE\n",
    "         WHEN delay > 360 THEN 'Very Long Delays'\n",
    "         WHEN delay > 120 AND delay <= 360 THEN 'Long Delays'\n",
    "         WHEN delay > 60 AND delay <= 120 THEN 'Short Delays'\n",
    "         WHEN delay > 0 AND delay <= 60 THEN 'Tolerable Delays'\n",
    "         WHEN delay = 0 THEN 'No Delays'\n",
    "         ELSE 'Early'\n",
    "       END AS Flight_Delays\n",
    "       FROM df\n",
    "    ORDER BY origin, delay DESC\n",
    "    \"\"\""
   ]
  },
  {
   "cell_type": "code",
   "execution_count": null,
   "id": "92d25031-c452-43ba-9569-3a80d788f0de",
   "metadata": {},
   "outputs": [],
   "source": [
    "pysqldf(q)"
   ]
  },
  {
   "cell_type": "code",
   "execution_count": null,
   "id": "702f095a-c821-4b6c-8b9a-555bb812ac9a",
   "metadata": {},
   "outputs": [],
   "source": [
    "tripdelaysFilePath = \"./departuredelays.csv\"\n",
    "airportsnaFilePath = \"./airport-codes-na.csv\""
   ]
  },
  {
   "cell_type": "code",
   "execution_count": null,
   "id": "62a5fe96-fb79-4cc8-b238-630522766171",
   "metadata": {},
   "outputs": [],
   "source": [
    "!ls -l $tripdelaysFilePath"
   ]
  },
  {
   "cell_type": "code",
   "execution_count": null,
   "id": "087ad9af-7673-4575-925f-4466573edfcd",
   "metadata": {},
   "outputs": [],
   "source": [
    "!ls -l $airportsnaFilePath"
   ]
  },
  {
   "cell_type": "code",
   "execution_count": null,
   "id": "39763045-845a-4e92-a6e0-189b0c1af263",
   "metadata": {
    "tags": []
   },
   "outputs": [],
   "source": [
    "airportdf = pd.read_csv(airportsnaFilePath, sep=\"\\t\")"
   ]
  },
  {
   "cell_type": "markdown",
   "id": "6cff36a5-755f-4154-acfb-30c33d503c7d",
   "metadata": {},
   "source": [
    "Note the number of rows in the airport dataframe."
   ]
  },
  {
   "cell_type": "code",
   "execution_count": null,
   "id": "c7938476-b443-4573-8ff6-996d68c65de6",
   "metadata": {},
   "outputs": [],
   "source": [
    "airportdf"
   ]
  },
  {
   "cell_type": "code",
   "execution_count": null,
   "id": "003c0b2e-4013-4782-b1b4-ab4d51b8fcac",
   "metadata": {
    "tags": []
   },
   "outputs": [],
   "source": [
    "delaysdf = pd.read_csv(tripdelaysFilePath, dtype={'date': str})"
   ]
  },
  {
   "cell_type": "markdown",
   "id": "81a2807e-a056-4790-a035-dba51e18f566",
   "metadata": {},
   "source": [
    "Note the number of rows in the delays dataframe"
   ]
  },
  {
   "cell_type": "code",
   "execution_count": null,
   "id": "4a3efc2b-1a29-45ea-a876-f8ac0d02b870",
   "metadata": {
    "tags": []
   },
   "outputs": [],
   "source": [
    "delaysdf"
   ]
  },
  {
   "cell_type": "code",
   "execution_count": null,
   "id": "00fca84d-cc10-4739-93c4-16a1bf05e42a",
   "metadata": {
    "tags": []
   },
   "outputs": [],
   "source": [
    "q = \"\"\"\n",
    "    SELECT * FROM delaysdf WHERE delay > 100\n",
    "    \"\"\""
   ]
  },
  {
   "cell_type": "code",
   "execution_count": null,
   "id": "e12fb3ea-e219-4527-87b0-734c77fd59ae",
   "metadata": {
    "tags": []
   },
   "outputs": [],
   "source": [
    "pysqldf(q)"
   ]
  },
  {
   "attachments": {
    "c717aa17-0632-4ad9-9b5a-e3db55c9e61a.png": {
     "image/png": "[encoded data removed]"
    }
   },
   "cell_type": "markdown",
   "id": "3cf00cad-efc3-47fd-8073-a678f647e746",
   "metadata": {},
   "source": [
    "**Joins**\n",
    "\n",
    "See here for an explanation of join types: https://www.thecrazyprogrammer.com/2019/05/joins-in-sql.html\n",
    "\n",
    "![image.png](attachment:c717aa17-0632-4ad9-9b5a-e3db55c9e61a.png)"
   ]
  },
  {
   "cell_type": "markdown",
   "id": "2839cc46-2eda-434d-b027-7a792d5cd193",
   "metadata": {},
   "source": [
    "For illustration, make a smaller dataframe from the delaysdf."
   ]
  },
  {
   "cell_type": "code",
   "execution_count": null,
   "id": "17417fda-ce62-411b-8960-419480352b17",
   "metadata": {
    "tags": []
   },
   "outputs": [],
   "source": [
    "q = \"\"\"\n",
    "    SELECT * FROM delaysdf \n",
    "    WHERE origin == 'SEA' and destination == 'SFO' and date LIKE '0101%' and delay > 0\n",
    "    \"\"\""
   ]
  },
  {
   "cell_type": "code",
   "execution_count": null,
   "id": "0f17e7b5-6336-4ae1-bb43-6c5c133ce185",
   "metadata": {
    "tags": []
   },
   "outputs": [],
   "source": [
    "delays_small = pysqldf(q)"
   ]
  },
  {
   "cell_type": "code",
   "execution_count": null,
   "id": "1ab2a877-4474-4145-b23b-fdb76c7890af",
   "metadata": {},
   "outputs": [],
   "source": [
    "delays_small"
   ]
  },
  {
   "cell_type": "code",
   "execution_count": null,
   "id": "d9e626d0-17c7-4e38-b153-2f9276e6c111",
   "metadata": {},
   "outputs": [],
   "source": [
    "delays_small.head(10)"
   ]
  },
  {
   "cell_type": "code",
   "execution_count": null,
   "id": "072d3660-c225-4768-b9b8-7d77e1ea9350",
   "metadata": {},
   "outputs": [],
   "source": [
    "airportdf.head(10)"
   ]
  },
  {
   "cell_type": "code",
   "execution_count": null,
   "id": "0cc0d309-9cff-4354-a24e-796eee6e9cae",
   "metadata": {},
   "outputs": [],
   "source": [
    "airportdf['IATA'].count()"
   ]
  },
  {
   "cell_type": "code",
   "execution_count": null,
   "id": "39c555c2-1b55-4a65-a61b-a8aef2b7923a",
   "metadata": {
    "tags": []
   },
   "outputs": [],
   "source": [
    "q = \"\"\"\n",
    "    SELECT * FROM delays_small\n",
    "    JOIN airportdf ON delays_small.origin == airportdf.IATA\n",
    "    \"\"\""
   ]
  },
  {
   "cell_type": "code",
   "execution_count": null,
   "id": "fc3d24d1-198e-46c4-b9fa-1dfc3014e492",
   "metadata": {
    "tags": []
   },
   "outputs": [],
   "source": [
    "pysqldf(q)"
   ]
  },
  {
   "cell_type": "code",
   "execution_count": null,
   "id": "ddc8afac-0113-46a7-b0c8-f1a5f7885459",
   "metadata": {
    "tags": []
   },
   "outputs": [],
   "source": [
    "q = \"\"\"\n",
    "    SELECT * FROM delays_small\n",
    "    INNER JOIN airportdf ON delays_small.origin == airportdf.IATA\n",
    "    \"\"\""
   ]
  },
  {
   "cell_type": "code",
   "execution_count": null,
   "id": "83cbb115-49e1-4989-b673-009709f858e9",
   "metadata": {
    "tags": []
   },
   "outputs": [],
   "source": [
    "pysqldf(q)"
   ]
  },
  {
   "cell_type": "code",
   "execution_count": null,
   "id": "a6ccc94b-14cd-4331-98a3-4b3c0948806e",
   "metadata": {
    "tags": []
   },
   "outputs": [],
   "source": [
    "q = \"\"\"\n",
    "    SELECT * FROM delays_small\n",
    "    LEFT JOIN airportdf ON delays_small.origin == airportdf.IATA\n",
    "    \"\"\""
   ]
  },
  {
   "cell_type": "markdown",
   "id": "c81354cb-21fe-473b-80ce-56350cae6f5f",
   "metadata": {},
   "source": [
    "NOTE:  SQLITE is used by pysql and SQLITE does not currently support RIGHT or OUTER JOIN."
   ]
  },
  {
   "cell_type": "code",
   "execution_count": null,
   "id": "442e8c50-e195-44a3-9d6d-b6653b5975de",
   "metadata": {
    "tags": []
   },
   "outputs": [],
   "source": [
    "q = \"\"\"\n",
    "    SELECT * FROM delays_small\n",
    "    OUTER JOIN airportdf ON delays_small.origin == airportdf.IATA\n",
    "    \"\"\""
   ]
  },
  {
   "cell_type": "code",
   "execution_count": null,
   "id": "8e32f80c-829f-474d-bd7d-41f8a7d9fabd",
   "metadata": {},
   "outputs": [],
   "source": [
    "#pysqldf(q)"
   ]
  }
 ],
 "metadata": {
  "kernelspec": {
   "display_name": "Python 3",
   "language": "python",
   "name": "python3"
  },
  "language_info": {
   "codemirror_mode": {
    "name": "ipython",
    "version": 3
   },
   "file_extension": ".py",
   "mimetype": "text/x-python",
   "name": "python",
   "nbconvert_exporter": "python",
   "pygments_lexer": "ipython3",
   "version": "3.8.10"
  }
 },
 "nbformat": 4,
 "nbformat_minor": 5
}
