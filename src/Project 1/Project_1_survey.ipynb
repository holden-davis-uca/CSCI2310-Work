{
 "cells": [
  {
   "attachments": {},
   "cell_type": "markdown",
   "metadata": {},
   "source": [
    " *Holden Davis - CSCI 2310 - CRN 33692 - Mrs. Talley - Project 1 - 2/1/23*"
   ]
  },
  {
   "cell_type": "markdown",
   "metadata": {
    "jp-MarkdownHeadingCollapsed": true,
    "tags": []
   },
   "source": [
    "### Project - Survey Data Preparation and Analysis ###\n",
    "\n",
    "#### Project Objective ####\n",
    "In this project, you will practice using tuples and lists. You will also experiment with the map/reduce programming paradigm by using list comprehensions, and the built-in map, filter, and reduce functions. **It is important you use the methods that I ask you to use even though you can solve the problem a different way.**\n",
    "\n",
    "#### Problem Description ####\n",
    "Students filled out separate surveys. The following chart combines the results of three different surveys. In the three surveys, students were asked to rate the following:\n",
    "1. Quality of food in the cafeteria on a scale of 1 to 5, with 1 being \"awful\" and 5 being \"excellent\".\n",
    "2. HPER (recreation center) on a scale of 1 to 500, with 100 being \"awful\" and 500 being \"excellent\".  \n",
    "3. Health Services with a rating of 'awful', 'ok', 'good', 'great', 'excellent' \n",
    "\n",
    "The surveys were independently developed and did not use the same rating scales.\n",
    "\n",
    "|Student ID|Classification|Food Rating|HPER Rating|Health Services Rating\n",
    "|------------|-------------------------|--------|-----|------\n",
    "|783|Freshman|3|500|excellent\n",
    "|524|Sophmore|3|500|awful\n",
    "|447|Junior|4|-300|excellent\n",
    "|177|Senior|5|400|excellent\n",
    "|739|Freshman|4|400|good\n",
    "|446|Junior|6|500|amazing\n",
    "|149|Senior|3|300|good\n",
    "|599|Sophmore|2|400|blech\n",
    "|545|Sophmore|-2|400|awful\n",
    "|739|Freshman|4|300|ok\n",
    "|433|Junior|2|200|great\n",
    "|739|Freshman|3|400|good\n",
    "\n"
   ]
  },
  {
   "cell_type": "markdown",
   "metadata": {},
   "source": [
    "### <span style=\"color:red\">Task 1</span>\n",
    "Data Acquisition: Acquire and confirm the survey data.\n",
    "\n",
    "Perform each of the following steps:\n",
    "\n",
    "- Use a list of tuples to store ALL the survey results.\n",
    "\n",
    "- Display the contents of the variable so your list of tuples is displayed in the notebook.  Verify that your tuple matches the values provided.\n",
    "\n",
    "- Use a Python method to display the number of tuple entries in your survey list."
   ]
  },
  {
   "cell_type": "code",
   "execution_count": 19,
   "metadata": {},
   "outputs": [],
   "source": [
    "# - Use a list of tuples to store ALL the survey results.\n",
    "results = [(783, \"Freshman\", 3, 500, \"excellent\"), \n",
    "           (524, \"Sophmore\", 3, 500, \"awful\"), \n",
    "           (447, \"Junior\", 4, -300, \"excellent\"), \n",
    "           (177, \"Senior\", 5, 400, \"excellent\"), \n",
    "           (739, \"Freshman\", 4, 400, \"good\"), \n",
    "           (446, \"Junior\", 6, 500, \"amazing\"), \n",
    "           (149, \"Senior\", 3, 300, \"good\"), \n",
    "           (599, \"Sophmore\", 2, 400, \"blech\"), \n",
    "           (545, \"Sophmore\", -2, 400, \"awful\"), \n",
    "           (739, \"Freshman\", 4, 300, \"ok\"), \n",
    "           (433, \"Junior\", 2, 200, \"great\"), \n",
    "           (739, \"Freshman\", 3, 400, \"good\")]"
   ]
  },
  {
   "cell_type": "code",
   "execution_count": 20,
   "metadata": {},
   "outputs": [
    {
     "data": {
      "text/plain": [
       "[(783, 'Freshman', 3, 500, 'excellent'),\n",
       " (524, 'Sophmore', 3, 500, 'awful'),\n",
       " (447, 'Junior', 4, -300, 'excellent'),\n",
       " (177, 'Senior', 5, 400, 'excellent'),\n",
       " (739, 'Freshman', 4, 400, 'good'),\n",
       " (446, 'Junior', 6, 500, 'amazing'),\n",
       " (149, 'Senior', 3, 300, 'good'),\n",
       " (599, 'Sophmore', 2, 400, 'blech'),\n",
       " (545, 'Sophmore', -2, 400, 'awful'),\n",
       " (739, 'Freshman', 4, 300, 'ok'),\n",
       " (433, 'Junior', 2, 200, 'great'),\n",
       " (739, 'Freshman', 3, 400, 'good')]"
      ]
     },
     "execution_count": 20,
     "metadata": {},
     "output_type": "execute_result"
    }
   ],
   "source": [
    "# - Display the contents of the variable so your list of tuples is displayed in the notebook.  Verify that your tuple matches the values provided.\n",
    "results"
   ]
  },
  {
   "cell_type": "code",
   "execution_count": 21,
   "metadata": {},
   "outputs": [
    {
     "data": {
      "text/plain": [
       "12"
      ]
     },
     "execution_count": 21,
     "metadata": {},
     "output_type": "execute_result"
    }
   ],
   "source": [
    "# - Use a Python method to display the number of tuple entries in your survey list.\n",
    "len(results)"
   ]
  },
  {
   "cell_type": "markdown",
   "metadata": {
    "tags": []
   },
   "source": [
    "### <span style=\"color:red\">Task 2</span>\n",
    "\n",
    "Data Preparation and Data Quality: Prepare the food quality data for reporting.\n",
    "\n",
    "There was a bug in the program that created the food quality survey, so all responses less than 0 and greater than 5 will need to be filtered out of the list.  In addition, the final results of the survey need to be on a consistent scale between 10 and 50. Therefore, after you filter out the incorrect values, you will need to multiple each value by 10. Your task is to extract the valid food quality scores from the survey data and correct the data issues.\n",
    "\n",
    "Your subtasks are:\n",
    "- Use a **list comprehension** to extract the food quality scores from the survey data tuple into a list.  Display the contents of the list and verify the results.\n",
    "- Use a **list comprehension** with a **filter ** to remove bad data. Display the contents of the list and verify the results.\n",
    "- Use a **list comprehension** with a **map** to multiply every value by 10. Display the contents of the list and verify the results.\n",
    "\n",
    "\n"
   ]
  },
  {
   "cell_type": "code",
   "execution_count": 22,
   "metadata": {},
   "outputs": [
    {
     "data": {
      "text/plain": [
       "[3, 3, 4, 5, 4, 6, 3, 2, -2, 4, 2, 3]"
      ]
     },
     "execution_count": 22,
     "metadata": {},
     "output_type": "execute_result"
    }
   ],
   "source": [
    "# - Use a **list comprehension** to extract the food quality scores from the survey data tuple into a list.  Display the contents of the list and verify the results.\n",
    "food_ratings = [x[2] for x in results]\n",
    "\n",
    "food_ratings"
   ]
  },
  {
   "cell_type": "code",
   "execution_count": 23,
   "metadata": {},
   "outputs": [
    {
     "data": {
      "text/plain": [
       "[3, 3, 4, 5, 4, 3, 2, 4, 2, 3]"
      ]
     },
     "execution_count": 23,
     "metadata": {},
     "output_type": "execute_result"
    }
   ],
   "source": [
    "# - Use a **list comprehension** with a **filter ** to remove bad data. Display the contents of the list and verify the results.\n",
    "food_ratings = [x for x in food_ratings if x >= 0 and x <= 5]\n",
    "\n",
    "food_ratings"
   ]
  },
  {
   "cell_type": "code",
   "execution_count": 24,
   "metadata": {},
   "outputs": [
    {
     "data": {
      "text/plain": [
       "[30, 30, 40, 50, 40, 30, 20, 40, 20, 30]"
      ]
     },
     "execution_count": 24,
     "metadata": {},
     "output_type": "execute_result"
    }
   ],
   "source": [
    "# - Use a **list comprehension** with a **map** to multiply every value by 10. Display the contents of the list and verify the results.\n",
    "food_ratings = [x * 10 for x in food_ratings]\n",
    "\n",
    "food_ratings"
   ]
  },
  {
   "cell_type": "markdown",
   "metadata": {},
   "source": [
    "### <span style=\"color:red\">Task 3</span>\n",
    "Data Preparation and Quality: Prepare the  HPER rating for reporting.\n",
    "\n",
    "There was a bug in the program that created the HPER survey, so all responses less than 0 and greater than 500 will need to be filtered out.  In addition, the final results should be reported on a different scale. Therefore, after you filter the bad data, you will need to divide each value by 10. Your task is to extract the HPER ratings only from the tuples into a list.  \n",
    "\n",
    "Use ***<span style=\"color:red\">one</span>*** **list comprehension** to combine the following steps:\n",
    "- Extract all the valid HPER quality scores from the survey data\n",
    "- Use a filter to remove bad data. \n",
    "- Use a map to divide every value by 10. (Make sure your result is an integer and not a float)\n",
    "\n",
    "Display the contents of the list and verify the results.\n",
    "\n"
   ]
  },
  {
   "cell_type": "code",
   "execution_count": 25,
   "metadata": {},
   "outputs": [
    {
     "data": {
      "text/plain": [
       "[50, 50, 40, 40, 50, 30, 40, 40, 30, 20, 40]"
      ]
     },
     "execution_count": 25,
     "metadata": {},
     "output_type": "execute_result"
    }
   ],
   "source": [
    "hper_ratings = [int(x[3] / 10) for x in results if x[3] >= 0 and x[3] <= 500]\n",
    "\n",
    "hper_ratings"
   ]
  },
  {
   "cell_type": "markdown",
   "metadata": {
    "tags": []
   },
   "source": [
    "### <span style=\"color:red\">Task 4</span>\n",
    "Data Preparation and Quality: Prepare the  Health Services rating for reporting.\n",
    "\n",
    "The scale for this survey was a text response of 'awful', 'ok', 'good', 'great', or 'excellent'.  Some users provided responses that did not match the scale.  We need to convert the text responses to a scale of (awful = 10, ok = 20, good = 30, great = 40, and excellent = 50) and drop any responses that are not in the acceptable set.  \n",
    "\n",
    "First, write a function called `convert_health_rating` that accepts a text rating as a paramter and returns the corresponding integer value in a return statement. If the text is not in the acceptable set, return a 0.  Test this function by calling it with text ratings and checking the return values. You do not need a loop in the function. You will use it in conjuntion with other code to accomplish our goal.\n",
    "\n",
    "HINT: You will need to know how to check string equality to write this function.  Here is an example of how you might convert 'awful' to 1.  \n",
    "\n",
    "```python\n",
    "str_rating = 'awful'\n",
    "if (str_rating.lower() == 'awful'):\n",
    "    new_rating = 10\n",
    "```\n",
    "Second, write a **map** function called `extract_and_convert_health_rating` to accept a survey entry (a tuple), extract the health rating (a string found within the tuple), call `convert_health_rating` and return the converted health rating (an integer). Test this function by calling it with various survey entries and checking the return values. You do not need a loop in this function. You will use it in conjuntion with other code to accomplish our goal.\n",
    "\n",
    "Third, write a **filter** function called `is_valid_health_rating` to return `True` if the value is 10, 20, 30, 40, or 50.  Otherwise, return `False`.  Test the function by calling it with valid and invalid values. You do not need a loop in this function. You will use it in conjuntion with other code to accomplish our goal.\n",
    "\n",
    "Fourth, use the `filter` and `map` **built-in** functions together to explicitly do the following:\n",
    "- Use the built-in `map` to translate the survey entry health ratings to the numeric values by calling the `extract_and_convert_health_rating` function.\n",
    "- Use built-in `filter` and `is_valid_health_rating` to remove invalid integer values \n",
    "\n",
    "Display the contents of the list and verify the results.\n"
   ]
  },
  {
   "cell_type": "code",
   "execution_count": 26,
   "metadata": {},
   "outputs": [],
   "source": [
    "def convert_health_rating(text_rating: str) -> int:\n",
    "    \"\"\"Converts text ratings to numeric values.\n",
    "\n",
    "    Args:\n",
    "        text_rating (str): Text health rating\n",
    "\n",
    "    Returns:\n",
    "        int: Numeric health rating\n",
    "    \"\"\"\n",
    "    text_rating = text_rating.lower()\n",
    "    match text_rating:\n",
    "        case \"excellent\":\n",
    "            return 50\n",
    "        case \"great\":\n",
    "            return 40\n",
    "        case \"good\":\n",
    "            return 30\n",
    "        case \"ok\":\n",
    "            return 20\n",
    "        case \"awful\":\n",
    "            return 10\n",
    "        case other:\n",
    "            return 0"
   ]
  },
  {
   "cell_type": "code",
   "execution_count": 27,
   "metadata": {},
   "outputs": [],
   "source": [
    "def extract_and_convert_health_rating(entry: tuple) -> int:\n",
    "    \"\"\"Extracts and converts the health rating from a result tuple to a numeric value .\n",
    "\n",
    "    Args:\n",
    "        entry (tuple): A 5-tuple individual result from the survey\n",
    "\n",
    "    Returns:\n",
    "        int: The converted numeric health rating\n",
    "    \"\"\"\n",
    "    return convert_health_rating(entry[4])"
   ]
  },
  {
   "cell_type": "code",
   "execution_count": 28,
   "metadata": {},
   "outputs": [],
   "source": [
    "def is_valid_health_rating(val: int) -> bool:\n",
    "    \"\"\"Checks if the given health rating is adheres to the scale\n",
    "\n",
    "    Args:\n",
    "        val (int): Numerical health rating\n",
    "\n",
    "    Returns:\n",
    "        bool: Whether the health rating is valid (in list of valid numbers)\n",
    "    \"\"\"\n",
    "    return val in [10, 20, 30, 40, 50]"
   ]
  },
  {
   "cell_type": "code",
   "execution_count": 29,
   "metadata": {},
   "outputs": [
    {
     "data": {
      "text/plain": [
       "[50, 10, 50, 50, 30, 30, 10, 20, 40, 30]"
      ]
     },
     "execution_count": 29,
     "metadata": {},
     "output_type": "execute_result"
    }
   ],
   "source": [
    "health_ratings = list(filter(is_valid_health_rating, map(extract_and_convert_health_rating, results)))\n",
    "\n",
    "health_ratings\n"
   ]
  },
  {
   "cell_type": "markdown",
   "metadata": {},
   "source": [
    "### <span style=\"color:red\">Task 5 </span>\n",
    "Data Analysis and Reporting: Determine and display the frequency of each of the standardized food quality ratings in the survey using a bar plot.\n",
    "\n",
    "\n",
    "Your subtasks are:\n",
    "- Use numpy `unique` or some other method to calcuate the frequency of each food quality rating. Display and verify the results.\n",
    "- Use matplotlib or seaborn to show a bar chart of values on the x axis and frequencies on the y. Create a title for the chart as well as labels for the x and y axis."
   ]
  },
  {
   "cell_type": "code",
   "execution_count": 30,
   "metadata": {},
   "outputs": [
    {
     "name": "stdout",
     "output_type": "stream",
     "text": [
      "Value 20 occurs 2 times\n",
      "Value 30 occurs 4 times\n",
      "Value 40 occurs 3 times\n",
      "Value 50 occurs 1 times\n"
     ]
    }
   ],
   "source": [
    "# - Use numpy `unique` or some other method to calcuate the frequency of each food quality rating. Display and verify the results.\n",
    "import numpy as np\n",
    "unique_values, frequencies = np.unique(food_ratings, return_counts=True)\n",
    "\n",
    "for x in range(len(unique_values)):\n",
    "    print(\"Value\", unique_values[x], \"occurs\", frequencies[x], \"times\")"
   ]
  },
  {
   "cell_type": "code",
   "execution_count": 31,
   "metadata": {},
   "outputs": [
    {
     "data": {
      "text/plain": [
       "Text(0, 0.5, 'Frequency')"
      ]
     },
     "execution_count": 31,
     "metadata": {},
     "output_type": "execute_result"
    },
    {
     "data": {
      "image/png": "[encoded data removed]",
      "text/plain": [
       "<Figure size 640x480 with 1 Axes>"
      ]
     },
     "metadata": {},
     "output_type": "display_data"
    }
   ],
   "source": [
    "# - Use matplotlib or seaborn to show a bar chart of values on the x axis and frequencies on the y. Create a title for the chart as well as labels for the x and y axis.\n",
    "import matplotlib.pyplot as plt\n",
    "fig = plt.bar(unique_values, frequencies)\n",
    "plt.title(\"Frequency of Food Ratings\")\n",
    "plt.xlabel(\"Food Rating\")\n",
    "plt.ylabel(\"Frequency\")\n"
   ]
  },
  {
   "cell_type": "markdown",
   "metadata": {
    "tags": []
   },
   "source": [
    "### <span style=\"color:red\">Task 6</span>\n",
    "Data Analysis and Reporting: Determine and display the frequency of each of the standardized HPER ratings in the survey using a bar plot.\n",
    "\n",
    "\n",
    "Your subtasks are:\n",
    "- Use numpy `unique` or some other method to calcuate the frequency of each HPER rating. Display and verify the results.\n",
    "- Use matplotlib or seaborn to show a bar chart of values on the x axix and frequencies on the y. Create a title for the chart as well as labels for the x and y axis."
   ]
  },
  {
   "cell_type": "code",
   "execution_count": 32,
   "metadata": {},
   "outputs": [
    {
     "name": "stdout",
     "output_type": "stream",
     "text": [
      "Value 20 occurs 1 times\n",
      "Value 30 occurs 2 times\n",
      "Value 40 occurs 5 times\n",
      "Value 50 occurs 3 times\n"
     ]
    }
   ],
   "source": [
    "# - Use numpy `unique` or some other method to calcuate the frequency of each HPER rating. Display and verify the results.\n",
    "import numpy as np\n",
    "unique_values, frequencies = np.unique(hper_ratings, return_counts=True)\n",
    "\n",
    "for x in range(len(unique_values)):\n",
    "    print(\"Value\", unique_values[x], \"occurs\", frequencies[x], \"times\")"
   ]
  },
  {
   "cell_type": "code",
   "execution_count": 33,
   "metadata": {},
   "outputs": [
    {
     "data": {
      "text/plain": [
       "Text(0, 0.5, 'Frequency')"
      ]
     },
     "execution_count": 33,
     "metadata": {},
     "output_type": "execute_result"
    },
    {
     "data": {
      "image/png": "[encoded data removed]",
      "text/plain": [
       "<Figure size 640x480 with 1 Axes>"
      ]
     },
     "metadata": {},
     "output_type": "display_data"
    }
   ],
   "source": [
    "# - Use matplotlib or seaborn to show a bar chart of values on the x axix and frequencies on the y. Create a title for the chart as well as labels for the x and y axis.\n",
    "import matplotlib.pyplot as plt\n",
    "fig = plt.bar(unique_values, frequencies)\n",
    "plt.title(\"Frequency of HPER Ratings\")\n",
    "plt.xlabel(\"HPER Rating\")\n",
    "plt.ylabel(\"Frequency\")"
   ]
  },
  {
   "cell_type": "markdown",
   "metadata": {
    "tags": []
   },
   "source": [
    "### <span style=\"color:red\">Task 7</span>\n",
    "Data Analysis and Reporting: Determine and display the frequency of each of the standardized health ratings in the survey using a bar plot.\n",
    "\n",
    "\n",
    "Your subtasks are:\n",
    "- Use numpy `unique` or some other method to calcuate the frequency of each health rating. Display and verify the results.\n",
    "- Use matplotlib or seaborn to show a bar chart of values on the x axix and frequencies on the y. Create a title for the chart as well as labels for the x and y axis."
   ]
  },
  {
   "cell_type": "code",
   "execution_count": 34,
   "metadata": {},
   "outputs": [
    {
     "name": "stdout",
     "output_type": "stream",
     "text": [
      "Value 10 occurs 2 times\n",
      "Value 20 occurs 1 times\n",
      "Value 30 occurs 3 times\n",
      "Value 40 occurs 1 times\n",
      "Value 50 occurs 3 times\n"
     ]
    }
   ],
   "source": [
    "# - Use numpy `unique` or some other method to calcuate the frequency of each health rating. Display and verify the results.\n",
    "import numpy as np\n",
    "unique_values, frequencies = np.unique(health_ratings, return_counts=True)\n",
    "\n",
    "for x in range(len(unique_values)):\n",
    "    print(\"Value\", unique_values[x], \"occurs\", frequencies[x], \"times\")"
   ]
  },
  {
   "cell_type": "code",
   "execution_count": 35,
   "metadata": {},
   "outputs": [
    {
     "data": {
      "text/plain": [
       "Text(0, 0.5, 'Frequency')"
      ]
     },
     "execution_count": 35,
     "metadata": {},
     "output_type": "execute_result"
    },
    {
     "data": {
      "image/png": "[encoded data removed]",
      "text/plain": [
       "<Figure size 640x480 with 1 Axes>"
      ]
     },
     "metadata": {},
     "output_type": "display_data"
    }
   ],
   "source": [
    "# - Use matplotlib or seaborn to show a bar chart of values on the x axix and frequencies on the y. Create a title for the chart as well as labels for the x and y axis.\n",
    "import matplotlib.pyplot as plt\n",
    "fig = plt.bar(unique_values, frequencies)\n",
    "plt.title(\"Frequency of Health Ratings\")\n",
    "plt.xlabel(\"Health Rating\")\n",
    "plt.ylabel(\"Frequency\")"
   ]
  },
  {
   "cell_type": "markdown",
   "metadata": {},
   "source": [
    "### <span style=\"color:red\">Task 8</span>\n",
    "Data Analysis and Reporting: Use a **reduction function** from the `statistics` package to report the average of each of the three surveys.  Make the results readable by prefacing each with a label and ensuring that the results are formatted with two decimal points.\n"
   ]
  },
  {
   "cell_type": "code",
   "execution_count": 36,
   "metadata": {},
   "outputs": [
    {
     "name": "stdout",
     "output_type": "stream",
     "text": [
      "Average Health Score: 32.00\n",
      "Average Food Score: 33.00\n",
      "Average HPER Score: 39.09\n"
     ]
    }
   ],
   "source": [
    "import statistics\n",
    "health_average = statistics.mean(health_ratings)\n",
    "food_average = statistics.mean(food_ratings)\n",
    "hper_average = statistics.mean(hper_ratings)\n",
    "print(\"Average Health Score: %1.2f\\nAverage Food Score: %1.2f\\nAverage HPER Score: %1.2f\" % (health_average, food_average, hper_average))\n"
   ]
  },
  {
   "cell_type": "markdown",
   "metadata": {},
   "source": [
    "<p style=\"font-size:120%;color:navy;background:linen;padding:10px;text-align:center\">&copy; Copyright 2022 by Michelle Talley <br> <br>You may not publish this notebook on any website or share it with anyone without explicit permission of the author. </p>\n"
   ]
  }
 ],
 "metadata": {
  "kernelspec": {
   "display_name": "CSCI2310-Work",
   "language": "python",
   "name": "python3"
  },
  "language_info": {
   "codemirror_mode": {
    "name": "ipython",
    "version": 3
   },
   "file_extension": ".py",
   "mimetype": "text/x-python",
   "name": "python",
   "nbconvert_exporter": "python",
   "pygments_lexer": "ipython3",
   "version": "3.10.9"
  },
  "vscode": {
   "interpreter": {
    "hash": "299409b180f29f8b3a330776e686c6d359741b559248a960bf42e2edb94ee730"
   }
  }
 },
 "nbformat": 4,
 "nbformat_minor": 4
}
