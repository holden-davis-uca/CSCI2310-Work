{
 "cells": [
  {
   "cell_type": "markdown",
   "id": "spare-quantum",
   "metadata": {},
   "source": [
    "### Lab: Strings and Regular Expressions"
   ]
  },
  {
   "cell_type": "code",
   "execution_count": null,
   "id": "mounted-labor",
   "metadata": {},
   "outputs": [],
   "source": [
    "Name:"
   ]
  },
  {
   "cell_type": "markdown",
   "id": "digital-package",
   "metadata": {},
   "source": [
    "### <span style=\"color:red\">Task 1</span>\n",
    "Write code that uses random-number generation to compose sentences. Use four lists of strings called article, noun, verb and preposition. Create a sentence by selecting a word at random from each array in the following order: article, noun, verb, preposition, article and noun. As each word is picked, concatenate it to the previous words in the sentence. Spaces should separate the words. Each sentence should start with a capital letter and end with a period. The code should generate and display 20 sentences.\n",
    "\n",
    "Hint: \n",
    "* Create a list for each set of strings \n",
    "* Write a loop that runs 20 times\n",
    "* Randomly pick an item out of each list and then put together using a print.\n",
    "* To randomly select a item, generate a random number between 0 and the length of the list"
   ]
  },
  {
   "cell_type": "markdown",
   "id": "super-candle",
   "metadata": {},
   "source": [
    "### <span style=\"color:red\">Task 2</span>\n",
    "Write code that reads a line of text from the user as input (as a string), tokenizes the string with the **split** method and outputs the tokens in reverse order as a new string. Use space characters as delimiters.  Hint:\n",
    "Use split, reverse, and join\n"
   ]
  },
  {
   "cell_type": "markdown",
   "id": "naughty-captain",
   "metadata": {},
   "source": [
    "### <span style=\"color:red\">Task 3</span>\n",
    "Write code that reads a line of text from the user, tokenizes it using space characters as delimiters and outputs only those words ending with the letters 'ed'. (see rfind method) **Do not use regular expressions because ou will do that in Task 4)**"
   ]
  },
  {
   "cell_type": "markdown",
   "id": "major-stack",
   "metadata": {},
   "source": [
    "### <span style=\"color:red\">Task 4</span>\n",
    " Reimplement Task 3 using **regular expressions** that capture the matching substrings, then display them.\n",
    " Hint: use findall"
   ]
  },
  {
   "cell_type": "markdown",
   "id": "brilliant-freight",
   "metadata": {},
   "source": [
    "### <span style=\"color:red\">Task 5</span>\n",
    "Write and test a **regular expression** that searches a string and matches all valid URLs in the string.  Print the matching values. (hint: use findAll)\n",
    "\n",
    "A URL (for this lab) is defined by the following rules:\n",
    "http://www.domainname.exension\n",
    "where:\n",
    "* domain name must be at least 2 characters long\n",
    "* domain name must consist of alpha numeric characters\n",
    "* extension must be 2 or more characters\n",
    "\n",
    "Use the following set of test strings to test your results in a for loop (print the string being compared and the findAll results in a loop):\n",
    "```\n",
    "teststrings = ['http://www.yahoo.com msnbc.com http://zappos.com http://helloworld',\n",
    "               'http:// http://target.com ://walmart.com http://www.msnbc.com http://www.',\n",
    "               'http://www. http:/www.nogo.com http://uca.edu http://www.go.co http://apple.n'\n",
    "              ]\n",
    "```"
   ]
  }
 ],
 "metadata": {
  "kernelspec": {
   "display_name": "Python 3 (ipykernel)",
   "language": "python",
   "name": "python3"
  },
  "language_info": {
   "codemirror_mode": {
    "name": "ipython",
    "version": 3
   },
   "file_extension": ".py",
   "mimetype": "text/x-python",
   "name": "python",
   "nbconvert_exporter": "python",
   "pygments_lexer": "ipython3",
   "version": "3.9.15"
  }
 },
 "nbformat": 4,
 "nbformat_minor": 5
}
