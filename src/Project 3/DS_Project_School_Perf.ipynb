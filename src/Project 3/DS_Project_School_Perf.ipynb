{
 "cells": [
  {
   "cell_type": "markdown",
   "id": "compact-brooklyn",
   "metadata": {},
   "source": [
    "# Introduction to Data Science - Project- School Performance"
   ]
  },
  {
   "attachments": {},
   "cell_type": "markdown",
   "id": "96604cf2-527d-4e86-beff-8063fe3fc2bf",
   "metadata": {},
   "source": [
    "Student Name: Holden Davis"
   ]
  },
  {
   "cell_type": "markdown",
   "id": "large-vertical",
   "metadata": {},
   "source": [
    "## Problem Statement\n",
    "\n",
    "The mayor of New York, a former data scientist, is particularly interested in the math scores in the New York school districts.  The mayor has asked you to analyze the test scores across the New York school districts.  The mayor is looking for insights or trends to improve the quality of the New York schools.  She has provided you with a set of scores from across the city."
   ]
  },
  {
   "cell_type": "markdown",
   "id": "former-breed",
   "metadata": {},
   "source": [
    "## Data Sources ##\n",
    "\n",
    "The New York math tests results are at the following location:\n",
    "\n",
    "https://catalog.data.gov/dataset/2006-2012-math-test-results-district-all-students\n",
    "\n",
    "The first few columns in the file are: District,Grade,Year,Demographic,Number Tested, and Mean Scale Score."
   ]
  },
  {
   "cell_type": "code",
   "execution_count": 14,
   "id": "3f9d27b8",
   "metadata": {},
   "outputs": [],
   "source": [
    "# Global imports\n",
    "import os\n",
    "import pandas as pd"
   ]
  },
  {
   "cell_type": "markdown",
   "id": "greatest-stationery",
   "metadata": {},
   "source": [
    "## Acquiring Data"
   ]
  },
  {
   "cell_type": "markdown",
   "id": "satisfied-minute",
   "metadata": {},
   "source": [
    "### <span style=\"color:red\">Task 1</span>\n",
    "\n",
    "Download a local copy of the school data."
   ]
  },
  {
   "cell_type": "code",
   "execution_count": 15,
   "id": "45dda39d",
   "metadata": {},
   "outputs": [
    {
     "data": {
      "text/plain": [
       "True"
      ]
     },
     "execution_count": 15,
     "metadata": {},
     "output_type": "execute_result"
    }
   ],
   "source": [
    "# Download a local copy of the school data.\n",
    "os.path.isfile(\"2006_-_2012__Math_Test_Results_-_District_-_All_Students.csv\")"
   ]
  },
  {
   "cell_type": "markdown",
   "id": "signal-uniform",
   "metadata": {},
   "source": [
    "### <span style=\"color:red\">Task 2</span>\n",
    "\n",
    "Load the data into a dataframe called \"schools\" and display the contents of the resulting dataframe."
   ]
  },
  {
   "cell_type": "code",
   "execution_count": 16,
   "id": "3a2ba19d",
   "metadata": {},
   "outputs": [
    {
     "data": {
      "text/html": [
       "<div>\n",
       "<style scoped>\n",
       "    .dataframe tbody tr th:only-of-type {\n",
       "        vertical-align: middle;\n",
       "    }\n",
       "\n",
       "    .dataframe tbody tr th {\n",
       "        vertical-align: top;\n",
       "    }\n",
       "\n",
       "    .dataframe thead th {\n",
       "        text-align: right;\n",
       "    }\n",
       "</style>\n",
       "<table border=\"1\" class=\"dataframe\">\n",
       "  <thead>\n",
       "    <tr style=\"text-align: right;\">\n",
       "      <th></th>\n",
       "      <th>District</th>\n",
       "      <th>Grade</th>\n",
       "      <th>Year</th>\n",
       "      <th>Demographic</th>\n",
       "      <th>Number Tested</th>\n",
       "      <th>Mean Scale Score</th>\n",
       "      <th>Num Level 1</th>\n",
       "      <th>Pct Level 1</th>\n",
       "      <th>Num Level 2</th>\n",
       "      <th>Pct Level 2</th>\n",
       "      <th>Num Level 3</th>\n",
       "      <th>Pct Level 3</th>\n",
       "      <th>Num Level 4</th>\n",
       "      <th>Pct Level 4</th>\n",
       "      <th>Num Level 3 and 4</th>\n",
       "      <th>Pct Level 3 and 4</th>\n",
       "    </tr>\n",
       "  </thead>\n",
       "  <tbody>\n",
       "    <tr>\n",
       "      <th>0</th>\n",
       "      <td>1</td>\n",
       "      <td>3</td>\n",
       "      <td>2006</td>\n",
       "      <td>All Students</td>\n",
       "      <td>936</td>\n",
       "      <td>673</td>\n",
       "      <td>73</td>\n",
       "      <td>7.8</td>\n",
       "      <td>170</td>\n",
       "      <td>18.2</td>\n",
       "      <td>484</td>\n",
       "      <td>51.7</td>\n",
       "      <td>209</td>\n",
       "      <td>22.3</td>\n",
       "      <td>693</td>\n",
       "      <td>74.0</td>\n",
       "    </tr>\n",
       "    <tr>\n",
       "      <th>1</th>\n",
       "      <td>1</td>\n",
       "      <td>3</td>\n",
       "      <td>2007</td>\n",
       "      <td>All Students</td>\n",
       "      <td>836</td>\n",
       "      <td>679</td>\n",
       "      <td>48</td>\n",
       "      <td>5.7</td>\n",
       "      <td>86</td>\n",
       "      <td>10.3</td>\n",
       "      <td>511</td>\n",
       "      <td>61.1</td>\n",
       "      <td>191</td>\n",
       "      <td>22.8</td>\n",
       "      <td>702</td>\n",
       "      <td>84.0</td>\n",
       "    </tr>\n",
       "    <tr>\n",
       "      <th>2</th>\n",
       "      <td>1</td>\n",
       "      <td>3</td>\n",
       "      <td>2008</td>\n",
       "      <td>All Students</td>\n",
       "      <td>862</td>\n",
       "      <td>686</td>\n",
       "      <td>17</td>\n",
       "      <td>2.0</td>\n",
       "      <td>94</td>\n",
       "      <td>10.9</td>\n",
       "      <td>537</td>\n",
       "      <td>62.3</td>\n",
       "      <td>214</td>\n",
       "      <td>24.8</td>\n",
       "      <td>751</td>\n",
       "      <td>87.1</td>\n",
       "    </tr>\n",
       "    <tr>\n",
       "      <th>3</th>\n",
       "      <td>1</td>\n",
       "      <td>3</td>\n",
       "      <td>2009</td>\n",
       "      <td>All Students</td>\n",
       "      <td>914</td>\n",
       "      <td>691</td>\n",
       "      <td>8</td>\n",
       "      <td>0.9</td>\n",
       "      <td>66</td>\n",
       "      <td>7.2</td>\n",
       "      <td>598</td>\n",
       "      <td>65.4</td>\n",
       "      <td>242</td>\n",
       "      <td>26.5</td>\n",
       "      <td>840</td>\n",
       "      <td>91.9</td>\n",
       "    </tr>\n",
       "    <tr>\n",
       "      <th>4</th>\n",
       "      <td>1</td>\n",
       "      <td>3</td>\n",
       "      <td>2010</td>\n",
       "      <td>All Students</td>\n",
       "      <td>866</td>\n",
       "      <td>697</td>\n",
       "      <td>89</td>\n",
       "      <td>10.3</td>\n",
       "      <td>257</td>\n",
       "      <td>29.7</td>\n",
       "      <td>279</td>\n",
       "      <td>32.2</td>\n",
       "      <td>241</td>\n",
       "      <td>27.8</td>\n",
       "      <td>520</td>\n",
       "      <td>60.0</td>\n",
       "    </tr>\n",
       "    <tr>\n",
       "      <th>...</th>\n",
       "      <td>...</td>\n",
       "      <td>...</td>\n",
       "      <td>...</td>\n",
       "      <td>...</td>\n",
       "      <td>...</td>\n",
       "      <td>...</td>\n",
       "      <td>...</td>\n",
       "      <td>...</td>\n",
       "      <td>...</td>\n",
       "      <td>...</td>\n",
       "      <td>...</td>\n",
       "      <td>...</td>\n",
       "      <td>...</td>\n",
       "      <td>...</td>\n",
       "      <td>...</td>\n",
       "      <td>...</td>\n",
       "    </tr>\n",
       "    <tr>\n",
       "      <th>1563</th>\n",
       "      <td>32</td>\n",
       "      <td>All Grades</td>\n",
       "      <td>2008</td>\n",
       "      <td>All Students</td>\n",
       "      <td>9028</td>\n",
       "      <td>664</td>\n",
       "      <td>705</td>\n",
       "      <td>7.8</td>\n",
       "      <td>2025</td>\n",
       "      <td>22.4</td>\n",
       "      <td>5059</td>\n",
       "      <td>56.0</td>\n",
       "      <td>1239</td>\n",
       "      <td>13.7</td>\n",
       "      <td>6298</td>\n",
       "      <td>69.8</td>\n",
       "    </tr>\n",
       "    <tr>\n",
       "      <th>1564</th>\n",
       "      <td>32</td>\n",
       "      <td>All Grades</td>\n",
       "      <td>2009</td>\n",
       "      <td>All Students</td>\n",
       "      <td>8828</td>\n",
       "      <td>673</td>\n",
       "      <td>365</td>\n",
       "      <td>4.1</td>\n",
       "      <td>1526</td>\n",
       "      <td>17.3</td>\n",
       "      <td>5399</td>\n",
       "      <td>61.2</td>\n",
       "      <td>1538</td>\n",
       "      <td>17.4</td>\n",
       "      <td>6937</td>\n",
       "      <td>78.6</td>\n",
       "    </tr>\n",
       "    <tr>\n",
       "      <th>1565</th>\n",
       "      <td>32</td>\n",
       "      <td>All Grades</td>\n",
       "      <td>2010</td>\n",
       "      <td>All Students</td>\n",
       "      <td>8508</td>\n",
       "      <td>672</td>\n",
       "      <td>1187</td>\n",
       "      <td>14.0</td>\n",
       "      <td>3429</td>\n",
       "      <td>40.3</td>\n",
       "      <td>2671</td>\n",
       "      <td>31.4</td>\n",
       "      <td>1221</td>\n",
       "      <td>14.4</td>\n",
       "      <td>3892</td>\n",
       "      <td>45.7</td>\n",
       "    </tr>\n",
       "    <tr>\n",
       "      <th>1566</th>\n",
       "      <td>32</td>\n",
       "      <td>All Grades</td>\n",
       "      <td>2011</td>\n",
       "      <td>All Students</td>\n",
       "      <td>8221</td>\n",
       "      <td>671</td>\n",
       "      <td>1072</td>\n",
       "      <td>13.0</td>\n",
       "      <td>3340</td>\n",
       "      <td>40.6</td>\n",
       "      <td>2832</td>\n",
       "      <td>34.4</td>\n",
       "      <td>977</td>\n",
       "      <td>11.9</td>\n",
       "      <td>3809</td>\n",
       "      <td>46.3</td>\n",
       "    </tr>\n",
       "    <tr>\n",
       "      <th>1567</th>\n",
       "      <td>32</td>\n",
       "      <td>All Grades</td>\n",
       "      <td>2012</td>\n",
       "      <td>All Students</td>\n",
       "      <td>7846</td>\n",
       "      <td>673</td>\n",
       "      <td>974</td>\n",
       "      <td>12.4</td>\n",
       "      <td>3030</td>\n",
       "      <td>38.6</td>\n",
       "      <td>2777</td>\n",
       "      <td>35.4</td>\n",
       "      <td>1065</td>\n",
       "      <td>13.6</td>\n",
       "      <td>3842</td>\n",
       "      <td>49.0</td>\n",
       "    </tr>\n",
       "  </tbody>\n",
       "</table>\n",
       "<p>1568 rows × 16 columns</p>\n",
       "</div>"
      ],
      "text/plain": [
       "      District       Grade  Year   Demographic  Number Tested  \\\n",
       "0            1           3  2006  All Students            936   \n",
       "1            1           3  2007  All Students            836   \n",
       "2            1           3  2008  All Students            862   \n",
       "3            1           3  2009  All Students            914   \n",
       "4            1           3  2010  All Students            866   \n",
       "...        ...         ...   ...           ...            ...   \n",
       "1563        32  All Grades  2008  All Students           9028   \n",
       "1564        32  All Grades  2009  All Students           8828   \n",
       "1565        32  All Grades  2010  All Students           8508   \n",
       "1566        32  All Grades  2011  All Students           8221   \n",
       "1567        32  All Grades  2012  All Students           7846   \n",
       "\n",
       "      Mean Scale Score  Num Level 1  Pct Level 1  Num Level 2  Pct Level 2  \\\n",
       "0                  673           73          7.8          170         18.2   \n",
       "1                  679           48          5.7           86         10.3   \n",
       "2                  686           17          2.0           94         10.9   \n",
       "3                  691            8          0.9           66          7.2   \n",
       "4                  697           89         10.3          257         29.7   \n",
       "...                ...          ...          ...          ...          ...   \n",
       "1563               664          705          7.8         2025         22.4   \n",
       "1564               673          365          4.1         1526         17.3   \n",
       "1565               672         1187         14.0         3429         40.3   \n",
       "1566               671         1072         13.0         3340         40.6   \n",
       "1567               673          974         12.4         3030         38.6   \n",
       "\n",
       "      Num Level 3  Pct Level 3  Num Level 4  Pct Level 4  Num Level 3 and 4  \\\n",
       "0             484         51.7          209         22.3                693   \n",
       "1             511         61.1          191         22.8                702   \n",
       "2             537         62.3          214         24.8                751   \n",
       "3             598         65.4          242         26.5                840   \n",
       "4             279         32.2          241         27.8                520   \n",
       "...           ...          ...          ...          ...                ...   \n",
       "1563         5059         56.0         1239         13.7               6298   \n",
       "1564         5399         61.2         1538         17.4               6937   \n",
       "1565         2671         31.4         1221         14.4               3892   \n",
       "1566         2832         34.4          977         11.9               3809   \n",
       "1567         2777         35.4         1065         13.6               3842   \n",
       "\n",
       "      Pct Level 3 and 4  \n",
       "0                  74.0  \n",
       "1                  84.0  \n",
       "2                  87.1  \n",
       "3                  91.9  \n",
       "4                  60.0  \n",
       "...                 ...  \n",
       "1563               69.8  \n",
       "1564               78.6  \n",
       "1565               45.7  \n",
       "1566               46.3  \n",
       "1567               49.0  \n",
       "\n",
       "[1568 rows x 16 columns]"
      ]
     },
     "execution_count": 16,
     "metadata": {},
     "output_type": "execute_result"
    }
   ],
   "source": [
    "# Load the data into a dataframe called \"schools\" and display the contents of the resulting dataframe.\n",
    "schools = pd.read_csv(\"2006_-_2012__Math_Test_Results_-_District_-_All_Students.csv\")\n",
    "schools"
   ]
  },
  {
   "cell_type": "markdown",
   "id": "micro-premises",
   "metadata": {},
   "source": [
    "## Exploring the Data"
   ]
  },
  {
   "cell_type": "markdown",
   "id": "hawaiian-joining",
   "metadata": {},
   "source": [
    "### <span style=\"color:red\">Task 3</span>\n",
    "\n",
    "Display the values and associated frequencies of the grade column. (Hint: see value_counts)"
   ]
  },
  {
   "cell_type": "code",
   "execution_count": 17,
   "id": "4e4c1c2e",
   "metadata": {},
   "outputs": [
    {
     "data": {
      "text/plain": [
       "Grade\n",
       "3             224\n",
       "4             224\n",
       "5             224\n",
       "6             224\n",
       "7             224\n",
       "8             224\n",
       "All Grades    224\n",
       "dtype: int64"
      ]
     },
     "execution_count": 17,
     "metadata": {},
     "output_type": "execute_result"
    }
   ],
   "source": [
    "# Display the values and associated frequencies of the grade column. (Hint: see value_counts)\n",
    "schools.value_counts('Grade')"
   ]
  },
  {
   "cell_type": "markdown",
   "id": "fitted-immigration",
   "metadata": {},
   "source": [
    "### <span style=\"color:red\">Task 4</span>\n",
    "\n",
    "Display the values and associated frequencies of the district column, sorting the result by district number."
   ]
  },
  {
   "cell_type": "code",
   "execution_count": 18,
   "id": "990b7643",
   "metadata": {},
   "outputs": [
    {
     "data": {
      "text/plain": [
       "District\n",
       "1     49\n",
       "2     49\n",
       "3     49\n",
       "4     49\n",
       "5     49\n",
       "6     49\n",
       "7     49\n",
       "8     49\n",
       "9     49\n",
       "10    49\n",
       "11    49\n",
       "12    49\n",
       "13    49\n",
       "14    49\n",
       "15    49\n",
       "16    49\n",
       "17    49\n",
       "18    49\n",
       "19    49\n",
       "20    49\n",
       "21    49\n",
       "22    49\n",
       "23    49\n",
       "24    49\n",
       "25    49\n",
       "26    49\n",
       "27    49\n",
       "28    49\n",
       "29    49\n",
       "30    49\n",
       "31    49\n",
       "32    49\n",
       "dtype: int64"
      ]
     },
     "execution_count": 18,
     "metadata": {},
     "output_type": "execute_result"
    }
   ],
   "source": [
    "# Display the values and associated frequencies of the district column, sorting the result by district number.\n",
    "schools.value_counts('District').sort_index()"
   ]
  },
  {
   "cell_type": "markdown",
   "id": "powered-function",
   "metadata": {},
   "source": [
    "### <span style=\"color:red\">Task 5</span>\n",
    "\n",
    "Display the values and associated frequencies of the year column, sorting the result by year."
   ]
  },
  {
   "cell_type": "code",
   "execution_count": 19,
   "id": "ae29b871",
   "metadata": {},
   "outputs": [
    {
     "data": {
      "text/plain": [
       "Year\n",
       "2006    224\n",
       "2007    224\n",
       "2008    224\n",
       "2009    224\n",
       "2010    224\n",
       "2011    224\n",
       "2012    224\n",
       "dtype: int64"
      ]
     },
     "execution_count": 19,
     "metadata": {},
     "output_type": "execute_result"
    }
   ],
   "source": [
    "# Display the values and associated frequencies of the year column, sorting the result by year.\n",
    "schools.value_counts('Year').sort_index()"
   ]
  },
  {
   "cell_type": "markdown",
   "id": "electronic-notice",
   "metadata": {},
   "source": [
    "## Preparing Data"
   ]
  },
  {
   "cell_type": "markdown",
   "id": "productive-typing",
   "metadata": {
    "tags": []
   },
   "source": [
    "### <span style=\"color:red\">Task 6</span>\n",
    "\n",
    "Display all the rows that have the do not have an explicit grade in the Grade column. (Hint: Look at the data and see what other value is in that column besides a specific grade and use that for selection)"
   ]
  },
  {
   "cell_type": "markdown",
   "id": "finnish-scottish",
   "metadata": {
    "tags": []
   },
   "source": [
    "### <span style=\"color:red\">Task 7</span>\n",
    "\n",
    "Remove all the rows from \"schools\" (in place) that have the do not have an explicit grade in the Grade column.\n",
    "(Hint: One option is to use drop with index and inplace argument. Another is to create a new dataframe named schools by selecting the rows you want to keep)"
   ]
  },
  {
   "cell_type": "markdown",
   "id": "laden-agent",
   "metadata": {},
   "source": [
    "### <span style=\"color:red\">Task 8</span>\n",
    "\n",
    "Confirm that the 'All Grades' rows have been removed by doing the value counts on the Grade field again.\n"
   ]
  },
  {
   "cell_type": "markdown",
   "id": "polish-prisoner",
   "metadata": {},
   "source": [
    "## Exploring the Data"
   ]
  },
  {
   "cell_type": "markdown",
   "id": "lined-recycling",
   "metadata": {},
   "source": [
    "### <span style=\"color:red\">Task 9</span>\n",
    "\n",
    "How many students total were tested in each grade level? (Hint: See groupby, select column you need, and then apply the aggregation function. See the panda_dataframe_project_helper notebook)"
   ]
  },
  {
   "cell_type": "markdown",
   "id": "noble-runner",
   "metadata": {},
   "source": [
    "### <span style=\"color:red\">Task 10</span>\n",
    "\n",
    "How many students total were tested in each district?  Sort the result in descending order.  (Use the *sort_values* method after performing the sum)."
   ]
  },
  {
   "cell_type": "markdown",
   "id": "peaceful-handle",
   "metadata": {},
   "source": [
    "### <span style=\"color:red\">Task 11</span>\n",
    "\n",
    "Use the *describe* method to show a set of descriptive statistics about the 'Mean Scale Score' across all districts for each grade. (Hint: Remember to groupby and select the column you want before you invoke describe)"
   ]
  },
  {
   "cell_type": "markdown",
   "id": "interested-hungarian",
   "metadata": {},
   "source": [
    "### <span style=\"color:red\">Task 12</span>\n",
    "\n",
    "Show just the top mean scale score (across all years) for each grade.\n",
    "(Hint: Similar to getting the sum, use a different aggregation/groupby method)"
   ]
  },
  {
   "cell_type": "markdown",
   "id": "tight-incidence",
   "metadata": {},
   "source": [
    "## Visualizing the Data"
   ]
  },
  {
   "cell_type": "markdown",
   "id": "textile-fusion",
   "metadata": {},
   "source": [
    "### <span style=\"color:red\">Task 13</span>\n",
    "\n",
    "What is a Histogram?  A histogram is used to summarize discrete or continuous data. In other words, it provides a visual interpretation. of numerical data by showing the number of data points that fall within a specified range of values (called “bins”). It is similar to a vertical bar graph.\n",
    "\n",
    "Look up the DataFrame *hist* method that produces a histogram.  Use this method to produce a histogram for the 'Mean Scale Score' for each grade.\n",
    "Hint: Use groupby, invoke the hist method, and pass the column  you want to use\n",
    "\n"
   ]
  },
  {
   "cell_type": "markdown",
   "id": "innocent-lafayette",
   "metadata": {},
   "source": [
    "### <span style=\"color:red\">Task 14</span>\n",
    "\n",
    "Look up the DataFrame *plot* method.  Use this method to plot the 'Mean Scale Score' on the y-axis and 'District' on the x-axis for the entire dataframe. Use the 'o' style for the plot. The 'o' tell matplotlib to use dots instead of lines.  We are telling plot to make a point for the 'Mean Scale Score' by District."
   ]
  },
  {
   "cell_type": "markdown",
   "id": "consolidated-deadline",
   "metadata": {},
   "source": [
    "### <span style=\"color:red\">Task 15</span>\n",
    "\n",
    "What insights do you draw from the plot above?"
   ]
  },
  {
   "cell_type": "markdown",
   "id": "opened-nutrition",
   "metadata": {},
   "source": [
    "## Analyzing the Data"
   ]
  },
  {
   "cell_type": "markdown",
   "id": "emerging-screen",
   "metadata": {},
   "source": [
    "### <span style=\"color:red\">Task 16</span>\n",
    "\n",
    "Define a function *top* that returns the *n* rows with the highest value for the specified *column*.\n",
    "\n",
    "*top* should accept a dataframe as its first input, a parameter named *n* that accepts a number and provides a reasonable default, and a parameter called *column* that defaults to 'Mean Scale Score'.\n",
    "\n",
    "Demonstrate the function against the entire 'schools' dataframe.\n",
    "\n",
    "(Hint: See panda_dataframe_part5 notebook for an example)"
   ]
  },
  {
   "cell_type": "markdown",
   "id": "tested-quest",
   "metadata": {},
   "source": [
    "### <span style=\"color:red\">Task 17</span>\n",
    "\n",
    "Use the *apply* method and your defined *top* function to display the full row for the top score in each grade.\n",
    "\n",
    "(Hint: use groupby and then apply)"
   ]
  },
  {
   "cell_type": "markdown",
   "id": "primary-syndrome",
   "metadata": {},
   "source": [
    "### <span style=\"color:red\">Task 18</span>\n",
    "\n",
    "What insight did you get from the previous cell?"
   ]
  },
  {
   "cell_type": "markdown",
   "id": "abandoned-substance",
   "metadata": {},
   "source": [
    "### <span style=\"color:red\">Task 19</span>\n",
    "\n",
    "Extend your selection above to show the row for the top score for each combination of grade and year.\n",
    "(Hint: extend your groupby)"
   ]
  },
  {
   "cell_type": "markdown",
   "id": "ready-filter",
   "metadata": {},
   "source": [
    "### <span style=\"color:red\">Task 20</span>\n",
    "\n",
    "What insight did you get from the previous cell?"
   ]
  },
  {
   "cell_type": "markdown",
   "id": "israeli-concert",
   "metadata": {},
   "source": [
    "### <span style=\"color:red\">Task 21</span>\n",
    "Is there a trend on scores in the best district?  \n",
    "\n",
    "Using the DataFrame *plot* method, plot the performance by grade of the top distict across time.\n",
    "\n",
    "(Hint: Use selection, then groupby, then plot.  Do not use a scatter plot for this task.  You want a basic plot that shows the trend over time/years. )\n",
    "\n",
    "Over time, is the district peformance improving, deteriorating, or staying the same for each grade?"
   ]
  },
  {
   "cell_type": "markdown",
   "id": "burning-repository",
   "metadata": {},
   "source": [
    "### <span style=\"color:red\">Task 22</span>\n",
    "\n",
    "Define a function *bottom* that returns the *n* rows with the lowest value for the specified *column*.\n",
    "\n",
    "*bottom* should accept a dataframe as its first input, a parameter named *n* that accepts a number and provides a reasonable default, and a paramater called *column* that defaults to 'Mean Scale Score'.\n",
    "\n",
    "(Hint: This is similar to top)\n",
    "\n",
    "Demonstrate the function against the entire 'schools' dataframe."
   ]
  },
  {
   "cell_type": "markdown",
   "id": "indonesian-shopping",
   "metadata": {},
   "source": [
    "### <span style=\"color:red\">Task 23</span>\n",
    "\n",
    "Use the *apply* method and your defined *bottom* function to display the full row for the bottom score in each grade."
   ]
  },
  {
   "cell_type": "markdown",
   "id": "lightweight-trading",
   "metadata": {},
   "source": [
    "### <span style=\"color:red\">Task 24</span>\n",
    "\n",
    "What insight did you get from the previous cell?"
   ]
  },
  {
   "cell_type": "markdown",
   "id": "damaged-spell",
   "metadata": {},
   "source": [
    "### <span style=\"color:red\">Task 25</span>\n",
    "\n",
    "Extend your selection above to show the row for the bottom score for the combination of grade and year."
   ]
  },
  {
   "cell_type": "markdown",
   "id": "supreme-script",
   "metadata": {},
   "source": [
    "### <span style=\"color:red\">Task 26</span>\n",
    "\n",
    "What insight did you get from the previous cell?"
   ]
  },
  {
   "cell_type": "markdown",
   "id": "growing-senior",
   "metadata": {},
   "source": [
    "## Results"
   ]
  },
  {
   "cell_type": "markdown",
   "id": "female-sister",
   "metadata": {},
   "source": [
    "The Mayor wants to recognize the top performing districts and direct additional resources to assist lower performing districts.\n",
    "\n",
    "She asks you to rank the scores by performance as follows.  \n",
    "\n",
    "For each grade and year, rank each district based upon their 'Mean Scale Score.'  The district with the highest 'Mean Scale Score' should get a rank of 1, the second highest should get a rank of 2, etc.\n",
    "\n",
    "After ranking for each grade and year, sum the ranks for each grade over all years.  For the Mayor's purpose, the districts with the lowest total sum of the ranks (i.e., the lowest rank numbers overall) are considered the best performing schools."
   ]
  },
  {
   "cell_type": "markdown",
   "id": "tight-irrigation",
   "metadata": {
    "jupyter": {
     "outputs_hidden": true
    }
   },
   "source": [
    "This task is going to take a bit of work, so let's break the problem into incremental chunks of work."
   ]
  },
  {
   "cell_type": "markdown",
   "id": "athletic-knitting",
   "metadata": {},
   "source": [
    "### <span style=\"color:red\">Task 27</span>\n",
    "\n",
    "Let's make a smaller dataframe to use while we are working out the larger problem.  \n",
    "\n",
    "Create a dataframe called 'schools_subset' from 'schools' that includes only Grade 3 for the year 2012.  We are not going to need all the columns, so only add district, grade, year, and mean scale score to the new dataframe.\n",
    "\n",
    "Display the schools_subset dataframe."
   ]
  },
  {
   "cell_type": "markdown",
   "id": "large-aquatic",
   "metadata": {},
   "source": [
    "### <span style=\"color:red\">Task 28</span>\n",
    "\n",
    "Look up the DataFrame *rank* method.  We will use this method to set the ranks.  Since we want the highest rank to be 1, we need to set the 'ascending' parameter to the *rank* call to False.\n",
    "\n",
    "Make a function called *add_default_rank* that takes a dataframe the first parameter and a 'column' parameter with the default 'Mean Scale Score' as the second paramter.\n",
    "\n",
    "This function should create a new column called 'Default Rank' in the passed dataframe.  The value of the new column should be the *rank* for the passed 'column' parameter.\n",
    "\n",
    "Demonstrate your *add_default_rank* function works by calling the function on the 'students_subset' dataframe.  Print the 'schools_subset' dataframe before and after the invocation of the function to confirm that (1) the 'Default Rank' column was added and (2) that the rank assigned to each row is correct based upon the 'Mean Scaled Score' value. "
   ]
  },
  {
   "cell_type": "markdown",
   "id": "purple-lightning",
   "metadata": {},
   "source": [
    "### <span style=\"color:red\">Task 29</span>\n",
    "\n",
    "Now that you have the *add_default_rank* function that works on a dataframe, you can use the *apply* method to apply that method to each group from a groupby.  \n",
    "\n",
    "Group the full 'schools' dataframe by grade and year, then apply *add_default_rank* to the groups.  Store the results of this into a new 'schools2' dataframe.\n",
    "\n",
    "Display the resulting 'schools2' dataframe."
   ]
  },
  {
   "cell_type": "markdown",
   "id": "different-flooring",
   "metadata": {},
   "source": [
    "### <span style=\"color:red\">Task 30</span>\n",
    "\n",
    "The 'schools2' now has a rank for each district for each grade and each year.  \n",
    "\n",
    "To fulfill the Mayor's ranking request, we can now produce the ordered list of districts with the top performers at the top of the list.\n",
    "\n",
    "To do this, sum the 'Default Rank' column grouping by District and sorting the result using the *sort_values* method with \"ascending\" set to True and show the results."
   ]
  }
 ],
 "metadata": {
  "kernelspec": {
   "display_name": "Python 3 (ipykernel)",
   "language": "python",
   "name": "python3"
  },
  "language_info": {
   "codemirror_mode": {
    "name": "ipython",
    "version": 3
   },
   "file_extension": ".py",
   "mimetype": "text/x-python",
   "name": "python",
   "nbconvert_exporter": "python",
   "pygments_lexer": "ipython3",
   "version": "3.10.4"
  }
 },
 "nbformat": 4,
 "nbformat_minor": 5
}
