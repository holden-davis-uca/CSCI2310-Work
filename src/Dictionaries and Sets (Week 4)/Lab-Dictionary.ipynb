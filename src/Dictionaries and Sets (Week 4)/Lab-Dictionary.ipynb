{
 "cells": [
  {
   "attachments": {},
   "cell_type": "markdown",
   "metadata": {},
   "source": [
    "### Lab - Dictionaries\n",
    "\n",
    "#### Holden Davis - 2/6/23 - CSCI 2310"
   ]
  },
  {
   "cell_type": "markdown",
   "metadata": {},
   "source": [
    "### <span style=\"color:red\">Task</span>\n",
    "\n",
    "Build a dictionary that maps country names to Internet top-level domains (TLDs). Initialize the dictionary with the following values:\n",
    "    \n",
    "|Country Name|Internet Top Level Domain|\n",
    "|------------|-------------------------|\n",
    "|Afghanistan|af|\n",
    "|Australia|au|\n",
    "|Barbados|bb|\n",
    "|Brazil|br|\n",
    "|Costa Rica|cr|\n",
    "|Egypt|ec|\n",
    "|Guam|gu|\n",
    "|Ireland|ie|\n",
    "|Madagascar|mg|\n",
    "|Mexico|mx|\n",
    "|Nigeria|ng|\n",
    "|Sweden|se|\n",
    "|United States|us|\n",
    "|Canada|ca|"
   ]
  },
  {
   "cell_type": "code",
   "execution_count": 37,
   "metadata": {},
   "outputs": [],
   "source": [
    "TLD = {\"Afghanistan\": \"af\",\n",
    "       \"Australia\": \"au\",\n",
    "       \"Barbados\": \"bb\",\n",
    "       \"Brazil\": \"br\",\n",
    "       \"Costa Rica\": \"cr\",\n",
    "       \"Egypt\": \"eg\",\n",
    "       \"Guam\": \"gu\",\n",
    "       \"Ireland\": \"ie\",\n",
    "       \"Madagascar\": \"mg\",\n",
    "       \"Mexico\": \"mx\",\n",
    "       \"Nigeria\": \"ng\",\n",
    "       \"Sweden\": \"se\",\n",
    "       \"United States\": \"us\",\n",
    "       \"Canada\": \"ca\",}"
   ]
  },
  {
   "cell_type": "markdown",
   "metadata": {},
   "source": [
    "### <span style=\"color:red\">Task</span>\n",
    "\n",
    "Add new entries to the existing dictionary    \n",
    "\n",
    "|Country Name|Internet Top Level Domain|\n",
    "|------------|-------------------------|\n",
    "|Uruguay|uy|\n",
    "|Zambia|zm|\n",
    "|Thailand|th|"
   ]
  },
  {
   "cell_type": "code",
   "execution_count": 38,
   "metadata": {},
   "outputs": [],
   "source": [
    "TLD.update({\"Uruguary\": \"uy\",\n",
    "            \"Zambia\": \"zm\",\n",
    "            \"Thailand\": \"th\",})"
   ]
  },
  {
   "cell_type": "markdown",
   "metadata": {},
   "source": [
    "### <span style=\"color:red\">Task</span>\n",
    "* check to see if Guam exists in the list and report the result\n",
    "* check to see if France exists in the list and report the result\n",
    "* add a new key value pair for Turkey with the value tx\n",
    "* update the value for Turkey to tr\n",
    "* use the get method to retrieve the value for Switzerland, but use the second parameter to return \"Switzerland not found\" if the value is not found in the dictionary\n"
   ]
  },
  {
   "cell_type": "code",
   "execution_count": 39,
   "metadata": {},
   "outputs": [
    {
     "name": "stdout",
     "output_type": "stream",
     "text": [
      "Does Guam exist in the dictionary: True\n",
      "Does France exist in the dictionary: False\n"
     ]
    },
    {
     "data": {
      "text/plain": [
       "'Switzerland not found'"
      ]
     },
     "execution_count": 39,
     "metadata": {},
     "output_type": "execute_result"
    }
   ],
   "source": [
    "print(\"Does Guam exist in the dictionary:\",TLD.get(\"Guam\") != None)\n",
    "print(\"Does France exist in the dictionary:\",TLD.get(\"France\") != None)\n",
    "TLD.update({\"Turkey\": \"tx\"})\n",
    "TLD.update({\"Turkey\": \"tr\"})\n",
    "TLD.get(\"Switzerland\", \"Switzerland not found\")"
   ]
  },
  {
   "cell_type": "markdown",
   "metadata": {},
   "source": [
    "### <span style=\"color:red\">Task</span>\n",
    "* Iterate through the key–value pairs and display them in two-column format\n",
    "* print the number of countries represented in the dictionary"
   ]
  },
  {
   "cell_type": "code",
   "execution_count": 40,
   "metadata": {},
   "outputs": [
    {
     "name": "stdout",
     "output_type": "stream",
     "text": [
      "Afghanistan --- af\n",
      "Australia --- au\n",
      "Barbados --- bb\n",
      "Brazil --- br\n",
      "Costa Rica --- cr\n",
      "Egypt --- eg\n",
      "Guam --- gu\n",
      "Ireland --- ie\n",
      "Madagascar --- mg\n",
      "Mexico --- mx\n",
      "Nigeria --- ng\n",
      "Sweden --- se\n",
      "United States --- us\n",
      "Canada --- ca\n",
      "Uruguary --- uy\n",
      "Zambia --- zm\n",
      "Thailand --- th\n",
      "Turkey --- tr\n",
      "Dictionary contains TLDs for 18 countries\n"
     ]
    }
   ],
   "source": [
    "for key, value in TLD.items():\n",
    "    print(key,\"---\", value)\n",
    "print(\"Dictionary contains TLDs for\", len(TLD),\"countries\")"
   ]
  },
  {
   "cell_type": "markdown",
   "metadata": {},
   "source": [
    "### <span style=\"color:red\">Task</span>\n",
    "* Use a dictionary comprehension to reverse the keys and values.\n",
    "* Iterate through the new key-value pair and display in a two-column format"
   ]
  },
  {
   "cell_type": "code",
   "execution_count": 41,
   "metadata": {},
   "outputs": [
    {
     "name": "stdout",
     "output_type": "stream",
     "text": [
      "af --- Afghanistan\n",
      "au --- Australia\n",
      "bb --- Barbados\n",
      "br --- Brazil\n",
      "cr --- Costa Rica\n",
      "eg --- Egypt\n",
      "gu --- Guam\n",
      "ie --- Ireland\n",
      "mg --- Madagascar\n",
      "mx --- Mexico\n",
      "ng --- Nigeria\n",
      "se --- Sweden\n",
      "us --- United States\n",
      "ca --- Canada\n",
      "uy --- Uruguary\n",
      "zm --- Zambia\n",
      "th --- Thailand\n",
      "tr --- Turkey\n"
     ]
    }
   ],
   "source": [
    "TLD = {value:key for key,value in TLD.items()}\n",
    "for key, value in TLD.items():\n",
    "    print(key,\"---\", value)"
   ]
  },
  {
   "cell_type": "markdown",
   "metadata": {},
   "source": [
    "### <span style=\"color:red\">Task</span>\n",
    "* With the results from the previous task, use a dictionary comprehension to convert the country names to all uppercase letters.\n",
    "* Print the resulting country names in a one column format"
   ]
  },
  {
   "cell_type": "code",
   "execution_count": 42,
   "metadata": {},
   "outputs": [
    {
     "name": "stdout",
     "output_type": "stream",
     "text": [
      "AFGHANISTAN\n",
      "AUSTRALIA\n",
      "BARBADOS\n",
      "BRAZIL\n",
      "COSTA RICA\n",
      "EGYPT\n",
      "GUAM\n",
      "IRELAND\n",
      "MADAGASCAR\n",
      "MEXICO\n",
      "NIGERIA\n",
      "SWEDEN\n",
      "UNITED STATES\n",
      "CANADA\n",
      "URUGUARY\n",
      "ZAMBIA\n",
      "THAILAND\n",
      "TURKEY\n"
     ]
    }
   ],
   "source": [
    "TLD = {key:value.upper() for key,value in TLD.items()}\n",
    "for key, value in TLD.items():\n",
    "    print(value)"
   ]
  }
 ],
 "metadata": {
  "kernelspec": {
   "display_name": "CSCI2310-Work",
   "language": "python",
   "name": "python3"
  },
  "language_info": {
   "codemirror_mode": {
    "name": "ipython",
    "version": 3
   },
   "file_extension": ".py",
   "mimetype": "text/x-python",
   "name": "python",
   "nbconvert_exporter": "python",
   "pygments_lexer": "ipython3",
   "version": "3.10.9"
  },
  "vscode": {
   "interpreter": {
    "hash": "299409b180f29f8b3a330776e686c6d359741b559248a960bf42e2edb94ee730"
   }
  }
 },
 "nbformat": 4,
 "nbformat_minor": 4
}
