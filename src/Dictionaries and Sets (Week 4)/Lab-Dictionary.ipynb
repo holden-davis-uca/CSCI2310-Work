{
 "cells": [
  {
   "cell_type": "markdown",
   "metadata": {},
   "source": [
    "### Lab - Dictionaries"
   ]
  },
  {
   "cell_type": "markdown",
   "metadata": {},
   "source": [
    "### <span style=\"color:red\">Task</span>\n",
    "\n",
    "Build a dictionary that maps country names to Internet top-level domains (TLDs). Initialize the dictionary with the following values:\n",
    "    \n",
    "|Country Name|Internet Top Level Domain|\n",
    "|------------|-------------------------|\n",
    "|Afghanistan|af|\n",
    "|Australia|au|\n",
    "|Barbados|bb|\n",
    "|Brazil|br|\n",
    "|Costa Rica|cr|\n",
    "|Egypt|ec|\n",
    "|Guam|gu|\n",
    "|Ireland|ie|\n",
    "|Madagascar|mg|\n",
    "|Mexico|mx|\n",
    "|Nigeria|ng|\n",
    "|Sweden|se|\n",
    "|United States|us|\n",
    "|Canada|ca|"
   ]
  },
  {
   "cell_type": "markdown",
   "metadata": {},
   "source": [
    "### <span style=\"color:red\">Task</span>\n",
    "\n",
    "Add new entries to the existing dictionary    \n",
    "\n",
    "|Country Name|Internet Top Level Domain|\n",
    "|------------|-------------------------|\n",
    "|Uruguay|uy|\n",
    "|Zambia|zm|\n",
    "|Thailand|th|"
   ]
  },
  {
   "cell_type": "markdown",
   "metadata": {},
   "source": [
    "### <span style=\"color:red\">Task</span>\n",
    "* check to see if Guam exists in the list and report the result\n",
    "* check to see if France exists in the list and report the result\n",
    "* add a new key value pair for Turkey with the value tx\n",
    "* update the value for Turkey to tr\n",
    "* use the get method to retrieve the value for Switzerland, but use the second parameter to return \"Switzerland not found\" if the value is not found in the dictionary\n"
   ]
  },
  {
   "cell_type": "markdown",
   "metadata": {},
   "source": [
    "### <span style=\"color:red\">Task</span>\n",
    "* Iterate through the key–value pairs and display them in two-column format\n",
    "* print the number of countries represented in the dictionary"
   ]
  },
  {
   "cell_type": "markdown",
   "metadata": {},
   "source": [
    "### <span style=\"color:red\">Task</span>\n",
    "* Use a dictionary comprehension to reverse the keys and values.\n",
    "* Iterate through the new key-value pair and display in a two-column format"
   ]
  },
  {
   "cell_type": "markdown",
   "metadata": {},
   "source": [
    "### <span style=\"color:red\">Task</span>\n",
    "* With the results from the previous task, use a dictionary comprehension to convert the country names to all uppercase letters.\n",
    "* Print the resulting country names in a one column format"
   ]
  }
 ],
 "metadata": {
  "kernelspec": {
   "display_name": "Python 3 (ipykernel)",
   "language": "python",
   "name": "python3"
  },
  "language_info": {
   "codemirror_mode": {
    "name": "ipython",
    "version": 3
   },
   "file_extension": ".py",
   "mimetype": "text/x-python",
   "name": "python",
   "nbconvert_exporter": "python",
   "pygments_lexer": "ipython3",
   "version": "3.9.7"
  }
 },
 "nbformat": 4,
 "nbformat_minor": 4
}
