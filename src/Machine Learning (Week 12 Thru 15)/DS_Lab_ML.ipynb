{
 "cells": [
  {
   "cell_type": "markdown",
   "id": "417a35ec",
   "metadata": {},
   "source": [
    "Name?"
   ]
  },
  {
   "cell_type": "markdown",
   "id": "ec262007",
   "metadata": {},
   "source": [
    "### Lab - Machine Learning\n",
    "In this notebook, you will use the Gaussian Naive Bayes estimator to perform and evaluate a binary classification.  You will also compare the performance of this algorithm to other classification algoritms."
   ]
  },
  {
   "cell_type": "markdown",
   "id": "5482cf7f",
   "metadata": {},
   "source": [
    "This is the Breast Cancer Wisconsin Diagnostic dataset that is bundled with scikit-learn\n",
    "\n",
    "https://scikit-learn.org/stable/modules/generated/sklearn.datasets.load_breast_cancer.html#sklearn.datasets.load_breast_cancer\n",
    "\n",
    "The dataset contains 569 samples, each with 30 features and a label indicating whether a tumor was malignant (0) or benign (1). There are only two labels, so this dataset is commonly used to perform binary classification. \n",
    "\n",
    "Using this dataset, reimplement the steps of this chapter’s classification case study in Sections 15.2–15.3.\n",
    "* Use the GaussianNB (short for Gaussian Naive Bayes) estimator. \n",
    "* When you execute multiple classifiers (as in Section 15.3.3) to determine which one is best for the Breast Cancer Wisconsin Diagnostic dataset, include a LogisticRegression classifier in the estimators dictionary. Logistic regression is another popular algorithm for binary classification.  Use the following parameters: \n",
    "\n",
    "    ```\n",
    "    solver='lbfgs', multi_class='ovr', max_iter=10000\n",
    "    ```\n",
    "\n",
    "**Implement the following steps/tasks. Clearly document each step with markup descriptions. (HINT: look at the steps in the book from 15.2.2-15.3.3)**\n",
    "* Load the data\n",
    "* Display the data description\n",
    "* Check the sample and target sizes\n",
    "* Split the data for training and testing\n",
    "* Create the model (GaussianNB)\n",
    "* Train the model\n",
    "* Predict\n",
    "* Determine accuracy with score\n",
    "* Determine accuracy with confusion matrix\n",
    "* Determine accuracy with classification report\n",
    "* Visualize the confusion matrix\n",
    "* Perform k-fold cross validation\n",
    "* Run multiple models to find the best one, include GaussianNB, KNeighborsClassifier, LogisticRegression, and SVC.\n",
    "* Which classifer performs the best?\n",
    "\n",
    "\n",
    "\n",
    "\n",
    "\n"
   ]
  }
 ],
 "metadata": {
  "kernelspec": {
   "display_name": "Python 3 (ipykernel)",
   "language": "python",
   "name": "python3"
  },
  "language_info": {
   "codemirror_mode": {
    "name": "ipython",
    "version": 3
   },
   "file_extension": ".py",
   "mimetype": "text/x-python",
   "name": "python",
   "nbconvert_exporter": "python",
   "pygments_lexer": "ipython3",
   "version": "3.9.7"
  }
 },
 "nbformat": 4,
 "nbformat_minor": 5
}
