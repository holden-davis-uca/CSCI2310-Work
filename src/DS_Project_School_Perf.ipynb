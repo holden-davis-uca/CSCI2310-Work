{
 "cells": [
  {
   "cell_type": "markdown",
   "id": "compact-brooklyn",
   "metadata": {},
   "source": [
    "# Introduction to Data Science - Project- School Performance"
   ]
  },
  {
   "cell_type": "markdown",
   "id": "96604cf2-527d-4e86-beff-8063fe3fc2bf",
   "metadata": {},
   "source": [
    "Student Name:"
   ]
  },
  {
   "cell_type": "markdown",
   "id": "large-vertical",
   "metadata": {},
   "source": [
    "## Problem Statement\n",
    "\n",
    "The mayor of New York, a former data scientist, is particularly interested in the math scores in the New York school districts.  The mayor has asked you to analyze the test scores across the New York school districts.  The mayor is looking for insights or trends to improve the quality of the New York schools.  She has provided you with a set of scores from across the city."
   ]
  },
  {
   "cell_type": "markdown",
   "id": "former-breed",
   "metadata": {},
   "source": [
    "## Data Sources ##\n",
    "\n",
    "The New York math tests results are at the following location:\n",
    "\n",
    "https://catalog.data.gov/dataset/2006-2012-math-test-results-district-all-students\n",
    "\n",
    "The first few columns in the file are: District,Grade,Year,Demographic,Number Tested, and Mean Scale Score."
   ]
  },
  {
   "cell_type": "markdown",
   "id": "greatest-stationery",
   "metadata": {},
   "source": [
    "## Acquiring Data"
   ]
  },
  {
   "cell_type": "markdown",
   "id": "satisfied-minute",
   "metadata": {},
   "source": [
    "### <span style=\"color:red\">Task 1</span>\n",
    "\n",
    "Download a local copy of the school data."
   ]
  },
  {
   "cell_type": "markdown",
   "id": "signal-uniform",
   "metadata": {},
   "source": [
    "### <span style=\"color:red\">Task 2</span>\n",
    "\n",
    "Load the data into a dataframe called \"schools\" and display the contents of the resulting dataframe."
   ]
  },
  {
   "cell_type": "markdown",
   "id": "micro-premises",
   "metadata": {},
   "source": [
    "## Exploring the Data"
   ]
  },
  {
   "cell_type": "markdown",
   "id": "hawaiian-joining",
   "metadata": {},
   "source": [
    "### <span style=\"color:red\">Task 3</span>\n",
    "\n",
    "Display the values and associated frequencies of the grade column. (Hint: see value_counts)"
   ]
  },
  {
   "cell_type": "markdown",
   "id": "fitted-immigration",
   "metadata": {},
   "source": [
    "### <span style=\"color:red\">Task 4</span>\n",
    "\n",
    "Display the values and associated frequencies of the district column, sorting the result by district number."
   ]
  },
  {
   "cell_type": "markdown",
   "id": "powered-function",
   "metadata": {},
   "source": [
    "### <span style=\"color:red\">Task 5</span>\n",
    "\n",
    "Display the values and associated frequencies of the year column, sorting the result by year."
   ]
  },
  {
   "cell_type": "markdown",
   "id": "electronic-notice",
   "metadata": {},
   "source": [
    "## Preparing Data"
   ]
  },
  {
   "cell_type": "markdown",
   "id": "productive-typing",
   "metadata": {
    "tags": []
   },
   "source": [
    "### <span style=\"color:red\">Task 6</span>\n",
    "\n",
    "Display all the rows that have the do not have an explicit grade in the Grade column. (Hint: Look at the data and see what other value is in that column besides a specific grade and use that for selection)"
   ]
  },
  {
   "cell_type": "markdown",
   "id": "finnish-scottish",
   "metadata": {
    "tags": []
   },
   "source": [
    "### <span style=\"color:red\">Task 7</span>\n",
    "\n",
    "Remove all the rows from \"schools\" (in place) that have the do not have an explicit grade in the Grade column.\n",
    "(Hint: One option is to use drop with index and inplace argument. Another is to create a new dataframe named schools by selecting the rows you want to keep)"
   ]
  },
  {
   "cell_type": "markdown",
   "id": "laden-agent",
   "metadata": {},
   "source": [
    "### <span style=\"color:red\">Task 8</span>\n",
    "\n",
    "Confirm that the 'All Grades' rows have been removed by doing the value counts on the Grade field again.\n"
   ]
  },
  {
   "cell_type": "markdown",
   "id": "polish-prisoner",
   "metadata": {},
   "source": [
    "## Exploring the Data"
   ]
  },
  {
   "cell_type": "markdown",
   "id": "lined-recycling",
   "metadata": {},
   "source": [
    "### <span style=\"color:red\">Task 9</span>\n",
    "\n",
    "How many students total were tested in each grade level? (Hint: See groupby, select column you need, and then apply the aggregation function. See the panda_dataframe_project_helper notebook)"
   ]
  },
  {
   "cell_type": "markdown",
   "id": "noble-runner",
   "metadata": {},
   "source": [
    "### <span style=\"color:red\">Task 10</span>\n",
    "\n",
    "How many students total were tested in each district?  Sort the result in descending order.  (Use the *sort_values* method after performing the sum)."
   ]
  },
  {
   "cell_type": "markdown",
   "id": "peaceful-handle",
   "metadata": {},
   "source": [
    "### <span style=\"color:red\">Task 11</span>\n",
    "\n",
    "Use the *describe* method to show a set of descriptive statistics about the 'Mean Scale Score' across all districts for each grade. (Hint: Remember to groupby and select the column you want before you invoke describe)"
   ]
  },
  {
   "cell_type": "markdown",
   "id": "interested-hungarian",
   "metadata": {},
   "source": [
    "### <span style=\"color:red\">Task 12</span>\n",
    "\n",
    "Show just the top mean scale score (across all years) for each grade.\n",
    "(Hint: Similar to getting the sum, use a different aggregation/groupby method)"
   ]
  },
  {
   "cell_type": "markdown",
   "id": "tight-incidence",
   "metadata": {},
   "source": [
    "## Visualizing the Data"
   ]
  },
  {
   "cell_type": "markdown",
   "id": "textile-fusion",
   "metadata": {},
   "source": [
    "### <span style=\"color:red\">Task 13</span>\n",
    "\n",
    "What is a Histogram?  A histogram is used to summarize discrete or continuous data. In other words, it provides a visual interpretation. of numerical data by showing the number of data points that fall within a specified range of values (called “bins”). It is similar to a vertical bar graph.\n",
    "\n",
    "Look up the DataFrame *hist* method that produces a histogram.  Use this method to produce a histogram for the 'Mean Scale Score' for each grade.\n",
    "Hint: Use groupby, invoke the hist method, and pass the column  you want to use\n",
    "\n"
   ]
  },
  {
   "cell_type": "markdown",
   "id": "innocent-lafayette",
   "metadata": {},
   "source": [
    "### <span style=\"color:red\">Task 14</span>\n",
    "\n",
    "Look up the DataFrame *plot* method.  Use this method to plot the 'Mean Scale Score' on the y-axis and 'District' on the x-axis for the entire dataframe. Use the 'o' style for the plot. The 'o' tell matplotlib to use dots instead of lines.  We are telling plot to make a point for the 'Mean Scale Score' by District."
   ]
  },
  {
   "cell_type": "markdown",
   "id": "consolidated-deadline",
   "metadata": {},
   "source": [
    "### <span style=\"color:red\">Task 15</span>\n",
    "\n",
    "What insights do you draw from the plot above?"
   ]
  },
  {
   "cell_type": "markdown",
   "id": "opened-nutrition",
   "metadata": {},
   "source": [
    "## Analyzing the Data"
   ]
  },
  {
   "cell_type": "markdown",
   "id": "emerging-screen",
   "metadata": {},
   "source": [
    "### <span style=\"color:red\">Task 16</span>\n",
    "\n",
    "Define a function *top* that returns the *n* rows with the highest value for the specified *column*.\n",
    "\n",
    "*top* should accept a dataframe as its first input, a parameter named *n* that accepts a number and provides a reasonable default, and a parameter called *column* that defaults to 'Mean Scale Score'.\n",
    "\n",
    "Demonstrate the function against the entire 'schools' dataframe.\n",
    "\n",
    "(Hint: See panda_dataframe_part5 notebook for an example)"
   ]
  },
  {
   "cell_type": "markdown",
   "id": "tested-quest",
   "metadata": {},
   "source": [
    "### <span style=\"color:red\">Task 17</span>\n",
    "\n",
    "Use the *apply* method and your defined *top* function to display the full row for the top score in each grade.\n",
    "\n",
    "(Hint: use groupby and then apply)"
   ]
  },
  {
   "cell_type": "markdown",
   "id": "primary-syndrome",
   "metadata": {},
   "source": [
    "### <span style=\"color:red\">Task 18</span>\n",
    "\n",
    "What insight did you get from the previous cell?"
   ]
  },
  {
   "cell_type": "markdown",
   "id": "abandoned-substance",
   "metadata": {},
   "source": [
    "### <span style=\"color:red\">Task 19</span>\n",
    "\n",
    "Extend your selection above to show the row for the top score for each combination of grade and year.\n",
    "(Hint: extend your groupby)"
   ]
  },
  {
   "cell_type": "markdown",
   "id": "ready-filter",
   "metadata": {},
   "source": [
    "### <span style=\"color:red\">Task 20</span>\n",
    "\n",
    "What insight did you get from the previous cell?"
   ]
  },
  {
   "cell_type": "markdown",
   "id": "israeli-concert",
   "metadata": {},
   "source": [
    "### <span style=\"color:red\">Task 21</span>\n",
    "Is there a trend on scores in the best district?  \n",
    "\n",
    "Using the DataFrame *plot* method, plot the performance by grade of the top distict across time.\n",
    "\n",
    "(Hint: Use selection, then groupby, then plot.  Do not use a scatter plot for this task.  You want a basic plot that shows the trend over time/years. )\n",
    "\n",
    "Over time, is the district peformance improving, deteriorating, or staying the same for each grade?"
   ]
  },
  {
   "cell_type": "markdown",
   "id": "burning-repository",
   "metadata": {},
   "source": [
    "### <span style=\"color:red\">Task 22</span>\n",
    "\n",
    "Define a function *bottom* that returns the *n* rows with the lowest value for the specified *column*.\n",
    "\n",
    "*bottom* should accept a dataframe as its first input, a parameter named *n* that accepts a number and provides a reasonable default, and a paramater called *column* that defaults to 'Mean Scale Score'.\n",
    "\n",
    "(Hint: This is similar to top)\n",
    "\n",
    "Demonstrate the function against the entire 'schools' dataframe."
   ]
  },
  {
   "cell_type": "markdown",
   "id": "indonesian-shopping",
   "metadata": {},
   "source": [
    "### <span style=\"color:red\">Task 23</span>\n",
    "\n",
    "Use the *apply* method and your defined *bottom* function to display the full row for the bottom score in each grade."
   ]
  },
  {
   "cell_type": "markdown",
   "id": "lightweight-trading",
   "metadata": {},
   "source": [
    "### <span style=\"color:red\">Task 24</span>\n",
    "\n",
    "What insight did you get from the previous cell?"
   ]
  },
  {
   "cell_type": "markdown",
   "id": "damaged-spell",
   "metadata": {},
   "source": [
    "### <span style=\"color:red\">Task 25</span>\n",
    "\n",
    "Extend your selection above to show the row for the bottom score for the combination of grade and year."
   ]
  },
  {
   "cell_type": "markdown",
   "id": "supreme-script",
   "metadata": {},
   "source": [
    "### <span style=\"color:red\">Task 26</span>\n",
    "\n",
    "What insight did you get from the previous cell?"
   ]
  },
  {
   "cell_type": "markdown",
   "id": "growing-senior",
   "metadata": {},
   "source": [
    "## Results"
   ]
  },
  {
   "cell_type": "markdown",
   "id": "female-sister",
   "metadata": {},
   "source": [
    "The Mayor wants to recognize the top performing districts and direct additional resources to assist lower performing districts.\n",
    "\n",
    "She asks you to rank the scores by performance as follows.  \n",
    "\n",
    "For each grade and year, rank each district based upon their 'Mean Scale Score.'  The district with the highest 'Mean Scale Score' should get a rank of 1, the second highest should get a rank of 2, etc.\n",
    "\n",
    "After ranking for each grade and year, sum the ranks for each grade over all years.  For the Mayor's purpose, the districts with the lowest total sum of the ranks (i.e., the lowest rank numbers overall) are considered the best performing schools."
   ]
  },
  {
   "cell_type": "markdown",
   "id": "tight-irrigation",
   "metadata": {
    "jupyter": {
     "outputs_hidden": true
    }
   },
   "source": [
    "This task is going to take a bit of work, so let's break the problem into incremental chunks of work."
   ]
  },
  {
   "cell_type": "markdown",
   "id": "athletic-knitting",
   "metadata": {},
   "source": [
    "### <span style=\"color:red\">Task 27</span>\n",
    "\n",
    "Let's make a smaller dataframe to use while we are working out the larger problem.  \n",
    "\n",
    "Create a dataframe called 'schools_subset' from 'schools' that includes only Grade 3 for the year 2012.  We are not going to need all the columns, so only add district, grade, year, and mean scale score to the new dataframe.\n",
    "\n",
    "Display the schools_subset dataframe."
   ]
  },
  {
   "cell_type": "markdown",
   "id": "large-aquatic",
   "metadata": {},
   "source": [
    "### <span style=\"color:red\">Task 28</span>\n",
    "\n",
    "Look up the DataFrame *rank* method.  We will use this method to set the ranks.  Since we want the highest rank to be 1, we need to set the 'ascending' parameter to the *rank* call to False.\n",
    "\n",
    "Make a function called *add_default_rank* that takes a dataframe the first parameter and a 'column' parameter with the default 'Mean Scale Score' as the second paramter.\n",
    "\n",
    "This function should create a new column called 'Default Rank' in the passed dataframe.  The value of the new column should be the *rank* for the passed 'column' parameter.\n",
    "\n",
    "Demonstrate your *add_default_rank* function works by calling the function on the 'students_subset' dataframe.  Print the 'schools_subset' dataframe before and after the invocation of the function to confirm that (1) the 'Default Rank' column was added and (2) that the rank assigned to each row is correct based upon the 'Mean Scaled Score' value. "
   ]
  },
  {
   "cell_type": "markdown",
   "id": "purple-lightning",
   "metadata": {},
   "source": [
    "### <span style=\"color:red\">Task 29</span>\n",
    "\n",
    "Now that you have the *add_default_rank* function that works on a dataframe, you can use the *apply* method to apply that method to each group from a groupby.  \n",
    "\n",
    "Group the full 'schools' dataframe by grade and year, then apply *add_default_rank* to the groups.  Store the results of this into a new 'schools2' dataframe.\n",
    "\n",
    "Display the resulting 'schools2' dataframe."
   ]
  },
  {
   "cell_type": "markdown",
   "id": "different-flooring",
   "metadata": {},
   "source": [
    "### <span style=\"color:red\">Task 30</span>\n",
    "\n",
    "The 'schools2' now has a rank for each district for each grade and each year.  \n",
    "\n",
    "To fulfill the Mayor's ranking request, we can now produce the ordered list of districts with the top performers at the top of the list.\n",
    "\n",
    "To do this, sum the 'Default Rank' column grouping by District and sorting the result using the *sort_values* method with \"ascending\" set to True and show the results."
   ]
  }
 ],
 "metadata": {
  "kernelspec": {
   "display_name": "Python 3 (ipykernel)",
   "language": "python",
   "name": "python3"
  },
  "language_info": {
   "codemirror_mode": {
    "name": "ipython",
    "version": 3
   },
   "file_extension": ".py",
   "mimetype": "text/x-python",
   "name": "python",
   "nbconvert_exporter": "python",
   "pygments_lexer": "ipython3",
   "version": "3.9.7"
  }
 },
 "nbformat": 4,
 "nbformat_minor": 5
}
