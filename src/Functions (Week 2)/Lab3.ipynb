{
 "cells": [
  {
   "attachments": {},
   "cell_type": "markdown",
   "metadata": {},
   "source": [
    "### Notebook written by: Holden Davis\n",
    "### Assignment: Lab 3\n",
    "##### 1/25/22\n"
   ]
  },
  {
   "cell_type": "code",
   "execution_count": 105,
   "metadata": {},
   "outputs": [],
   "source": [
    "import random as rand"
   ]
  },
  {
   "cell_type": "code",
   "execution_count": 106,
   "metadata": {},
   "outputs": [],
   "source": [
    "def tortoiseMove(current: int) -> int:\n",
    "    \"\"\"Randomly generates the movement for the tortoise\n",
    "\n",
    "    Args:\n",
    "        current (int): The initial position of the tortoise\n",
    "\n",
    "    Returns:\n",
    "        int: The updated position of the tortoise\n",
    "    \"\"\"\n",
    "    num = rand.randint(1,10)\n",
    "    # Fast plod - 50% chance (6,7,8,9,10) to move 3 to the right\n",
    "    if num >= 6:\n",
    "        current = current + 3\n",
    "    # Slip - 20% chance (1,2) to move 6 to the left\n",
    "    elif num <= 2:\n",
    "        current = current - 6\n",
    "    # Slow plot - 30% chance (3,4,5) to move 1 to the right\n",
    "    else :\n",
    "        current = current + 1\n",
    "    # Reset out of bounds vals to 1\n",
    "    if current < 1:\n",
    "        current = 1\n",
    "    # Cap at 70 for consistent drawing\n",
    "    if current > 70:\n",
    "        current = 70\n",
    "    return current"
   ]
  },
  {
   "cell_type": "code",
   "execution_count": 107,
   "metadata": {},
   "outputs": [],
   "source": [
    "def hareMove(current: int) -> int:\n",
    "    \"\"\"Randomly generates the movement for the hare\n",
    "\n",
    "    Args:\n",
    "        current (int): The initial position of the hare\n",
    "\n",
    "    Returns:\n",
    "        int: The updated position of the hare\n",
    "    \"\"\"\n",
    "    num = rand.randint(1,10)\n",
    "    # Sleep - 20% chance (9, 10) to not move\n",
    "    if num >= 9:\n",
    "        current = current\n",
    "    # Big hop - 20% chance (7, 8) to move 9 to the right\n",
    "    elif num == 8 or num == 7:\n",
    "        current = current + 9\n",
    "    # Big slip - 10% chance (6) to move 12 to the left\n",
    "    elif num == 6:\n",
    "        current = current - 12\n",
    "    # Small hop - 30% chance (3, 4, 5) to move 1 to the right\n",
    "    elif num < 6 and num > 2:\n",
    "        current = current + 1\n",
    "    # Small slip - 20% chance (1, 2) to move 2 to the left\n",
    "    else:\n",
    "        current = current + 2\n",
    "    # Reset out of bounds vals to 1\n",
    "    if current < 1:\n",
    "        current = 1\n",
    "    # Cap at 70 for consistent drawing\n",
    "    if current > 70:\n",
    "        current = 70\n",
    "    return current"
   ]
  },
  {
   "cell_type": "code",
   "execution_count": 108,
   "metadata": {},
   "outputs": [],
   "source": [
    "def updatePos(tortoise: int, hare: int) -> None:\n",
    "    \"\"\"Draws the current positions of the tortoise and the hare to stdout\n",
    "\n",
    "    Args:\n",
    "        tortoise (int): Current position of the tortoise\n",
    "        hare (int): Current position of the hare\n",
    "    \"\"\"\n",
    "    net = 70\n",
    "    # Collision\n",
    "    if tortoise == hare:\n",
    "        print(\" \" * tortoise + \"OUCH!!!\" + \" \" * (net - tortoise - 6))\n",
    "    # Tortoise ahead, draw hare first and calculate spaces from remaining distance\n",
    "    elif tortoise > hare:\n",
    "        print(\" \" * (hare-1) + \"H\" + \" \" * (tortoise - hare) + \"T\" + \" \" * (net - tortoise))\n",
    "    # Hare ahead, draw tortoise first and calculate spaces from remaining distance\n",
    "    elif tortoise < hare:\n",
    "        print(\" \" * (tortoise-1) + \"T\" + \" \" * (hare - tortoise) + \"H\" + \" \" * (net - hare))\n",
    "    "
   ]
  },
  {
   "cell_type": "code",
   "execution_count": null,
   "metadata": {},
   "outputs": [],
   "source": [
    "# Properly init both positions to 1\n",
    "tortoise = 1\n",
    "hare = 1\n",
    "print(\"ON YOUR MARK \\nGET SET \\nBANG !!!!! \\nAND THEY'RE OFF !!!!!\")\n",
    "# Main loop\n",
    "while(True):\n",
    "    tortoise = tortoiseMove(tortoise)\n",
    "    hare = hareMove(hare)\n",
    "    updatePos(tortoise, hare)\n",
    "    if (tortoise >= 70):\n",
    "        if (hare >= 70):\n",
    "            print(\"It's a tie!\")\n",
    "            break\n",
    "        else:\n",
    "            print(\"TORTOISE WINS!!! YAY!!!\")\n",
    "            break\n",
    "    elif (hare >= 70):\n",
    "        print(\"Hare wins. Yuch.\")\n",
    "        break"
   ]
  }
 ],
 "metadata": {
  "kernelspec": {
   "display_name": "CSCI2310-Work",
   "language": "python",
   "name": "python3"
  },
  "language_info": {
   "codemirror_mode": {
    "name": "ipython",
    "version": 3
   },
   "file_extension": ".py",
   "mimetype": "text/x-python",
   "name": "python",
   "nbconvert_exporter": "python",
   "pygments_lexer": "ipython3",
   "version": "3.10.9"
  },
  "orig_nbformat": 4,
  "vscode": {
   "interpreter": {
    "hash": "299409b180f29f8b3a330776e686c6d359741b559248a960bf42e2edb94ee730"
   }
  }
 },
 "nbformat": 4,
 "nbformat_minor": 2
}
